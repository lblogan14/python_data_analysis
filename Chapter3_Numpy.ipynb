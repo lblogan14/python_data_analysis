{
  "nbformat": 4,
  "nbformat_minor": 0,
  "metadata": {
    "colab": {
      "name": "Chapter3_Numpy.ipynb",
      "version": "0.3.2",
      "provenance": [],
      "include_colab_link": true
    },
    "kernelspec": {
      "name": "python3",
      "display_name": "Python 3"
    }
  },
  "cells": [
    {
      "cell_type": "markdown",
      "metadata": {
        "id": "view-in-github",
        "colab_type": "text"
      },
      "source": [
        "<a href=\"https://colab.research.google.com/github/lblogan14/python_data_analysis/blob/master/Chapter3_Numpy.ipynb\" target=\"_parent\"><img src=\"https://colab.research.google.com/assets/colab-badge.svg\" alt=\"Open In Colab\"/></a>"
      ]
    },
    {
      "metadata": {
        "id": "BUJrW5j07oIj",
        "colab_type": "text"
      },
      "cell_type": "markdown",
      "source": [
        "To install Numpy on Ubuntu systems, run\n",
        "\n",
        "    sudo apt-get install python-numpy\n",
        " \n",
        "The main object is ndarray (N-dimensional array).\n",
        "\n",
        "The data type is specified by another NumPy object called dtype (data-type); each ndarray is associated with only one type of dtype.\n",
        "\n",
        "The number of the dimensions and items in an array is deinfed by its shape, which is a tuple of N-positive intergers that specifies the size for each dimension. The dimensions are defined as axes and the number of axes are defined as rank.\n",
        "\n",
        "Once you define the size of Numpy arrays at the time of createion, it remains unchanged whereas the Python lists can grow or shrink in size"
      ]
    },
    {
      "metadata": {
        "id": "vKX9rWPU7egB",
        "colab_type": "code",
        "colab": {}
      },
      "cell_type": "code",
      "source": [
        "import numpy as np"
      ],
      "execution_count": 0,
      "outputs": []
    },
    {
      "metadata": {
        "id": "aU_YcrrA9cP0",
        "colab_type": "code",
        "colab": {
          "base_uri": "https://localhost:8080/",
          "height": 68
        },
        "outputId": "5dd89f01-18dd-4995-c571-d282f3ac5e1d"
      },
      "cell_type": "code",
      "source": [
        "a = np.array([1,2,3]) #define a new ndarray by using array() function\n",
        "print(a)\n",
        "print(type(a)) #check the type of the object\n",
        "a.dtype #check the data-type of the ndarray object"
      ],
      "execution_count": 3,
      "outputs": [
        {
          "output_type": "stream",
          "text": [
            "[1 2 3]\n",
            "<class 'numpy.ndarray'>\n"
          ],
          "name": "stdout"
        },
        {
          "output_type": "execute_result",
          "data": {
            "text/plain": [
              "dtype('int64')"
            ]
          },
          "metadata": {
            "tags": []
          },
          "execution_count": 3
        }
      ]
    },
    {
      "metadata": {
        "id": "0SMCtvat93-9",
        "colab_type": "text"
      },
      "cell_type": "markdown",
      "source": [
        "the ndarray object, a, we just created, has one axis, and then its rank is 1, while its shape should be (3,1).\n",
        "\n",
        "ndim is to get the axes;\n",
        "\n",
        "size is to know the array length\n",
        "\n",
        "shape is to get its shape"
      ]
    },
    {
      "metadata": {
        "id": "Qz-YMjYz-PnE",
        "colab_type": "code",
        "colab": {
          "base_uri": "https://localhost:8080/",
          "height": 34
        },
        "outputId": "856e5117-3f2b-483f-fc4d-51a5df585bf2"
      },
      "cell_type": "code",
      "source": [
        "a.ndim"
      ],
      "execution_count": 4,
      "outputs": [
        {
          "output_type": "execute_result",
          "data": {
            "text/plain": [
              "1"
            ]
          },
          "metadata": {
            "tags": []
          },
          "execution_count": 4
        }
      ]
    },
    {
      "metadata": {
        "id": "2rbTRLYe-VCU",
        "colab_type": "code",
        "colab": {
          "base_uri": "https://localhost:8080/",
          "height": 34
        },
        "outputId": "bbf27e0d-0e47-44dd-ec75-255d76c113bf"
      },
      "cell_type": "code",
      "source": [
        "a.size"
      ],
      "execution_count": 5,
      "outputs": [
        {
          "output_type": "execute_result",
          "data": {
            "text/plain": [
              "3"
            ]
          },
          "metadata": {
            "tags": []
          },
          "execution_count": 5
        }
      ]
    },
    {
      "metadata": {
        "id": "tnN1LqLy-Wc2",
        "colab_type": "code",
        "colab": {
          "base_uri": "https://localhost:8080/",
          "height": 34
        },
        "outputId": "491c9e4c-42c9-40f6-ae5c-4b1f41d7c78e"
      },
      "cell_type": "code",
      "source": [
        "a.shape"
      ],
      "execution_count": 6,
      "outputs": [
        {
          "output_type": "execute_result",
          "data": {
            "text/plain": [
              "(3,)"
            ]
          },
          "metadata": {
            "tags": []
          },
          "execution_count": 6
        }
      ]
    },
    {
      "metadata": {
        "id": "BKTg6a0O-gZY",
        "colab_type": "text"
      },
      "cell_type": "markdown",
      "source": [
        "To create another array which has rank 2 (2 axes), each of axes has length 2"
      ]
    },
    {
      "metadata": {
        "id": "7pnsYafS-uA8",
        "colab_type": "code",
        "colab": {}
      },
      "cell_type": "code",
      "source": [
        "b = np.array([[1.3, 2.4],[0.3, 4.1]])"
      ],
      "execution_count": 0,
      "outputs": []
    },
    {
      "metadata": {
        "id": "CsbJ-xTM-1ud",
        "colab_type": "code",
        "colab": {
          "base_uri": "https://localhost:8080/",
          "height": 34
        },
        "outputId": "96a2c0b0-be7b-4111-b7fc-087fcd9c046b"
      },
      "cell_type": "code",
      "source": [
        "b.dtype"
      ],
      "execution_count": 10,
      "outputs": [
        {
          "output_type": "execute_result",
          "data": {
            "text/plain": [
              "dtype('float64')"
            ]
          },
          "metadata": {
            "tags": []
          },
          "execution_count": 10
        }
      ]
    },
    {
      "metadata": {
        "id": "yz59HWW_-2-z",
        "colab_type": "code",
        "colab": {
          "base_uri": "https://localhost:8080/",
          "height": 34
        },
        "outputId": "02048815-2d3d-410f-8e3d-29fbafb9a7d9"
      },
      "cell_type": "code",
      "source": [
        "b.ndim"
      ],
      "execution_count": 11,
      "outputs": [
        {
          "output_type": "execute_result",
          "data": {
            "text/plain": [
              "2"
            ]
          },
          "metadata": {
            "tags": []
          },
          "execution_count": 11
        }
      ]
    },
    {
      "metadata": {
        "id": "UHIvQr8U-4DJ",
        "colab_type": "code",
        "colab": {
          "base_uri": "https://localhost:8080/",
          "height": 34
        },
        "outputId": "f5e0025a-5df5-4b27-90b0-f0b1510b7573"
      },
      "cell_type": "code",
      "source": [
        "b.size"
      ],
      "execution_count": 12,
      "outputs": [
        {
          "output_type": "execute_result",
          "data": {
            "text/plain": [
              "4"
            ]
          },
          "metadata": {
            "tags": []
          },
          "execution_count": 12
        }
      ]
    },
    {
      "metadata": {
        "id": "GmptGqGs-4uQ",
        "colab_type": "code",
        "colab": {
          "base_uri": "https://localhost:8080/",
          "height": 34
        },
        "outputId": "60c540ce-5a7b-4999-beae-81f7fcc4d586"
      },
      "cell_type": "code",
      "source": [
        "b.shape"
      ],
      "execution_count": 13,
      "outputs": [
        {
          "output_type": "execute_result",
          "data": {
            "text/plain": [
              "(2, 2)"
            ]
          },
          "metadata": {
            "tags": []
          },
          "execution_count": 13
        }
      ]
    },
    {
      "metadata": {
        "id": "oHlGlxOZ_Mn2",
        "colab_type": "text"
      },
      "cell_type": "markdown",
      "source": [
        "**itemsize** atttribute is important because it defines the size in bytes of each item in the array"
      ]
    },
    {
      "metadata": {
        "id": "wobmheVL_fEB",
        "colab_type": "code",
        "colab": {
          "base_uri": "https://localhost:8080/",
          "height": 34
        },
        "outputId": "583250de-8bb3-479e-bc07-70c297b54d91"
      },
      "cell_type": "code",
      "source": [
        "b.itemsize"
      ],
      "execution_count": 14,
      "outputs": [
        {
          "output_type": "execute_result",
          "data": {
            "text/plain": [
              "8"
            ]
          },
          "metadata": {
            "tags": []
          },
          "execution_count": 14
        }
      ]
    },
    {
      "metadata": {
        "id": "u03MkLfe_jw2",
        "colab_type": "text"
      },
      "cell_type": "markdown",
      "source": [
        "**data** attribute is the buffer containing the actual elements of the array"
      ]
    },
    {
      "metadata": {
        "id": "cpAd49lp_w4z",
        "colab_type": "code",
        "colab": {
          "base_uri": "https://localhost:8080/",
          "height": 34
        },
        "outputId": "53475f08-fbaf-40cc-b721-1ec92748cbfa"
      },
      "cell_type": "code",
      "source": [
        "b.data"
      ],
      "execution_count": 15,
      "outputs": [
        {
          "output_type": "execute_result",
          "data": {
            "text/plain": [
              "<memory at 0x7f3a21b81a68>"
            ]
          },
          "metadata": {
            "tags": []
          },
          "execution_count": 15
        }
      ]
    },
    {
      "metadata": {
        "id": "-jH2H80v_6Ao",
        "colab_type": "text"
      },
      "cell_type": "markdown",
      "source": [
        "##Create an Array\n",
        "\n",
        "use array() function"
      ]
    },
    {
      "metadata": {
        "id": "EmYy1VhWACJC",
        "colab_type": "code",
        "colab": {
          "base_uri": "https://localhost:8080/",
          "height": 51
        },
        "outputId": "e8aa81ab-aca3-4c80-9edc-723217acf925"
      },
      "cell_type": "code",
      "source": [
        "c = np.array([[1,2,3],[4,5,6]])\n",
        "c"
      ],
      "execution_count": 18,
      "outputs": [
        {
          "output_type": "execute_result",
          "data": {
            "text/plain": [
              "array([[1, 2, 3],\n",
              "       [4, 5, 6]])"
            ]
          },
          "metadata": {
            "tags": []
          },
          "execution_count": 18
        }
      ]
    },
    {
      "metadata": {
        "id": "XjRR0rkJAk2J",
        "colab_type": "code",
        "colab": {
          "base_uri": "https://localhost:8080/",
          "height": 34
        },
        "outputId": "7a887a4b-3977-4fd2-e929-7c51a48b8fe9"
      },
      "cell_type": "code",
      "source": [
        "type(c)"
      ],
      "execution_count": 22,
      "outputs": [
        {
          "output_type": "execute_result",
          "data": {
            "text/plain": [
              "numpy.ndarray"
            ]
          },
          "metadata": {
            "tags": []
          },
          "execution_count": 22
        }
      ]
    },
    {
      "metadata": {
        "id": "plb-Vdv9AJB2",
        "colab_type": "text"
      },
      "cell_type": "markdown",
      "source": [
        "array() also accepts tuples"
      ]
    },
    {
      "metadata": {
        "id": "r4e-DwYWAPyq",
        "colab_type": "code",
        "colab": {
          "base_uri": "https://localhost:8080/",
          "height": 51
        },
        "outputId": "c53f0ff2-7a2d-41b3-a951-2a3d87215ba3"
      },
      "cell_type": "code",
      "source": [
        "d = np.array(((1,2,3),(4,5,6)))\n",
        "d"
      ],
      "execution_count": 21,
      "outputs": [
        {
          "output_type": "execute_result",
          "data": {
            "text/plain": [
              "array([[1, 2, 3],\n",
              "       [4, 5, 6]])"
            ]
          },
          "metadata": {
            "tags": []
          },
          "execution_count": 21
        }
      ]
    },
    {
      "metadata": {
        "id": "KwQLCWk_Anae",
        "colab_type": "code",
        "colab": {
          "base_uri": "https://localhost:8080/",
          "height": 34
        },
        "outputId": "23190261-a324-471d-98bd-494743eb97e1"
      },
      "cell_type": "code",
      "source": [
        "type(d)"
      ],
      "execution_count": 23,
      "outputs": [
        {
          "output_type": "execute_result",
          "data": {
            "text/plain": [
              "numpy.ndarray"
            ]
          },
          "metadata": {
            "tags": []
          },
          "execution_count": 23
        }
      ]
    },
    {
      "metadata": {
        "id": "mikKOcKeAyTU",
        "colab_type": "text"
      },
      "cell_type": "markdown",
      "source": [
        "array() also accepts mixed lists and tuples"
      ]
    },
    {
      "metadata": {
        "id": "f9b4W4JDA2v1",
        "colab_type": "code",
        "colab": {
          "base_uri": "https://localhost:8080/",
          "height": 68
        },
        "outputId": "21bcf854-8abe-46df-a992-9086bb747b5b"
      },
      "cell_type": "code",
      "source": [
        "e = np.array([(1,2,3),[4,5,6],(7,8,9)])\n",
        "e"
      ],
      "execution_count": 24,
      "outputs": [
        {
          "output_type": "execute_result",
          "data": {
            "text/plain": [
              "array([[1, 2, 3],\n",
              "       [4, 5, 6],\n",
              "       [7, 8, 9]])"
            ]
          },
          "metadata": {
            "tags": []
          },
          "execution_count": 24
        }
      ]
    },
    {
      "metadata": {
        "id": "GFT5-AeoA_Ea",
        "colab_type": "code",
        "colab": {
          "base_uri": "https://localhost:8080/",
          "height": 34
        },
        "outputId": "988c0211-a46e-48f5-e3f4-139c7f55e632"
      },
      "cell_type": "code",
      "source": [
        "type(e)"
      ],
      "execution_count": 25,
      "outputs": [
        {
          "output_type": "execute_result",
          "data": {
            "text/plain": [
              "numpy.ndarray"
            ]
          },
          "metadata": {
            "tags": []
          },
          "execution_count": 25
        }
      ]
    },
    {
      "metadata": {
        "id": "qZCK2dubBH3a",
        "colab_type": "text"
      },
      "cell_type": "markdown",
      "source": [
        "## Types of Data\n",
        "\n",
        "NumPy arrays can contain a wide variety of data types"
      ]
    },
    {
      "metadata": {
        "id": "NnfLAgBvBOnZ",
        "colab_type": "code",
        "colab": {
          "base_uri": "https://localhost:8080/",
          "height": 51
        },
        "outputId": "ec36eebf-acd0-4e2b-d095-d815fd5fc546"
      },
      "cell_type": "code",
      "source": [
        "g = np.array([['a','b'],['c','d']])\n",
        "g"
      ],
      "execution_count": 26,
      "outputs": [
        {
          "output_type": "execute_result",
          "data": {
            "text/plain": [
              "array([['a', 'b'],\n",
              "       ['c', 'd']], dtype='<U1')"
            ]
          },
          "metadata": {
            "tags": []
          },
          "execution_count": 26
        }
      ]
    },
    {
      "metadata": {
        "id": "l3SXK3VRBW_5",
        "colab_type": "code",
        "colab": {
          "base_uri": "https://localhost:8080/",
          "height": 34
        },
        "outputId": "2ccdffac-63d1-4f5e-bdfc-baf80d1b9903"
      },
      "cell_type": "code",
      "source": [
        "g.dtype"
      ],
      "execution_count": 27,
      "outputs": [
        {
          "output_type": "execute_result",
          "data": {
            "text/plain": [
              "dtype('<U1')"
            ]
          },
          "metadata": {
            "tags": []
          },
          "execution_count": 27
        }
      ]
    },
    {
      "metadata": {
        "id": "tGiCZYTJBanN",
        "colab_type": "code",
        "colab": {
          "base_uri": "https://localhost:8080/",
          "height": 34
        },
        "outputId": "a41d0efa-5bcf-4de2-ec2f-dcc64a8fb230"
      },
      "cell_type": "code",
      "source": [
        "g.dtype.name #To get the data type name"
      ],
      "execution_count": 28,
      "outputs": [
        {
          "output_type": "execute_result",
          "data": {
            "text/plain": [
              "'str32'"
            ]
          },
          "metadata": {
            "tags": []
          },
          "execution_count": 28
        }
      ]
    },
    {
      "metadata": {
        "id": "cgPP19P9BnHK",
        "colab_type": "text"
      },
      "cell_type": "markdown",
      "source": [
        "##The dtype Option\n",
        "\n",
        "You can define the dtype using the dtype option as argument of the function"
      ]
    },
    {
      "metadata": {
        "id": "epuvesmzBxiP",
        "colab_type": "code",
        "colab": {
          "base_uri": "https://localhost:8080/",
          "height": 51
        },
        "outputId": "de8ba8f1-1d4d-40f0-9dd7-3b1d5d8b277a"
      },
      "cell_type": "code",
      "source": [
        "f = np.array([[1,2,3],[4,5,6]], dtype=complex)\n",
        "f"
      ],
      "execution_count": 29,
      "outputs": [
        {
          "output_type": "execute_result",
          "data": {
            "text/plain": [
              "array([[1.+0.j, 2.+0.j, 3.+0.j],\n",
              "       [4.+0.j, 5.+0.j, 6.+0.j]])"
            ]
          },
          "metadata": {
            "tags": []
          },
          "execution_count": 29
        }
      ]
    },
    {
      "metadata": {
        "id": "OUQCX3OZB7aR",
        "colab_type": "text"
      },
      "cell_type": "markdown",
      "source": [
        "##Intrinsic Creation of an Array"
      ]
    },
    {
      "metadata": {
        "id": "0SbmEHILCEH9",
        "colab_type": "text"
      },
      "cell_type": "markdown",
      "source": [
        "###zeros() function"
      ]
    },
    {
      "metadata": {
        "id": "w9YcxnbpCHSX",
        "colab_type": "code",
        "colab": {
          "base_uri": "https://localhost:8080/",
          "height": 68
        },
        "outputId": "2a3b7951-e1f3-4c04-c359-685d5a578bf7"
      },
      "cell_type": "code",
      "source": [
        "np.zeros((3,3)) #Note: (3,3) <--need the extra () enclosed to specify a 3-by-3 zero matrix "
      ],
      "execution_count": 30,
      "outputs": [
        {
          "output_type": "execute_result",
          "data": {
            "text/plain": [
              "array([[0., 0., 0.],\n",
              "       [0., 0., 0.],\n",
              "       [0., 0., 0.]])"
            ]
          },
          "metadata": {
            "tags": []
          },
          "execution_count": 30
        }
      ]
    },
    {
      "metadata": {
        "id": "KywQWb1PCoI9",
        "colab_type": "code",
        "colab": {
          "base_uri": "https://localhost:8080/",
          "height": 163
        },
        "outputId": "1343914a-1243-4027-cd8b-66f2448e9fe2"
      },
      "cell_type": "code",
      "source": [
        "np.zeros(3,3) #Error.."
      ],
      "execution_count": 32,
      "outputs": [
        {
          "output_type": "error",
          "ename": "TypeError",
          "evalue": "ignored",
          "traceback": [
            "\u001b[0;31m---------------------------------------------------------------------------\u001b[0m",
            "\u001b[0;31mTypeError\u001b[0m                                 Traceback (most recent call last)",
            "\u001b[0;32m<ipython-input-32-a1af5744063d>\u001b[0m in \u001b[0;36m<module>\u001b[0;34m()\u001b[0m\n\u001b[0;32m----> 1\u001b[0;31m \u001b[0mnp\u001b[0m\u001b[0;34m.\u001b[0m\u001b[0mzeros\u001b[0m\u001b[0;34m(\u001b[0m\u001b[0;36m3\u001b[0m\u001b[0;34m,\u001b[0m\u001b[0;36m3\u001b[0m\u001b[0;34m)\u001b[0m\u001b[0;34m\u001b[0m\u001b[0m\n\u001b[0m",
            "\u001b[0;31mTypeError\u001b[0m: data type not understood"
          ]
        }
      ]
    },
    {
      "metadata": {
        "id": "BY8OcYfwCdS5",
        "colab_type": "text"
      },
      "cell_type": "markdown",
      "source": [
        "###ones() function"
      ]
    },
    {
      "metadata": {
        "id": "oE5crFudCiTy",
        "colab_type": "code",
        "colab": {
          "base_uri": "https://localhost:8080/",
          "height": 68
        },
        "outputId": "940f5b39-eaf0-4bc6-fb2c-05e79496a7a4"
      },
      "cell_type": "code",
      "source": [
        "np.ones((3,3))"
      ],
      "execution_count": 34,
      "outputs": [
        {
          "output_type": "execute_result",
          "data": {
            "text/plain": [
              "array([[1., 1., 1.],\n",
              "       [1., 1., 1.],\n",
              "       [1., 1., 1.]])"
            ]
          },
          "metadata": {
            "tags": []
          },
          "execution_count": 34
        }
      ]
    },
    {
      "metadata": {
        "id": "UiS97G-fC0nE",
        "colab_type": "text"
      },
      "cell_type": "markdown",
      "source": [
        "###arange() function\n",
        "\n",
        "arange(start, stop(exclusive), step)"
      ]
    },
    {
      "metadata": {
        "id": "ESgXkgNXC4NB",
        "colab_type": "code",
        "colab": {
          "base_uri": "https://localhost:8080/",
          "height": 34
        },
        "outputId": "8ca1d501-b63a-49db-aafa-0d7407f12ffa"
      },
      "cell_type": "code",
      "source": [
        "np.arange(0,10)"
      ],
      "execution_count": 35,
      "outputs": [
        {
          "output_type": "execute_result",
          "data": {
            "text/plain": [
              "array([0, 1, 2, 3, 4, 5, 6, 7, 8, 9])"
            ]
          },
          "metadata": {
            "tags": []
          },
          "execution_count": 35
        }
      ]
    },
    {
      "metadata": {
        "id": "voQmzzXnC8Gr",
        "colab_type": "code",
        "colab": {
          "base_uri": "https://localhost:8080/",
          "height": 34
        },
        "outputId": "caabd9b0-3a6b-4c62-cdf9-3fc97ab117da"
      },
      "cell_type": "code",
      "source": [
        "np.arange(4,10)"
      ],
      "execution_count": 36,
      "outputs": [
        {
          "output_type": "execute_result",
          "data": {
            "text/plain": [
              "array([4, 5, 6, 7, 8, 9])"
            ]
          },
          "metadata": {
            "tags": []
          },
          "execution_count": 36
        }
      ]
    },
    {
      "metadata": {
        "id": "sxtqhCmUDAAg",
        "colab_type": "code",
        "colab": {
          "base_uri": "https://localhost:8080/",
          "height": 34
        },
        "outputId": "2e02970f-bbd0-45d3-b55c-c52314b21de3"
      },
      "cell_type": "code",
      "source": [
        "np.arange(0,12,3) # start, end(exclusive), step"
      ],
      "execution_count": 37,
      "outputs": [
        {
          "output_type": "execute_result",
          "data": {
            "text/plain": [
              "array([0, 3, 6, 9])"
            ]
          },
          "metadata": {
            "tags": []
          },
          "execution_count": 37
        }
      ]
    },
    {
      "metadata": {
        "id": "1-txkOBEDJGw",
        "colab_type": "code",
        "colab": {
          "base_uri": "https://localhost:8080/",
          "height": 34
        },
        "outputId": "8781881a-e34a-445c-b03d-079685cb9b87"
      },
      "cell_type": "code",
      "source": [
        "np.arange(0,6,0.6)"
      ],
      "execution_count": 38,
      "outputs": [
        {
          "output_type": "execute_result",
          "data": {
            "text/plain": [
              "array([0. , 0.6, 1.2, 1.8, 2.4, 3. , 3.6, 4.2, 4.8, 5.4])"
            ]
          },
          "metadata": {
            "tags": []
          },
          "execution_count": 38
        }
      ]
    },
    {
      "metadata": {
        "id": "Q2l64rPcDPyw",
        "colab_type": "text"
      },
      "cell_type": "markdown",
      "source": [
        "###reshape() function\n",
        "\n",
        "divides a linear array in different parts in the manner specified by the shape argument"
      ]
    },
    {
      "metadata": {
        "id": "XvWgR0InDceV",
        "colab_type": "code",
        "colab": {
          "base_uri": "https://localhost:8080/",
          "height": 68
        },
        "outputId": "316baa5e-71a2-45a7-c334-fc5b238175c6"
      },
      "cell_type": "code",
      "source": [
        "np.arange(0,12).reshape(3,4) # 3 rows, 4 columns"
      ],
      "execution_count": 39,
      "outputs": [
        {
          "output_type": "execute_result",
          "data": {
            "text/plain": [
              "array([[ 0,  1,  2,  3],\n",
              "       [ 4,  5,  6,  7],\n",
              "       [ 8,  9, 10, 11]])"
            ]
          },
          "metadata": {
            "tags": []
          },
          "execution_count": 39
        }
      ]
    },
    {
      "metadata": {
        "id": "M7xsBAUjDkp2",
        "colab_type": "text"
      },
      "cell_type": "markdown",
      "source": [
        "###linspace() function\n",
        "\n",
        "linspace(start, stop(exclusive), number of elements)"
      ]
    },
    {
      "metadata": {
        "id": "bDL1gPzNEAHb",
        "colab_type": "code",
        "colab": {
          "base_uri": "https://localhost:8080/",
          "height": 34
        },
        "outputId": "cb236c64-f643-4079-c3eb-6300cffd1502"
      },
      "cell_type": "code",
      "source": [
        "np.linspace(0,10,5)"
      ],
      "execution_count": 40,
      "outputs": [
        {
          "output_type": "execute_result",
          "data": {
            "text/plain": [
              "array([ 0. ,  2.5,  5. ,  7.5, 10. ])"
            ]
          },
          "metadata": {
            "tags": []
          },
          "execution_count": 40
        }
      ]
    },
    {
      "metadata": {
        "id": "2LIkB4ZCEHsB",
        "colab_type": "text"
      },
      "cell_type": "markdown",
      "source": [
        "###random() function\n",
        "\n",
        "in the numpy.random module"
      ]
    },
    {
      "metadata": {
        "id": "GvhhLx2REYmp",
        "colab_type": "code",
        "colab": {
          "base_uri": "https://localhost:8080/",
          "height": 34
        },
        "outputId": "89eb08f7-f7e7-4e89-810c-f71f1e53a787"
      },
      "cell_type": "code",
      "source": [
        "np.random.random(3)"
      ],
      "execution_count": 41,
      "outputs": [
        {
          "output_type": "execute_result",
          "data": {
            "text/plain": [
              "array([0.94577888, 0.45133295, 0.82321372])"
            ]
          },
          "metadata": {
            "tags": []
          },
          "execution_count": 41
        }
      ]
    },
    {
      "metadata": {
        "id": "-seoATFfEdEX",
        "colab_type": "text"
      },
      "cell_type": "markdown",
      "source": [
        "To create multidimensional array, pass the size of the array as an argument"
      ]
    },
    {
      "metadata": {
        "id": "LABhFKrzEhmt",
        "colab_type": "code",
        "colab": {
          "base_uri": "https://localhost:8080/",
          "height": 68
        },
        "outputId": "b79c2a3d-7438-4dcb-b75e-1bcbecf61293"
      },
      "cell_type": "code",
      "source": [
        "np.random.random((3,4)) # 3 rows, 4 columns"
      ],
      "execution_count": 42,
      "outputs": [
        {
          "output_type": "execute_result",
          "data": {
            "text/plain": [
              "array([[0.42112524, 0.88915592, 0.40795737, 0.07094062],\n",
              "       [0.20584098, 0.12127782, 0.57058587, 0.02703768],\n",
              "       [0.79277028, 0.92725591, 0.06362946, 0.66011857]])"
            ]
          },
          "metadata": {
            "tags": []
          },
          "execution_count": 42
        }
      ]
    },
    {
      "metadata": {
        "id": "pWaKHpybEzZH",
        "colab_type": "text"
      },
      "cell_type": "markdown",
      "source": [
        "##Arithmetic Operators"
      ]
    },
    {
      "metadata": {
        "id": "547IRCvVE4wZ",
        "colab_type": "code",
        "colab": {
          "base_uri": "https://localhost:8080/",
          "height": 34
        },
        "outputId": "1c5f1423-2f60-44f9-ed5a-b50eb7788f18"
      },
      "cell_type": "code",
      "source": [
        "a = np.arange(4)\n",
        "a"
      ],
      "execution_count": 43,
      "outputs": [
        {
          "output_type": "execute_result",
          "data": {
            "text/plain": [
              "array([0, 1, 2, 3])"
            ]
          },
          "metadata": {
            "tags": []
          },
          "execution_count": 43
        }
      ]
    },
    {
      "metadata": {
        "id": "virDNUWdE6t5",
        "colab_type": "code",
        "colab": {
          "base_uri": "https://localhost:8080/",
          "height": 34
        },
        "outputId": "8425dd1d-003b-47c3-a991-7830e35750cb"
      },
      "cell_type": "code",
      "source": [
        "a+4"
      ],
      "execution_count": 44,
      "outputs": [
        {
          "output_type": "execute_result",
          "data": {
            "text/plain": [
              "array([4, 5, 6, 7])"
            ]
          },
          "metadata": {
            "tags": []
          },
          "execution_count": 44
        }
      ]
    },
    {
      "metadata": {
        "id": "ef6B7PpEE8MK",
        "colab_type": "code",
        "colab": {
          "base_uri": "https://localhost:8080/",
          "height": 34
        },
        "outputId": "afeed05a-d7bb-45e1-9745-5c218884fdfe"
      },
      "cell_type": "code",
      "source": [
        "a*2 "
      ],
      "execution_count": 45,
      "outputs": [
        {
          "output_type": "execute_result",
          "data": {
            "text/plain": [
              "array([0, 2, 4, 6])"
            ]
          },
          "metadata": {
            "tags": []
          },
          "execution_count": 45
        }
      ]
    },
    {
      "metadata": {
        "id": "xd7Qa2m9FGkE",
        "colab_type": "text"
      },
      "cell_type": "markdown",
      "source": [
        "Note the element-wise operations between two arrays:"
      ]
    },
    {
      "metadata": {
        "id": "KDtGTaceFLcE",
        "colab_type": "code",
        "colab": {
          "base_uri": "https://localhost:8080/",
          "height": 34
        },
        "outputId": "62417574-3810-4713-b172-8c545e0daf37"
      },
      "cell_type": "code",
      "source": [
        "b = np.arange(4,8)\n",
        "b"
      ],
      "execution_count": 46,
      "outputs": [
        {
          "output_type": "execute_result",
          "data": {
            "text/plain": [
              "array([4, 5, 6, 7])"
            ]
          },
          "metadata": {
            "tags": []
          },
          "execution_count": 46
        }
      ]
    },
    {
      "metadata": {
        "id": "LnmFjBmeFQSb",
        "colab_type": "code",
        "colab": {
          "base_uri": "https://localhost:8080/",
          "height": 34
        },
        "outputId": "bfa861d4-97b6-4086-917b-50b5e8b08379"
      },
      "cell_type": "code",
      "source": [
        "a + b"
      ],
      "execution_count": 47,
      "outputs": [
        {
          "output_type": "execute_result",
          "data": {
            "text/plain": [
              "array([ 4,  6,  8, 10])"
            ]
          },
          "metadata": {
            "tags": []
          },
          "execution_count": 47
        }
      ]
    },
    {
      "metadata": {
        "id": "Dmv8MpjGFRYe",
        "colab_type": "code",
        "colab": {
          "base_uri": "https://localhost:8080/",
          "height": 34
        },
        "outputId": "307b899e-af7e-4d35-97c0-137cdd95af28"
      },
      "cell_type": "code",
      "source": [
        "a - b"
      ],
      "execution_count": 48,
      "outputs": [
        {
          "output_type": "execute_result",
          "data": {
            "text/plain": [
              "array([-4, -4, -4, -4])"
            ]
          },
          "metadata": {
            "tags": []
          },
          "execution_count": 48
        }
      ]
    },
    {
      "metadata": {
        "id": "QCUQTYOOFSwH",
        "colab_type": "code",
        "colab": {
          "base_uri": "https://localhost:8080/",
          "height": 34
        },
        "outputId": "a598dc2b-06d8-41c1-e5fe-84a0e4c7d716"
      },
      "cell_type": "code",
      "source": [
        "a * b"
      ],
      "execution_count": 49,
      "outputs": [
        {
          "output_type": "execute_result",
          "data": {
            "text/plain": [
              "array([ 0,  5, 12, 21])"
            ]
          },
          "metadata": {
            "tags": []
          },
          "execution_count": 49
        }
      ]
    },
    {
      "metadata": {
        "id": "tGH5nMg-FviH",
        "colab_type": "code",
        "colab": {
          "base_uri": "https://localhost:8080/",
          "height": 34
        },
        "outputId": "e8420fa5-f23d-4f53-f4bc-7555bb7785df"
      },
      "cell_type": "code",
      "source": [
        "a * np.sin(b)"
      ],
      "execution_count": 50,
      "outputs": [
        {
          "output_type": "execute_result",
          "data": {
            "text/plain": [
              "array([-0.        , -0.95892427, -0.558831  ,  1.9709598 ])"
            ]
          },
          "metadata": {
            "tags": []
          },
          "execution_count": 50
        }
      ]
    },
    {
      "metadata": {
        "id": "OWDHQ2XwFzTe",
        "colab_type": "code",
        "colab": {
          "base_uri": "https://localhost:8080/",
          "height": 34
        },
        "outputId": "6e8b5f4f-f5c6-4163-cd50-d863e5fbe970"
      },
      "cell_type": "code",
      "source": [
        "a * np.sqrt(b)"
      ],
      "execution_count": 51,
      "outputs": [
        {
          "output_type": "execute_result",
          "data": {
            "text/plain": [
              "array([0.        , 2.23606798, 4.89897949, 7.93725393])"
            ]
          },
          "metadata": {
            "tags": []
          },
          "execution_count": 51
        }
      ]
    },
    {
      "metadata": {
        "id": "Vm-on3wNF5k_",
        "colab_type": "text"
      },
      "cell_type": "markdown",
      "source": [
        "For multidimensional case"
      ]
    },
    {
      "metadata": {
        "id": "zfiPv-3bF72L",
        "colab_type": "code",
        "colab": {
          "base_uri": "https://localhost:8080/",
          "height": 68
        },
        "outputId": "b229f062-bc37-48b8-8006-caf2420a3380"
      },
      "cell_type": "code",
      "source": [
        "A = np.arange(0,9).reshape(3,3)\n",
        "A"
      ],
      "execution_count": 52,
      "outputs": [
        {
          "output_type": "execute_result",
          "data": {
            "text/plain": [
              "array([[0, 1, 2],\n",
              "       [3, 4, 5],\n",
              "       [6, 7, 8]])"
            ]
          },
          "metadata": {
            "tags": []
          },
          "execution_count": 52
        }
      ]
    },
    {
      "metadata": {
        "id": "d5iDaLVpGFQr",
        "colab_type": "code",
        "colab": {
          "base_uri": "https://localhost:8080/",
          "height": 68
        },
        "outputId": "05015cbb-1483-4d3f-a239-f62181e4b12d"
      },
      "cell_type": "code",
      "source": [
        "B = np.ones((3,3))\n",
        "B"
      ],
      "execution_count": 53,
      "outputs": [
        {
          "output_type": "execute_result",
          "data": {
            "text/plain": [
              "array([[1., 1., 1.],\n",
              "       [1., 1., 1.],\n",
              "       [1., 1., 1.]])"
            ]
          },
          "metadata": {
            "tags": []
          },
          "execution_count": 53
        }
      ]
    },
    {
      "metadata": {
        "id": "RpNfv2pCGI0R",
        "colab_type": "code",
        "colab": {
          "base_uri": "https://localhost:8080/",
          "height": 68
        },
        "outputId": "8f56712b-072f-4b04-b67d-c360b516ff87"
      },
      "cell_type": "code",
      "source": [
        "A * B"
      ],
      "execution_count": 54,
      "outputs": [
        {
          "output_type": "execute_result",
          "data": {
            "text/plain": [
              "array([[0., 1., 2.],\n",
              "       [3., 4., 5.],\n",
              "       [6., 7., 8.]])"
            ]
          },
          "metadata": {
            "tags": []
          },
          "execution_count": 54
        }
      ]
    },
    {
      "metadata": {
        "id": "rXcv_REnGM2w",
        "colab_type": "text"
      },
      "cell_type": "markdown",
      "source": [
        "##Matrix Product\n",
        "\n",
        "To perform the inner product, use dot() function"
      ]
    },
    {
      "metadata": {
        "id": "aPkjqkQlGcDl",
        "colab_type": "code",
        "colab": {
          "base_uri": "https://localhost:8080/",
          "height": 68
        },
        "outputId": "eba49829-0c47-45d5-8429-c6fc1fe58fe1"
      },
      "cell_type": "code",
      "source": [
        "np.dot(A,B)"
      ],
      "execution_count": 55,
      "outputs": [
        {
          "output_type": "execute_result",
          "data": {
            "text/plain": [
              "array([[ 3.,  3.,  3.],\n",
              "       [12., 12., 12.],\n",
              "       [21., 21., 21.]])"
            ]
          },
          "metadata": {
            "tags": []
          },
          "execution_count": 55
        }
      ]
    },
    {
      "metadata": {
        "id": "yGFl1DvGGfux",
        "colab_type": "text"
      },
      "cell_type": "markdown",
      "source": [
        "Alternative way to use dot() function,"
      ]
    },
    {
      "metadata": {
        "id": "iGCAJmI0Gjl5",
        "colab_type": "code",
        "colab": {
          "base_uri": "https://localhost:8080/",
          "height": 68
        },
        "outputId": "30bb69d1-27ea-427a-ed24-d118956bf565"
      },
      "cell_type": "code",
      "source": [
        "A.dot(B)"
      ],
      "execution_count": 56,
      "outputs": [
        {
          "output_type": "execute_result",
          "data": {
            "text/plain": [
              "array([[ 3.,  3.,  3.],\n",
              "       [12., 12., 12.],\n",
              "       [21., 21., 21.]])"
            ]
          },
          "metadata": {
            "tags": []
          },
          "execution_count": 56
        }
      ]
    },
    {
      "metadata": {
        "id": "ytB1cT3kGlbE",
        "colab_type": "text"
      },
      "cell_type": "markdown",
      "source": [
        "Note the order matters..."
      ]
    },
    {
      "metadata": {
        "id": "3uTyZN4AGpNG",
        "colab_type": "code",
        "colab": {
          "base_uri": "https://localhost:8080/",
          "height": 68
        },
        "outputId": "28756e4e-e187-46cc-c692-6da98cf59b54"
      },
      "cell_type": "code",
      "source": [
        "np.dot(B,A)"
      ],
      "execution_count": 57,
      "outputs": [
        {
          "output_type": "execute_result",
          "data": {
            "text/plain": [
              "array([[ 9., 12., 15.],\n",
              "       [ 9., 12., 15.],\n",
              "       [ 9., 12., 15.]])"
            ]
          },
          "metadata": {
            "tags": []
          },
          "execution_count": 57
        }
      ]
    },
    {
      "metadata": {
        "id": "lX-uixotGwtb",
        "colab_type": "text"
      },
      "cell_type": "markdown",
      "source": [
        "##Increment and Decrement Operators"
      ]
    },
    {
      "metadata": {
        "id": "zh-M7UErG04e",
        "colab_type": "code",
        "colab": {
          "base_uri": "https://localhost:8080/",
          "height": 34
        },
        "outputId": "21dda32b-ba5f-4e63-f3ed-d95718ff3157"
      },
      "cell_type": "code",
      "source": [
        "a = np.arange(4)\n",
        "a"
      ],
      "execution_count": 60,
      "outputs": [
        {
          "output_type": "execute_result",
          "data": {
            "text/plain": [
              "array([0, 1, 2, 3])"
            ]
          },
          "metadata": {
            "tags": []
          },
          "execution_count": 60
        }
      ]
    },
    {
      "metadata": {
        "id": "kuEfPgl7G3PX",
        "colab_type": "code",
        "colab": {
          "base_uri": "https://localhost:8080/",
          "height": 34
        },
        "outputId": "f406079d-fd78-4309-a52c-8727a1db9717"
      },
      "cell_type": "code",
      "source": [
        "a += 1\n",
        "a"
      ],
      "execution_count": 61,
      "outputs": [
        {
          "output_type": "execute_result",
          "data": {
            "text/plain": [
              "array([1, 2, 3, 4])"
            ]
          },
          "metadata": {
            "tags": []
          },
          "execution_count": 61
        }
      ]
    },
    {
      "metadata": {
        "id": "zphaILWrG5O8",
        "colab_type": "code",
        "colab": {
          "base_uri": "https://localhost:8080/",
          "height": 34
        },
        "outputId": "cc70dfab-e676-4f32-95f2-046afb29d310"
      },
      "cell_type": "code",
      "source": [
        "a -= 1\n",
        "a"
      ],
      "execution_count": 62,
      "outputs": [
        {
          "output_type": "execute_result",
          "data": {
            "text/plain": [
              "array([0, 1, 2, 3])"
            ]
          },
          "metadata": {
            "tags": []
          },
          "execution_count": 62
        }
      ]
    },
    {
      "metadata": {
        "id": "BUHRixlJHIJ9",
        "colab_type": "code",
        "colab": {
          "base_uri": "https://localhost:8080/",
          "height": 34
        },
        "outputId": "0d4c13aa-d5e1-40b5-f701-753d5dc78841"
      },
      "cell_type": "code",
      "source": [
        "a *= 2\n",
        "a"
      ],
      "execution_count": 63,
      "outputs": [
        {
          "output_type": "execute_result",
          "data": {
            "text/plain": [
              "array([0, 2, 4, 6])"
            ]
          },
          "metadata": {
            "tags": []
          },
          "execution_count": 63
        }
      ]
    },
    {
      "metadata": {
        "id": "EPRgmbf3HMr9",
        "colab_type": "text"
      },
      "cell_type": "markdown",
      "source": [
        "##Universal Functions (ufunc)"
      ]
    },
    {
      "metadata": {
        "id": "Lp3Lq_PYHTyG",
        "colab_type": "code",
        "colab": {
          "base_uri": "https://localhost:8080/",
          "height": 34
        },
        "outputId": "6bd1f1b9-85cc-4043-cd8c-d7d9312bc893"
      },
      "cell_type": "code",
      "source": [
        "a = np.arange(1,5)\n",
        "a"
      ],
      "execution_count": 64,
      "outputs": [
        {
          "output_type": "execute_result",
          "data": {
            "text/plain": [
              "array([1, 2, 3, 4])"
            ]
          },
          "metadata": {
            "tags": []
          },
          "execution_count": 64
        }
      ]
    },
    {
      "metadata": {
        "id": "qlWzva09HWBR",
        "colab_type": "code",
        "colab": {
          "base_uri": "https://localhost:8080/",
          "height": 34
        },
        "outputId": "d085f8b1-c694-46be-d658-390dbaef5b00"
      },
      "cell_type": "code",
      "source": [
        "np.sqrt(a)"
      ],
      "execution_count": 65,
      "outputs": [
        {
          "output_type": "execute_result",
          "data": {
            "text/plain": [
              "array([1.        , 1.41421356, 1.73205081, 2.        ])"
            ]
          },
          "metadata": {
            "tags": []
          },
          "execution_count": 65
        }
      ]
    },
    {
      "metadata": {
        "id": "p9YBfcxWHXem",
        "colab_type": "code",
        "colab": {
          "base_uri": "https://localhost:8080/",
          "height": 34
        },
        "outputId": "9b021d52-86fc-4aff-c9ad-34c8e665ef5e"
      },
      "cell_type": "code",
      "source": [
        "np.log(a)"
      ],
      "execution_count": 66,
      "outputs": [
        {
          "output_type": "execute_result",
          "data": {
            "text/plain": [
              "array([0.        , 0.69314718, 1.09861229, 1.38629436])"
            ]
          },
          "metadata": {
            "tags": []
          },
          "execution_count": 66
        }
      ]
    },
    {
      "metadata": {
        "id": "-b36lHwLHYhF",
        "colab_type": "code",
        "colab": {
          "base_uri": "https://localhost:8080/",
          "height": 34
        },
        "outputId": "c11733f7-bb7a-4295-dfcc-d938b5e68ffe"
      },
      "cell_type": "code",
      "source": [
        "np.sin(a)"
      ],
      "execution_count": 67,
      "outputs": [
        {
          "output_type": "execute_result",
          "data": {
            "text/plain": [
              "array([ 0.84147098,  0.90929743,  0.14112001, -0.7568025 ])"
            ]
          },
          "metadata": {
            "tags": []
          },
          "execution_count": 67
        }
      ]
    },
    {
      "metadata": {
        "id": "wEIIR7MVHhSD",
        "colab_type": "text"
      },
      "cell_type": "markdown",
      "source": [
        "##Aggregate Functions"
      ]
    },
    {
      "metadata": {
        "id": "HBEDwhKUHjba",
        "colab_type": "code",
        "colab": {
          "base_uri": "https://localhost:8080/",
          "height": 34
        },
        "outputId": "1a763d9b-1bf0-4246-dfbf-a9458d233985"
      },
      "cell_type": "code",
      "source": [
        "a = np.array([3.3, 4.5, 1.2, 5.7, 0.3])\n",
        "a"
      ],
      "execution_count": 68,
      "outputs": [
        {
          "output_type": "execute_result",
          "data": {
            "text/plain": [
              "array([3.3, 4.5, 1.2, 5.7, 0.3])"
            ]
          },
          "metadata": {
            "tags": []
          },
          "execution_count": 68
        }
      ]
    },
    {
      "metadata": {
        "id": "Ig7rzyfRHoiM",
        "colab_type": "code",
        "colab": {
          "base_uri": "https://localhost:8080/",
          "height": 34
        },
        "outputId": "9837f2e1-a0e6-45d4-de7a-00a547cb9e19"
      },
      "cell_type": "code",
      "source": [
        "a.sum()"
      ],
      "execution_count": 69,
      "outputs": [
        {
          "output_type": "execute_result",
          "data": {
            "text/plain": [
              "15.0"
            ]
          },
          "metadata": {
            "tags": []
          },
          "execution_count": 69
        }
      ]
    },
    {
      "metadata": {
        "id": "v5W8eMACHpfK",
        "colab_type": "code",
        "colab": {
          "base_uri": "https://localhost:8080/",
          "height": 34
        },
        "outputId": "8a7cf0c7-fad3-4a68-9700-61a6c52890d1"
      },
      "cell_type": "code",
      "source": [
        "a.min()"
      ],
      "execution_count": 70,
      "outputs": [
        {
          "output_type": "execute_result",
          "data": {
            "text/plain": [
              "0.3"
            ]
          },
          "metadata": {
            "tags": []
          },
          "execution_count": 70
        }
      ]
    },
    {
      "metadata": {
        "id": "Nzxy9-MBHqWA",
        "colab_type": "code",
        "colab": {
          "base_uri": "https://localhost:8080/",
          "height": 34
        },
        "outputId": "34ec4ad1-b162-4dc6-98f5-0843b3fc1943"
      },
      "cell_type": "code",
      "source": [
        "a.max()"
      ],
      "execution_count": 71,
      "outputs": [
        {
          "output_type": "execute_result",
          "data": {
            "text/plain": [
              "5.7"
            ]
          },
          "metadata": {
            "tags": []
          },
          "execution_count": 71
        }
      ]
    },
    {
      "metadata": {
        "id": "B7-PZzcxHrJw",
        "colab_type": "code",
        "colab": {
          "base_uri": "https://localhost:8080/",
          "height": 34
        },
        "outputId": "fdf47d8f-b3c2-4352-a7a8-823f73c3cc0e"
      },
      "cell_type": "code",
      "source": [
        "a.mean()"
      ],
      "execution_count": 72,
      "outputs": [
        {
          "output_type": "execute_result",
          "data": {
            "text/plain": [
              "3.0"
            ]
          },
          "metadata": {
            "tags": []
          },
          "execution_count": 72
        }
      ]
    },
    {
      "metadata": {
        "id": "SleZerIDHr-X",
        "colab_type": "code",
        "colab": {
          "base_uri": "https://localhost:8080/",
          "height": 34
        },
        "outputId": "e8f6eabd-96ee-47bc-9c39-be82dff2fe81"
      },
      "cell_type": "code",
      "source": [
        "a.std()"
      ],
      "execution_count": 73,
      "outputs": [
        {
          "output_type": "execute_result",
          "data": {
            "text/plain": [
              "2.0079840636817816"
            ]
          },
          "metadata": {
            "tags": []
          },
          "execution_count": 73
        }
      ]
    },
    {
      "metadata": {
        "id": "PymmV4xaHz6v",
        "colab_type": "text"
      },
      "cell_type": "markdown",
      "source": [
        "##Indexing, Slicing, and Iterating\n",
        "\n",
        "###Indexing"
      ]
    },
    {
      "metadata": {
        "id": "92Nn2YDJH-rq",
        "colab_type": "code",
        "colab": {
          "base_uri": "https://localhost:8080/",
          "height": 34
        },
        "outputId": "7be6c3f9-83ee-4705-99d8-7b6db3e478da"
      },
      "cell_type": "code",
      "source": [
        "a = np.arange(10,16)\n",
        "a"
      ],
      "execution_count": 74,
      "outputs": [
        {
          "output_type": "execute_result",
          "data": {
            "text/plain": [
              "array([10, 11, 12, 13, 14, 15])"
            ]
          },
          "metadata": {
            "tags": []
          },
          "execution_count": 74
        }
      ]
    },
    {
      "metadata": {
        "id": "UCqBGKdrIGdf",
        "colab_type": "code",
        "colab": {
          "base_uri": "https://localhost:8080/",
          "height": 34
        },
        "outputId": "4abe1169-8136-4e97-c25d-def6b9af34d3"
      },
      "cell_type": "code",
      "source": [
        "a[4]"
      ],
      "execution_count": 75,
      "outputs": [
        {
          "output_type": "execute_result",
          "data": {
            "text/plain": [
              "14"
            ]
          },
          "metadata": {
            "tags": []
          },
          "execution_count": 75
        }
      ]
    },
    {
      "metadata": {
        "id": "JhNGb_UtIIOX",
        "colab_type": "code",
        "colab": {
          "base_uri": "https://localhost:8080/",
          "height": 34
        },
        "outputId": "c8485d8e-74c2-415a-8647-1aef8c217f6b"
      },
      "cell_type": "code",
      "source": [
        "a[-1]"
      ],
      "execution_count": 76,
      "outputs": [
        {
          "output_type": "execute_result",
          "data": {
            "text/plain": [
              "15"
            ]
          },
          "metadata": {
            "tags": []
          },
          "execution_count": 76
        }
      ]
    },
    {
      "metadata": {
        "id": "hbj2Bc-XIKCI",
        "colab_type": "code",
        "colab": {
          "base_uri": "https://localhost:8080/",
          "height": 34
        },
        "outputId": "409af20e-5759-43eb-b319-47879a36d7da"
      },
      "cell_type": "code",
      "source": [
        "a[-6]"
      ],
      "execution_count": 77,
      "outputs": [
        {
          "output_type": "execute_result",
          "data": {
            "text/plain": [
              "10"
            ]
          },
          "metadata": {
            "tags": []
          },
          "execution_count": 77
        }
      ]
    },
    {
      "metadata": {
        "id": "7h0ugPzkIMya",
        "colab_type": "text"
      },
      "cell_type": "markdown",
      "source": [
        "To select multiple items at once, pass the array of indices in square brackets"
      ]
    },
    {
      "metadata": {
        "id": "0dlZ-etiIT8X",
        "colab_type": "code",
        "colab": {
          "base_uri": "https://localhost:8080/",
          "height": 34
        },
        "outputId": "cfc72486-c4c6-4356-ea96-fe94ae3de00a"
      },
      "cell_type": "code",
      "source": [
        "a[[1,3,4]]"
      ],
      "execution_count": 78,
      "outputs": [
        {
          "output_type": "execute_result",
          "data": {
            "text/plain": [
              "array([11, 13, 14])"
            ]
          },
          "metadata": {
            "tags": []
          },
          "execution_count": 78
        }
      ]
    },
    {
      "metadata": {
        "id": "keP9q2dcIvp3",
        "colab_type": "text"
      },
      "cell_type": "markdown",
      "source": [
        "Two-dimensional case,\n",
        "\n",
        "defined by two axes, where axis 0 is the row and axis 1 is the column.\n",
        "\n",
        "Indexing should be a pair of values: first value is the index of the row and the second is the index of the column.\n",
        "\n",
        "pass in the square brackets: [row index, coulmn index]"
      ]
    },
    {
      "metadata": {
        "id": "ABxel0KoJOuG",
        "colab_type": "code",
        "colab": {
          "base_uri": "https://localhost:8080/",
          "height": 68
        },
        "outputId": "4c3ba919-69f0-4143-f06b-05535c895112"
      },
      "cell_type": "code",
      "source": [
        "A = np.arange(10,19).reshape(3,3)\n",
        "A"
      ],
      "execution_count": 81,
      "outputs": [
        {
          "output_type": "execute_result",
          "data": {
            "text/plain": [
              "array([[10, 11, 12],\n",
              "       [13, 14, 15],\n",
              "       [16, 17, 18]])"
            ]
          },
          "metadata": {
            "tags": []
          },
          "execution_count": 81
        }
      ]
    },
    {
      "metadata": {
        "id": "_g7Mrz_fJgPf",
        "colab_type": "code",
        "colab": {
          "base_uri": "https://localhost:8080/",
          "height": 34
        },
        "outputId": "f3fda32d-2232-4383-e266-62fbcc275a6e"
      },
      "cell_type": "code",
      "source": [
        "A[1,2] #index starts with 0"
      ],
      "execution_count": 82,
      "outputs": [
        {
          "output_type": "execute_result",
          "data": {
            "text/plain": [
              "15"
            ]
          },
          "metadata": {
            "tags": []
          },
          "execution_count": 82
        }
      ]
    },
    {
      "metadata": {
        "id": "WjXR4bprJmSW",
        "colab_type": "text"
      },
      "cell_type": "markdown",
      "source": [
        "###Slicing"
      ]
    },
    {
      "metadata": {
        "id": "27ejckEUJzBc",
        "colab_type": "code",
        "colab": {
          "base_uri": "https://localhost:8080/",
          "height": 34
        },
        "outputId": "2ee81710-bff5-4e71-fac1-a24bf541a066"
      },
      "cell_type": "code",
      "source": [
        "a = np.arange(10,16)\n",
        "a"
      ],
      "execution_count": 83,
      "outputs": [
        {
          "output_type": "execute_result",
          "data": {
            "text/plain": [
              "array([10, 11, 12, 13, 14, 15])"
            ]
          },
          "metadata": {
            "tags": []
          },
          "execution_count": 83
        }
      ]
    },
    {
      "metadata": {
        "id": "b6VG__0xJ23A",
        "colab_type": "code",
        "colab": {
          "base_uri": "https://localhost:8080/",
          "height": 34
        },
        "outputId": "6f9f77f7-c3d9-4bcd-db52-6ebb20eb9a7f"
      },
      "cell_type": "code",
      "source": [
        "a[1:5] #not include the last element"
      ],
      "execution_count": 84,
      "outputs": [
        {
          "output_type": "execute_result",
          "data": {
            "text/plain": [
              "array([11, 12, 13, 14])"
            ]
          },
          "metadata": {
            "tags": []
          },
          "execution_count": 84
        }
      ]
    },
    {
      "metadata": {
        "id": "-ENa3VFQKKt8",
        "colab_type": "text"
      },
      "cell_type": "markdown",
      "source": [
        "To skip a specific number of following items:\n",
        "\n",
        "[start:stop:step]"
      ]
    },
    {
      "metadata": {
        "id": "EkG0h6EhKWgG",
        "colab_type": "code",
        "colab": {
          "base_uri": "https://localhost:8080/",
          "height": 34
        },
        "outputId": "162f3b46-64df-4df0-ebd7-5008682d653c"
      },
      "cell_type": "code",
      "source": [
        "a[1:5:2]"
      ],
      "execution_count": 85,
      "outputs": [
        {
          "output_type": "execute_result",
          "data": {
            "text/plain": [
              "array([11, 13])"
            ]
          },
          "metadata": {
            "tags": []
          },
          "execution_count": 85
        }
      ]
    },
    {
      "metadata": {
        "id": "9l2uMy4PKnYq",
        "colab_type": "text"
      },
      "cell_type": "markdown",
      "source": [
        "More examples"
      ]
    },
    {
      "metadata": {
        "id": "yNJ50llgKoiq",
        "colab_type": "code",
        "colab": {
          "base_uri": "https://localhost:8080/",
          "height": 34
        },
        "outputId": "277984d3-31fd-45c9-e402-51c60b9cd007"
      },
      "cell_type": "code",
      "source": [
        "a[::2] #starts at index 0, stops at max index, skip 1 element"
      ],
      "execution_count": 86,
      "outputs": [
        {
          "output_type": "execute_result",
          "data": {
            "text/plain": [
              "array([10, 12, 14])"
            ]
          },
          "metadata": {
            "tags": []
          },
          "execution_count": 86
        }
      ]
    },
    {
      "metadata": {
        "id": "uQsmVhq2K8co",
        "colab_type": "code",
        "colab": {
          "base_uri": "https://localhost:8080/",
          "height": 34
        },
        "outputId": "66eea4c8-ec60-4759-802c-274724ee5f87"
      },
      "cell_type": "code",
      "source": [
        "a[:5:2] #starts at index 0, stops at index 5, skip 1 element"
      ],
      "execution_count": 87,
      "outputs": [
        {
          "output_type": "execute_result",
          "data": {
            "text/plain": [
              "array([10, 12, 14])"
            ]
          },
          "metadata": {
            "tags": []
          },
          "execution_count": 87
        }
      ]
    },
    {
      "metadata": {
        "id": "A7y14cAwLC9h",
        "colab_type": "code",
        "colab": {
          "base_uri": "https://localhost:8080/",
          "height": 34
        },
        "outputId": "5fdd01c0-0f70-4555-d076-de3e3a15cce5"
      },
      "cell_type": "code",
      "source": [
        "a[:5:] #starts at index 0, stops at index 5, skip 0 element"
      ],
      "execution_count": 88,
      "outputs": [
        {
          "output_type": "execute_result",
          "data": {
            "text/plain": [
              "array([10, 11, 12, 13, 14])"
            ]
          },
          "metadata": {
            "tags": []
          },
          "execution_count": 88
        }
      ]
    },
    {
      "metadata": {
        "id": "d7-bsJKtLN10",
        "colab_type": "text"
      },
      "cell_type": "markdown",
      "source": [
        "For two-dimensional array...\n",
        "\n",
        "If you want to extract only the first row,"
      ]
    },
    {
      "metadata": {
        "id": "bk0oBQFRLU2m",
        "colab_type": "code",
        "colab": {
          "base_uri": "https://localhost:8080/",
          "height": 68
        },
        "outputId": "f6c7f843-c81b-4129-d314-73d8b3c74468"
      },
      "cell_type": "code",
      "source": [
        "A = np.arange(10,19).reshape((3,3))\n",
        "A"
      ],
      "execution_count": 89,
      "outputs": [
        {
          "output_type": "execute_result",
          "data": {
            "text/plain": [
              "array([[10, 11, 12],\n",
              "       [13, 14, 15],\n",
              "       [16, 17, 18]])"
            ]
          },
          "metadata": {
            "tags": []
          },
          "execution_count": 89
        }
      ]
    },
    {
      "metadata": {
        "id": "KNiLdX_ALZpX",
        "colab_type": "code",
        "colab": {
          "base_uri": "https://localhost:8080/",
          "height": 34
        },
        "outputId": "0922fd52-ed28-4dc6-c787-e019edb6c5cc"
      },
      "cell_type": "code",
      "source": [
        "A[0,:] #slice at row 0 (first row)"
      ],
      "execution_count": 90,
      "outputs": [
        {
          "output_type": "execute_result",
          "data": {
            "text/plain": [
              "array([10, 11, 12])"
            ]
          },
          "metadata": {
            "tags": []
          },
          "execution_count": 90
        }
      ]
    },
    {
      "metadata": {
        "id": "ppvG9nN0Llpj",
        "colab_type": "text"
      },
      "cell_type": "markdown",
      "source": [
        "extract the first column,"
      ]
    },
    {
      "metadata": {
        "id": "P3lUJIfRLoTD",
        "colab_type": "code",
        "colab": {
          "base_uri": "https://localhost:8080/",
          "height": 34
        },
        "outputId": "05450921-fc30-4adb-e836-838802fe29c5"
      },
      "cell_type": "code",
      "source": [
        "A[:,0]"
      ],
      "execution_count": 91,
      "outputs": [
        {
          "output_type": "execute_result",
          "data": {
            "text/plain": [
              "array([10, 13, 16])"
            ]
          },
          "metadata": {
            "tags": []
          },
          "execution_count": 91
        }
      ]
    },
    {
      "metadata": {
        "id": "LNZw0ogYLv5h",
        "colab_type": "text"
      },
      "cell_type": "markdown",
      "source": [
        "If you want to extract a smaller matrix,"
      ]
    },
    {
      "metadata": {
        "id": "zj3tcrPxLzjI",
        "colab_type": "code",
        "colab": {
          "base_uri": "https://localhost:8080/",
          "height": 51
        },
        "outputId": "8dd5fd1b-f23d-4b75-a30e-acfa6fa30acd"
      },
      "cell_type": "code",
      "source": [
        "A[0:2, 0:2] #Note: from row 0 to row 1, from column 0 to column 1.. "
      ],
      "execution_count": 92,
      "outputs": [
        {
          "output_type": "execute_result",
          "data": {
            "text/plain": [
              "array([[10, 11],\n",
              "       [13, 14]])"
            ]
          },
          "metadata": {
            "tags": []
          },
          "execution_count": 92
        }
      ]
    },
    {
      "metadata": {
        "id": "ZB0sN8cmMG7w",
        "colab_type": "text"
      },
      "cell_type": "markdown",
      "source": [
        "If you want to specify an array of indices,"
      ]
    },
    {
      "metadata": {
        "id": "uiMXN7APMNJj",
        "colab_type": "code",
        "colab": {
          "base_uri": "https://localhost:8080/",
          "height": 51
        },
        "outputId": "c87134c9-0cc7-4b49-dad2-cf6b58ea9e47"
      },
      "cell_type": "code",
      "source": [
        "A[[0,2], 0:2] # row 0 and row 2, from column 0 to column 1"
      ],
      "execution_count": 93,
      "outputs": [
        {
          "output_type": "execute_result",
          "data": {
            "text/plain": [
              "array([[10, 11],\n",
              "       [16, 17]])"
            ]
          },
          "metadata": {
            "tags": []
          },
          "execution_count": 93
        }
      ]
    },
    {
      "metadata": {
        "id": "XYHodlOnMZKG",
        "colab_type": "text"
      },
      "cell_type": "markdown",
      "source": [
        "###Iterating an Array"
      ]
    },
    {
      "metadata": {
        "id": "fJQAieEAMe_e",
        "colab_type": "code",
        "colab": {
          "base_uri": "https://localhost:8080/",
          "height": 119
        },
        "outputId": "c1c5a2b2-3f8d-4e9b-d801-8a449f367e49"
      },
      "cell_type": "code",
      "source": [
        "for i in a:\n",
        "  print(i)"
      ],
      "execution_count": 94,
      "outputs": [
        {
          "output_type": "stream",
          "text": [
            "10\n",
            "11\n",
            "12\n",
            "13\n",
            "14\n",
            "15\n"
          ],
          "name": "stdout"
        }
      ]
    },
    {
      "metadata": {
        "id": "tCyPITiPMkX2",
        "colab_type": "text"
      },
      "cell_type": "markdown",
      "source": [
        "For two-dimensional array, didn't need nested for loop. Actually, if you apply the for loop to a matrix, it will always perform a scan according to the first axis"
      ]
    },
    {
      "metadata": {
        "id": "GxVEn3OVMiFd",
        "colab_type": "code",
        "colab": {
          "base_uri": "https://localhost:8080/",
          "height": 68
        },
        "outputId": "a0cf0354-5daa-4f3f-a520-c4b228840cc4"
      },
      "cell_type": "code",
      "source": [
        "for row in A:\n",
        "  print(row)"
      ],
      "execution_count": 95,
      "outputs": [
        {
          "output_type": "stream",
          "text": [
            "[10 11 12]\n",
            "[13 14 15]\n",
            "[16 17 18]\n"
          ],
          "name": "stdout"
        }
      ]
    },
    {
      "metadata": {
        "id": "dRAmSMaxM7KT",
        "colab_type": "text"
      },
      "cell_type": "markdown",
      "source": [
        "To make a iteration element by element, use the flat attribute on the matrix object..."
      ]
    },
    {
      "metadata": {
        "id": "wtPr2gj6NEMH",
        "colab_type": "code",
        "colab": {
          "base_uri": "https://localhost:8080/",
          "height": 34
        },
        "outputId": "a376f687-7560-43aa-ce27-6f613109a510"
      },
      "cell_type": "code",
      "source": [
        "A.flat #didn't show anything"
      ],
      "execution_count": 96,
      "outputs": [
        {
          "output_type": "execute_result",
          "data": {
            "text/plain": [
              "<numpy.flatiter at 0x32eab00>"
            ]
          },
          "metadata": {
            "tags": []
          },
          "execution_count": 96
        }
      ]
    },
    {
      "metadata": {
        "id": "9gERqymeNJvn",
        "colab_type": "code",
        "colab": {
          "base_uri": "https://localhost:8080/",
          "height": 170
        },
        "outputId": "51bdd116-367d-4ede-cef7-4b33a7145deb"
      },
      "cell_type": "code",
      "source": [
        "for item in A.flat:\n",
        "  print(item)"
      ],
      "execution_count": 97,
      "outputs": [
        {
          "output_type": "stream",
          "text": [
            "10\n",
            "11\n",
            "12\n",
            "13\n",
            "14\n",
            "15\n",
            "16\n",
            "17\n",
            "18\n"
          ],
          "name": "stdout"
        }
      ]
    },
    {
      "metadata": {
        "id": "UPzVOmgMNYuv",
        "colab_type": "text"
      },
      "cell_type": "markdown",
      "source": [
        "The **apply_along_axis()** function is used to launch an aggregate function that returns a value calculated for every single column or on every single row.\n",
        "\n",
        "This function takes three arguments: the aggregate function, the axis on which to apply the iteration, and the array.\n",
        "\n",
        "If axis=0, the iteration evaluates the elements column by column. (along axis 0 direction)\n",
        "\n",
        "If axis=1, the iteration evaluates the elements row by row. (along axis 1 direction)"
      ]
    },
    {
      "metadata": {
        "id": "qUzXBomQONOH",
        "colab_type": "code",
        "colab": {
          "base_uri": "https://localhost:8080/",
          "height": 68
        },
        "outputId": "59f86b97-464a-4f8c-dd9a-88545eaf3323"
      },
      "cell_type": "code",
      "source": [
        "A"
      ],
      "execution_count": 98,
      "outputs": [
        {
          "output_type": "execute_result",
          "data": {
            "text/plain": [
              "array([[10, 11, 12],\n",
              "       [13, 14, 15],\n",
              "       [16, 17, 18]])"
            ]
          },
          "metadata": {
            "tags": []
          },
          "execution_count": 98
        }
      ]
    },
    {
      "metadata": {
        "id": "Zqpo5SPsOHMO",
        "colab_type": "code",
        "colab": {
          "base_uri": "https://localhost:8080/",
          "height": 34
        },
        "outputId": "5fd0cfb8-be4a-49d5-9e1e-082004e88132"
      },
      "cell_type": "code",
      "source": [
        "np.apply_along_axis(np.mean, axis=0, arr=A)"
      ],
      "execution_count": 99,
      "outputs": [
        {
          "output_type": "execute_result",
          "data": {
            "text/plain": [
              "array([13., 14., 15.])"
            ]
          },
          "metadata": {
            "tags": []
          },
          "execution_count": 99
        }
      ]
    },
    {
      "metadata": {
        "id": "1gdTikpSOR_j",
        "colab_type": "code",
        "colab": {
          "base_uri": "https://localhost:8080/",
          "height": 34
        },
        "outputId": "b924519a-0a8c-4387-aa8a-fc8b5dec20a0"
      },
      "cell_type": "code",
      "source": [
        "np.apply_along_axis(np.mean, axis=1, arr=A)"
      ],
      "execution_count": 100,
      "outputs": [
        {
          "output_type": "execute_result",
          "data": {
            "text/plain": [
              "array([11., 14., 17.])"
            ]
          },
          "metadata": {
            "tags": []
          },
          "execution_count": 100
        }
      ]
    },
    {
      "metadata": {
        "id": "r2_168wmOf9C",
        "colab_type": "text"
      },
      "cell_type": "markdown",
      "source": [
        "You can also use this function for user-defined function..."
      ]
    },
    {
      "metadata": {
        "id": "wBb5dSmZOj3E",
        "colab_type": "code",
        "colab": {}
      },
      "cell_type": "code",
      "source": [
        "def foo(x):\n",
        "  return x/2"
      ],
      "execution_count": 0,
      "outputs": []
    },
    {
      "metadata": {
        "id": "am-IaUWsOoTx",
        "colab_type": "code",
        "colab": {
          "base_uri": "https://localhost:8080/",
          "height": 68
        },
        "outputId": "7d90ab98-a4d4-4d86-b02f-aa37efe2bc61"
      },
      "cell_type": "code",
      "source": [
        "np.apply_along_axis(foo, axis=0, arr=A)"
      ],
      "execution_count": 102,
      "outputs": [
        {
          "output_type": "execute_result",
          "data": {
            "text/plain": [
              "array([[5. , 5.5, 6. ],\n",
              "       [6.5, 7. , 7.5],\n",
              "       [8. , 8.5, 9. ]])"
            ]
          },
          "metadata": {
            "tags": []
          },
          "execution_count": 102
        }
      ]
    },
    {
      "metadata": {
        "id": "SFydz20ZOtt3",
        "colab_type": "code",
        "colab": {
          "base_uri": "https://localhost:8080/",
          "height": 68
        },
        "outputId": "951a2336-9b43-4cc3-ac6f-fd2f7e8d397a"
      },
      "cell_type": "code",
      "source": [
        "np.apply_along_axis(foo, axis=1, arr=A)"
      ],
      "execution_count": 103,
      "outputs": [
        {
          "output_type": "execute_result",
          "data": {
            "text/plain": [
              "array([[5. , 5.5, 6. ],\n",
              "       [6.5, 7. , 7.5],\n",
              "       [8. , 8.5, 9. ]])"
            ]
          },
          "metadata": {
            "tags": []
          },
          "execution_count": 103
        }
      ]
    },
    {
      "metadata": {
        "id": "ZvBhIjSrTEsT",
        "colab_type": "text"
      },
      "cell_type": "markdown",
      "source": [
        "##Conditions and Boolean Arrays\n",
        "\n",
        "Use the conditions and Boolean opearators to extract elements"
      ]
    },
    {
      "metadata": {
        "id": "Qkvc8Bj2TOU5",
        "colab_type": "code",
        "colab": {
          "base_uri": "https://localhost:8080/",
          "height": 85
        },
        "outputId": "95b8ea96-638c-43f6-e13b-9daa265173af"
      },
      "cell_type": "code",
      "source": [
        "A = np.random.random((4,4))\n",
        "A"
      ],
      "execution_count": 104,
      "outputs": [
        {
          "output_type": "execute_result",
          "data": {
            "text/plain": [
              "array([[0.97020641, 0.95864117, 0.57911306, 0.64145228],\n",
              "       [0.85363744, 0.54708501, 0.52044195, 0.95844601],\n",
              "       [0.64345674, 0.28272301, 0.32148098, 0.50902688],\n",
              "       [0.52357658, 0.84178249, 0.92205502, 0.42988447]])"
            ]
          },
          "metadata": {
            "tags": []
          },
          "execution_count": 104
        }
      ]
    },
    {
      "metadata": {
        "id": "N9MateweTUUs",
        "colab_type": "code",
        "colab": {
          "base_uri": "https://localhost:8080/",
          "height": 85
        },
        "outputId": "ca378c2f-f4c6-4319-f888-2e9ee295256a"
      },
      "cell_type": "code",
      "source": [
        "A < 0.5"
      ],
      "execution_count": 105,
      "outputs": [
        {
          "output_type": "execute_result",
          "data": {
            "text/plain": [
              "array([[False, False, False, False],\n",
              "       [False, False, False, False],\n",
              "       [False,  True,  True, False],\n",
              "       [False, False, False,  True]])"
            ]
          },
          "metadata": {
            "tags": []
          },
          "execution_count": 105
        }
      ]
    },
    {
      "metadata": {
        "id": "7u6Vwu1cTWPu",
        "colab_type": "code",
        "colab": {
          "base_uri": "https://localhost:8080/",
          "height": 34
        },
        "outputId": "74d03d2b-d307-4e72-9e1f-2cee53314303"
      },
      "cell_type": "code",
      "source": [
        "A[A < 0.5]"
      ],
      "execution_count": 106,
      "outputs": [
        {
          "output_type": "execute_result",
          "data": {
            "text/plain": [
              "array([0.28272301, 0.32148098, 0.42988447])"
            ]
          },
          "metadata": {
            "tags": []
          },
          "execution_count": 106
        }
      ]
    },
    {
      "metadata": {
        "id": "VuQ-qe8DTaqL",
        "colab_type": "text"
      },
      "cell_type": "markdown",
      "source": [
        "##Shape Manipulation\n",
        "###reshape() fucntion\n",
        "\n",
        "returns a new array and can be used to create new objects"
      ]
    },
    {
      "metadata": {
        "id": "ZW-s3sSAT2NH",
        "colab_type": "code",
        "colab": {
          "base_uri": "https://localhost:8080/",
          "height": 68
        },
        "outputId": "ea1d2691-2c9c-4eeb-8b0b-2cdf9907c4b7"
      },
      "cell_type": "code",
      "source": [
        "a = np.random.random(12)\n",
        "a"
      ],
      "execution_count": 107,
      "outputs": [
        {
          "output_type": "execute_result",
          "data": {
            "text/plain": [
              "array([0.74336788, 0.36198068, 0.55231409, 0.96567228, 0.85496943,\n",
              "       0.81360343, 0.27086975, 0.00815678, 0.13301364, 0.2202184 ,\n",
              "       0.69077853, 0.05335147])"
            ]
          },
          "metadata": {
            "tags": []
          },
          "execution_count": 107
        }
      ]
    },
    {
      "metadata": {
        "id": "4WAMJPI3T5b3",
        "colab_type": "code",
        "colab": {
          "base_uri": "https://localhost:8080/",
          "height": 68
        },
        "outputId": "92601603-7e1f-4922-8f8a-58919f85c739"
      },
      "cell_type": "code",
      "source": [
        "A = a.reshape(3,4)\n",
        "A"
      ],
      "execution_count": 108,
      "outputs": [
        {
          "output_type": "execute_result",
          "data": {
            "text/plain": [
              "array([[0.74336788, 0.36198068, 0.55231409, 0.96567228],\n",
              "       [0.85496943, 0.81360343, 0.27086975, 0.00815678],\n",
              "       [0.13301364, 0.2202184 , 0.69077853, 0.05335147]])"
            ]
          },
          "metadata": {
            "tags": []
          },
          "execution_count": 108
        }
      ]
    },
    {
      "metadata": {
        "id": "IRJob-RCUFoU",
        "colab_type": "text"
      },
      "cell_type": "markdown",
      "source": [
        "###shape attribute\n",
        "\n",
        "If you want to modify the object without create a new object, use shape attribute to pass the tuple containing the new dimensions directly"
      ]
    },
    {
      "metadata": {
        "id": "1h3AGRNfUYAX",
        "colab_type": "code",
        "colab": {
          "base_uri": "https://localhost:8080/",
          "height": 68
        },
        "outputId": "e5d16497-c677-4807-c4e9-27b9f0f753ec"
      },
      "cell_type": "code",
      "source": [
        "a.shape = (3, 4) #Note: use TUPLE\n",
        "a"
      ],
      "execution_count": 110,
      "outputs": [
        {
          "output_type": "execute_result",
          "data": {
            "text/plain": [
              "array([[0.74336788, 0.36198068, 0.55231409, 0.96567228],\n",
              "       [0.85496943, 0.81360343, 0.27086975, 0.00815678],\n",
              "       [0.13301364, 0.2202184 , 0.69077853, 0.05335147]])"
            ]
          },
          "metadata": {
            "tags": []
          },
          "execution_count": 110
        }
      ]
    },
    {
      "metadata": {
        "id": "Zm2jhDy-UmfB",
        "colab_type": "text"
      },
      "cell_type": "markdown",
      "source": [
        "###ravel() function\n",
        "\n",
        "Inverse operation: convert a two-dimensional array into a one-dimensional array"
      ]
    },
    {
      "metadata": {
        "id": "WUWBkc3eT7z-",
        "colab_type": "code",
        "colab": {
          "base_uri": "https://localhost:8080/",
          "height": 68
        },
        "outputId": "b58a895a-7841-438b-b7f8-33e9ba34e90c"
      },
      "cell_type": "code",
      "source": [
        "a = a.ravel()\n",
        "a"
      ],
      "execution_count": 112,
      "outputs": [
        {
          "output_type": "execute_result",
          "data": {
            "text/plain": [
              "array([0.74336788, 0.36198068, 0.55231409, 0.96567228, 0.85496943,\n",
              "       0.81360343, 0.27086975, 0.00815678, 0.13301364, 0.2202184 ,\n",
              "       0.69077853, 0.05335147])"
            ]
          },
          "metadata": {
            "tags": []
          },
          "execution_count": 112
        }
      ]
    },
    {
      "metadata": {
        "id": "5UE9sQPgVE5C",
        "colab_type": "code",
        "colab": {
          "base_uri": "https://localhost:8080/",
          "height": 68
        },
        "outputId": "16cc07cc-0e4d-41d0-d7f1-41f05e2e1492"
      },
      "cell_type": "code",
      "source": [
        "a.shape = (12)\n",
        "a"
      ],
      "execution_count": 114,
      "outputs": [
        {
          "output_type": "execute_result",
          "data": {
            "text/plain": [
              "array([0.74336788, 0.36198068, 0.55231409, 0.96567228, 0.85496943,\n",
              "       0.81360343, 0.27086975, 0.00815678, 0.13301364, 0.2202184 ,\n",
              "       0.69077853, 0.05335147])"
            ]
          },
          "metadata": {
            "tags": []
          },
          "execution_count": 114
        }
      ]
    },
    {
      "metadata": {
        "id": "mKMaBGNBVKYv",
        "colab_type": "text"
      },
      "cell_type": "markdown",
      "source": [
        "###transpose() function"
      ]
    },
    {
      "metadata": {
        "id": "akvmPj4LVXZN",
        "colab_type": "code",
        "colab": {
          "base_uri": "https://localhost:8080/",
          "height": 68
        },
        "outputId": "9f9cd8c0-6b01-4d8d-91a3-ad8c00aa1025"
      },
      "cell_type": "code",
      "source": [
        "A"
      ],
      "execution_count": 116,
      "outputs": [
        {
          "output_type": "execute_result",
          "data": {
            "text/plain": [
              "array([[0.74336788, 0.36198068, 0.55231409, 0.96567228],\n",
              "       [0.85496943, 0.81360343, 0.27086975, 0.00815678],\n",
              "       [0.13301364, 0.2202184 , 0.69077853, 0.05335147]])"
            ]
          },
          "metadata": {
            "tags": []
          },
          "execution_count": 116
        }
      ]
    },
    {
      "metadata": {
        "id": "CJdQNIrZVNbo",
        "colab_type": "code",
        "colab": {
          "base_uri": "https://localhost:8080/",
          "height": 85
        },
        "outputId": "33bfb621-0b75-414a-ed50-561b6d77ceb0"
      },
      "cell_type": "code",
      "source": [
        "A.transpose()"
      ],
      "execution_count": 115,
      "outputs": [
        {
          "output_type": "execute_result",
          "data": {
            "text/plain": [
              "array([[0.74336788, 0.85496943, 0.13301364],\n",
              "       [0.36198068, 0.81360343, 0.2202184 ],\n",
              "       [0.55231409, 0.27086975, 0.69077853],\n",
              "       [0.96567228, 0.00815678, 0.05335147]])"
            ]
          },
          "metadata": {
            "tags": []
          },
          "execution_count": 115
        }
      ]
    },
    {
      "metadata": {
        "id": "ST1-YskJVQON",
        "colab_type": "text"
      },
      "cell_type": "markdown",
      "source": [
        "##Array Manipulation\n",
        "###Joining Arrays\n",
        "\n",
        "merge multiple arrays to form a new one that contains all of the arrays"
      ]
    },
    {
      "metadata": {
        "id": "LDu8gUyhVxEV",
        "colab_type": "text"
      },
      "cell_type": "markdown",
      "source": [
        "**vstack() function**\n",
        "\n",
        "combines the second array as new rows of the first array. The array grows in a vertical direction."
      ]
    },
    {
      "metadata": {
        "id": "sjo4ZbNrV-cW",
        "colab_type": "code",
        "colab": {
          "base_uri": "https://localhost:8080/",
          "height": 119
        },
        "outputId": "2bb3299c-3845-4cdc-aed3-d6004cfc4c70"
      },
      "cell_type": "code",
      "source": [
        "A = np.ones((3,3))\n",
        "B = np.zeros((3,3))\n",
        "np.vstack((A,B)) #argument must be in tuple"
      ],
      "execution_count": 119,
      "outputs": [
        {
          "output_type": "execute_result",
          "data": {
            "text/plain": [
              "array([[1., 1., 1.],\n",
              "       [1., 1., 1.],\n",
              "       [1., 1., 1.],\n",
              "       [0., 0., 0.],\n",
              "       [0., 0., 0.],\n",
              "       [0., 0., 0.]])"
            ]
          },
          "metadata": {
            "tags": []
          },
          "execution_count": 119
        }
      ]
    },
    {
      "metadata": {
        "id": "25QmUq_DWQB7",
        "colab_type": "text"
      },
      "cell_type": "markdown",
      "source": [
        "**hstack() function**\n",
        "\n",
        "combines the second array as new columns of the first array. in horizontal direction"
      ]
    },
    {
      "metadata": {
        "id": "_Io_ntwsWY33",
        "colab_type": "code",
        "colab": {
          "base_uri": "https://localhost:8080/",
          "height": 68
        },
        "outputId": "a9d816cd-5c8c-4b3e-8a3b-75168bea1500"
      },
      "cell_type": "code",
      "source": [
        "np.hstack((A,B))"
      ],
      "execution_count": 120,
      "outputs": [
        {
          "output_type": "execute_result",
          "data": {
            "text/plain": [
              "array([[1., 1., 1., 0., 0., 0.],\n",
              "       [1., 1., 1., 0., 0., 0.],\n",
              "       [1., 1., 1., 0., 0., 0.]])"
            ]
          },
          "metadata": {
            "tags": []
          },
          "execution_count": 120
        }
      ]
    },
    {
      "metadata": {
        "id": "X01waDNEWriV",
        "colab_type": "text"
      },
      "cell_type": "markdown",
      "source": [
        "**column_stack()** and **row_stack()** are used with one-dimensional arrays"
      ]
    },
    {
      "metadata": {
        "id": "CFj_XVlQWz9j",
        "colab_type": "code",
        "colab": {
          "base_uri": "https://localhost:8080/",
          "height": 68
        },
        "outputId": "6baab2ed-185b-4d23-c407-cf79b7c86111"
      },
      "cell_type": "code",
      "source": [
        "a = np.array([0,1,2])\n",
        "b = np.array([3,4,5])\n",
        "c = np.array([6,7,8])\n",
        "np.column_stack((a,b,c)) #arg must be tuple"
      ],
      "execution_count": 121,
      "outputs": [
        {
          "output_type": "execute_result",
          "data": {
            "text/plain": [
              "array([[0, 3, 6],\n",
              "       [1, 4, 7],\n",
              "       [2, 5, 8]])"
            ]
          },
          "metadata": {
            "tags": []
          },
          "execution_count": 121
        }
      ]
    },
    {
      "metadata": {
        "id": "2e4YeYKrXDZ7",
        "colab_type": "code",
        "colab": {
          "base_uri": "https://localhost:8080/",
          "height": 68
        },
        "outputId": "93b910c1-4d14-46e3-af72-871257f0b1e4"
      },
      "cell_type": "code",
      "source": [
        "np.row_stack((a,b,c))"
      ],
      "execution_count": 122,
      "outputs": [
        {
          "output_type": "execute_result",
          "data": {
            "text/plain": [
              "array([[0, 1, 2],\n",
              "       [3, 4, 5],\n",
              "       [6, 7, 8]])"
            ]
          },
          "metadata": {
            "tags": []
          },
          "execution_count": 122
        }
      ]
    },
    {
      "metadata": {
        "id": "yDy_-k0FXGkA",
        "colab_type": "text"
      },
      "cell_type": "markdown",
      "source": [
        "###Splitting Arrays"
      ]
    },
    {
      "metadata": {
        "id": "rRMreL6JXdTr",
        "colab_type": "code",
        "colab": {
          "base_uri": "https://localhost:8080/",
          "height": 85
        },
        "outputId": "608517ed-2dc7-4ee0-d456-2f2f9757b821"
      },
      "cell_type": "code",
      "source": [
        "A = np.arange(16).reshape((4,4))\n",
        "A"
      ],
      "execution_count": 123,
      "outputs": [
        {
          "output_type": "execute_result",
          "data": {
            "text/plain": [
              "array([[ 0,  1,  2,  3],\n",
              "       [ 4,  5,  6,  7],\n",
              "       [ 8,  9, 10, 11],\n",
              "       [12, 13, 14, 15]])"
            ]
          },
          "metadata": {
            "tags": []
          },
          "execution_count": 123
        }
      ]
    },
    {
      "metadata": {
        "id": "oYCBf7A7Xp5s",
        "colab_type": "text"
      },
      "cell_type": "markdown",
      "source": [
        "**hsplit() function**\n",
        "\n",
        "split the array horizontally, meaning the width of the array is divided into **2** parts"
      ]
    },
    {
      "metadata": {
        "id": "alG2tUXjX47u",
        "colab_type": "code",
        "colab": {
          "base_uri": "https://localhost:8080/",
          "height": 85
        },
        "outputId": "028d8a73-e824-423f-ada9-fdb40de1a2ca"
      },
      "cell_type": "code",
      "source": [
        "[B, C] = np.hsplit(A, 2) # second arg means to divide into 2 parts\n",
        "B"
      ],
      "execution_count": 124,
      "outputs": [
        {
          "output_type": "execute_result",
          "data": {
            "text/plain": [
              "array([[ 0,  1],\n",
              "       [ 4,  5],\n",
              "       [ 8,  9],\n",
              "       [12, 13]])"
            ]
          },
          "metadata": {
            "tags": []
          },
          "execution_count": 124
        }
      ]
    },
    {
      "metadata": {
        "id": "ydaa7NwdYD1W",
        "colab_type": "code",
        "colab": {
          "base_uri": "https://localhost:8080/",
          "height": 85
        },
        "outputId": "a3357dcc-811b-480f-d1a1-37988c533425"
      },
      "cell_type": "code",
      "source": [
        "C"
      ],
      "execution_count": 125,
      "outputs": [
        {
          "output_type": "execute_result",
          "data": {
            "text/plain": [
              "array([[ 2,  3],\n",
              "       [ 6,  7],\n",
              "       [10, 11],\n",
              "       [14, 15]])"
            ]
          },
          "metadata": {
            "tags": []
          },
          "execution_count": 125
        }
      ]
    },
    {
      "metadata": {
        "id": "rZdd-iqNYHQF",
        "colab_type": "text"
      },
      "cell_type": "markdown",
      "source": [
        "**vsplit() function**\n",
        "\n",
        "split the array vertically, meaning the height of the array is divided into **2** parts"
      ]
    },
    {
      "metadata": {
        "id": "lXwPvyOsYTNi",
        "colab_type": "code",
        "colab": {
          "base_uri": "https://localhost:8080/",
          "height": 51
        },
        "outputId": "bde7d973-7e9a-451e-da1b-75c792abd143"
      },
      "cell_type": "code",
      "source": [
        "[B, C] = np.vsplit(A, 2)\n",
        "B"
      ],
      "execution_count": 126,
      "outputs": [
        {
          "output_type": "execute_result",
          "data": {
            "text/plain": [
              "array([[0, 1, 2, 3],\n",
              "       [4, 5, 6, 7]])"
            ]
          },
          "metadata": {
            "tags": []
          },
          "execution_count": 126
        }
      ]
    },
    {
      "metadata": {
        "id": "sW-Gsa2hYXQo",
        "colab_type": "code",
        "colab": {
          "base_uri": "https://localhost:8080/",
          "height": 51
        },
        "outputId": "efd769ce-707f-49ea-e4fc-d083819dbffb"
      },
      "cell_type": "code",
      "source": [
        "C"
      ],
      "execution_count": 127,
      "outputs": [
        {
          "output_type": "execute_result",
          "data": {
            "text/plain": [
              "array([[ 8,  9, 10, 11],\n",
              "       [12, 13, 14, 15]])"
            ]
          },
          "metadata": {
            "tags": []
          },
          "execution_count": 127
        }
      ]
    },
    {
      "metadata": {
        "id": "xc83S-rmYqrO",
        "colab_type": "text"
      },
      "cell_type": "markdown",
      "source": [
        "**split() function**\n",
        "\n",
        "allows you to split the array into nonsymmetrical parts\n",
        "\n",
        "You also need to specify the indices of the parts to be divided\n",
        "\n",
        "If axis = 0, the indices will be rows; if axis = 1, the indices will be columns.\n",
        "\n",
        "For example, if you want to divide matrix A into three parts, the first of which is the first column, the second contains the second and the third column, and the third is the last column, you must specify in the following way:"
      ]
    },
    {
      "metadata": {
        "id": "9vV7HAstZk1T",
        "colab_type": "code",
        "colab": {
          "base_uri": "https://localhost:8080/",
          "height": 85
        },
        "outputId": "b465c43d-f51a-49dd-f441-5e714727a147"
      },
      "cell_type": "code",
      "source": [
        "[A1, A2, A3] = np.split(A, [1,3], axis = 1) # [1,3] means starting at index 1 and ending at index 2\n",
        "A1"
      ],
      "execution_count": 128,
      "outputs": [
        {
          "output_type": "execute_result",
          "data": {
            "text/plain": [
              "array([[ 0],\n",
              "       [ 4],\n",
              "       [ 8],\n",
              "       [12]])"
            ]
          },
          "metadata": {
            "tags": []
          },
          "execution_count": 128
        }
      ]
    },
    {
      "metadata": {
        "id": "tn_ZLa7AZ2MI",
        "colab_type": "code",
        "colab": {
          "base_uri": "https://localhost:8080/",
          "height": 85
        },
        "outputId": "f6347331-8603-4eae-a715-4b6e0e0f81b0"
      },
      "cell_type": "code",
      "source": [
        "A2"
      ],
      "execution_count": 129,
      "outputs": [
        {
          "output_type": "execute_result",
          "data": {
            "text/plain": [
              "array([[ 1,  2],\n",
              "       [ 5,  6],\n",
              "       [ 9, 10],\n",
              "       [13, 14]])"
            ]
          },
          "metadata": {
            "tags": []
          },
          "execution_count": 129
        }
      ]
    },
    {
      "metadata": {
        "id": "WJj1ObVFZ20F",
        "colab_type": "code",
        "colab": {
          "base_uri": "https://localhost:8080/",
          "height": 85
        },
        "outputId": "f59e4a96-79db-4a33-ce55-1bf79a80f087"
      },
      "cell_type": "code",
      "source": [
        "A3"
      ],
      "execution_count": 130,
      "outputs": [
        {
          "output_type": "execute_result",
          "data": {
            "text/plain": [
              "array([[ 3],\n",
              "       [ 7],\n",
              "       [11],\n",
              "       [15]])"
            ]
          },
          "metadata": {
            "tags": []
          },
          "execution_count": 130
        }
      ]
    },
    {
      "metadata": {
        "id": "SIXIaA90Z51L",
        "colab_type": "text"
      },
      "cell_type": "markdown",
      "source": [
        "Do the same thing by row:"
      ]
    },
    {
      "metadata": {
        "id": "IoVaE8WEZ73C",
        "colab_type": "code",
        "colab": {
          "base_uri": "https://localhost:8080/",
          "height": 34
        },
        "outputId": "42374079-1c35-4244-f850-8041d962db14"
      },
      "cell_type": "code",
      "source": [
        "[A1, A2, A3] = np.split(A, [1,3], axis=0)\n",
        "A1"
      ],
      "execution_count": 131,
      "outputs": [
        {
          "output_type": "execute_result",
          "data": {
            "text/plain": [
              "array([[0, 1, 2, 3]])"
            ]
          },
          "metadata": {
            "tags": []
          },
          "execution_count": 131
        }
      ]
    },
    {
      "metadata": {
        "id": "oHxoNvZvaAu3",
        "colab_type": "code",
        "colab": {
          "base_uri": "https://localhost:8080/",
          "height": 51
        },
        "outputId": "b8bab56a-51ab-4c3f-c007-aefaa99e1bda"
      },
      "cell_type": "code",
      "source": [
        "A2"
      ],
      "execution_count": 132,
      "outputs": [
        {
          "output_type": "execute_result",
          "data": {
            "text/plain": [
              "array([[ 4,  5,  6,  7],\n",
              "       [ 8,  9, 10, 11]])"
            ]
          },
          "metadata": {
            "tags": []
          },
          "execution_count": 132
        }
      ]
    },
    {
      "metadata": {
        "id": "ZwFzLEjtaBha",
        "colab_type": "code",
        "colab": {
          "base_uri": "https://localhost:8080/",
          "height": 34
        },
        "outputId": "5af51828-c0af-4bc5-ef24-7aa670415cc7"
      },
      "cell_type": "code",
      "source": [
        "A3"
      ],
      "execution_count": 133,
      "outputs": [
        {
          "output_type": "execute_result",
          "data": {
            "text/plain": [
              "array([[12, 13, 14, 15]])"
            ]
          },
          "metadata": {
            "tags": []
          },
          "execution_count": 133
        }
      ]
    },
    {
      "metadata": {
        "id": "NK5RKVl2aLkV",
        "colab_type": "text"
      },
      "cell_type": "markdown",
      "source": [
        "##Copies or Views of Objects\n",
        "\n",
        "The following assignments are just the views of the original array, not a copy!!"
      ]
    },
    {
      "metadata": {
        "id": "ydNcbjeXawo5",
        "colab_type": "code",
        "colab": {
          "base_uri": "https://localhost:8080/",
          "height": 34
        },
        "outputId": "c3c776d9-d121-4745-d2e0-1e86f7257a22"
      },
      "cell_type": "code",
      "source": [
        "a = np.array([1,2,3,4])\n",
        "b = a\n",
        "b"
      ],
      "execution_count": 134,
      "outputs": [
        {
          "output_type": "execute_result",
          "data": {
            "text/plain": [
              "array([1, 2, 3, 4])"
            ]
          },
          "metadata": {
            "tags": []
          },
          "execution_count": 134
        }
      ]
    },
    {
      "metadata": {
        "id": "h1n7NiVycOiz",
        "colab_type": "code",
        "colab": {
          "base_uri": "https://localhost:8080/",
          "height": 34
        },
        "outputId": "90b65b87-5acd-42a9-cb37-bf1c8499c7ec"
      },
      "cell_type": "code",
      "source": [
        "a[2] = 0\n",
        "b #change in a[2] changes b[2] as well"
      ],
      "execution_count": 135,
      "outputs": [
        {
          "output_type": "execute_result",
          "data": {
            "text/plain": [
              "array([1, 2, 0, 4])"
            ]
          },
          "metadata": {
            "tags": []
          },
          "execution_count": 135
        }
      ]
    },
    {
      "metadata": {
        "id": "ANrlPS27cYRL",
        "colab_type": "code",
        "colab": {
          "base_uri": "https://localhost:8080/",
          "height": 34
        },
        "outputId": "9a664f46-180e-4f1a-9984-76cf10ce76b6"
      },
      "cell_type": "code",
      "source": [
        "c = a[0:2]\n",
        "c #slicing"
      ],
      "execution_count": 136,
      "outputs": [
        {
          "output_type": "execute_result",
          "data": {
            "text/plain": [
              "array([1, 2])"
            ]
          },
          "metadata": {
            "tags": []
          },
          "execution_count": 136
        }
      ]
    },
    {
      "metadata": {
        "id": "e3Y4GEUEcclM",
        "colab_type": "code",
        "colab": {
          "base_uri": "https://localhost:8080/",
          "height": 34
        },
        "outputId": "1f4461d6-060a-47a6-d455-ebe39027c016"
      },
      "cell_type": "code",
      "source": [
        "a[0] = 0\n",
        "c #change in a[0] changes c[0] as well"
      ],
      "execution_count": 137,
      "outputs": [
        {
          "output_type": "execute_result",
          "data": {
            "text/plain": [
              "array([0, 2])"
            ]
          },
          "metadata": {
            "tags": []
          },
          "execution_count": 137
        }
      ]
    },
    {
      "metadata": {
        "id": "VNEdaSNecl-8",
        "colab_type": "text"
      },
      "cell_type": "markdown",
      "source": [
        "**copy() function** generates a complete and distinct array"
      ]
    },
    {
      "metadata": {
        "id": "18qTVpvmcrRS",
        "colab_type": "code",
        "colab": {
          "base_uri": "https://localhost:8080/",
          "height": 34
        },
        "outputId": "49e5d002-b077-45c9-fc61-299a9c55ee79"
      },
      "cell_type": "code",
      "source": [
        "a = np.array([1,2,3,4])\n",
        "c = a.copy() #real copy\n",
        "c"
      ],
      "execution_count": 138,
      "outputs": [
        {
          "output_type": "execute_result",
          "data": {
            "text/plain": [
              "array([1, 2, 3, 4])"
            ]
          },
          "metadata": {
            "tags": []
          },
          "execution_count": 138
        }
      ]
    },
    {
      "metadata": {
        "id": "qX85NoWUcwxf",
        "colab_type": "code",
        "colab": {
          "base_uri": "https://localhost:8080/",
          "height": 34
        },
        "outputId": "80b29774-2c9e-489f-b8f2-7b0218ed38c6"
      },
      "cell_type": "code",
      "source": [
        "a[0] = 0\n",
        "c #change in a[0] doesn't affect c[0]"
      ],
      "execution_count": 139,
      "outputs": [
        {
          "output_type": "execute_result",
          "data": {
            "text/plain": [
              "array([1, 2, 3, 4])"
            ]
          },
          "metadata": {
            "tags": []
          },
          "execution_count": 139
        }
      ]
    },
    {
      "metadata": {
        "id": "wjSMEgtidAx2",
        "colab_type": "text"
      },
      "cell_type": "markdown",
      "source": [
        "##Brodadcasting\n",
        "\n",
        "allows an operator or a function to act on two or mroe arrays to operate even if these arrays do not have the same shape"
      ]
    },
    {
      "metadata": {
        "id": "dYxa4AlxdkRX",
        "colab_type": "code",
        "colab": {
          "base_uri": "https://localhost:8080/",
          "height": 85
        },
        "outputId": "9a58fc04-984e-4650-86ad-2e1ca5042531"
      },
      "cell_type": "code",
      "source": [
        "A = np.arange(16).reshape((4,4))\n",
        "b = np.arange(4)\n",
        "A"
      ],
      "execution_count": 140,
      "outputs": [
        {
          "output_type": "execute_result",
          "data": {
            "text/plain": [
              "array([[ 0,  1,  2,  3],\n",
              "       [ 4,  5,  6,  7],\n",
              "       [ 8,  9, 10, 11],\n",
              "       [12, 13, 14, 15]])"
            ]
          },
          "metadata": {
            "tags": []
          },
          "execution_count": 140
        }
      ]
    },
    {
      "metadata": {
        "id": "bLZ-6kbhdrPU",
        "colab_type": "code",
        "colab": {
          "base_uri": "https://localhost:8080/",
          "height": 34
        },
        "outputId": "5eaa9b25-0030-45f8-dd04-8c1734d60e5f"
      },
      "cell_type": "code",
      "source": [
        "b"
      ],
      "execution_count": 141,
      "outputs": [
        {
          "output_type": "execute_result",
          "data": {
            "text/plain": [
              "array([0, 1, 2, 3])"
            ]
          },
          "metadata": {
            "tags": []
          },
          "execution_count": 141
        }
      ]
    },
    {
      "metadata": {
        "id": "b7-KVEJ0d5X7",
        "colab_type": "code",
        "colab": {
          "base_uri": "https://localhost:8080/",
          "height": 85
        },
        "outputId": "361adc3e-ee57-431a-d20e-f9d7851201f9"
      },
      "cell_type": "code",
      "source": [
        "A + b"
      ],
      "execution_count": 142,
      "outputs": [
        {
          "output_type": "execute_result",
          "data": {
            "text/plain": [
              "array([[ 0,  2,  4,  6],\n",
              "       [ 4,  6,  8, 10],\n",
              "       [ 8, 10, 12, 14],\n",
              "       [12, 14, 16, 18]])"
            ]
          },
          "metadata": {
            "tags": []
          },
          "execution_count": 142
        }
      ]
    },
    {
      "metadata": {
        "id": "_4x766-ld-Uv",
        "colab_type": "text"
      },
      "cell_type": "markdown",
      "source": [
        "More complex case:"
      ]
    },
    {
      "metadata": {
        "id": "9DQ5vd2SeAax",
        "colab_type": "code",
        "colab": {
          "base_uri": "https://localhost:8080/",
          "height": 102
        },
        "outputId": "f7e1bcab-8048-484b-f412-fdc14c58278e"
      },
      "cell_type": "code",
      "source": [
        "m = np.arange(6).reshape(3,1,2) # axis 0 has 3 elements, axis 1 has 1 row, axis 2 has 2 columns\n",
        "m # 3 x 1 x 2"
      ],
      "execution_count": 143,
      "outputs": [
        {
          "output_type": "execute_result",
          "data": {
            "text/plain": [
              "array([[[0, 1]],\n",
              "\n",
              "       [[2, 3]],\n",
              "\n",
              "       [[4, 5]]])"
            ]
          },
          "metadata": {
            "tags": []
          },
          "execution_count": 143
        }
      ]
    },
    {
      "metadata": {
        "id": "NhViFM8zeLF1",
        "colab_type": "code",
        "colab": {
          "base_uri": "https://localhost:8080/",
          "height": 153
        },
        "outputId": "19bb6ee2-2e56-4023-dbe0-31ebb8ff3d4f"
      },
      "cell_type": "code",
      "source": [
        "n = np.arange(6).reshape(3,2,1) # axis 0 has 3 elements, axis 1 has 2 rows, axis 2 has 1 column\n",
        "n # 3 x 2 x 1"
      ],
      "execution_count": 144,
      "outputs": [
        {
          "output_type": "execute_result",
          "data": {
            "text/plain": [
              "array([[[0],\n",
              "        [1]],\n",
              "\n",
              "       [[2],\n",
              "        [3]],\n",
              "\n",
              "       [[4],\n",
              "        [5]]])"
            ]
          },
          "metadata": {
            "tags": []
          },
          "execution_count": 144
        }
      ]
    },
    {
      "metadata": {
        "id": "v5yW9N2ze8SZ",
        "colab_type": "code",
        "colab": {
          "base_uri": "https://localhost:8080/",
          "height": 153
        },
        "outputId": "cb771ecb-da6b-4eee-cf4d-515352a20fbf"
      },
      "cell_type": "code",
      "source": [
        "m + n"
      ],
      "execution_count": 145,
      "outputs": [
        {
          "output_type": "execute_result",
          "data": {
            "text/plain": [
              "array([[[ 0,  1],\n",
              "        [ 1,  2]],\n",
              "\n",
              "       [[ 4,  5],\n",
              "        [ 5,  6]],\n",
              "\n",
              "       [[ 8,  9],\n",
              "        [ 9, 10]]])"
            ]
          },
          "metadata": {
            "tags": []
          },
          "execution_count": 145
        }
      ]
    },
    {
      "metadata": {
        "id": "yksiQ6X80TJn",
        "colab_type": "text"
      },
      "cell_type": "markdown",
      "source": [
        "##Structured Arrays\n",
        "\n",
        "contains structs or records instead of individual items"
      ]
    },
    {
      "metadata": {
        "id": "-8wBuTEj00hL",
        "colab_type": "code",
        "colab": {
          "base_uri": "https://localhost:8080/",
          "height": 68
        },
        "outputId": "80d001f4-2336-4abd-8660-ae9abb0da114"
      },
      "cell_type": "code",
      "source": [
        "structured = np.array([(1, 'First', 0.5, 1+2j), (2, 'Second', 1.3, 2-2j), (3, 'Third', 0.8, 1+3j)], dtype=('i2, a6, f4, c8'))\n",
        "structured"
      ],
      "execution_count": 146,
      "outputs": [
        {
          "output_type": "execute_result",
          "data": {
            "text/plain": [
              "array([(1, b'First', 0.5, 1.+2.j), (2, b'Second', 1.3, 2.-2.j),\n",
              "       (3, b'Third', 0.8, 1.+3.j)],\n",
              "      dtype=[('f0', '<i2'), ('f1', 'S6'), ('f2', '<f4'), ('f3', '<c8')])"
            ]
          },
          "metadata": {
            "tags": []
          },
          "execution_count": 146
        }
      ]
    },
    {
      "metadata": {
        "id": "2ObvlRW91l6A",
        "colab_type": "text"
      },
      "cell_type": "markdown",
      "source": [
        "**dtype:**\n",
        "\n",
        "bytes - b1\n",
        "\n",
        "int - i1, i2, i4, i8\n",
        "\n",
        "unsigned ints - u1, u2, u4, u8\n",
        "\n",
        "floats - f2, f4, f8\n",
        "\n",
        "complex - c8, c16\n",
        "\n",
        "fixed length strings - a<n\\>"
      ]
    },
    {
      "metadata": {
        "id": "djOEK5du2xIK",
        "colab_type": "text"
      },
      "cell_type": "markdown",
      "source": [
        "You can also explicitly specify int8, uint8, float16, complex64..."
      ]
    },
    {
      "metadata": {
        "id": "AkXFiFnq2-nd",
        "colab_type": "code",
        "colab": {
          "base_uri": "https://localhost:8080/",
          "height": 68
        },
        "outputId": "089cb2aa-b77f-46fb-ea1f-c315a4556be0"
      },
      "cell_type": "code",
      "source": [
        "structured = np.array([(1, 'First', 0.5, 1+2j), (2, 'Second', 1.3, 2-2j), (3, 'Third', 0.8, 1+3j)], dtype=('int16, a6, float32, complex64'))\n",
        "structured"
      ],
      "execution_count": 147,
      "outputs": [
        {
          "output_type": "execute_result",
          "data": {
            "text/plain": [
              "array([(1, b'First', 0.5, 1.+2.j), (2, b'Second', 1.3, 2.-2.j),\n",
              "       (3, b'Third', 0.8, 1.+3.j)],\n",
              "      dtype=[('f0', '<i2'), ('f1', 'S6'), ('f2', '<f4'), ('f3', '<c8')])"
            ]
          },
          "metadata": {
            "tags": []
          },
          "execution_count": 147
        }
      ]
    },
    {
      "metadata": {
        "id": "SXnlAG_k3YU_",
        "colab_type": "text"
      },
      "cell_type": "markdown",
      "source": [
        "Using the reference index to obtain the corresponding row:"
      ]
    },
    {
      "metadata": {
        "id": "excierPY3fh_",
        "colab_type": "code",
        "colab": {
          "base_uri": "https://localhost:8080/",
          "height": 34
        },
        "outputId": "09abd149-4783-4482-e130-20c408a9c9e5"
      },
      "cell_type": "code",
      "source": [
        "structured[1]"
      ],
      "execution_count": 148,
      "outputs": [
        {
          "output_type": "execute_result",
          "data": {
            "text/plain": [
              "(2, b'Second', 1.3, 2.-2.j)"
            ]
          },
          "metadata": {
            "tags": []
          },
          "execution_count": 148
        }
      ]
    },
    {
      "metadata": {
        "id": "DpjAIh5E3wZa",
        "colab_type": "text"
      },
      "cell_type": "markdown",
      "source": [
        "The names, ('f0','f1','f2','f3'), assigned automatically can be used as the names of the columns of the arrays"
      ]
    },
    {
      "metadata": {
        "id": "IdXe8a0i4B0n",
        "colab_type": "code",
        "colab": {
          "base_uri": "https://localhost:8080/",
          "height": 34
        },
        "outputId": "a8143db3-06ef-4783-edfa-bafc24873ebf"
      },
      "cell_type": "code",
      "source": [
        "structured['f1']"
      ],
      "execution_count": 149,
      "outputs": [
        {
          "output_type": "execute_result",
          "data": {
            "text/plain": [
              "array([b'First', b'Second', b'Third'], dtype='|S6')"
            ]
          },
          "metadata": {
            "tags": []
          },
          "execution_count": 149
        }
      ]
    },
    {
      "metadata": {
        "id": "7LK5Tq464ER0",
        "colab_type": "code",
        "colab": {
          "base_uri": "https://localhost:8080/",
          "height": 34
        },
        "outputId": "b2b7b8e3-bb02-4dfa-fd01-424bfdaedca0"
      },
      "cell_type": "code",
      "source": [
        "structured['f3']"
      ],
      "execution_count": 150,
      "outputs": [
        {
          "output_type": "execute_result",
          "data": {
            "text/plain": [
              "array([1.+2.j, 2.-2.j, 1.+3.j], dtype=complex64)"
            ]
          },
          "metadata": {
            "tags": []
          },
          "execution_count": 150
        }
      ]
    },
    {
      "metadata": {
        "id": "uDvcNl-e4Q9D",
        "colab_type": "text"
      },
      "cell_type": "markdown",
      "source": [
        "To change the automatically assigned name, you can do it at the time of array declaration:"
      ]
    },
    {
      "metadata": {
        "id": "47v4e1lk4bRO",
        "colab_type": "code",
        "colab": {
          "base_uri": "https://localhost:8080/",
          "height": 68
        },
        "outputId": "7fc2744a-0b16-40f8-b8bb-7474c224441f"
      },
      "cell_type": "code",
      "source": [
        "structured = np.array([(1, 'First', 0.5, 1+2j), (2, 'Second', 1.3, 2-2j), (3, 'Third', 0.8, 1+3j)], \n",
        "                      dtype=[('id', 'i2'), ('position', 'a6'), ('value', 'f4'), ('complex', 'c8')]) #dtype=[(name, datatype)]\n",
        "structured"
      ],
      "execution_count": 151,
      "outputs": [
        {
          "output_type": "execute_result",
          "data": {
            "text/plain": [
              "array([(1, b'First', 0.5, 1.+2.j), (2, b'Second', 1.3, 2.-2.j),\n",
              "       (3, b'Third', 0.8, 1.+3.j)],\n",
              "      dtype=[('id', '<i2'), ('position', 'S6'), ('value', '<f4'), ('complex', '<c8')])"
            ]
          },
          "metadata": {
            "tags": []
          },
          "execution_count": 151
        }
      ]
    },
    {
      "metadata": {
        "id": "yERHPH205EL8",
        "colab_type": "text"
      },
      "cell_type": "markdown",
      "source": [
        "Or you can redefine the tuples of names to dtype"
      ]
    },
    {
      "metadata": {
        "id": "RomAJMn64_Lm",
        "colab_type": "code",
        "colab": {
          "base_uri": "https://localhost:8080/",
          "height": 34
        },
        "outputId": "b84c85fb-fa7c-4809-b2fb-bfdfa906e13f"
      },
      "cell_type": "code",
      "source": [
        "structured.dtype.names = ('id', 'order', 'value', 'complex')\n",
        "structured['order']"
      ],
      "execution_count": 152,
      "outputs": [
        {
          "output_type": "execute_result",
          "data": {
            "text/plain": [
              "array([b'First', b'Second', b'Third'], dtype='|S6')"
            ]
          },
          "metadata": {
            "tags": []
          },
          "execution_count": 152
        }
      ]
    },
    {
      "metadata": {
        "id": "3KA_Mxw85jKg",
        "colab_type": "text"
      },
      "cell_type": "markdown",
      "source": [
        "##Loading and Saving Data in Binary Files\n",
        "\n",
        "###save()\n",
        "\n",
        "The file wil automatically be given the .npy extension\n"
      ]
    },
    {
      "metadata": {
        "id": "b_ebZeOU56b7",
        "colab_type": "code",
        "colab": {
          "base_uri": "https://localhost:8080/",
          "height": 85
        },
        "outputId": "2ba4787f-a369-4c61-8ca3-da104d4737ea"
      },
      "cell_type": "code",
      "source": [
        "data = np.random.random(12).reshape((4,3))\n",
        "data"
      ],
      "execution_count": 157,
      "outputs": [
        {
          "output_type": "execute_result",
          "data": {
            "text/plain": [
              "array([[0.1854912 , 0.82940777, 0.63597731],\n",
              "       [0.5942558 , 0.41420995, 0.71631968],\n",
              "       [0.51102291, 0.76612895, 0.44872904],\n",
              "       [0.78301047, 0.27753672, 0.89593481]])"
            ]
          },
          "metadata": {
            "tags": []
          },
          "execution_count": 157
        }
      ]
    },
    {
      "metadata": {
        "id": "9sq4j1l96EHN",
        "colab_type": "code",
        "colab": {}
      },
      "cell_type": "code",
      "source": [
        "np.save('saved_data', data)"
      ],
      "execution_count": 0,
      "outputs": []
    },
    {
      "metadata": {
        "id": "WpwAknCt6OQm",
        "colab_type": "text"
      },
      "cell_type": "markdown",
      "source": [
        "###load()"
      ]
    },
    {
      "metadata": {
        "id": "4IsS77Ld6R5T",
        "colab_type": "code",
        "colab": {
          "base_uri": "https://localhost:8080/",
          "height": 85
        },
        "outputId": "bb7f2b4b-3ef4-4338-a2d8-4a99552c6efd"
      },
      "cell_type": "code",
      "source": [
        "loaded_data = np.load('saved_data.npy')\n",
        "loaded_data"
      ],
      "execution_count": 159,
      "outputs": [
        {
          "output_type": "execute_result",
          "data": {
            "text/plain": [
              "array([[0.1854912 , 0.82940777, 0.63597731],\n",
              "       [0.5942558 , 0.41420995, 0.71631968],\n",
              "       [0.51102291, 0.76612895, 0.44872904],\n",
              "       [0.78301047, 0.27753672, 0.89593481]])"
            ]
          },
          "metadata": {
            "tags": []
          },
          "execution_count": 159
        }
      ]
    },
    {
      "metadata": {
        "id": "OJfsUIJm604l",
        "colab_type": "text"
      },
      "cell_type": "markdown",
      "source": [
        "##Reading Files with Tabular Data\n",
        "\n",
        "When reading data from csv or txt files, you may want to use **getfromtxt('filename', delimiter=' , ', names=True)** to obtain a structured array, then you can access data by calling the names in the structured array"
      ]
    }
  ]
}