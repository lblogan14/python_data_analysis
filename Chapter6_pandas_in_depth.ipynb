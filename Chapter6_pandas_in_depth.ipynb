{
  "nbformat": 4,
  "nbformat_minor": 0,
  "metadata": {
    "colab": {
      "name": "Chapter6_pandas_in_depth.ipynb",
      "version": "0.3.2",
      "provenance": [],
      "collapsed_sections": [],
      "include_colab_link": true
    },
    "kernelspec": {
      "name": "python3",
      "display_name": "Python 3"
    }
  },
  "cells": [
    {
      "cell_type": "markdown",
      "metadata": {
        "id": "view-in-github",
        "colab_type": "text"
      },
      "source": [
        "<a href=\"https://colab.research.google.com/github/lblogan14/python_data_analysis/blob/master/Chapter6_pandas_in_depth.ipynb\" target=\"_parent\"><img src=\"https://colab.research.google.com/assets/colab-badge.svg\" alt=\"Open In Colab\"/></a>"
      ]
    },
    {
      "metadata": {
        "id": "eoCkUXITUIMD",
        "colab_type": "text"
      },
      "cell_type": "markdown",
      "source": [
        "\n",
        "\n",
        "*   Data Preparation\n",
        "*   Data transformation\n",
        "*   Data Aggregation\n",
        "\n"
      ]
    },
    {
      "metadata": {
        "id": "VaoPpnkRVBvC",
        "colab_type": "code",
        "colab": {}
      },
      "cell_type": "code",
      "source": [
        "import numpy as np\n",
        "import pandas as pd"
      ],
      "execution_count": 0,
      "outputs": []
    },
    {
      "metadata": {
        "id": "MSHwnKd7URoP",
        "colab_type": "text"
      },
      "cell_type": "markdown",
      "source": [
        "#Data Preparation"
      ]
    },
    {
      "metadata": {
        "id": "IkKJeyVhUyh4",
        "colab_type": "text"
      },
      "cell_type": "markdown",
      "source": [
        "##Merging\n",
        "consists of a combination of data through the connection of rows using one or more keys\n",
        "\n",
        "Use **merge()** function to combine tables"
      ]
    },
    {
      "metadata": {
        "id": "fChSq48qVU3I",
        "colab_type": "code",
        "colab": {
          "base_uri": "https://localhost:8080/",
          "height": 204
        },
        "outputId": "f372224a-8d9c-4449-e96e-85439487b76f"
      },
      "cell_type": "code",
      "source": [
        "frame1 = pd.DataFrame( {'id':['ball','pencil','pen','mug','ashtray'],\n",
        "                        'price': [12.33,11.44,33.21,13.23,33.62]})\n",
        "frame1"
      ],
      "execution_count": 2,
      "outputs": [
        {
          "output_type": "execute_result",
          "data": {
            "text/html": [
              "<div>\n",
              "<style scoped>\n",
              "    .dataframe tbody tr th:only-of-type {\n",
              "        vertical-align: middle;\n",
              "    }\n",
              "\n",
              "    .dataframe tbody tr th {\n",
              "        vertical-align: top;\n",
              "    }\n",
              "\n",
              "    .dataframe thead th {\n",
              "        text-align: right;\n",
              "    }\n",
              "</style>\n",
              "<table border=\"1\" class=\"dataframe\">\n",
              "  <thead>\n",
              "    <tr style=\"text-align: right;\">\n",
              "      <th></th>\n",
              "      <th>id</th>\n",
              "      <th>price</th>\n",
              "    </tr>\n",
              "  </thead>\n",
              "  <tbody>\n",
              "    <tr>\n",
              "      <th>0</th>\n",
              "      <td>ball</td>\n",
              "      <td>12.33</td>\n",
              "    </tr>\n",
              "    <tr>\n",
              "      <th>1</th>\n",
              "      <td>pencil</td>\n",
              "      <td>11.44</td>\n",
              "    </tr>\n",
              "    <tr>\n",
              "      <th>2</th>\n",
              "      <td>pen</td>\n",
              "      <td>33.21</td>\n",
              "    </tr>\n",
              "    <tr>\n",
              "      <th>3</th>\n",
              "      <td>mug</td>\n",
              "      <td>13.23</td>\n",
              "    </tr>\n",
              "    <tr>\n",
              "      <th>4</th>\n",
              "      <td>ashtray</td>\n",
              "      <td>33.62</td>\n",
              "    </tr>\n",
              "  </tbody>\n",
              "</table>\n",
              "</div>"
            ],
            "text/plain": [
              "        id  price\n",
              "0     ball  12.33\n",
              "1   pencil  11.44\n",
              "2      pen  33.21\n",
              "3      mug  13.23\n",
              "4  ashtray  33.62"
            ]
          },
          "metadata": {
            "tags": []
          },
          "execution_count": 2
        }
      ]
    },
    {
      "metadata": {
        "id": "QDyGTHkhVbNj",
        "colab_type": "code",
        "colab": {
          "base_uri": "https://localhost:8080/",
          "height": 173
        },
        "outputId": "b838375c-2a7c-4d48-c263-a6ad66cacd72"
      },
      "cell_type": "code",
      "source": [
        "frame2 = pd.DataFrame( {'id':['pencil','pencil','ball','pen'],\n",
        "                        'color': ['white','red','red','black']})\n",
        "frame2"
      ],
      "execution_count": 3,
      "outputs": [
        {
          "output_type": "execute_result",
          "data": {
            "text/html": [
              "<div>\n",
              "<style scoped>\n",
              "    .dataframe tbody tr th:only-of-type {\n",
              "        vertical-align: middle;\n",
              "    }\n",
              "\n",
              "    .dataframe tbody tr th {\n",
              "        vertical-align: top;\n",
              "    }\n",
              "\n",
              "    .dataframe thead th {\n",
              "        text-align: right;\n",
              "    }\n",
              "</style>\n",
              "<table border=\"1\" class=\"dataframe\">\n",
              "  <thead>\n",
              "    <tr style=\"text-align: right;\">\n",
              "      <th></th>\n",
              "      <th>color</th>\n",
              "      <th>id</th>\n",
              "    </tr>\n",
              "  </thead>\n",
              "  <tbody>\n",
              "    <tr>\n",
              "      <th>0</th>\n",
              "      <td>white</td>\n",
              "      <td>pencil</td>\n",
              "    </tr>\n",
              "    <tr>\n",
              "      <th>1</th>\n",
              "      <td>red</td>\n",
              "      <td>pencil</td>\n",
              "    </tr>\n",
              "    <tr>\n",
              "      <th>2</th>\n",
              "      <td>red</td>\n",
              "      <td>ball</td>\n",
              "    </tr>\n",
              "    <tr>\n",
              "      <th>3</th>\n",
              "      <td>black</td>\n",
              "      <td>pen</td>\n",
              "    </tr>\n",
              "  </tbody>\n",
              "</table>\n",
              "</div>"
            ],
            "text/plain": [
              "   color      id\n",
              "0  white  pencil\n",
              "1    red  pencil\n",
              "2    red    ball\n",
              "3  black     pen"
            ]
          },
          "metadata": {
            "tags": []
          },
          "execution_count": 3
        }
      ]
    },
    {
      "metadata": {
        "id": "47muEGjDVhyJ",
        "colab_type": "code",
        "colab": {
          "base_uri": "https://localhost:8080/",
          "height": 173
        },
        "outputId": "064765ad-f8b6-476a-b6d7-6a317083066d"
      },
      "cell_type": "code",
      "source": [
        "pd.merge(frame1, frame2)"
      ],
      "execution_count": 4,
      "outputs": [
        {
          "output_type": "execute_result",
          "data": {
            "text/html": [
              "<div>\n",
              "<style scoped>\n",
              "    .dataframe tbody tr th:only-of-type {\n",
              "        vertical-align: middle;\n",
              "    }\n",
              "\n",
              "    .dataframe tbody tr th {\n",
              "        vertical-align: top;\n",
              "    }\n",
              "\n",
              "    .dataframe thead th {\n",
              "        text-align: right;\n",
              "    }\n",
              "</style>\n",
              "<table border=\"1\" class=\"dataframe\">\n",
              "  <thead>\n",
              "    <tr style=\"text-align: right;\">\n",
              "      <th></th>\n",
              "      <th>id</th>\n",
              "      <th>price</th>\n",
              "      <th>color</th>\n",
              "    </tr>\n",
              "  </thead>\n",
              "  <tbody>\n",
              "    <tr>\n",
              "      <th>0</th>\n",
              "      <td>ball</td>\n",
              "      <td>12.33</td>\n",
              "      <td>red</td>\n",
              "    </tr>\n",
              "    <tr>\n",
              "      <th>1</th>\n",
              "      <td>pencil</td>\n",
              "      <td>11.44</td>\n",
              "      <td>white</td>\n",
              "    </tr>\n",
              "    <tr>\n",
              "      <th>2</th>\n",
              "      <td>pencil</td>\n",
              "      <td>11.44</td>\n",
              "      <td>red</td>\n",
              "    </tr>\n",
              "    <tr>\n",
              "      <th>3</th>\n",
              "      <td>pen</td>\n",
              "      <td>33.21</td>\n",
              "      <td>black</td>\n",
              "    </tr>\n",
              "  </tbody>\n",
              "</table>\n",
              "</div>"
            ],
            "text/plain": [
              "       id  price  color\n",
              "0    ball  12.33    red\n",
              "1  pencil  11.44  white\n",
              "2  pencil  11.44    red\n",
              "3     pen  33.21  black"
            ]
          },
          "metadata": {
            "tags": []
          },
          "execution_count": 4
        }
      ]
    },
    {
      "metadata": {
        "id": "yX_JFcSBWSS5",
        "colab_type": "text"
      },
      "cell_type": "markdown",
      "source": [
        "The returned dataframe consists of all rows that have an ID in common. *mug* and *ashtray* are dropped.\n",
        "\n",
        "In most cases, you need to decide which is the column on which to base the merging. To achieve this, you need to add the **on** option with the column names as the key for the merging. See the example below"
      ]
    },
    {
      "metadata": {
        "id": "mS5py-6dv9P6",
        "colab_type": "code",
        "colab": {
          "base_uri": "https://localhost:8080/",
          "height": 204
        },
        "outputId": "a5231ba2-ae65-4f55-ea1a-1b55caa3262c"
      },
      "cell_type": "code",
      "source": [
        "frame1 = pd.DataFrame( {'id':['ball','pencil','pen','mug','ashtray'],\n",
        "                        'color': ['white','red','red','black','green'],\n",
        "                        'brand': ['OMG','ABC','ABC','POD','POD']})\n",
        "frame1"
      ],
      "execution_count": 5,
      "outputs": [
        {
          "output_type": "execute_result",
          "data": {
            "text/html": [
              "<div>\n",
              "<style scoped>\n",
              "    .dataframe tbody tr th:only-of-type {\n",
              "        vertical-align: middle;\n",
              "    }\n",
              "\n",
              "    .dataframe tbody tr th {\n",
              "        vertical-align: top;\n",
              "    }\n",
              "\n",
              "    .dataframe thead th {\n",
              "        text-align: right;\n",
              "    }\n",
              "</style>\n",
              "<table border=\"1\" class=\"dataframe\">\n",
              "  <thead>\n",
              "    <tr style=\"text-align: right;\">\n",
              "      <th></th>\n",
              "      <th>brand</th>\n",
              "      <th>color</th>\n",
              "      <th>id</th>\n",
              "    </tr>\n",
              "  </thead>\n",
              "  <tbody>\n",
              "    <tr>\n",
              "      <th>0</th>\n",
              "      <td>OMG</td>\n",
              "      <td>white</td>\n",
              "      <td>ball</td>\n",
              "    </tr>\n",
              "    <tr>\n",
              "      <th>1</th>\n",
              "      <td>ABC</td>\n",
              "      <td>red</td>\n",
              "      <td>pencil</td>\n",
              "    </tr>\n",
              "    <tr>\n",
              "      <th>2</th>\n",
              "      <td>ABC</td>\n",
              "      <td>red</td>\n",
              "      <td>pen</td>\n",
              "    </tr>\n",
              "    <tr>\n",
              "      <th>3</th>\n",
              "      <td>POD</td>\n",
              "      <td>black</td>\n",
              "      <td>mug</td>\n",
              "    </tr>\n",
              "    <tr>\n",
              "      <th>4</th>\n",
              "      <td>POD</td>\n",
              "      <td>green</td>\n",
              "      <td>ashtray</td>\n",
              "    </tr>\n",
              "  </tbody>\n",
              "</table>\n",
              "</div>"
            ],
            "text/plain": [
              "  brand  color       id\n",
              "0   OMG  white     ball\n",
              "1   ABC    red   pencil\n",
              "2   ABC    red      pen\n",
              "3   POD  black      mug\n",
              "4   POD  green  ashtray"
            ]
          },
          "metadata": {
            "tags": []
          },
          "execution_count": 5
        }
      ]
    },
    {
      "metadata": {
        "id": "4FfBwtJ4wEQy",
        "colab_type": "code",
        "colab": {
          "base_uri": "https://localhost:8080/",
          "height": 173
        },
        "outputId": "36fdf0d0-2db5-4232-9f6c-6c3fa1810c36"
      },
      "cell_type": "code",
      "source": [
        "frame2 = pd.DataFrame( {'id':['pencil','pencil','ball','pen'],\n",
        "                        'brand': ['OMG','POD','ABC','POD']})\n",
        "frame2"
      ],
      "execution_count": 6,
      "outputs": [
        {
          "output_type": "execute_result",
          "data": {
            "text/html": [
              "<div>\n",
              "<style scoped>\n",
              "    .dataframe tbody tr th:only-of-type {\n",
              "        vertical-align: middle;\n",
              "    }\n",
              "\n",
              "    .dataframe tbody tr th {\n",
              "        vertical-align: top;\n",
              "    }\n",
              "\n",
              "    .dataframe thead th {\n",
              "        text-align: right;\n",
              "    }\n",
              "</style>\n",
              "<table border=\"1\" class=\"dataframe\">\n",
              "  <thead>\n",
              "    <tr style=\"text-align: right;\">\n",
              "      <th></th>\n",
              "      <th>brand</th>\n",
              "      <th>id</th>\n",
              "    </tr>\n",
              "  </thead>\n",
              "  <tbody>\n",
              "    <tr>\n",
              "      <th>0</th>\n",
              "      <td>OMG</td>\n",
              "      <td>pencil</td>\n",
              "    </tr>\n",
              "    <tr>\n",
              "      <th>1</th>\n",
              "      <td>POD</td>\n",
              "      <td>pencil</td>\n",
              "    </tr>\n",
              "    <tr>\n",
              "      <th>2</th>\n",
              "      <td>ABC</td>\n",
              "      <td>ball</td>\n",
              "    </tr>\n",
              "    <tr>\n",
              "      <th>3</th>\n",
              "      <td>POD</td>\n",
              "      <td>pen</td>\n",
              "    </tr>\n",
              "  </tbody>\n",
              "</table>\n",
              "</div>"
            ],
            "text/plain": [
              "  brand      id\n",
              "0   OMG  pencil\n",
              "1   POD  pencil\n",
              "2   ABC    ball\n",
              "3   POD     pen"
            ]
          },
          "metadata": {
            "tags": []
          },
          "execution_count": 6
        }
      ]
    },
    {
      "metadata": {
        "id": "0zUHm2l9wKC6",
        "colab_type": "text"
      },
      "cell_type": "markdown",
      "source": [
        "In this case, frame1 and frame2 have two columns with the same, and if you use **merge**, the error occurs...."
      ]
    },
    {
      "metadata": {
        "id": "zad6WSi-wVz5",
        "colab_type": "code",
        "colab": {
          "base_uri": "https://localhost:8080/",
          "height": 49
        },
        "outputId": "18525a86-0849-451c-9c06-46e07d6d8617"
      },
      "cell_type": "code",
      "source": [
        "pd.merge(frame1, frame2)"
      ],
      "execution_count": 7,
      "outputs": [
        {
          "output_type": "execute_result",
          "data": {
            "text/html": [
              "<div>\n",
              "<style scoped>\n",
              "    .dataframe tbody tr th:only-of-type {\n",
              "        vertical-align: middle;\n",
              "    }\n",
              "\n",
              "    .dataframe tbody tr th {\n",
              "        vertical-align: top;\n",
              "    }\n",
              "\n",
              "    .dataframe thead th {\n",
              "        text-align: right;\n",
              "    }\n",
              "</style>\n",
              "<table border=\"1\" class=\"dataframe\">\n",
              "  <thead>\n",
              "    <tr style=\"text-align: right;\">\n",
              "      <th></th>\n",
              "      <th>brand</th>\n",
              "      <th>color</th>\n",
              "      <th>id</th>\n",
              "    </tr>\n",
              "  </thead>\n",
              "  <tbody>\n",
              "  </tbody>\n",
              "</table>\n",
              "</div>"
            ],
            "text/plain": [
              "Empty DataFrame\n",
              "Columns: [brand, color, id]\n",
              "Index: []"
            ]
          },
          "metadata": {
            "tags": []
          },
          "execution_count": 7
        }
      ]
    },
    {
      "metadata": {
        "id": "KJ-v6nQpwals",
        "colab_type": "text"
      },
      "cell_type": "markdown",
      "source": [
        "So you need to explicitly define the criteria for merging"
      ]
    },
    {
      "metadata": {
        "id": "NOEMaPUlwgoN",
        "colab_type": "code",
        "colab": {
          "base_uri": "https://localhost:8080/",
          "height": 173
        },
        "outputId": "854c1c00-3ad0-483a-aa56-0e01d161d736"
      },
      "cell_type": "code",
      "source": [
        "pd.merge(frame1, frame2, on='id')"
      ],
      "execution_count": 8,
      "outputs": [
        {
          "output_type": "execute_result",
          "data": {
            "text/html": [
              "<div>\n",
              "<style scoped>\n",
              "    .dataframe tbody tr th:only-of-type {\n",
              "        vertical-align: middle;\n",
              "    }\n",
              "\n",
              "    .dataframe tbody tr th {\n",
              "        vertical-align: top;\n",
              "    }\n",
              "\n",
              "    .dataframe thead th {\n",
              "        text-align: right;\n",
              "    }\n",
              "</style>\n",
              "<table border=\"1\" class=\"dataframe\">\n",
              "  <thead>\n",
              "    <tr style=\"text-align: right;\">\n",
              "      <th></th>\n",
              "      <th>brand_x</th>\n",
              "      <th>color</th>\n",
              "      <th>id</th>\n",
              "      <th>brand_y</th>\n",
              "    </tr>\n",
              "  </thead>\n",
              "  <tbody>\n",
              "    <tr>\n",
              "      <th>0</th>\n",
              "      <td>OMG</td>\n",
              "      <td>white</td>\n",
              "      <td>ball</td>\n",
              "      <td>ABC</td>\n",
              "    </tr>\n",
              "    <tr>\n",
              "      <th>1</th>\n",
              "      <td>ABC</td>\n",
              "      <td>red</td>\n",
              "      <td>pencil</td>\n",
              "      <td>OMG</td>\n",
              "    </tr>\n",
              "    <tr>\n",
              "      <th>2</th>\n",
              "      <td>ABC</td>\n",
              "      <td>red</td>\n",
              "      <td>pencil</td>\n",
              "      <td>POD</td>\n",
              "    </tr>\n",
              "    <tr>\n",
              "      <th>3</th>\n",
              "      <td>ABC</td>\n",
              "      <td>red</td>\n",
              "      <td>pen</td>\n",
              "      <td>POD</td>\n",
              "    </tr>\n",
              "  </tbody>\n",
              "</table>\n",
              "</div>"
            ],
            "text/plain": [
              "  brand_x  color      id brand_y\n",
              "0     OMG  white    ball     ABC\n",
              "1     ABC    red  pencil     OMG\n",
              "2     ABC    red  pencil     POD\n",
              "3     ABC    red     pen     POD"
            ]
          },
          "metadata": {
            "tags": []
          },
          "execution_count": 8
        }
      ]
    },
    {
      "metadata": {
        "id": "IDgyZj0SwkvN",
        "colab_type": "code",
        "colab": {
          "base_uri": "https://localhost:8080/",
          "height": 266
        },
        "outputId": "35c283ff-ef67-4a4e-bd8d-8b849f2ed4e6"
      },
      "cell_type": "code",
      "source": [
        "pd.merge(frame1, frame2, on='brand')"
      ],
      "execution_count": 9,
      "outputs": [
        {
          "output_type": "execute_result",
          "data": {
            "text/html": [
              "<div>\n",
              "<style scoped>\n",
              "    .dataframe tbody tr th:only-of-type {\n",
              "        vertical-align: middle;\n",
              "    }\n",
              "\n",
              "    .dataframe tbody tr th {\n",
              "        vertical-align: top;\n",
              "    }\n",
              "\n",
              "    .dataframe thead th {\n",
              "        text-align: right;\n",
              "    }\n",
              "</style>\n",
              "<table border=\"1\" class=\"dataframe\">\n",
              "  <thead>\n",
              "    <tr style=\"text-align: right;\">\n",
              "      <th></th>\n",
              "      <th>brand</th>\n",
              "      <th>color</th>\n",
              "      <th>id_x</th>\n",
              "      <th>id_y</th>\n",
              "    </tr>\n",
              "  </thead>\n",
              "  <tbody>\n",
              "    <tr>\n",
              "      <th>0</th>\n",
              "      <td>OMG</td>\n",
              "      <td>white</td>\n",
              "      <td>ball</td>\n",
              "      <td>pencil</td>\n",
              "    </tr>\n",
              "    <tr>\n",
              "      <th>1</th>\n",
              "      <td>ABC</td>\n",
              "      <td>red</td>\n",
              "      <td>pencil</td>\n",
              "      <td>ball</td>\n",
              "    </tr>\n",
              "    <tr>\n",
              "      <th>2</th>\n",
              "      <td>ABC</td>\n",
              "      <td>red</td>\n",
              "      <td>pen</td>\n",
              "      <td>ball</td>\n",
              "    </tr>\n",
              "    <tr>\n",
              "      <th>3</th>\n",
              "      <td>POD</td>\n",
              "      <td>black</td>\n",
              "      <td>mug</td>\n",
              "      <td>pencil</td>\n",
              "    </tr>\n",
              "    <tr>\n",
              "      <th>4</th>\n",
              "      <td>POD</td>\n",
              "      <td>black</td>\n",
              "      <td>mug</td>\n",
              "      <td>pen</td>\n",
              "    </tr>\n",
              "    <tr>\n",
              "      <th>5</th>\n",
              "      <td>POD</td>\n",
              "      <td>green</td>\n",
              "      <td>ashtray</td>\n",
              "      <td>pencil</td>\n",
              "    </tr>\n",
              "    <tr>\n",
              "      <th>6</th>\n",
              "      <td>POD</td>\n",
              "      <td>green</td>\n",
              "      <td>ashtray</td>\n",
              "      <td>pen</td>\n",
              "    </tr>\n",
              "  </tbody>\n",
              "</table>\n",
              "</div>"
            ],
            "text/plain": [
              "  brand  color     id_x    id_y\n",
              "0   OMG  white     ball  pencil\n",
              "1   ABC    red   pencil    ball\n",
              "2   ABC    red      pen    ball\n",
              "3   POD  black      mug  pencil\n",
              "4   POD  black      mug     pen\n",
              "5   POD  green  ashtray  pencil\n",
              "6   POD  green  ashtray     pen"
            ]
          },
          "metadata": {
            "tags": []
          },
          "execution_count": 9
        }
      ]
    },
    {
      "metadata": {
        "id": "DQxRJZGIw1AY",
        "colab_type": "text"
      },
      "cell_type": "markdown",
      "source": [
        "To merge two dataframes which do not have the same name, you need to use the **left_on** and **right_on** options to specify the key columns for the first and the for the second dataframe, respectively..."
      ]
    },
    {
      "metadata": {
        "id": "z9Luh4PHxMUx",
        "colab_type": "code",
        "colab": {
          "base_uri": "https://localhost:8080/",
          "height": 173
        },
        "outputId": "bf456e8f-27fe-47aa-de98-84d46a292bdb"
      },
      "cell_type": "code",
      "source": [
        "frame2.columns = ['brand','sid']\n",
        "frame2"
      ],
      "execution_count": 13,
      "outputs": [
        {
          "output_type": "execute_result",
          "data": {
            "text/html": [
              "<div>\n",
              "<style scoped>\n",
              "    .dataframe tbody tr th:only-of-type {\n",
              "        vertical-align: middle;\n",
              "    }\n",
              "\n",
              "    .dataframe tbody tr th {\n",
              "        vertical-align: top;\n",
              "    }\n",
              "\n",
              "    .dataframe thead th {\n",
              "        text-align: right;\n",
              "    }\n",
              "</style>\n",
              "<table border=\"1\" class=\"dataframe\">\n",
              "  <thead>\n",
              "    <tr style=\"text-align: right;\">\n",
              "      <th></th>\n",
              "      <th>brand</th>\n",
              "      <th>sid</th>\n",
              "    </tr>\n",
              "  </thead>\n",
              "  <tbody>\n",
              "    <tr>\n",
              "      <th>0</th>\n",
              "      <td>OMG</td>\n",
              "      <td>pencil</td>\n",
              "    </tr>\n",
              "    <tr>\n",
              "      <th>1</th>\n",
              "      <td>POD</td>\n",
              "      <td>pencil</td>\n",
              "    </tr>\n",
              "    <tr>\n",
              "      <th>2</th>\n",
              "      <td>ABC</td>\n",
              "      <td>ball</td>\n",
              "    </tr>\n",
              "    <tr>\n",
              "      <th>3</th>\n",
              "      <td>POD</td>\n",
              "      <td>pen</td>\n",
              "    </tr>\n",
              "  </tbody>\n",
              "</table>\n",
              "</div>"
            ],
            "text/plain": [
              "  brand     sid\n",
              "0   OMG  pencil\n",
              "1   POD  pencil\n",
              "2   ABC    ball\n",
              "3   POD     pen"
            ]
          },
          "metadata": {
            "tags": []
          },
          "execution_count": 13
        }
      ]
    },
    {
      "metadata": {
        "id": "ByzyC2ppxbgM",
        "colab_type": "code",
        "colab": {
          "base_uri": "https://localhost:8080/",
          "height": 173
        },
        "outputId": "c3b7a27e-ce9b-40f8-d3e3-05f9950898a2"
      },
      "cell_type": "code",
      "source": [
        "pd.merge(frame1, frame2, left_on= 'id', right_on='sid')"
      ],
      "execution_count": 14,
      "outputs": [
        {
          "output_type": "execute_result",
          "data": {
            "text/html": [
              "<div>\n",
              "<style scoped>\n",
              "    .dataframe tbody tr th:only-of-type {\n",
              "        vertical-align: middle;\n",
              "    }\n",
              "\n",
              "    .dataframe tbody tr th {\n",
              "        vertical-align: top;\n",
              "    }\n",
              "\n",
              "    .dataframe thead th {\n",
              "        text-align: right;\n",
              "    }\n",
              "</style>\n",
              "<table border=\"1\" class=\"dataframe\">\n",
              "  <thead>\n",
              "    <tr style=\"text-align: right;\">\n",
              "      <th></th>\n",
              "      <th>brand_x</th>\n",
              "      <th>color</th>\n",
              "      <th>id</th>\n",
              "      <th>brand_y</th>\n",
              "      <th>sid</th>\n",
              "    </tr>\n",
              "  </thead>\n",
              "  <tbody>\n",
              "    <tr>\n",
              "      <th>0</th>\n",
              "      <td>OMG</td>\n",
              "      <td>white</td>\n",
              "      <td>ball</td>\n",
              "      <td>ABC</td>\n",
              "      <td>ball</td>\n",
              "    </tr>\n",
              "    <tr>\n",
              "      <th>1</th>\n",
              "      <td>ABC</td>\n",
              "      <td>red</td>\n",
              "      <td>pencil</td>\n",
              "      <td>OMG</td>\n",
              "      <td>pencil</td>\n",
              "    </tr>\n",
              "    <tr>\n",
              "      <th>2</th>\n",
              "      <td>ABC</td>\n",
              "      <td>red</td>\n",
              "      <td>pencil</td>\n",
              "      <td>POD</td>\n",
              "      <td>pencil</td>\n",
              "    </tr>\n",
              "    <tr>\n",
              "      <th>3</th>\n",
              "      <td>ABC</td>\n",
              "      <td>red</td>\n",
              "      <td>pen</td>\n",
              "      <td>POD</td>\n",
              "      <td>pen</td>\n",
              "    </tr>\n",
              "  </tbody>\n",
              "</table>\n",
              "</div>"
            ],
            "text/plain": [
              "  brand_x  color      id brand_y     sid\n",
              "0     OMG  white    ball     ABC    ball\n",
              "1     ABC    red  pencil     OMG  pencil\n",
              "2     ABC    red  pencil     POD  pencil\n",
              "3     ABC    red     pen     POD     pen"
            ]
          },
          "metadata": {
            "tags": []
          },
          "execution_count": 14
        }
      ]
    },
    {
      "metadata": {
        "id": "lRt6r6gQxteE",
        "colab_type": "text"
      },
      "cell_type": "markdown",
      "source": [
        "By default, the **merge()** function merforms an *inner join*. Other possible options are the *left join*, the *right join*, and the *outer join*\n",
        "\n",
        "To select the type of join you have to use the **how** option"
      ]
    },
    {
      "metadata": {
        "id": "lAVTZvTQyC06",
        "colab_type": "code",
        "colab": {}
      },
      "cell_type": "code",
      "source": [
        "frame2.columns = ['brand','id']"
      ],
      "execution_count": 0,
      "outputs": []
    },
    {
      "metadata": {
        "id": "4VcJA_4QyKqH",
        "colab_type": "text"
      },
      "cell_type": "markdown",
      "source": [
        "The default *inner join*,"
      ]
    },
    {
      "metadata": {
        "id": "9x8qlCM1yNf2",
        "colab_type": "code",
        "colab": {
          "base_uri": "https://localhost:8080/",
          "height": 173
        },
        "outputId": "abbff71b-dea7-4cf7-cd46-6b82c9122ac8"
      },
      "cell_type": "code",
      "source": [
        "pd.merge(frame1, frame2, on='id')"
      ],
      "execution_count": 16,
      "outputs": [
        {
          "output_type": "execute_result",
          "data": {
            "text/html": [
              "<div>\n",
              "<style scoped>\n",
              "    .dataframe tbody tr th:only-of-type {\n",
              "        vertical-align: middle;\n",
              "    }\n",
              "\n",
              "    .dataframe tbody tr th {\n",
              "        vertical-align: top;\n",
              "    }\n",
              "\n",
              "    .dataframe thead th {\n",
              "        text-align: right;\n",
              "    }\n",
              "</style>\n",
              "<table border=\"1\" class=\"dataframe\">\n",
              "  <thead>\n",
              "    <tr style=\"text-align: right;\">\n",
              "      <th></th>\n",
              "      <th>brand_x</th>\n",
              "      <th>color</th>\n",
              "      <th>id</th>\n",
              "      <th>brand_y</th>\n",
              "    </tr>\n",
              "  </thead>\n",
              "  <tbody>\n",
              "    <tr>\n",
              "      <th>0</th>\n",
              "      <td>OMG</td>\n",
              "      <td>white</td>\n",
              "      <td>ball</td>\n",
              "      <td>ABC</td>\n",
              "    </tr>\n",
              "    <tr>\n",
              "      <th>1</th>\n",
              "      <td>ABC</td>\n",
              "      <td>red</td>\n",
              "      <td>pencil</td>\n",
              "      <td>OMG</td>\n",
              "    </tr>\n",
              "    <tr>\n",
              "      <th>2</th>\n",
              "      <td>ABC</td>\n",
              "      <td>red</td>\n",
              "      <td>pencil</td>\n",
              "      <td>POD</td>\n",
              "    </tr>\n",
              "    <tr>\n",
              "      <th>3</th>\n",
              "      <td>ABC</td>\n",
              "      <td>red</td>\n",
              "      <td>pen</td>\n",
              "      <td>POD</td>\n",
              "    </tr>\n",
              "  </tbody>\n",
              "</table>\n",
              "</div>"
            ],
            "text/plain": [
              "  brand_x  color      id brand_y\n",
              "0     OMG  white    ball     ABC\n",
              "1     ABC    red  pencil     OMG\n",
              "2     ABC    red  pencil     POD\n",
              "3     ABC    red     pen     POD"
            ]
          },
          "metadata": {
            "tags": []
          },
          "execution_count": 16
        }
      ]
    },
    {
      "metadata": {
        "id": "5kYtaJQHySdA",
        "colab_type": "text"
      },
      "cell_type": "markdown",
      "source": [
        "The *outer join*,"
      ]
    },
    {
      "metadata": {
        "id": "4F4Wm6gCyVbf",
        "colab_type": "code",
        "colab": {
          "base_uri": "https://localhost:8080/",
          "height": 235
        },
        "outputId": "5bd22951-183e-4e86-c0e3-bb0585954875"
      },
      "cell_type": "code",
      "source": [
        "pd.merge(frame1, frame2, on='id', how='outer')"
      ],
      "execution_count": 17,
      "outputs": [
        {
          "output_type": "execute_result",
          "data": {
            "text/html": [
              "<div>\n",
              "<style scoped>\n",
              "    .dataframe tbody tr th:only-of-type {\n",
              "        vertical-align: middle;\n",
              "    }\n",
              "\n",
              "    .dataframe tbody tr th {\n",
              "        vertical-align: top;\n",
              "    }\n",
              "\n",
              "    .dataframe thead th {\n",
              "        text-align: right;\n",
              "    }\n",
              "</style>\n",
              "<table border=\"1\" class=\"dataframe\">\n",
              "  <thead>\n",
              "    <tr style=\"text-align: right;\">\n",
              "      <th></th>\n",
              "      <th>brand_x</th>\n",
              "      <th>color</th>\n",
              "      <th>id</th>\n",
              "      <th>brand_y</th>\n",
              "    </tr>\n",
              "  </thead>\n",
              "  <tbody>\n",
              "    <tr>\n",
              "      <th>0</th>\n",
              "      <td>OMG</td>\n",
              "      <td>white</td>\n",
              "      <td>ball</td>\n",
              "      <td>ABC</td>\n",
              "    </tr>\n",
              "    <tr>\n",
              "      <th>1</th>\n",
              "      <td>ABC</td>\n",
              "      <td>red</td>\n",
              "      <td>pencil</td>\n",
              "      <td>OMG</td>\n",
              "    </tr>\n",
              "    <tr>\n",
              "      <th>2</th>\n",
              "      <td>ABC</td>\n",
              "      <td>red</td>\n",
              "      <td>pencil</td>\n",
              "      <td>POD</td>\n",
              "    </tr>\n",
              "    <tr>\n",
              "      <th>3</th>\n",
              "      <td>ABC</td>\n",
              "      <td>red</td>\n",
              "      <td>pen</td>\n",
              "      <td>POD</td>\n",
              "    </tr>\n",
              "    <tr>\n",
              "      <th>4</th>\n",
              "      <td>POD</td>\n",
              "      <td>black</td>\n",
              "      <td>mug</td>\n",
              "      <td>NaN</td>\n",
              "    </tr>\n",
              "    <tr>\n",
              "      <th>5</th>\n",
              "      <td>POD</td>\n",
              "      <td>green</td>\n",
              "      <td>ashtray</td>\n",
              "      <td>NaN</td>\n",
              "    </tr>\n",
              "  </tbody>\n",
              "</table>\n",
              "</div>"
            ],
            "text/plain": [
              "  brand_x  color       id brand_y\n",
              "0     OMG  white     ball     ABC\n",
              "1     ABC    red   pencil     OMG\n",
              "2     ABC    red   pencil     POD\n",
              "3     ABC    red      pen     POD\n",
              "4     POD  black      mug     NaN\n",
              "5     POD  green  ashtray     NaN"
            ]
          },
          "metadata": {
            "tags": []
          },
          "execution_count": 17
        }
      ]
    },
    {
      "metadata": {
        "id": "qFrufAR6ybgK",
        "colab_type": "text"
      },
      "cell_type": "markdown",
      "source": [
        "The *left join*,"
      ]
    },
    {
      "metadata": {
        "id": "mSKmtjAeyd9F",
        "colab_type": "code",
        "colab": {
          "base_uri": "https://localhost:8080/",
          "height": 235
        },
        "outputId": "a9cd4f1c-dc1c-46a3-800e-b1c695720938"
      },
      "cell_type": "code",
      "source": [
        "pd.merge(frame1, frame2, on='id', how='left')"
      ],
      "execution_count": 18,
      "outputs": [
        {
          "output_type": "execute_result",
          "data": {
            "text/html": [
              "<div>\n",
              "<style scoped>\n",
              "    .dataframe tbody tr th:only-of-type {\n",
              "        vertical-align: middle;\n",
              "    }\n",
              "\n",
              "    .dataframe tbody tr th {\n",
              "        vertical-align: top;\n",
              "    }\n",
              "\n",
              "    .dataframe thead th {\n",
              "        text-align: right;\n",
              "    }\n",
              "</style>\n",
              "<table border=\"1\" class=\"dataframe\">\n",
              "  <thead>\n",
              "    <tr style=\"text-align: right;\">\n",
              "      <th></th>\n",
              "      <th>brand_x</th>\n",
              "      <th>color</th>\n",
              "      <th>id</th>\n",
              "      <th>brand_y</th>\n",
              "    </tr>\n",
              "  </thead>\n",
              "  <tbody>\n",
              "    <tr>\n",
              "      <th>0</th>\n",
              "      <td>OMG</td>\n",
              "      <td>white</td>\n",
              "      <td>ball</td>\n",
              "      <td>ABC</td>\n",
              "    </tr>\n",
              "    <tr>\n",
              "      <th>1</th>\n",
              "      <td>ABC</td>\n",
              "      <td>red</td>\n",
              "      <td>pencil</td>\n",
              "      <td>OMG</td>\n",
              "    </tr>\n",
              "    <tr>\n",
              "      <th>2</th>\n",
              "      <td>ABC</td>\n",
              "      <td>red</td>\n",
              "      <td>pencil</td>\n",
              "      <td>POD</td>\n",
              "    </tr>\n",
              "    <tr>\n",
              "      <th>3</th>\n",
              "      <td>ABC</td>\n",
              "      <td>red</td>\n",
              "      <td>pen</td>\n",
              "      <td>POD</td>\n",
              "    </tr>\n",
              "    <tr>\n",
              "      <th>4</th>\n",
              "      <td>POD</td>\n",
              "      <td>black</td>\n",
              "      <td>mug</td>\n",
              "      <td>NaN</td>\n",
              "    </tr>\n",
              "    <tr>\n",
              "      <th>5</th>\n",
              "      <td>POD</td>\n",
              "      <td>green</td>\n",
              "      <td>ashtray</td>\n",
              "      <td>NaN</td>\n",
              "    </tr>\n",
              "  </tbody>\n",
              "</table>\n",
              "</div>"
            ],
            "text/plain": [
              "  brand_x  color       id brand_y\n",
              "0     OMG  white     ball     ABC\n",
              "1     ABC    red   pencil     OMG\n",
              "2     ABC    red   pencil     POD\n",
              "3     ABC    red      pen     POD\n",
              "4     POD  black      mug     NaN\n",
              "5     POD  green  ashtray     NaN"
            ]
          },
          "metadata": {
            "tags": []
          },
          "execution_count": 18
        }
      ]
    },
    {
      "metadata": {
        "id": "Srfqe2W1yhR4",
        "colab_type": "text"
      },
      "cell_type": "markdown",
      "source": [
        "The *right join*,"
      ]
    },
    {
      "metadata": {
        "id": "XUtzKb-DyjHE",
        "colab_type": "code",
        "colab": {
          "base_uri": "https://localhost:8080/",
          "height": 173
        },
        "outputId": "0fa153ed-c223-472c-92d5-64c4a3c6111c"
      },
      "cell_type": "code",
      "source": [
        "pd.merge(frame1, frame2, on='id', how='right')"
      ],
      "execution_count": 19,
      "outputs": [
        {
          "output_type": "execute_result",
          "data": {
            "text/html": [
              "<div>\n",
              "<style scoped>\n",
              "    .dataframe tbody tr th:only-of-type {\n",
              "        vertical-align: middle;\n",
              "    }\n",
              "\n",
              "    .dataframe tbody tr th {\n",
              "        vertical-align: top;\n",
              "    }\n",
              "\n",
              "    .dataframe thead th {\n",
              "        text-align: right;\n",
              "    }\n",
              "</style>\n",
              "<table border=\"1\" class=\"dataframe\">\n",
              "  <thead>\n",
              "    <tr style=\"text-align: right;\">\n",
              "      <th></th>\n",
              "      <th>brand_x</th>\n",
              "      <th>color</th>\n",
              "      <th>id</th>\n",
              "      <th>brand_y</th>\n",
              "    </tr>\n",
              "  </thead>\n",
              "  <tbody>\n",
              "    <tr>\n",
              "      <th>0</th>\n",
              "      <td>OMG</td>\n",
              "      <td>white</td>\n",
              "      <td>ball</td>\n",
              "      <td>ABC</td>\n",
              "    </tr>\n",
              "    <tr>\n",
              "      <th>1</th>\n",
              "      <td>ABC</td>\n",
              "      <td>red</td>\n",
              "      <td>pencil</td>\n",
              "      <td>OMG</td>\n",
              "    </tr>\n",
              "    <tr>\n",
              "      <th>2</th>\n",
              "      <td>ABC</td>\n",
              "      <td>red</td>\n",
              "      <td>pencil</td>\n",
              "      <td>POD</td>\n",
              "    </tr>\n",
              "    <tr>\n",
              "      <th>3</th>\n",
              "      <td>ABC</td>\n",
              "      <td>red</td>\n",
              "      <td>pen</td>\n",
              "      <td>POD</td>\n",
              "    </tr>\n",
              "  </tbody>\n",
              "</table>\n",
              "</div>"
            ],
            "text/plain": [
              "  brand_x  color      id brand_y\n",
              "0     OMG  white    ball     ABC\n",
              "1     ABC    red  pencil     OMG\n",
              "2     ABC    red  pencil     POD\n",
              "3     ABC    red     pen     POD"
            ]
          },
          "metadata": {
            "tags": []
          },
          "execution_count": 19
        }
      ]
    },
    {
      "metadata": {
        "id": "jT-1OfFMyoop",
        "colab_type": "text"
      },
      "cell_type": "markdown",
      "source": [
        "To merge multiple keys,"
      ]
    },
    {
      "metadata": {
        "id": "cCo3u40ayqQ9",
        "colab_type": "code",
        "colab": {
          "base_uri": "https://localhost:8080/",
          "height": 328
        },
        "outputId": "86b752ba-a045-4cb9-cae7-6a8ee7c7a21b"
      },
      "cell_type": "code",
      "source": [
        "pd.merge(frame1, frame2, on=['id', 'brand'], how='outer')"
      ],
      "execution_count": 20,
      "outputs": [
        {
          "output_type": "execute_result",
          "data": {
            "text/html": [
              "<div>\n",
              "<style scoped>\n",
              "    .dataframe tbody tr th:only-of-type {\n",
              "        vertical-align: middle;\n",
              "    }\n",
              "\n",
              "    .dataframe tbody tr th {\n",
              "        vertical-align: top;\n",
              "    }\n",
              "\n",
              "    .dataframe thead th {\n",
              "        text-align: right;\n",
              "    }\n",
              "</style>\n",
              "<table border=\"1\" class=\"dataframe\">\n",
              "  <thead>\n",
              "    <tr style=\"text-align: right;\">\n",
              "      <th></th>\n",
              "      <th>brand</th>\n",
              "      <th>color</th>\n",
              "      <th>id</th>\n",
              "    </tr>\n",
              "  </thead>\n",
              "  <tbody>\n",
              "    <tr>\n",
              "      <th>0</th>\n",
              "      <td>OMG</td>\n",
              "      <td>white</td>\n",
              "      <td>ball</td>\n",
              "    </tr>\n",
              "    <tr>\n",
              "      <th>1</th>\n",
              "      <td>ABC</td>\n",
              "      <td>red</td>\n",
              "      <td>pencil</td>\n",
              "    </tr>\n",
              "    <tr>\n",
              "      <th>2</th>\n",
              "      <td>ABC</td>\n",
              "      <td>red</td>\n",
              "      <td>pen</td>\n",
              "    </tr>\n",
              "    <tr>\n",
              "      <th>3</th>\n",
              "      <td>POD</td>\n",
              "      <td>black</td>\n",
              "      <td>mug</td>\n",
              "    </tr>\n",
              "    <tr>\n",
              "      <th>4</th>\n",
              "      <td>POD</td>\n",
              "      <td>green</td>\n",
              "      <td>ashtray</td>\n",
              "    </tr>\n",
              "    <tr>\n",
              "      <th>5</th>\n",
              "      <td>OMG</td>\n",
              "      <td>NaN</td>\n",
              "      <td>pencil</td>\n",
              "    </tr>\n",
              "    <tr>\n",
              "      <th>6</th>\n",
              "      <td>POD</td>\n",
              "      <td>NaN</td>\n",
              "      <td>pencil</td>\n",
              "    </tr>\n",
              "    <tr>\n",
              "      <th>7</th>\n",
              "      <td>ABC</td>\n",
              "      <td>NaN</td>\n",
              "      <td>ball</td>\n",
              "    </tr>\n",
              "    <tr>\n",
              "      <th>8</th>\n",
              "      <td>POD</td>\n",
              "      <td>NaN</td>\n",
              "      <td>pen</td>\n",
              "    </tr>\n",
              "  </tbody>\n",
              "</table>\n",
              "</div>"
            ],
            "text/plain": [
              "  brand  color       id\n",
              "0   OMG  white     ball\n",
              "1   ABC    red   pencil\n",
              "2   ABC    red      pen\n",
              "3   POD  black      mug\n",
              "4   POD  green  ashtray\n",
              "5   OMG    NaN   pencil\n",
              "6   POD    NaN   pencil\n",
              "7   ABC    NaN     ball\n",
              "8   POD    NaN      pen"
            ]
          },
          "metadata": {
            "tags": []
          },
          "execution_count": 20
        }
      ]
    },
    {
      "metadata": {
        "id": "d5txhDhFy4ac",
        "colab_type": "text"
      },
      "cell_type": "markdown",
      "source": [
        "###Merging on an Index\n",
        "The previous examples performed **merge()** on the columns as keys, you can also use indexes as keys for merging, by setting the **left_index** or **right_index** options to **True** to activate them"
      ]
    },
    {
      "metadata": {
        "id": "xKs_bwtkzWBH",
        "colab_type": "code",
        "colab": {
          "base_uri": "https://localhost:8080/",
          "height": 173
        },
        "outputId": "475c296e-4619-4e89-affc-06515a4a2889"
      },
      "cell_type": "code",
      "source": [
        "pd.merge(frame1, frame2, right_index=True, left_index=True)"
      ],
      "execution_count": 21,
      "outputs": [
        {
          "output_type": "execute_result",
          "data": {
            "text/html": [
              "<div>\n",
              "<style scoped>\n",
              "    .dataframe tbody tr th:only-of-type {\n",
              "        vertical-align: middle;\n",
              "    }\n",
              "\n",
              "    .dataframe tbody tr th {\n",
              "        vertical-align: top;\n",
              "    }\n",
              "\n",
              "    .dataframe thead th {\n",
              "        text-align: right;\n",
              "    }\n",
              "</style>\n",
              "<table border=\"1\" class=\"dataframe\">\n",
              "  <thead>\n",
              "    <tr style=\"text-align: right;\">\n",
              "      <th></th>\n",
              "      <th>brand_x</th>\n",
              "      <th>color</th>\n",
              "      <th>id_x</th>\n",
              "      <th>brand_y</th>\n",
              "      <th>id_y</th>\n",
              "    </tr>\n",
              "  </thead>\n",
              "  <tbody>\n",
              "    <tr>\n",
              "      <th>0</th>\n",
              "      <td>OMG</td>\n",
              "      <td>white</td>\n",
              "      <td>ball</td>\n",
              "      <td>OMG</td>\n",
              "      <td>pencil</td>\n",
              "    </tr>\n",
              "    <tr>\n",
              "      <th>1</th>\n",
              "      <td>ABC</td>\n",
              "      <td>red</td>\n",
              "      <td>pencil</td>\n",
              "      <td>POD</td>\n",
              "      <td>pencil</td>\n",
              "    </tr>\n",
              "    <tr>\n",
              "      <th>2</th>\n",
              "      <td>ABC</td>\n",
              "      <td>red</td>\n",
              "      <td>pen</td>\n",
              "      <td>ABC</td>\n",
              "      <td>ball</td>\n",
              "    </tr>\n",
              "    <tr>\n",
              "      <th>3</th>\n",
              "      <td>POD</td>\n",
              "      <td>black</td>\n",
              "      <td>mug</td>\n",
              "      <td>POD</td>\n",
              "      <td>pen</td>\n",
              "    </tr>\n",
              "  </tbody>\n",
              "</table>\n",
              "</div>"
            ],
            "text/plain": [
              "  brand_x  color    id_x brand_y    id_y\n",
              "0     OMG  white    ball     OMG  pencil\n",
              "1     ABC    red  pencil     POD  pencil\n",
              "2     ABC    red     pen     ABC    ball\n",
              "3     POD  black     mug     POD     pen"
            ]
          },
          "metadata": {
            "tags": []
          },
          "execution_count": 21
        }
      ]
    },
    {
      "metadata": {
        "id": "8GIMTHtxzleK",
        "colab_type": "text"
      },
      "cell_type": "markdown",
      "source": [
        "The **join()** function is more convenient to perform merging by indexes, however, you need to make sure the column names in two dataframes are not the same."
      ]
    },
    {
      "metadata": {
        "id": "mU2NeGwoz1FR",
        "colab_type": "code",
        "colab": {}
      },
      "cell_type": "code",
      "source": [
        "frame1.join(frame2) #Error because two 'id' names are the same in frame1 and frame2"
      ],
      "execution_count": 0,
      "outputs": []
    },
    {
      "metadata": {
        "id": "SasKx5z-z-g5",
        "colab_type": "code",
        "colab": {}
      },
      "cell_type": "code",
      "source": [
        "frame2.columns = ['brand2','id2']"
      ],
      "execution_count": 0,
      "outputs": []
    },
    {
      "metadata": {
        "id": "V9x5e3Y30Bnc",
        "colab_type": "code",
        "colab": {
          "base_uri": "https://localhost:8080/",
          "height": 204
        },
        "outputId": "7cc64a18-2e9c-41f4-826f-28455ccc9e2a"
      },
      "cell_type": "code",
      "source": [
        "frame1.join(frame2)"
      ],
      "execution_count": 25,
      "outputs": [
        {
          "output_type": "execute_result",
          "data": {
            "text/html": [
              "<div>\n",
              "<style scoped>\n",
              "    .dataframe tbody tr th:only-of-type {\n",
              "        vertical-align: middle;\n",
              "    }\n",
              "\n",
              "    .dataframe tbody tr th {\n",
              "        vertical-align: top;\n",
              "    }\n",
              "\n",
              "    .dataframe thead th {\n",
              "        text-align: right;\n",
              "    }\n",
              "</style>\n",
              "<table border=\"1\" class=\"dataframe\">\n",
              "  <thead>\n",
              "    <tr style=\"text-align: right;\">\n",
              "      <th></th>\n",
              "      <th>brand</th>\n",
              "      <th>color</th>\n",
              "      <th>id</th>\n",
              "      <th>brand2</th>\n",
              "      <th>id2</th>\n",
              "    </tr>\n",
              "  </thead>\n",
              "  <tbody>\n",
              "    <tr>\n",
              "      <th>0</th>\n",
              "      <td>OMG</td>\n",
              "      <td>white</td>\n",
              "      <td>ball</td>\n",
              "      <td>OMG</td>\n",
              "      <td>pencil</td>\n",
              "    </tr>\n",
              "    <tr>\n",
              "      <th>1</th>\n",
              "      <td>ABC</td>\n",
              "      <td>red</td>\n",
              "      <td>pencil</td>\n",
              "      <td>POD</td>\n",
              "      <td>pencil</td>\n",
              "    </tr>\n",
              "    <tr>\n",
              "      <th>2</th>\n",
              "      <td>ABC</td>\n",
              "      <td>red</td>\n",
              "      <td>pen</td>\n",
              "      <td>ABC</td>\n",
              "      <td>ball</td>\n",
              "    </tr>\n",
              "    <tr>\n",
              "      <th>3</th>\n",
              "      <td>POD</td>\n",
              "      <td>black</td>\n",
              "      <td>mug</td>\n",
              "      <td>POD</td>\n",
              "      <td>pen</td>\n",
              "    </tr>\n",
              "    <tr>\n",
              "      <th>4</th>\n",
              "      <td>POD</td>\n",
              "      <td>green</td>\n",
              "      <td>ashtray</td>\n",
              "      <td>NaN</td>\n",
              "      <td>NaN</td>\n",
              "    </tr>\n",
              "  </tbody>\n",
              "</table>\n",
              "</div>"
            ],
            "text/plain": [
              "  brand  color       id brand2     id2\n",
              "0   OMG  white     ball    OMG  pencil\n",
              "1   ABC    red   pencil    POD  pencil\n",
              "2   ABC    red      pen    ABC    ball\n",
              "3   POD  black      mug    POD     pen\n",
              "4   POD  green  ashtray    NaN     NaN"
            ]
          },
          "metadata": {
            "tags": []
          },
          "execution_count": 25
        }
      ]
    },
    {
      "metadata": {
        "id": "9ec8pcq50OAC",
        "colab_type": "text"
      },
      "cell_type": "markdown",
      "source": [
        "##Concatenating\n",
        "\n",
        "**concatenate()** function from NumPy"
      ]
    },
    {
      "metadata": {
        "id": "QFNssbw01NY5",
        "colab_type": "code",
        "colab": {
          "base_uri": "https://localhost:8080/",
          "height": 68
        },
        "outputId": "132e3e44-becf-4eed-df82-35fd160485db"
      },
      "cell_type": "code",
      "source": [
        "array1 = np.arange(9).reshape(3,3)\n",
        "array1"
      ],
      "execution_count": 26,
      "outputs": [
        {
          "output_type": "execute_result",
          "data": {
            "text/plain": [
              "array([[0, 1, 2],\n",
              "       [3, 4, 5],\n",
              "       [6, 7, 8]])"
            ]
          },
          "metadata": {
            "tags": []
          },
          "execution_count": 26
        }
      ]
    },
    {
      "metadata": {
        "id": "mYWOgNuE1TAe",
        "colab_type": "code",
        "colab": {
          "base_uri": "https://localhost:8080/",
          "height": 68
        },
        "outputId": "c8e25db7-a2a4-457b-f875-b99e23dd503d"
      },
      "cell_type": "code",
      "source": [
        "array2 = np.arange(9).reshape(3,3) + 6\n",
        "array2"
      ],
      "execution_count": 27,
      "outputs": [
        {
          "output_type": "execute_result",
          "data": {
            "text/plain": [
              "array([[ 6,  7,  8],\n",
              "       [ 9, 10, 11],\n",
              "       [12, 13, 14]])"
            ]
          },
          "metadata": {
            "tags": []
          },
          "execution_count": 27
        }
      ]
    },
    {
      "metadata": {
        "id": "lEuDcFZc1Y6D",
        "colab_type": "code",
        "colab": {
          "base_uri": "https://localhost:8080/",
          "height": 68
        },
        "outputId": "68af79ec-85d7-4b0d-aff4-1021a0481953"
      },
      "cell_type": "code",
      "source": [
        "np.concatenate([array1, array2], axis=1) #axis=1 means to concatenate along column growing direction -->"
      ],
      "execution_count": 29,
      "outputs": [
        {
          "output_type": "execute_result",
          "data": {
            "text/plain": [
              "array([[ 0,  1,  2,  6,  7,  8],\n",
              "       [ 3,  4,  5,  9, 10, 11],\n",
              "       [ 6,  7,  8, 12, 13, 14]])"
            ]
          },
          "metadata": {
            "tags": []
          },
          "execution_count": 29
        }
      ]
    },
    {
      "metadata": {
        "id": "WH1cQScq1sRP",
        "colab_type": "code",
        "colab": {
          "base_uri": "https://localhost:8080/",
          "height": 119
        },
        "outputId": "c4590413-24a5-410e-87f1-5e09632a4565"
      },
      "cell_type": "code",
      "source": [
        "np.concatenate([array1, array2], axis=0)"
      ],
      "execution_count": 30,
      "outputs": [
        {
          "output_type": "execute_result",
          "data": {
            "text/plain": [
              "array([[ 0,  1,  2],\n",
              "       [ 3,  4,  5],\n",
              "       [ 6,  7,  8],\n",
              "       [ 6,  7,  8],\n",
              "       [ 9, 10, 11],\n",
              "       [12, 13, 14]])"
            ]
          },
          "metadata": {
            "tags": []
          },
          "execution_count": 30
        }
      ]
    },
    {
      "metadata": {
        "id": "LAMmH2Bz10JO",
        "colab_type": "text"
      },
      "cell_type": "markdown",
      "source": [
        "**concat()** function from Pandas"
      ]
    },
    {
      "metadata": {
        "id": "xMcMGfRe15Fo",
        "colab_type": "code",
        "colab": {
          "base_uri": "https://localhost:8080/",
          "height": 102
        },
        "outputId": "6bcbe4f6-4029-4511-a02e-65a4a5eac6b6"
      },
      "cell_type": "code",
      "source": [
        "ser1 = pd.Series(np.random.rand(4), index=[1,2,3,4])\n",
        "ser1"
      ],
      "execution_count": 31,
      "outputs": [
        {
          "output_type": "execute_result",
          "data": {
            "text/plain": [
              "1    0.263465\n",
              "2    0.668358\n",
              "3    0.728427\n",
              "4    0.134150\n",
              "dtype: float64"
            ]
          },
          "metadata": {
            "tags": []
          },
          "execution_count": 31
        }
      ]
    },
    {
      "metadata": {
        "id": "SMn6Npt_195f",
        "colab_type": "code",
        "colab": {
          "base_uri": "https://localhost:8080/",
          "height": 102
        },
        "outputId": "ad9114c2-e9f7-4123-c2fd-103ea0ad6c25"
      },
      "cell_type": "code",
      "source": [
        "ser2 = pd.Series(np.random.rand(4), index=[5,6,7,8])\n",
        "ser2"
      ],
      "execution_count": 32,
      "outputs": [
        {
          "output_type": "execute_result",
          "data": {
            "text/plain": [
              "5    0.944954\n",
              "6    0.493830\n",
              "7    0.859512\n",
              "8    0.483135\n",
              "dtype: float64"
            ]
          },
          "metadata": {
            "tags": []
          },
          "execution_count": 32
        }
      ]
    },
    {
      "metadata": {
        "id": "k0RLbNtd2E8-",
        "colab_type": "code",
        "colab": {
          "base_uri": "https://localhost:8080/",
          "height": 170
        },
        "outputId": "cebc5812-cd34-4534-f282-8c4c238b8ad5"
      },
      "cell_type": "code",
      "source": [
        "pd.concat([ser1, ser2])"
      ],
      "execution_count": 33,
      "outputs": [
        {
          "output_type": "execute_result",
          "data": {
            "text/plain": [
              "1    0.263465\n",
              "2    0.668358\n",
              "3    0.728427\n",
              "4    0.134150\n",
              "5    0.944954\n",
              "6    0.493830\n",
              "7    0.859512\n",
              "8    0.483135\n",
              "dtype: float64"
            ]
          },
          "metadata": {
            "tags": []
          },
          "execution_count": 33
        }
      ]
    },
    {
      "metadata": {
        "id": "-0m0tDX02emI",
        "colab_type": "text"
      },
      "cell_type": "markdown",
      "source": [
        ""
      ]
    },
    {
      "metadata": {
        "id": "aofbW5uv2e0r",
        "colab_type": "text"
      },
      "cell_type": "markdown",
      "source": [
        "By default, **axis=0** in **concat()** function. If **axis=1**, then the result will be a dataframe as shown below."
      ]
    },
    {
      "metadata": {
        "id": "M-x_bVo-2J9Z",
        "colab_type": "code",
        "colab": {
          "base_uri": "https://localhost:8080/",
          "height": 297
        },
        "outputId": "8303eaac-ee5d-4236-f323-d3fa1451a6c1"
      },
      "cell_type": "code",
      "source": [
        "pd.concat([ser1, ser2], axis=1)"
      ],
      "execution_count": 34,
      "outputs": [
        {
          "output_type": "execute_result",
          "data": {
            "text/html": [
              "<div>\n",
              "<style scoped>\n",
              "    .dataframe tbody tr th:only-of-type {\n",
              "        vertical-align: middle;\n",
              "    }\n",
              "\n",
              "    .dataframe tbody tr th {\n",
              "        vertical-align: top;\n",
              "    }\n",
              "\n",
              "    .dataframe thead th {\n",
              "        text-align: right;\n",
              "    }\n",
              "</style>\n",
              "<table border=\"1\" class=\"dataframe\">\n",
              "  <thead>\n",
              "    <tr style=\"text-align: right;\">\n",
              "      <th></th>\n",
              "      <th>0</th>\n",
              "      <th>1</th>\n",
              "    </tr>\n",
              "  </thead>\n",
              "  <tbody>\n",
              "    <tr>\n",
              "      <th>1</th>\n",
              "      <td>0.263465</td>\n",
              "      <td>NaN</td>\n",
              "    </tr>\n",
              "    <tr>\n",
              "      <th>2</th>\n",
              "      <td>0.668358</td>\n",
              "      <td>NaN</td>\n",
              "    </tr>\n",
              "    <tr>\n",
              "      <th>3</th>\n",
              "      <td>0.728427</td>\n",
              "      <td>NaN</td>\n",
              "    </tr>\n",
              "    <tr>\n",
              "      <th>4</th>\n",
              "      <td>0.134150</td>\n",
              "      <td>NaN</td>\n",
              "    </tr>\n",
              "    <tr>\n",
              "      <th>5</th>\n",
              "      <td>NaN</td>\n",
              "      <td>0.944954</td>\n",
              "    </tr>\n",
              "    <tr>\n",
              "      <th>6</th>\n",
              "      <td>NaN</td>\n",
              "      <td>0.493830</td>\n",
              "    </tr>\n",
              "    <tr>\n",
              "      <th>7</th>\n",
              "      <td>NaN</td>\n",
              "      <td>0.859512</td>\n",
              "    </tr>\n",
              "    <tr>\n",
              "      <th>8</th>\n",
              "      <td>NaN</td>\n",
              "      <td>0.483135</td>\n",
              "    </tr>\n",
              "  </tbody>\n",
              "</table>\n",
              "</div>"
            ],
            "text/plain": [
              "          0         1\n",
              "1  0.263465       NaN\n",
              "2  0.668358       NaN\n",
              "3  0.728427       NaN\n",
              "4  0.134150       NaN\n",
              "5       NaN  0.944954\n",
              "6       NaN  0.493830\n",
              "7       NaN  0.859512\n",
              "8       NaN  0.483135"
            ]
          },
          "metadata": {
            "tags": []
          },
          "execution_count": 34
        }
      ]
    },
    {
      "metadata": {
        "id": "_2fbD87z2r6F",
        "colab_type": "text"
      },
      "cell_type": "markdown",
      "source": [
        "If you want to create a hierarchical index on the axis of concatenation, you have to use the **key** option"
      ]
    },
    {
      "metadata": {
        "id": "-4X2c6M82019",
        "colab_type": "code",
        "colab": {
          "base_uri": "https://localhost:8080/",
          "height": 170
        },
        "outputId": "a3a3b004-f254-41a2-b5ca-3942ab013b56"
      },
      "cell_type": "code",
      "source": [
        "pd.concat([ser1, ser2], keys=[1,2])"
      ],
      "execution_count": 35,
      "outputs": [
        {
          "output_type": "execute_result",
          "data": {
            "text/plain": [
              "1  1    0.263465\n",
              "   2    0.668358\n",
              "   3    0.728427\n",
              "   4    0.134150\n",
              "2  5    0.944954\n",
              "   6    0.493830\n",
              "   7    0.859512\n",
              "   8    0.483135\n",
              "dtype: float64"
            ]
          },
          "metadata": {
            "tags": []
          },
          "execution_count": 35
        }
      ]
    },
    {
      "metadata": {
        "id": "571LiTkl3Djk",
        "colab_type": "text"
      },
      "cell_type": "markdown",
      "source": [
        "If **axis=1** in this case, the **keys** become the column headers of the dataframe"
      ]
    },
    {
      "metadata": {
        "id": "C8x-ontq3LFB",
        "colab_type": "code",
        "colab": {
          "base_uri": "https://localhost:8080/",
          "height": 297
        },
        "outputId": "71d4a672-c38b-4bd2-b603-198976e3254d"
      },
      "cell_type": "code",
      "source": [
        "pd.concat([ser1, ser2], keys=[1,2], axis=1)"
      ],
      "execution_count": 36,
      "outputs": [
        {
          "output_type": "execute_result",
          "data": {
            "text/html": [
              "<div>\n",
              "<style scoped>\n",
              "    .dataframe tbody tr th:only-of-type {\n",
              "        vertical-align: middle;\n",
              "    }\n",
              "\n",
              "    .dataframe tbody tr th {\n",
              "        vertical-align: top;\n",
              "    }\n",
              "\n",
              "    .dataframe thead th {\n",
              "        text-align: right;\n",
              "    }\n",
              "</style>\n",
              "<table border=\"1\" class=\"dataframe\">\n",
              "  <thead>\n",
              "    <tr style=\"text-align: right;\">\n",
              "      <th></th>\n",
              "      <th>1</th>\n",
              "      <th>2</th>\n",
              "    </tr>\n",
              "  </thead>\n",
              "  <tbody>\n",
              "    <tr>\n",
              "      <th>1</th>\n",
              "      <td>0.263465</td>\n",
              "      <td>NaN</td>\n",
              "    </tr>\n",
              "    <tr>\n",
              "      <th>2</th>\n",
              "      <td>0.668358</td>\n",
              "      <td>NaN</td>\n",
              "    </tr>\n",
              "    <tr>\n",
              "      <th>3</th>\n",
              "      <td>0.728427</td>\n",
              "      <td>NaN</td>\n",
              "    </tr>\n",
              "    <tr>\n",
              "      <th>4</th>\n",
              "      <td>0.134150</td>\n",
              "      <td>NaN</td>\n",
              "    </tr>\n",
              "    <tr>\n",
              "      <th>5</th>\n",
              "      <td>NaN</td>\n",
              "      <td>0.944954</td>\n",
              "    </tr>\n",
              "    <tr>\n",
              "      <th>6</th>\n",
              "      <td>NaN</td>\n",
              "      <td>0.493830</td>\n",
              "    </tr>\n",
              "    <tr>\n",
              "      <th>7</th>\n",
              "      <td>NaN</td>\n",
              "      <td>0.859512</td>\n",
              "    </tr>\n",
              "    <tr>\n",
              "      <th>8</th>\n",
              "      <td>NaN</td>\n",
              "      <td>0.483135</td>\n",
              "    </tr>\n",
              "  </tbody>\n",
              "</table>\n",
              "</div>"
            ],
            "text/plain": [
              "          1         2\n",
              "1  0.263465       NaN\n",
              "2  0.668358       NaN\n",
              "3  0.728427       NaN\n",
              "4  0.134150       NaN\n",
              "5       NaN  0.944954\n",
              "6       NaN  0.493830\n",
              "7       NaN  0.859512\n",
              "8       NaN  0.483135"
            ]
          },
          "metadata": {
            "tags": []
          },
          "execution_count": 36
        }
      ]
    },
    {
      "metadata": {
        "id": "H8rsqKcl3TCI",
        "colab_type": "text"
      },
      "cell_type": "markdown",
      "source": [
        "Same fashion for the dataframes..."
      ]
    },
    {
      "metadata": {
        "id": "C-KwMtLq3V8G",
        "colab_type": "code",
        "colab": {
          "base_uri": "https://localhost:8080/",
          "height": 235
        },
        "outputId": "3e0959f5-c26f-4b9c-eac3-42357aa102af"
      },
      "cell_type": "code",
      "source": [
        "frame1 = pd.DataFrame(np.random.rand(9).reshape(3,3), index=[1,2,3],\n",
        "                      columns=['A','B','C'])\n",
        "frame2 = pd.DataFrame(np.random.rand(9).reshape(3,3), index=[4,5,6],\n",
        "                      columns=['A','B','C'])\n",
        "pd.concat([frame1, frame2])"
      ],
      "execution_count": 37,
      "outputs": [
        {
          "output_type": "execute_result",
          "data": {
            "text/html": [
              "<div>\n",
              "<style scoped>\n",
              "    .dataframe tbody tr th:only-of-type {\n",
              "        vertical-align: middle;\n",
              "    }\n",
              "\n",
              "    .dataframe tbody tr th {\n",
              "        vertical-align: top;\n",
              "    }\n",
              "\n",
              "    .dataframe thead th {\n",
              "        text-align: right;\n",
              "    }\n",
              "</style>\n",
              "<table border=\"1\" class=\"dataframe\">\n",
              "  <thead>\n",
              "    <tr style=\"text-align: right;\">\n",
              "      <th></th>\n",
              "      <th>A</th>\n",
              "      <th>B</th>\n",
              "      <th>C</th>\n",
              "    </tr>\n",
              "  </thead>\n",
              "  <tbody>\n",
              "    <tr>\n",
              "      <th>1</th>\n",
              "      <td>0.392675</td>\n",
              "      <td>0.146702</td>\n",
              "      <td>0.421475</td>\n",
              "    </tr>\n",
              "    <tr>\n",
              "      <th>2</th>\n",
              "      <td>0.224650</td>\n",
              "      <td>0.260781</td>\n",
              "      <td>0.131519</td>\n",
              "    </tr>\n",
              "    <tr>\n",
              "      <th>3</th>\n",
              "      <td>0.305308</td>\n",
              "      <td>0.279102</td>\n",
              "      <td>0.074014</td>\n",
              "    </tr>\n",
              "    <tr>\n",
              "      <th>4</th>\n",
              "      <td>0.310741</td>\n",
              "      <td>0.545343</td>\n",
              "      <td>0.416978</td>\n",
              "    </tr>\n",
              "    <tr>\n",
              "      <th>5</th>\n",
              "      <td>0.522835</td>\n",
              "      <td>0.742030</td>\n",
              "      <td>0.433634</td>\n",
              "    </tr>\n",
              "    <tr>\n",
              "      <th>6</th>\n",
              "      <td>0.264633</td>\n",
              "      <td>0.125348</td>\n",
              "      <td>0.918616</td>\n",
              "    </tr>\n",
              "  </tbody>\n",
              "</table>\n",
              "</div>"
            ],
            "text/plain": [
              "          A         B         C\n",
              "1  0.392675  0.146702  0.421475\n",
              "2  0.224650  0.260781  0.131519\n",
              "3  0.305308  0.279102  0.074014\n",
              "4  0.310741  0.545343  0.416978\n",
              "5  0.522835  0.742030  0.433634\n",
              "6  0.264633  0.125348  0.918616"
            ]
          },
          "metadata": {
            "tags": []
          },
          "execution_count": 37
        }
      ]
    },
    {
      "metadata": {
        "id": "N41uRiHi3kAq",
        "colab_type": "code",
        "colab": {
          "base_uri": "https://localhost:8080/",
          "height": 235
        },
        "outputId": "d8686e0e-f802-444d-8ea4-28b20264d74a"
      },
      "cell_type": "code",
      "source": [
        "pd.concat([frame1, frame2], axis=1)"
      ],
      "execution_count": 38,
      "outputs": [
        {
          "output_type": "execute_result",
          "data": {
            "text/html": [
              "<div>\n",
              "<style scoped>\n",
              "    .dataframe tbody tr th:only-of-type {\n",
              "        vertical-align: middle;\n",
              "    }\n",
              "\n",
              "    .dataframe tbody tr th {\n",
              "        vertical-align: top;\n",
              "    }\n",
              "\n",
              "    .dataframe thead th {\n",
              "        text-align: right;\n",
              "    }\n",
              "</style>\n",
              "<table border=\"1\" class=\"dataframe\">\n",
              "  <thead>\n",
              "    <tr style=\"text-align: right;\">\n",
              "      <th></th>\n",
              "      <th>A</th>\n",
              "      <th>B</th>\n",
              "      <th>C</th>\n",
              "      <th>A</th>\n",
              "      <th>B</th>\n",
              "      <th>C</th>\n",
              "    </tr>\n",
              "  </thead>\n",
              "  <tbody>\n",
              "    <tr>\n",
              "      <th>1</th>\n",
              "      <td>0.392675</td>\n",
              "      <td>0.146702</td>\n",
              "      <td>0.421475</td>\n",
              "      <td>NaN</td>\n",
              "      <td>NaN</td>\n",
              "      <td>NaN</td>\n",
              "    </tr>\n",
              "    <tr>\n",
              "      <th>2</th>\n",
              "      <td>0.224650</td>\n",
              "      <td>0.260781</td>\n",
              "      <td>0.131519</td>\n",
              "      <td>NaN</td>\n",
              "      <td>NaN</td>\n",
              "      <td>NaN</td>\n",
              "    </tr>\n",
              "    <tr>\n",
              "      <th>3</th>\n",
              "      <td>0.305308</td>\n",
              "      <td>0.279102</td>\n",
              "      <td>0.074014</td>\n",
              "      <td>NaN</td>\n",
              "      <td>NaN</td>\n",
              "      <td>NaN</td>\n",
              "    </tr>\n",
              "    <tr>\n",
              "      <th>4</th>\n",
              "      <td>NaN</td>\n",
              "      <td>NaN</td>\n",
              "      <td>NaN</td>\n",
              "      <td>0.310741</td>\n",
              "      <td>0.545343</td>\n",
              "      <td>0.416978</td>\n",
              "    </tr>\n",
              "    <tr>\n",
              "      <th>5</th>\n",
              "      <td>NaN</td>\n",
              "      <td>NaN</td>\n",
              "      <td>NaN</td>\n",
              "      <td>0.522835</td>\n",
              "      <td>0.742030</td>\n",
              "      <td>0.433634</td>\n",
              "    </tr>\n",
              "    <tr>\n",
              "      <th>6</th>\n",
              "      <td>NaN</td>\n",
              "      <td>NaN</td>\n",
              "      <td>NaN</td>\n",
              "      <td>0.264633</td>\n",
              "      <td>0.125348</td>\n",
              "      <td>0.918616</td>\n",
              "    </tr>\n",
              "  </tbody>\n",
              "</table>\n",
              "</div>"
            ],
            "text/plain": [
              "          A         B         C         A         B         C\n",
              "1  0.392675  0.146702  0.421475       NaN       NaN       NaN\n",
              "2  0.224650  0.260781  0.131519       NaN       NaN       NaN\n",
              "3  0.305308  0.279102  0.074014       NaN       NaN       NaN\n",
              "4       NaN       NaN       NaN  0.310741  0.545343  0.416978\n",
              "5       NaN       NaN       NaN  0.522835  0.742030  0.433634\n",
              "6       NaN       NaN       NaN  0.264633  0.125348  0.918616"
            ]
          },
          "metadata": {
            "tags": []
          },
          "execution_count": 38
        }
      ]
    },
    {
      "metadata": {
        "id": "55CgQ51Y3s5-",
        "colab_type": "text"
      },
      "cell_type": "markdown",
      "source": [
        "##Combining\n",
        "You can combine two datasets with different dimensions. In this case, you can't use **merge()** or **concatenate()**\n",
        "\n",
        "The **combine_first()** function can perform this data alignment"
      ]
    },
    {
      "metadata": {
        "id": "kSDvPbep4SB8",
        "colab_type": "code",
        "colab": {
          "base_uri": "https://localhost:8080/",
          "height": 119
        },
        "outputId": "088cce59-595b-4d64-f04b-3f31e4bb434f"
      },
      "cell_type": "code",
      "source": [
        "ser1 = pd.Series(np.random.rand(5),index=[1,2,3,4,5])\n",
        "ser1"
      ],
      "execution_count": 39,
      "outputs": [
        {
          "output_type": "execute_result",
          "data": {
            "text/plain": [
              "1    0.163401\n",
              "2    0.600516\n",
              "3    0.191775\n",
              "4    0.175329\n",
              "5    0.113567\n",
              "dtype: float64"
            ]
          },
          "metadata": {
            "tags": []
          },
          "execution_count": 39
        }
      ]
    },
    {
      "metadata": {
        "id": "ESlKJLY34TgA",
        "colab_type": "code",
        "colab": {
          "base_uri": "https://localhost:8080/",
          "height": 102
        },
        "outputId": "bc051745-916e-47e0-e5bd-f6a0e2540169"
      },
      "cell_type": "code",
      "source": [
        "ser2 = pd.Series(np.random.rand(4),index=[2,4,5,6])\n",
        "ser2"
      ],
      "execution_count": 40,
      "outputs": [
        {
          "output_type": "execute_result",
          "data": {
            "text/plain": [
              "2    0.752758\n",
              "4    0.047720\n",
              "5    0.639549\n",
              "6    0.477362\n",
              "dtype: float64"
            ]
          },
          "metadata": {
            "tags": []
          },
          "execution_count": 40
        }
      ]
    },
    {
      "metadata": {
        "id": "rTDVANTD4Wvr",
        "colab_type": "code",
        "colab": {
          "base_uri": "https://localhost:8080/",
          "height": 136
        },
        "outputId": "55800cb6-0997-4875-a99c-c90b06e0b03c"
      },
      "cell_type": "code",
      "source": [
        "ser1.combine_first(ser2)"
      ],
      "execution_count": 41,
      "outputs": [
        {
          "output_type": "execute_result",
          "data": {
            "text/plain": [
              "1    0.163401\n",
              "2    0.600516\n",
              "3    0.191775\n",
              "4    0.175329\n",
              "5    0.113567\n",
              "6    0.477362\n",
              "dtype: float64"
            ]
          },
          "metadata": {
            "tags": []
          },
          "execution_count": 41
        }
      ]
    },
    {
      "metadata": {
        "id": "1jAf56NN4YsO",
        "colab_type": "code",
        "colab": {
          "base_uri": "https://localhost:8080/",
          "height": 136
        },
        "outputId": "78a405ca-2c24-499b-b578-cbbe84506509"
      },
      "cell_type": "code",
      "source": [
        "ser2.combine_first(ser1)"
      ],
      "execution_count": 42,
      "outputs": [
        {
          "output_type": "execute_result",
          "data": {
            "text/plain": [
              "1    0.163401\n",
              "2    0.752758\n",
              "3    0.191775\n",
              "4    0.047720\n",
              "5    0.639549\n",
              "6    0.477362\n",
              "dtype: float64"
            ]
          },
          "metadata": {
            "tags": []
          },
          "execution_count": 42
        }
      ]
    },
    {
      "metadata": {
        "id": "U83T5un743q0",
        "colab_type": "text"
      },
      "cell_type": "markdown",
      "source": [
        "**combine_first()** will use the indexes to combine two datasets \n",
        "\n",
        "For partial overlap,"
      ]
    },
    {
      "metadata": {
        "id": "6Es4lsvk5DDD",
        "colab_type": "code",
        "colab": {
          "base_uri": "https://localhost:8080/",
          "height": 119
        },
        "outputId": "4794bf05-87a4-4eee-81fa-cc54957451f2"
      },
      "cell_type": "code",
      "source": [
        "ser1[:3].combine_first(ser2[:3])"
      ],
      "execution_count": 43,
      "outputs": [
        {
          "output_type": "execute_result",
          "data": {
            "text/plain": [
              "1    0.163401\n",
              "2    0.600516\n",
              "3    0.191775\n",
              "4    0.047720\n",
              "5    0.639549\n",
              "dtype: float64"
            ]
          },
          "metadata": {
            "tags": []
          },
          "execution_count": 43
        }
      ]
    },
    {
      "metadata": {
        "id": "5Wis85oI5OQU",
        "colab_type": "text"
      },
      "cell_type": "markdown",
      "source": [
        "##Pivoting\n",
        "to unify the values collectedd from different sources\n"
      ]
    },
    {
      "metadata": {
        "id": "4iUbylY46FSi",
        "colab_type": "text"
      },
      "cell_type": "markdown",
      "source": [
        "###Pivoting with Hierarchical Indexing\n",
        "\n",
        "\n",
        "*   Stacking -- Rotates or pivots the data structure converting columns to rows\n",
        "*   Unstacking -- Converts rows into columns\n"
      ]
    },
    {
      "metadata": {
        "id": "3d_xmxdk53b8",
        "colab_type": "code",
        "colab": {
          "base_uri": "https://localhost:8080/",
          "height": 142
        },
        "outputId": "b78b83a2-f63a-4c3b-b3ec-20bd72fa485c"
      },
      "cell_type": "code",
      "source": [
        "frame1 = pd.DataFrame(np.arange(9).reshape(3,3),\n",
        "                      index=['white','black','red'],\n",
        "                      columns=['ball','pen','pencil'])\n",
        "frame1"
      ],
      "execution_count": 44,
      "outputs": [
        {
          "output_type": "execute_result",
          "data": {
            "text/html": [
              "<div>\n",
              "<style scoped>\n",
              "    .dataframe tbody tr th:only-of-type {\n",
              "        vertical-align: middle;\n",
              "    }\n",
              "\n",
              "    .dataframe tbody tr th {\n",
              "        vertical-align: top;\n",
              "    }\n",
              "\n",
              "    .dataframe thead th {\n",
              "        text-align: right;\n",
              "    }\n",
              "</style>\n",
              "<table border=\"1\" class=\"dataframe\">\n",
              "  <thead>\n",
              "    <tr style=\"text-align: right;\">\n",
              "      <th></th>\n",
              "      <th>ball</th>\n",
              "      <th>pen</th>\n",
              "      <th>pencil</th>\n",
              "    </tr>\n",
              "  </thead>\n",
              "  <tbody>\n",
              "    <tr>\n",
              "      <th>white</th>\n",
              "      <td>0</td>\n",
              "      <td>1</td>\n",
              "      <td>2</td>\n",
              "    </tr>\n",
              "    <tr>\n",
              "      <th>black</th>\n",
              "      <td>3</td>\n",
              "      <td>4</td>\n",
              "      <td>5</td>\n",
              "    </tr>\n",
              "    <tr>\n",
              "      <th>red</th>\n",
              "      <td>6</td>\n",
              "      <td>7</td>\n",
              "      <td>8</td>\n",
              "    </tr>\n",
              "  </tbody>\n",
              "</table>\n",
              "</div>"
            ],
            "text/plain": [
              "       ball  pen  pencil\n",
              "white     0    1       2\n",
              "black     3    4       5\n",
              "red       6    7       8"
            ]
          },
          "metadata": {
            "tags": []
          },
          "execution_count": 44
        }
      ]
    },
    {
      "metadata": {
        "id": "9XT1AZMA6HPd",
        "colab_type": "text"
      },
      "cell_type": "markdown",
      "source": [
        "**stack()** on dataframe"
      ]
    },
    {
      "metadata": {
        "id": "4JrtyllB6N8z",
        "colab_type": "code",
        "colab": {
          "base_uri": "https://localhost:8080/",
          "height": 187
        },
        "outputId": "d3fd2121-93a8-471b-fb29-70113ca911ec"
      },
      "cell_type": "code",
      "source": [
        "ser5 = frame1.stack()\n",
        "ser5"
      ],
      "execution_count": 46,
      "outputs": [
        {
          "output_type": "execute_result",
          "data": {
            "text/plain": [
              "white  ball      0\n",
              "       pen       1\n",
              "       pencil    2\n",
              "black  ball      3\n",
              "       pen       4\n",
              "       pencil    5\n",
              "red    ball      6\n",
              "       pen       7\n",
              "       pencil    8\n",
              "dtype: int64"
            ]
          },
          "metadata": {
            "tags": []
          },
          "execution_count": 46
        }
      ]
    },
    {
      "metadata": {
        "id": "kUqiFA7D6T4n",
        "colab_type": "text"
      },
      "cell_type": "markdown",
      "source": [
        "**unstack()** on hierarchically indexed series"
      ]
    },
    {
      "metadata": {
        "id": "Nt1gyvmd6YfR",
        "colab_type": "code",
        "colab": {
          "base_uri": "https://localhost:8080/",
          "height": 142
        },
        "outputId": "5eb894b1-c283-4339-c478-e5de96a94488"
      },
      "cell_type": "code",
      "source": [
        "ser5.unstack()"
      ],
      "execution_count": 47,
      "outputs": [
        {
          "output_type": "execute_result",
          "data": {
            "text/html": [
              "<div>\n",
              "<style scoped>\n",
              "    .dataframe tbody tr th:only-of-type {\n",
              "        vertical-align: middle;\n",
              "    }\n",
              "\n",
              "    .dataframe tbody tr th {\n",
              "        vertical-align: top;\n",
              "    }\n",
              "\n",
              "    .dataframe thead th {\n",
              "        text-align: right;\n",
              "    }\n",
              "</style>\n",
              "<table border=\"1\" class=\"dataframe\">\n",
              "  <thead>\n",
              "    <tr style=\"text-align: right;\">\n",
              "      <th></th>\n",
              "      <th>ball</th>\n",
              "      <th>pen</th>\n",
              "      <th>pencil</th>\n",
              "    </tr>\n",
              "  </thead>\n",
              "  <tbody>\n",
              "    <tr>\n",
              "      <th>white</th>\n",
              "      <td>0</td>\n",
              "      <td>1</td>\n",
              "      <td>2</td>\n",
              "    </tr>\n",
              "    <tr>\n",
              "      <th>black</th>\n",
              "      <td>3</td>\n",
              "      <td>4</td>\n",
              "      <td>5</td>\n",
              "    </tr>\n",
              "    <tr>\n",
              "      <th>red</th>\n",
              "      <td>6</td>\n",
              "      <td>7</td>\n",
              "      <td>8</td>\n",
              "    </tr>\n",
              "  </tbody>\n",
              "</table>\n",
              "</div>"
            ],
            "text/plain": [
              "       ball  pen  pencil\n",
              "white     0    1       2\n",
              "black     3    4       5\n",
              "red       6    7       8"
            ]
          },
          "metadata": {
            "tags": []
          },
          "execution_count": 47
        }
      ]
    },
    {
      "metadata": {
        "id": "8CLBbo2t6hQc",
        "colab_type": "code",
        "colab": {
          "base_uri": "https://localhost:8080/",
          "height": 142
        },
        "outputId": "4cd6e7e7-e06d-4e42-9ed8-60b48bc89a82"
      },
      "cell_type": "code",
      "source": [
        "ser5.unstack(0)"
      ],
      "execution_count": 48,
      "outputs": [
        {
          "output_type": "execute_result",
          "data": {
            "text/html": [
              "<div>\n",
              "<style scoped>\n",
              "    .dataframe tbody tr th:only-of-type {\n",
              "        vertical-align: middle;\n",
              "    }\n",
              "\n",
              "    .dataframe tbody tr th {\n",
              "        vertical-align: top;\n",
              "    }\n",
              "\n",
              "    .dataframe thead th {\n",
              "        text-align: right;\n",
              "    }\n",
              "</style>\n",
              "<table border=\"1\" class=\"dataframe\">\n",
              "  <thead>\n",
              "    <tr style=\"text-align: right;\">\n",
              "      <th></th>\n",
              "      <th>white</th>\n",
              "      <th>black</th>\n",
              "      <th>red</th>\n",
              "    </tr>\n",
              "  </thead>\n",
              "  <tbody>\n",
              "    <tr>\n",
              "      <th>ball</th>\n",
              "      <td>0</td>\n",
              "      <td>3</td>\n",
              "      <td>6</td>\n",
              "    </tr>\n",
              "    <tr>\n",
              "      <th>pen</th>\n",
              "      <td>1</td>\n",
              "      <td>4</td>\n",
              "      <td>7</td>\n",
              "    </tr>\n",
              "    <tr>\n",
              "      <th>pencil</th>\n",
              "      <td>2</td>\n",
              "      <td>5</td>\n",
              "      <td>8</td>\n",
              "    </tr>\n",
              "  </tbody>\n",
              "</table>\n",
              "</div>"
            ],
            "text/plain": [
              "        white  black  red\n",
              "ball        0      3    6\n",
              "pen         1      4    7\n",
              "pencil      2      5    8"
            ]
          },
          "metadata": {
            "tags": []
          },
          "execution_count": 48
        }
      ]
    },
    {
      "metadata": {
        "id": "YVPtL_4H6mGS",
        "colab_type": "text"
      },
      "cell_type": "markdown",
      "source": [
        "###Pivoting from \"Long\" to \"Wide\" Format"
      ]
    },
    {
      "metadata": {
        "id": "7kpmclEi6we6",
        "colab_type": "code",
        "colab": {
          "base_uri": "https://localhost:8080/",
          "height": 328
        },
        "outputId": "aa70c79b-783e-4906-98a6-56d9b9867053"
      },
      "cell_type": "code",
      "source": [
        "longframe = pd.DataFrame({ 'color':['white','white','white',\n",
        "                                    'red','red','red',\n",
        "                                    'black','black','black'],\n",
        "                          'item':['ball','pen','mug',\n",
        "                                  'ball','pen','mug',\n",
        "                                  'ball','pen','mug'],\n",
        "                          'value': np.random.rand(9)})\n",
        "longframe"
      ],
      "execution_count": 49,
      "outputs": [
        {
          "output_type": "execute_result",
          "data": {
            "text/html": [
              "<div>\n",
              "<style scoped>\n",
              "    .dataframe tbody tr th:only-of-type {\n",
              "        vertical-align: middle;\n",
              "    }\n",
              "\n",
              "    .dataframe tbody tr th {\n",
              "        vertical-align: top;\n",
              "    }\n",
              "\n",
              "    .dataframe thead th {\n",
              "        text-align: right;\n",
              "    }\n",
              "</style>\n",
              "<table border=\"1\" class=\"dataframe\">\n",
              "  <thead>\n",
              "    <tr style=\"text-align: right;\">\n",
              "      <th></th>\n",
              "      <th>color</th>\n",
              "      <th>item</th>\n",
              "      <th>value</th>\n",
              "    </tr>\n",
              "  </thead>\n",
              "  <tbody>\n",
              "    <tr>\n",
              "      <th>0</th>\n",
              "      <td>white</td>\n",
              "      <td>ball</td>\n",
              "      <td>0.028005</td>\n",
              "    </tr>\n",
              "    <tr>\n",
              "      <th>1</th>\n",
              "      <td>white</td>\n",
              "      <td>pen</td>\n",
              "      <td>0.030776</td>\n",
              "    </tr>\n",
              "    <tr>\n",
              "      <th>2</th>\n",
              "      <td>white</td>\n",
              "      <td>mug</td>\n",
              "      <td>0.784560</td>\n",
              "    </tr>\n",
              "    <tr>\n",
              "      <th>3</th>\n",
              "      <td>red</td>\n",
              "      <td>ball</td>\n",
              "      <td>0.267798</td>\n",
              "    </tr>\n",
              "    <tr>\n",
              "      <th>4</th>\n",
              "      <td>red</td>\n",
              "      <td>pen</td>\n",
              "      <td>0.624344</td>\n",
              "    </tr>\n",
              "    <tr>\n",
              "      <th>5</th>\n",
              "      <td>red</td>\n",
              "      <td>mug</td>\n",
              "      <td>0.080814</td>\n",
              "    </tr>\n",
              "    <tr>\n",
              "      <th>6</th>\n",
              "      <td>black</td>\n",
              "      <td>ball</td>\n",
              "      <td>0.611194</td>\n",
              "    </tr>\n",
              "    <tr>\n",
              "      <th>7</th>\n",
              "      <td>black</td>\n",
              "      <td>pen</td>\n",
              "      <td>0.457765</td>\n",
              "    </tr>\n",
              "    <tr>\n",
              "      <th>8</th>\n",
              "      <td>black</td>\n",
              "      <td>mug</td>\n",
              "      <td>0.486705</td>\n",
              "    </tr>\n",
              "  </tbody>\n",
              "</table>\n",
              "</div>"
            ],
            "text/plain": [
              "   color  item     value\n",
              "0  white  ball  0.028005\n",
              "1  white   pen  0.030776\n",
              "2  white   mug  0.784560\n",
              "3    red  ball  0.267798\n",
              "4    red   pen  0.624344\n",
              "5    red   mug  0.080814\n",
              "6  black  ball  0.611194\n",
              "7  black   pen  0.457765\n",
              "8  black   mug  0.486705"
            ]
          },
          "metadata": {
            "tags": []
          },
          "execution_count": 49
        }
      ]
    },
    {
      "metadata": {
        "id": "JzztR-CR7ET5",
        "colab_type": "text"
      },
      "cell_type": "markdown",
      "source": [
        "The **pivot()** function transforms the dataframe into more readable dataframe by specifying the column names as arguments"
      ]
    },
    {
      "metadata": {
        "id": "9jQ9q-pZ7ZMs",
        "colab_type": "code",
        "colab": {
          "base_uri": "https://localhost:8080/",
          "height": 204
        },
        "outputId": "84d4df1e-834c-4f7c-aae9-9e74d6a7448a"
      },
      "cell_type": "code",
      "source": [
        "wideframe = longframe.pivot('color','item')\n",
        "wideframe"
      ],
      "execution_count": 50,
      "outputs": [
        {
          "output_type": "execute_result",
          "data": {
            "text/html": [
              "<div>\n",
              "<style scoped>\n",
              "    .dataframe tbody tr th:only-of-type {\n",
              "        vertical-align: middle;\n",
              "    }\n",
              "\n",
              "    .dataframe tbody tr th {\n",
              "        vertical-align: top;\n",
              "    }\n",
              "\n",
              "    .dataframe thead tr th {\n",
              "        text-align: left;\n",
              "    }\n",
              "\n",
              "    .dataframe thead tr:last-of-type th {\n",
              "        text-align: right;\n",
              "    }\n",
              "</style>\n",
              "<table border=\"1\" class=\"dataframe\">\n",
              "  <thead>\n",
              "    <tr>\n",
              "      <th></th>\n",
              "      <th colspan=\"3\" halign=\"left\">value</th>\n",
              "    </tr>\n",
              "    <tr>\n",
              "      <th>item</th>\n",
              "      <th>ball</th>\n",
              "      <th>mug</th>\n",
              "      <th>pen</th>\n",
              "    </tr>\n",
              "    <tr>\n",
              "      <th>color</th>\n",
              "      <th></th>\n",
              "      <th></th>\n",
              "      <th></th>\n",
              "    </tr>\n",
              "  </thead>\n",
              "  <tbody>\n",
              "    <tr>\n",
              "      <th>black</th>\n",
              "      <td>0.611194</td>\n",
              "      <td>0.486705</td>\n",
              "      <td>0.457765</td>\n",
              "    </tr>\n",
              "    <tr>\n",
              "      <th>red</th>\n",
              "      <td>0.267798</td>\n",
              "      <td>0.080814</td>\n",
              "      <td>0.624344</td>\n",
              "    </tr>\n",
              "    <tr>\n",
              "      <th>white</th>\n",
              "      <td>0.028005</td>\n",
              "      <td>0.784560</td>\n",
              "      <td>0.030776</td>\n",
              "    </tr>\n",
              "  </tbody>\n",
              "</table>\n",
              "</div>"
            ],
            "text/plain": [
              "          value                    \n",
              "item       ball       mug       pen\n",
              "color                              \n",
              "black  0.611194  0.486705  0.457765\n",
              "red    0.267798  0.080814  0.624344\n",
              "white  0.028005  0.784560  0.030776"
            ]
          },
          "metadata": {
            "tags": []
          },
          "execution_count": 50
        }
      ]
    },
    {
      "metadata": {
        "id": "JYUw429j7hAJ",
        "colab_type": "text"
      },
      "cell_type": "markdown",
      "source": [
        "##Removing"
      ]
    },
    {
      "metadata": {
        "id": "vd5AlV1l74a4",
        "colab_type": "code",
        "colab": {
          "base_uri": "https://localhost:8080/",
          "height": 142
        },
        "outputId": "1319f056-ec8c-48d0-8e35-0fa25b7cfb5e"
      },
      "cell_type": "code",
      "source": [
        "frame1 = pd.DataFrame(np.arange(9).reshape(3,3),\n",
        "                      index=['white','black','red'],\n",
        "                      columns=['ball','pen','pencil'])\n",
        "frame1"
      ],
      "execution_count": 54,
      "outputs": [
        {
          "output_type": "execute_result",
          "data": {
            "text/html": [
              "<div>\n",
              "<style scoped>\n",
              "    .dataframe tbody tr th:only-of-type {\n",
              "        vertical-align: middle;\n",
              "    }\n",
              "\n",
              "    .dataframe tbody tr th {\n",
              "        vertical-align: top;\n",
              "    }\n",
              "\n",
              "    .dataframe thead th {\n",
              "        text-align: right;\n",
              "    }\n",
              "</style>\n",
              "<table border=\"1\" class=\"dataframe\">\n",
              "  <thead>\n",
              "    <tr style=\"text-align: right;\">\n",
              "      <th></th>\n",
              "      <th>ball</th>\n",
              "      <th>pen</th>\n",
              "      <th>pencil</th>\n",
              "    </tr>\n",
              "  </thead>\n",
              "  <tbody>\n",
              "    <tr>\n",
              "      <th>white</th>\n",
              "      <td>0</td>\n",
              "      <td>1</td>\n",
              "      <td>2</td>\n",
              "    </tr>\n",
              "    <tr>\n",
              "      <th>black</th>\n",
              "      <td>3</td>\n",
              "      <td>4</td>\n",
              "      <td>5</td>\n",
              "    </tr>\n",
              "    <tr>\n",
              "      <th>red</th>\n",
              "      <td>6</td>\n",
              "      <td>7</td>\n",
              "      <td>8</td>\n",
              "    </tr>\n",
              "  </tbody>\n",
              "</table>\n",
              "</div>"
            ],
            "text/plain": [
              "       ball  pen  pencil\n",
              "white     0    1       2\n",
              "black     3    4       5\n",
              "red       6    7       8"
            ]
          },
          "metadata": {
            "tags": []
          },
          "execution_count": 54
        }
      ]
    },
    {
      "metadata": {
        "id": "LOSwfFmp7-_R",
        "colab_type": "text"
      },
      "cell_type": "markdown",
      "source": [
        "**del** command to remove a column"
      ]
    },
    {
      "metadata": {
        "id": "nSIitsHT8FNl",
        "colab_type": "code",
        "colab": {
          "base_uri": "https://localhost:8080/",
          "height": 142
        },
        "outputId": "61844378-5e4c-4505-ce71-3d2b844eca0a"
      },
      "cell_type": "code",
      "source": [
        "del frame1['ball']\n",
        "frame1"
      ],
      "execution_count": 55,
      "outputs": [
        {
          "output_type": "execute_result",
          "data": {
            "text/html": [
              "<div>\n",
              "<style scoped>\n",
              "    .dataframe tbody tr th:only-of-type {\n",
              "        vertical-align: middle;\n",
              "    }\n",
              "\n",
              "    .dataframe tbody tr th {\n",
              "        vertical-align: top;\n",
              "    }\n",
              "\n",
              "    .dataframe thead th {\n",
              "        text-align: right;\n",
              "    }\n",
              "</style>\n",
              "<table border=\"1\" class=\"dataframe\">\n",
              "  <thead>\n",
              "    <tr style=\"text-align: right;\">\n",
              "      <th></th>\n",
              "      <th>pen</th>\n",
              "      <th>pencil</th>\n",
              "    </tr>\n",
              "  </thead>\n",
              "  <tbody>\n",
              "    <tr>\n",
              "      <th>white</th>\n",
              "      <td>1</td>\n",
              "      <td>2</td>\n",
              "    </tr>\n",
              "    <tr>\n",
              "      <th>black</th>\n",
              "      <td>4</td>\n",
              "      <td>5</td>\n",
              "    </tr>\n",
              "    <tr>\n",
              "      <th>red</th>\n",
              "      <td>7</td>\n",
              "      <td>8</td>\n",
              "    </tr>\n",
              "  </tbody>\n",
              "</table>\n",
              "</div>"
            ],
            "text/plain": [
              "       pen  pencil\n",
              "white    1       2\n",
              "black    4       5\n",
              "red      7       8"
            ]
          },
          "metadata": {
            "tags": []
          },
          "execution_count": 55
        }
      ]
    },
    {
      "metadata": {
        "id": "w69syvJ78Kif",
        "colab_type": "text"
      },
      "cell_type": "markdown",
      "source": [
        "**drop()** function to remove a row"
      ]
    },
    {
      "metadata": {
        "id": "D5efNjsH8Njg",
        "colab_type": "code",
        "colab": {
          "base_uri": "https://localhost:8080/",
          "height": 111
        },
        "outputId": "815ce6a4-e995-4d52-f488-b53f46aad6a0"
      },
      "cell_type": "code",
      "source": [
        "frame1.drop('white')"
      ],
      "execution_count": 56,
      "outputs": [
        {
          "output_type": "execute_result",
          "data": {
            "text/html": [
              "<div>\n",
              "<style scoped>\n",
              "    .dataframe tbody tr th:only-of-type {\n",
              "        vertical-align: middle;\n",
              "    }\n",
              "\n",
              "    .dataframe tbody tr th {\n",
              "        vertical-align: top;\n",
              "    }\n",
              "\n",
              "    .dataframe thead th {\n",
              "        text-align: right;\n",
              "    }\n",
              "</style>\n",
              "<table border=\"1\" class=\"dataframe\">\n",
              "  <thead>\n",
              "    <tr style=\"text-align: right;\">\n",
              "      <th></th>\n",
              "      <th>pen</th>\n",
              "      <th>pencil</th>\n",
              "    </tr>\n",
              "  </thead>\n",
              "  <tbody>\n",
              "    <tr>\n",
              "      <th>black</th>\n",
              "      <td>4</td>\n",
              "      <td>5</td>\n",
              "    </tr>\n",
              "    <tr>\n",
              "      <th>red</th>\n",
              "      <td>7</td>\n",
              "      <td>8</td>\n",
              "    </tr>\n",
              "  </tbody>\n",
              "</table>\n",
              "</div>"
            ],
            "text/plain": [
              "       pen  pencil\n",
              "black    4       5\n",
              "red      7       8"
            ]
          },
          "metadata": {
            "tags": []
          },
          "execution_count": 56
        }
      ]
    },
    {
      "metadata": {
        "id": "OWjPqSqN8UCd",
        "colab_type": "text"
      },
      "cell_type": "markdown",
      "source": [
        "#Data Transformation"
      ]
    },
    {
      "metadata": {
        "id": "vNagqwvd8lYt",
        "colab_type": "text"
      },
      "cell_type": "markdown",
      "source": [
        "##Removing Duplicates"
      ]
    },
    {
      "metadata": {
        "id": "00EsIynP8pY4",
        "colab_type": "code",
        "colab": {
          "base_uri": "https://localhost:8080/",
          "height": 204
        },
        "outputId": "7bfd151b-d32e-443f-b245-8d6ba6aaad99"
      },
      "cell_type": "code",
      "source": [
        "dframe = pd.DataFrame({ 'color': ['white','white','red','red','white'],\n",
        "                       'value': [2,1,3,3,2]})\n",
        "dframe"
      ],
      "execution_count": 57,
      "outputs": [
        {
          "output_type": "execute_result",
          "data": {
            "text/html": [
              "<div>\n",
              "<style scoped>\n",
              "    .dataframe tbody tr th:only-of-type {\n",
              "        vertical-align: middle;\n",
              "    }\n",
              "\n",
              "    .dataframe tbody tr th {\n",
              "        vertical-align: top;\n",
              "    }\n",
              "\n",
              "    .dataframe thead th {\n",
              "        text-align: right;\n",
              "    }\n",
              "</style>\n",
              "<table border=\"1\" class=\"dataframe\">\n",
              "  <thead>\n",
              "    <tr style=\"text-align: right;\">\n",
              "      <th></th>\n",
              "      <th>color</th>\n",
              "      <th>value</th>\n",
              "    </tr>\n",
              "  </thead>\n",
              "  <tbody>\n",
              "    <tr>\n",
              "      <th>0</th>\n",
              "      <td>white</td>\n",
              "      <td>2</td>\n",
              "    </tr>\n",
              "    <tr>\n",
              "      <th>1</th>\n",
              "      <td>white</td>\n",
              "      <td>1</td>\n",
              "    </tr>\n",
              "    <tr>\n",
              "      <th>2</th>\n",
              "      <td>red</td>\n",
              "      <td>3</td>\n",
              "    </tr>\n",
              "    <tr>\n",
              "      <th>3</th>\n",
              "      <td>red</td>\n",
              "      <td>3</td>\n",
              "    </tr>\n",
              "    <tr>\n",
              "      <th>4</th>\n",
              "      <td>white</td>\n",
              "      <td>2</td>\n",
              "    </tr>\n",
              "  </tbody>\n",
              "</table>\n",
              "</div>"
            ],
            "text/plain": [
              "   color  value\n",
              "0  white      2\n",
              "1  white      1\n",
              "2    red      3\n",
              "3    red      3\n",
              "4  white      2"
            ]
          },
          "metadata": {
            "tags": []
          },
          "execution_count": 57
        }
      ]
    },
    {
      "metadata": {
        "id": "uOPTHDAt8xaY",
        "colab_type": "text"
      },
      "cell_type": "markdown",
      "source": [
        "**duplicated()** detects the rows that appear to be duplicated and returns a series of Booleans, with **True** for duplicated, and with **False** if there are no duplicates in the previous elements"
      ]
    },
    {
      "metadata": {
        "id": "JUY6T4da9BxB",
        "colab_type": "code",
        "colab": {
          "base_uri": "https://localhost:8080/",
          "height": 119
        },
        "outputId": "8246841c-0cb3-4682-b1f3-14ef8f0f3f5e"
      },
      "cell_type": "code",
      "source": [
        "dframe.duplicated()"
      ],
      "execution_count": 58,
      "outputs": [
        {
          "output_type": "execute_result",
          "data": {
            "text/plain": [
              "0    False\n",
              "1    False\n",
              "2    False\n",
              "3     True\n",
              "4     True\n",
              "dtype: bool"
            ]
          },
          "metadata": {
            "tags": []
          },
          "execution_count": 58
        }
      ]
    },
    {
      "metadata": {
        "id": "0fWW0apP9PS8",
        "colab_type": "text"
      },
      "cell_type": "markdown",
      "source": [
        "To see which elements are duplicated:"
      ]
    },
    {
      "metadata": {
        "id": "rCEse3hW9RoQ",
        "colab_type": "code",
        "colab": {
          "base_uri": "https://localhost:8080/",
          "height": 111
        },
        "outputId": "541a598f-0d4a-4133-90d8-d94e39c4be27"
      },
      "cell_type": "code",
      "source": [
        "dframe[dframe.duplicated()]"
      ],
      "execution_count": 59,
      "outputs": [
        {
          "output_type": "execute_result",
          "data": {
            "text/html": [
              "<div>\n",
              "<style scoped>\n",
              "    .dataframe tbody tr th:only-of-type {\n",
              "        vertical-align: middle;\n",
              "    }\n",
              "\n",
              "    .dataframe tbody tr th {\n",
              "        vertical-align: top;\n",
              "    }\n",
              "\n",
              "    .dataframe thead th {\n",
              "        text-align: right;\n",
              "    }\n",
              "</style>\n",
              "<table border=\"1\" class=\"dataframe\">\n",
              "  <thead>\n",
              "    <tr style=\"text-align: right;\">\n",
              "      <th></th>\n",
              "      <th>color</th>\n",
              "      <th>value</th>\n",
              "    </tr>\n",
              "  </thead>\n",
              "  <tbody>\n",
              "    <tr>\n",
              "      <th>3</th>\n",
              "      <td>red</td>\n",
              "      <td>3</td>\n",
              "    </tr>\n",
              "    <tr>\n",
              "      <th>4</th>\n",
              "      <td>white</td>\n",
              "      <td>2</td>\n",
              "    </tr>\n",
              "  </tbody>\n",
              "</table>\n",
              "</div>"
            ],
            "text/plain": [
              "   color  value\n",
              "3    red      3\n",
              "4  white      2"
            ]
          },
          "metadata": {
            "tags": []
          },
          "execution_count": 59
        }
      ]
    },
    {
      "metadata": {
        "id": "p_Gwgu7c9VVE",
        "colab_type": "text"
      },
      "cell_type": "markdown",
      "source": [
        "**drop_duplicates()** returns the dataframes without duplicate rows"
      ]
    },
    {
      "metadata": {
        "id": "8G8TEPHy9bIX",
        "colab_type": "code",
        "colab": {
          "base_uri": "https://localhost:8080/",
          "height": 142
        },
        "outputId": "4cfd516c-7c95-409b-ad7b-e25bc540ea32"
      },
      "cell_type": "code",
      "source": [
        "dframe.drop_duplicates()"
      ],
      "execution_count": 60,
      "outputs": [
        {
          "output_type": "execute_result",
          "data": {
            "text/html": [
              "<div>\n",
              "<style scoped>\n",
              "    .dataframe tbody tr th:only-of-type {\n",
              "        vertical-align: middle;\n",
              "    }\n",
              "\n",
              "    .dataframe tbody tr th {\n",
              "        vertical-align: top;\n",
              "    }\n",
              "\n",
              "    .dataframe thead th {\n",
              "        text-align: right;\n",
              "    }\n",
              "</style>\n",
              "<table border=\"1\" class=\"dataframe\">\n",
              "  <thead>\n",
              "    <tr style=\"text-align: right;\">\n",
              "      <th></th>\n",
              "      <th>color</th>\n",
              "      <th>value</th>\n",
              "    </tr>\n",
              "  </thead>\n",
              "  <tbody>\n",
              "    <tr>\n",
              "      <th>0</th>\n",
              "      <td>white</td>\n",
              "      <td>2</td>\n",
              "    </tr>\n",
              "    <tr>\n",
              "      <th>1</th>\n",
              "      <td>white</td>\n",
              "      <td>1</td>\n",
              "    </tr>\n",
              "    <tr>\n",
              "      <th>2</th>\n",
              "      <td>red</td>\n",
              "      <td>3</td>\n",
              "    </tr>\n",
              "  </tbody>\n",
              "</table>\n",
              "</div>"
            ],
            "text/plain": [
              "   color  value\n",
              "0  white      2\n",
              "1  white      1\n",
              "2    red      3"
            ]
          },
          "metadata": {
            "tags": []
          },
          "execution_count": 60
        }
      ]
    },
    {
      "metadata": {
        "id": "WXsG8rlc9ffX",
        "colab_type": "text"
      },
      "cell_type": "markdown",
      "source": [
        "##Mapping\n",
        "To define mapping there is no better object than *dict* objects.\n",
        "\n",
        "    map = {\n",
        "             'lable1': 'value1',\n",
        "             'label2': 'value2',\n",
        "             ...\n",
        "    }\n",
        "\n",
        "\n",
        "\n",
        "*   **replace()** -- Replaces values\n",
        "*   **map()** -- Creates a new column\n",
        "*   **rename()** -- Replaces the index values\n",
        "\n"
      ]
    },
    {
      "metadata": {
        "id": "93gMJmRV-XLJ",
        "colab_type": "text"
      },
      "cell_type": "markdown",
      "source": [
        "###Replacing Values via Mapping"
      ]
    },
    {
      "metadata": {
        "id": "H0Gp4Mxb-maP",
        "colab_type": "code",
        "colab": {
          "base_uri": "https://localhost:8080/",
          "height": 204
        },
        "outputId": "d0af460c-113c-4d90-e06f-dad2c2193c7a"
      },
      "cell_type": "code",
      "source": [
        "frame = pd.DataFrame({ 'item':['ball','mug','pen','pencil','ashtray'],\n",
        "                      'color':['white','rosso','verde','black','yellow'],\n",
        "                      'price':[5.56,4.20,1.30,0.56,2.75]})\n",
        "frame"
      ],
      "execution_count": 61,
      "outputs": [
        {
          "output_type": "execute_result",
          "data": {
            "text/html": [
              "<div>\n",
              "<style scoped>\n",
              "    .dataframe tbody tr th:only-of-type {\n",
              "        vertical-align: middle;\n",
              "    }\n",
              "\n",
              "    .dataframe tbody tr th {\n",
              "        vertical-align: top;\n",
              "    }\n",
              "\n",
              "    .dataframe thead th {\n",
              "        text-align: right;\n",
              "    }\n",
              "</style>\n",
              "<table border=\"1\" class=\"dataframe\">\n",
              "  <thead>\n",
              "    <tr style=\"text-align: right;\">\n",
              "      <th></th>\n",
              "      <th>color</th>\n",
              "      <th>item</th>\n",
              "      <th>price</th>\n",
              "    </tr>\n",
              "  </thead>\n",
              "  <tbody>\n",
              "    <tr>\n",
              "      <th>0</th>\n",
              "      <td>white</td>\n",
              "      <td>ball</td>\n",
              "      <td>5.56</td>\n",
              "    </tr>\n",
              "    <tr>\n",
              "      <th>1</th>\n",
              "      <td>rosso</td>\n",
              "      <td>mug</td>\n",
              "      <td>4.20</td>\n",
              "    </tr>\n",
              "    <tr>\n",
              "      <th>2</th>\n",
              "      <td>verde</td>\n",
              "      <td>pen</td>\n",
              "      <td>1.30</td>\n",
              "    </tr>\n",
              "    <tr>\n",
              "      <th>3</th>\n",
              "      <td>black</td>\n",
              "      <td>pencil</td>\n",
              "      <td>0.56</td>\n",
              "    </tr>\n",
              "    <tr>\n",
              "      <th>4</th>\n",
              "      <td>yellow</td>\n",
              "      <td>ashtray</td>\n",
              "      <td>2.75</td>\n",
              "    </tr>\n",
              "  </tbody>\n",
              "</table>\n",
              "</div>"
            ],
            "text/plain": [
              "    color     item  price\n",
              "0   white     ball   5.56\n",
              "1   rosso      mug   4.20\n",
              "2   verde      pen   1.30\n",
              "3   black   pencil   0.56\n",
              "4  yellow  ashtray   2.75"
            ]
          },
          "metadata": {
            "tags": []
          },
          "execution_count": 61
        }
      ]
    },
    {
      "metadata": {
        "id": "cSl44Jtb-0XP",
        "colab_type": "text"
      },
      "cell_type": "markdown",
      "source": [
        "Define a mapping:"
      ]
    },
    {
      "metadata": {
        "id": "MTtO4ovF-ydK",
        "colab_type": "code",
        "colab": {}
      },
      "cell_type": "code",
      "source": [
        "newcolors = {\n",
        "    'rosso': 'red',\n",
        "    'verde': 'green'\n",
        "}"
      ],
      "execution_count": 0,
      "outputs": []
    },
    {
      "metadata": {
        "id": "f89mq5fO-_by",
        "colab_type": "text"
      },
      "cell_type": "markdown",
      "source": [
        "Use **replace()** with the mapping"
      ]
    },
    {
      "metadata": {
        "id": "vyU-1iFd_Ciw",
        "colab_type": "code",
        "colab": {
          "base_uri": "https://localhost:8080/",
          "height": 204
        },
        "outputId": "58dd2249-69c3-47f4-d325-f6ca192b2fc4"
      },
      "cell_type": "code",
      "source": [
        "frame.replace(newcolors)"
      ],
      "execution_count": 63,
      "outputs": [
        {
          "output_type": "execute_result",
          "data": {
            "text/html": [
              "<div>\n",
              "<style scoped>\n",
              "    .dataframe tbody tr th:only-of-type {\n",
              "        vertical-align: middle;\n",
              "    }\n",
              "\n",
              "    .dataframe tbody tr th {\n",
              "        vertical-align: top;\n",
              "    }\n",
              "\n",
              "    .dataframe thead th {\n",
              "        text-align: right;\n",
              "    }\n",
              "</style>\n",
              "<table border=\"1\" class=\"dataframe\">\n",
              "  <thead>\n",
              "    <tr style=\"text-align: right;\">\n",
              "      <th></th>\n",
              "      <th>color</th>\n",
              "      <th>item</th>\n",
              "      <th>price</th>\n",
              "    </tr>\n",
              "  </thead>\n",
              "  <tbody>\n",
              "    <tr>\n",
              "      <th>0</th>\n",
              "      <td>white</td>\n",
              "      <td>ball</td>\n",
              "      <td>5.56</td>\n",
              "    </tr>\n",
              "    <tr>\n",
              "      <th>1</th>\n",
              "      <td>red</td>\n",
              "      <td>mug</td>\n",
              "      <td>4.20</td>\n",
              "    </tr>\n",
              "    <tr>\n",
              "      <th>2</th>\n",
              "      <td>green</td>\n",
              "      <td>pen</td>\n",
              "      <td>1.30</td>\n",
              "    </tr>\n",
              "    <tr>\n",
              "      <th>3</th>\n",
              "      <td>black</td>\n",
              "      <td>pencil</td>\n",
              "      <td>0.56</td>\n",
              "    </tr>\n",
              "    <tr>\n",
              "      <th>4</th>\n",
              "      <td>yellow</td>\n",
              "      <td>ashtray</td>\n",
              "      <td>2.75</td>\n",
              "    </tr>\n",
              "  </tbody>\n",
              "</table>\n",
              "</div>"
            ],
            "text/plain": [
              "    color     item  price\n",
              "0   white     ball   5.56\n",
              "1     red      mug   4.20\n",
              "2   green      pen   1.30\n",
              "3   black   pencil   0.56\n",
              "4  yellow  ashtray   2.75"
            ]
          },
          "metadata": {
            "tags": []
          },
          "execution_count": 63
        }
      ]
    },
    {
      "metadata": {
        "id": "Kt1APoTH_M46",
        "colab_type": "text"
      },
      "cell_type": "markdown",
      "source": [
        "Replace NaN with 0,"
      ]
    },
    {
      "metadata": {
        "id": "-Qv5SSyD_Pak",
        "colab_type": "code",
        "colab": {
          "base_uri": "https://localhost:8080/",
          "height": 153
        },
        "outputId": "daae28ec-d2b7-4924-dbb4-ed85f519187f"
      },
      "cell_type": "code",
      "source": [
        "ser = pd.Series([1,3,np.nan,4,6,np.nan,3])\n",
        "ser"
      ],
      "execution_count": 64,
      "outputs": [
        {
          "output_type": "execute_result",
          "data": {
            "text/plain": [
              "0    1.0\n",
              "1    3.0\n",
              "2    NaN\n",
              "3    4.0\n",
              "4    6.0\n",
              "5    NaN\n",
              "6    3.0\n",
              "dtype: float64"
            ]
          },
          "metadata": {
            "tags": []
          },
          "execution_count": 64
        }
      ]
    },
    {
      "metadata": {
        "id": "T-6BN9LH_WTW",
        "colab_type": "code",
        "colab": {
          "base_uri": "https://localhost:8080/",
          "height": 153
        },
        "outputId": "f00837e9-c4eb-4ea4-aad2-6281ad107855"
      },
      "cell_type": "code",
      "source": [
        "ser.replace(np.nan, 0)"
      ],
      "execution_count": 65,
      "outputs": [
        {
          "output_type": "execute_result",
          "data": {
            "text/plain": [
              "0    1.0\n",
              "1    3.0\n",
              "2    0.0\n",
              "3    4.0\n",
              "4    6.0\n",
              "5    0.0\n",
              "6    3.0\n",
              "dtype: float64"
            ]
          },
          "metadata": {
            "tags": []
          },
          "execution_count": 65
        }
      ]
    },
    {
      "metadata": {
        "id": "xCIbWt2g_ahF",
        "colab_type": "text"
      },
      "cell_type": "markdown",
      "source": [
        "###Adding Values via Mapping"
      ]
    },
    {
      "metadata": {
        "id": "P7y2cRk__mZC",
        "colab_type": "code",
        "colab": {
          "base_uri": "https://localhost:8080/",
          "height": 204
        },
        "outputId": "5c600044-22aa-470a-fa0e-ec0e27295c5a"
      },
      "cell_type": "code",
      "source": [
        "frame = pd.DataFrame({ 'item':['ball','mug','pen','pencil','ashtray'],\n",
        "                      'color':['white','red','green','black','yellow']})\n",
        "frame"
      ],
      "execution_count": 66,
      "outputs": [
        {
          "output_type": "execute_result",
          "data": {
            "text/html": [
              "<div>\n",
              "<style scoped>\n",
              "    .dataframe tbody tr th:only-of-type {\n",
              "        vertical-align: middle;\n",
              "    }\n",
              "\n",
              "    .dataframe tbody tr th {\n",
              "        vertical-align: top;\n",
              "    }\n",
              "\n",
              "    .dataframe thead th {\n",
              "        text-align: right;\n",
              "    }\n",
              "</style>\n",
              "<table border=\"1\" class=\"dataframe\">\n",
              "  <thead>\n",
              "    <tr style=\"text-align: right;\">\n",
              "      <th></th>\n",
              "      <th>color</th>\n",
              "      <th>item</th>\n",
              "    </tr>\n",
              "  </thead>\n",
              "  <tbody>\n",
              "    <tr>\n",
              "      <th>0</th>\n",
              "      <td>white</td>\n",
              "      <td>ball</td>\n",
              "    </tr>\n",
              "    <tr>\n",
              "      <th>1</th>\n",
              "      <td>red</td>\n",
              "      <td>mug</td>\n",
              "    </tr>\n",
              "    <tr>\n",
              "      <th>2</th>\n",
              "      <td>green</td>\n",
              "      <td>pen</td>\n",
              "    </tr>\n",
              "    <tr>\n",
              "      <th>3</th>\n",
              "      <td>black</td>\n",
              "      <td>pencil</td>\n",
              "    </tr>\n",
              "    <tr>\n",
              "      <th>4</th>\n",
              "      <td>yellow</td>\n",
              "      <td>ashtray</td>\n",
              "    </tr>\n",
              "  </tbody>\n",
              "</table>\n",
              "</div>"
            ],
            "text/plain": [
              "    color     item\n",
              "0   white     ball\n",
              "1     red      mug\n",
              "2   green      pen\n",
              "3   black   pencil\n",
              "4  yellow  ashtray"
            ]
          },
          "metadata": {
            "tags": []
          },
          "execution_count": 66
        }
      ]
    },
    {
      "metadata": {
        "id": "4E0ZdBVo_pep",
        "colab_type": "text"
      },
      "cell_type": "markdown",
      "source": [
        "Deinfe a price mapping,"
      ]
    },
    {
      "metadata": {
        "id": "y_KOImk1_xud",
        "colab_type": "code",
        "colab": {}
      },
      "cell_type": "code",
      "source": [
        "prices = {\n",
        "    'ball' : 5.56,\n",
        "    'mug' : 4.20,\n",
        "    'bottle' : 1.30,\n",
        "    'scissors' : 3.41,\n",
        "    'pen' : 1.30,\n",
        "    'pencil' : 0.56,\n",
        "    'ashtray' : 2.75\n",
        "}"
      ],
      "execution_count": 0,
      "outputs": []
    },
    {
      "metadata": {
        "id": "EWqHOgwx_77M",
        "colab_type": "text"
      },
      "cell_type": "markdown",
      "source": [
        "**map()** applies to a series or to a column of a dataframe.\n",
        "\n",
        "In this case, you can apply the mapping of the prices on the column item, making sure to add a column to the price dataframe"
      ]
    },
    {
      "metadata": {
        "id": "3putEWG1AJnK",
        "colab_type": "code",
        "colab": {
          "base_uri": "https://localhost:8080/",
          "height": 204
        },
        "outputId": "63436a83-2406-4ab9-974d-db317adc6877"
      },
      "cell_type": "code",
      "source": [
        "frame['price'] = frame['item'].map(prices)  #mapp prices to item in frame\n",
        "frame"
      ],
      "execution_count": 69,
      "outputs": [
        {
          "output_type": "execute_result",
          "data": {
            "text/html": [
              "<div>\n",
              "<style scoped>\n",
              "    .dataframe tbody tr th:only-of-type {\n",
              "        vertical-align: middle;\n",
              "    }\n",
              "\n",
              "    .dataframe tbody tr th {\n",
              "        vertical-align: top;\n",
              "    }\n",
              "\n",
              "    .dataframe thead th {\n",
              "        text-align: right;\n",
              "    }\n",
              "</style>\n",
              "<table border=\"1\" class=\"dataframe\">\n",
              "  <thead>\n",
              "    <tr style=\"text-align: right;\">\n",
              "      <th></th>\n",
              "      <th>color</th>\n",
              "      <th>item</th>\n",
              "      <th>price</th>\n",
              "    </tr>\n",
              "  </thead>\n",
              "  <tbody>\n",
              "    <tr>\n",
              "      <th>0</th>\n",
              "      <td>white</td>\n",
              "      <td>ball</td>\n",
              "      <td>5.56</td>\n",
              "    </tr>\n",
              "    <tr>\n",
              "      <th>1</th>\n",
              "      <td>red</td>\n",
              "      <td>mug</td>\n",
              "      <td>4.20</td>\n",
              "    </tr>\n",
              "    <tr>\n",
              "      <th>2</th>\n",
              "      <td>green</td>\n",
              "      <td>pen</td>\n",
              "      <td>1.30</td>\n",
              "    </tr>\n",
              "    <tr>\n",
              "      <th>3</th>\n",
              "      <td>black</td>\n",
              "      <td>pencil</td>\n",
              "      <td>0.56</td>\n",
              "    </tr>\n",
              "    <tr>\n",
              "      <th>4</th>\n",
              "      <td>yellow</td>\n",
              "      <td>ashtray</td>\n",
              "      <td>2.75</td>\n",
              "    </tr>\n",
              "  </tbody>\n",
              "</table>\n",
              "</div>"
            ],
            "text/plain": [
              "    color     item  price\n",
              "0   white     ball   5.56\n",
              "1     red      mug   4.20\n",
              "2   green      pen   1.30\n",
              "3   black   pencil   0.56\n",
              "4  yellow  ashtray   2.75"
            ]
          },
          "metadata": {
            "tags": []
          },
          "execution_count": 69
        }
      ]
    },
    {
      "metadata": {
        "id": "r5aW21LTAaAq",
        "colab_type": "text"
      },
      "cell_type": "markdown",
      "source": [
        "###Rename the Indexes of the Axes\n",
        "\n",
        "create a map first"
      ]
    },
    {
      "metadata": {
        "id": "4qsTU8mTA2d-",
        "colab_type": "code",
        "colab": {}
      },
      "cell_type": "code",
      "source": [
        "reindex = {\n",
        "    0: 'first',\n",
        "    1: 'second',\n",
        "    2: 'third',\n",
        "    3: 'fourth',\n",
        "    4: 'fifth'\n",
        "}"
      ],
      "execution_count": 0,
      "outputs": []
    },
    {
      "metadata": {
        "id": "9eH8ZI3eBDkH",
        "colab_type": "text"
      },
      "cell_type": "markdown",
      "source": [
        "The **rename()** function by default will rename the indexes"
      ]
    },
    {
      "metadata": {
        "id": "Fm8UHntGBG7r",
        "colab_type": "code",
        "colab": {
          "base_uri": "https://localhost:8080/",
          "height": 204
        },
        "outputId": "4de60d62-a8fa-4177-a4d6-6da826738899"
      },
      "cell_type": "code",
      "source": [
        "frame"
      ],
      "execution_count": 71,
      "outputs": [
        {
          "output_type": "execute_result",
          "data": {
            "text/html": [
              "<div>\n",
              "<style scoped>\n",
              "    .dataframe tbody tr th:only-of-type {\n",
              "        vertical-align: middle;\n",
              "    }\n",
              "\n",
              "    .dataframe tbody tr th {\n",
              "        vertical-align: top;\n",
              "    }\n",
              "\n",
              "    .dataframe thead th {\n",
              "        text-align: right;\n",
              "    }\n",
              "</style>\n",
              "<table border=\"1\" class=\"dataframe\">\n",
              "  <thead>\n",
              "    <tr style=\"text-align: right;\">\n",
              "      <th></th>\n",
              "      <th>color</th>\n",
              "      <th>item</th>\n",
              "      <th>price</th>\n",
              "    </tr>\n",
              "  </thead>\n",
              "  <tbody>\n",
              "    <tr>\n",
              "      <th>0</th>\n",
              "      <td>white</td>\n",
              "      <td>ball</td>\n",
              "      <td>5.56</td>\n",
              "    </tr>\n",
              "    <tr>\n",
              "      <th>1</th>\n",
              "      <td>red</td>\n",
              "      <td>mug</td>\n",
              "      <td>4.20</td>\n",
              "    </tr>\n",
              "    <tr>\n",
              "      <th>2</th>\n",
              "      <td>green</td>\n",
              "      <td>pen</td>\n",
              "      <td>1.30</td>\n",
              "    </tr>\n",
              "    <tr>\n",
              "      <th>3</th>\n",
              "      <td>black</td>\n",
              "      <td>pencil</td>\n",
              "      <td>0.56</td>\n",
              "    </tr>\n",
              "    <tr>\n",
              "      <th>4</th>\n",
              "      <td>yellow</td>\n",
              "      <td>ashtray</td>\n",
              "      <td>2.75</td>\n",
              "    </tr>\n",
              "  </tbody>\n",
              "</table>\n",
              "</div>"
            ],
            "text/plain": [
              "    color     item  price\n",
              "0   white     ball   5.56\n",
              "1     red      mug   4.20\n",
              "2   green      pen   1.30\n",
              "3   black   pencil   0.56\n",
              "4  yellow  ashtray   2.75"
            ]
          },
          "metadata": {
            "tags": []
          },
          "execution_count": 71
        }
      ]
    },
    {
      "metadata": {
        "id": "vbjbKoqSBHyd",
        "colab_type": "code",
        "colab": {
          "base_uri": "https://localhost:8080/",
          "height": 204
        },
        "outputId": "97623092-8659-4e6d-d5de-90912db5d45a"
      },
      "cell_type": "code",
      "source": [
        "frame.rename(reindex)"
      ],
      "execution_count": 72,
      "outputs": [
        {
          "output_type": "execute_result",
          "data": {
            "text/html": [
              "<div>\n",
              "<style scoped>\n",
              "    .dataframe tbody tr th:only-of-type {\n",
              "        vertical-align: middle;\n",
              "    }\n",
              "\n",
              "    .dataframe tbody tr th {\n",
              "        vertical-align: top;\n",
              "    }\n",
              "\n",
              "    .dataframe thead th {\n",
              "        text-align: right;\n",
              "    }\n",
              "</style>\n",
              "<table border=\"1\" class=\"dataframe\">\n",
              "  <thead>\n",
              "    <tr style=\"text-align: right;\">\n",
              "      <th></th>\n",
              "      <th>color</th>\n",
              "      <th>item</th>\n",
              "      <th>price</th>\n",
              "    </tr>\n",
              "  </thead>\n",
              "  <tbody>\n",
              "    <tr>\n",
              "      <th>first</th>\n",
              "      <td>white</td>\n",
              "      <td>ball</td>\n",
              "      <td>5.56</td>\n",
              "    </tr>\n",
              "    <tr>\n",
              "      <th>second</th>\n",
              "      <td>red</td>\n",
              "      <td>mug</td>\n",
              "      <td>4.20</td>\n",
              "    </tr>\n",
              "    <tr>\n",
              "      <th>third</th>\n",
              "      <td>green</td>\n",
              "      <td>pen</td>\n",
              "      <td>1.30</td>\n",
              "    </tr>\n",
              "    <tr>\n",
              "      <th>fourth</th>\n",
              "      <td>black</td>\n",
              "      <td>pencil</td>\n",
              "      <td>0.56</td>\n",
              "    </tr>\n",
              "    <tr>\n",
              "      <th>fifth</th>\n",
              "      <td>yellow</td>\n",
              "      <td>ashtray</td>\n",
              "      <td>2.75</td>\n",
              "    </tr>\n",
              "  </tbody>\n",
              "</table>\n",
              "</div>"
            ],
            "text/plain": [
              "         color     item  price\n",
              "first    white     ball   5.56\n",
              "second     red      mug   4.20\n",
              "third    green      pen   1.30\n",
              "fourth   black   pencil   0.56\n",
              "fifth   yellow  ashtray   2.75"
            ]
          },
          "metadata": {
            "tags": []
          },
          "execution_count": 72
        }
      ]
    },
    {
      "metadata": {
        "id": "Mpwm4LMTBRst",
        "colab_type": "text"
      },
      "cell_type": "markdown",
      "source": [
        "To rename columns, use the **columns** option in **rename()"
      ]
    },
    {
      "metadata": {
        "id": "TSOFL4w-Bb3B",
        "colab_type": "code",
        "colab": {}
      },
      "cell_type": "code",
      "source": [
        "recolumn = {\n",
        "    'item': 'object',\n",
        "    'price': 'value'\n",
        "}"
      ],
      "execution_count": 0,
      "outputs": []
    },
    {
      "metadata": {
        "id": "by1Z87tPBhdm",
        "colab_type": "code",
        "colab": {
          "base_uri": "https://localhost:8080/",
          "height": 204
        },
        "outputId": "467ec5e8-18a6-4b0d-9ad2-a294a0b39ca7"
      },
      "cell_type": "code",
      "source": [
        "frame.rename(index=reindex, columns=recolumn)"
      ],
      "execution_count": 74,
      "outputs": [
        {
          "output_type": "execute_result",
          "data": {
            "text/html": [
              "<div>\n",
              "<style scoped>\n",
              "    .dataframe tbody tr th:only-of-type {\n",
              "        vertical-align: middle;\n",
              "    }\n",
              "\n",
              "    .dataframe tbody tr th {\n",
              "        vertical-align: top;\n",
              "    }\n",
              "\n",
              "    .dataframe thead th {\n",
              "        text-align: right;\n",
              "    }\n",
              "</style>\n",
              "<table border=\"1\" class=\"dataframe\">\n",
              "  <thead>\n",
              "    <tr style=\"text-align: right;\">\n",
              "      <th></th>\n",
              "      <th>color</th>\n",
              "      <th>object</th>\n",
              "      <th>value</th>\n",
              "    </tr>\n",
              "  </thead>\n",
              "  <tbody>\n",
              "    <tr>\n",
              "      <th>first</th>\n",
              "      <td>white</td>\n",
              "      <td>ball</td>\n",
              "      <td>5.56</td>\n",
              "    </tr>\n",
              "    <tr>\n",
              "      <th>second</th>\n",
              "      <td>red</td>\n",
              "      <td>mug</td>\n",
              "      <td>4.20</td>\n",
              "    </tr>\n",
              "    <tr>\n",
              "      <th>third</th>\n",
              "      <td>green</td>\n",
              "      <td>pen</td>\n",
              "      <td>1.30</td>\n",
              "    </tr>\n",
              "    <tr>\n",
              "      <th>fourth</th>\n",
              "      <td>black</td>\n",
              "      <td>pencil</td>\n",
              "      <td>0.56</td>\n",
              "    </tr>\n",
              "    <tr>\n",
              "      <th>fifth</th>\n",
              "      <td>yellow</td>\n",
              "      <td>ashtray</td>\n",
              "      <td>2.75</td>\n",
              "    </tr>\n",
              "  </tbody>\n",
              "</table>\n",
              "</div>"
            ],
            "text/plain": [
              "         color   object  value\n",
              "first    white     ball   5.56\n",
              "second     red      mug   4.20\n",
              "third    green      pen   1.30\n",
              "fourth   black   pencil   0.56\n",
              "fifth   yellow  ashtray   2.75"
            ]
          },
          "metadata": {
            "tags": []
          },
          "execution_count": 74
        }
      ]
    },
    {
      "metadata": {
        "id": "32Q5IpKwBqbA",
        "colab_type": "text"
      },
      "cell_type": "markdown",
      "source": [
        "To replace just one value,"
      ]
    },
    {
      "metadata": {
        "id": "t1A56S70Bsr0",
        "colab_type": "code",
        "colab": {
          "base_uri": "https://localhost:8080/",
          "height": 204
        },
        "outputId": "0624ad15-beb1-4454-c333-ecc225428453"
      },
      "cell_type": "code",
      "source": [
        "frame.rename(index={1:'first'}, columns={'item':'object'})"
      ],
      "execution_count": 75,
      "outputs": [
        {
          "output_type": "execute_result",
          "data": {
            "text/html": [
              "<div>\n",
              "<style scoped>\n",
              "    .dataframe tbody tr th:only-of-type {\n",
              "        vertical-align: middle;\n",
              "    }\n",
              "\n",
              "    .dataframe tbody tr th {\n",
              "        vertical-align: top;\n",
              "    }\n",
              "\n",
              "    .dataframe thead th {\n",
              "        text-align: right;\n",
              "    }\n",
              "</style>\n",
              "<table border=\"1\" class=\"dataframe\">\n",
              "  <thead>\n",
              "    <tr style=\"text-align: right;\">\n",
              "      <th></th>\n",
              "      <th>color</th>\n",
              "      <th>object</th>\n",
              "      <th>price</th>\n",
              "    </tr>\n",
              "  </thead>\n",
              "  <tbody>\n",
              "    <tr>\n",
              "      <th>0</th>\n",
              "      <td>white</td>\n",
              "      <td>ball</td>\n",
              "      <td>5.56</td>\n",
              "    </tr>\n",
              "    <tr>\n",
              "      <th>first</th>\n",
              "      <td>red</td>\n",
              "      <td>mug</td>\n",
              "      <td>4.20</td>\n",
              "    </tr>\n",
              "    <tr>\n",
              "      <th>2</th>\n",
              "      <td>green</td>\n",
              "      <td>pen</td>\n",
              "      <td>1.30</td>\n",
              "    </tr>\n",
              "    <tr>\n",
              "      <th>3</th>\n",
              "      <td>black</td>\n",
              "      <td>pencil</td>\n",
              "      <td>0.56</td>\n",
              "    </tr>\n",
              "    <tr>\n",
              "      <th>4</th>\n",
              "      <td>yellow</td>\n",
              "      <td>ashtray</td>\n",
              "      <td>2.75</td>\n",
              "    </tr>\n",
              "  </tbody>\n",
              "</table>\n",
              "</div>"
            ],
            "text/plain": [
              "        color   object  price\n",
              "0       white     ball   5.56\n",
              "first     red      mug   4.20\n",
              "2       green      pen   1.30\n",
              "3       black   pencil   0.56\n",
              "4      yellow  ashtray   2.75"
            ]
          },
          "metadata": {
            "tags": []
          },
          "execution_count": 75
        }
      ]
    },
    {
      "metadata": {
        "id": "uZJZYhQeB2vH",
        "colab_type": "text"
      },
      "cell_type": "markdown",
      "source": [
        "To take effect on the object on which you call the function, you will set the **inplace()** option to **True**"
      ]
    },
    {
      "metadata": {
        "id": "-sDW41TUB_l5",
        "colab_type": "code",
        "colab": {
          "base_uri": "https://localhost:8080/",
          "height": 204
        },
        "outputId": "06ea90e5-9ee0-4675-f4be-ef986ee0d3a5"
      },
      "cell_type": "code",
      "source": [
        "frame.rename(columns={'item':'object'}, inplace=True)\n",
        "frame"
      ],
      "execution_count": 77,
      "outputs": [
        {
          "output_type": "execute_result",
          "data": {
            "text/html": [
              "<div>\n",
              "<style scoped>\n",
              "    .dataframe tbody tr th:only-of-type {\n",
              "        vertical-align: middle;\n",
              "    }\n",
              "\n",
              "    .dataframe tbody tr th {\n",
              "        vertical-align: top;\n",
              "    }\n",
              "\n",
              "    .dataframe thead th {\n",
              "        text-align: right;\n",
              "    }\n",
              "</style>\n",
              "<table border=\"1\" class=\"dataframe\">\n",
              "  <thead>\n",
              "    <tr style=\"text-align: right;\">\n",
              "      <th></th>\n",
              "      <th>color</th>\n",
              "      <th>object</th>\n",
              "      <th>price</th>\n",
              "    </tr>\n",
              "  </thead>\n",
              "  <tbody>\n",
              "    <tr>\n",
              "      <th>0</th>\n",
              "      <td>white</td>\n",
              "      <td>ball</td>\n",
              "      <td>5.56</td>\n",
              "    </tr>\n",
              "    <tr>\n",
              "      <th>1</th>\n",
              "      <td>red</td>\n",
              "      <td>mug</td>\n",
              "      <td>4.20</td>\n",
              "    </tr>\n",
              "    <tr>\n",
              "      <th>2</th>\n",
              "      <td>green</td>\n",
              "      <td>pen</td>\n",
              "      <td>1.30</td>\n",
              "    </tr>\n",
              "    <tr>\n",
              "      <th>3</th>\n",
              "      <td>black</td>\n",
              "      <td>pencil</td>\n",
              "      <td>0.56</td>\n",
              "    </tr>\n",
              "    <tr>\n",
              "      <th>4</th>\n",
              "      <td>yellow</td>\n",
              "      <td>ashtray</td>\n",
              "      <td>2.75</td>\n",
              "    </tr>\n",
              "  </tbody>\n",
              "</table>\n",
              "</div>"
            ],
            "text/plain": [
              "    color   object  price\n",
              "0   white     ball   5.56\n",
              "1     red      mug   4.20\n",
              "2   green      pen   1.30\n",
              "3   black   pencil   0.56\n",
              "4  yellow  ashtray   2.75"
            ]
          },
          "metadata": {
            "tags": []
          },
          "execution_count": 77
        }
      ]
    },
    {
      "metadata": {
        "id": "doWZa--MCKpo",
        "colab_type": "text"
      },
      "cell_type": "markdown",
      "source": [
        "##Discretization and Binning"
      ]
    },
    {
      "metadata": {
        "id": "taMgUi6yCmc-",
        "colab_type": "code",
        "colab": {}
      },
      "cell_type": "code",
      "source": [
        "results = [12,34,67,55,28,90,99,12,3,56,74,44,87,23,49,89,87]"
      ],
      "execution_count": 0,
      "outputs": []
    },
    {
      "metadata": {
        "id": "5AB87tLXCsB_",
        "colab_type": "text"
      },
      "cell_type": "markdown",
      "source": [
        "Assume the values have the range from 0 to 100 and expected to be divided into four equal parts (bins)."
      ]
    },
    {
      "metadata": {
        "id": "APgeJ6vFC3PP",
        "colab_type": "code",
        "colab": {}
      },
      "cell_type": "code",
      "source": [
        "bins = [0,25,50,75,100]"
      ],
      "execution_count": 0,
      "outputs": []
    },
    {
      "metadata": {
        "id": "tf6AuF8ZDAJ4",
        "colab_type": "text"
      },
      "cell_type": "markdown",
      "source": [
        "The **cut()** function is a special object of *Categorical* type, it contains a **categories** array indicating the names of the different internal categories and a **codes** array that contains a list of numbers equal to the elements of **results**"
      ]
    },
    {
      "metadata": {
        "id": "aeIjSmXuDUcW",
        "colab_type": "code",
        "colab": {
          "base_uri": "https://localhost:8080/",
          "height": 68
        },
        "outputId": "1bd44953-4fd4-42cc-cf96-da9430a58468"
      },
      "cell_type": "code",
      "source": [
        "cat = pd.cut(results, bins)\n",
        "cat"
      ],
      "execution_count": 4,
      "outputs": [
        {
          "output_type": "execute_result",
          "data": {
            "text/plain": [
              "[(0, 25], (25, 50], (50, 75], (50, 75], (25, 50], ..., (75, 100], (0, 25], (25, 50], (75, 100], (75, 100]]\n",
              "Length: 17\n",
              "Categories (4, interval[int64]): [(0, 25] < (25, 50] < (50, 75] < (75, 100]]"
            ]
          },
          "metadata": {
            "tags": []
          },
          "execution_count": 4
        }
      ]
    },
    {
      "metadata": {
        "id": "Gx332YzBDcD2",
        "colab_type": "code",
        "colab": {
          "base_uri": "https://localhost:8080/",
          "height": 68
        },
        "outputId": "a50cf6ec-e88a-4a2f-eca5-32701fba839d"
      },
      "cell_type": "code",
      "source": [
        "cat.categories"
      ],
      "execution_count": 5,
      "outputs": [
        {
          "output_type": "execute_result",
          "data": {
            "text/plain": [
              "IntervalIndex([(0, 25], (25, 50], (50, 75], (75, 100]]\n",
              "              closed='right',\n",
              "              dtype='interval[int64]')"
            ]
          },
          "metadata": {
            "tags": []
          },
          "execution_count": 5
        }
      ]
    },
    {
      "metadata": {
        "id": "FIgYHTh3DfPW",
        "colab_type": "code",
        "colab": {
          "base_uri": "https://localhost:8080/",
          "height": 34
        },
        "outputId": "8dd734a4-959f-483e-9260-9425a4152b5c"
      },
      "cell_type": "code",
      "source": [
        "cat.codes"
      ],
      "execution_count": 6,
      "outputs": [
        {
          "output_type": "execute_result",
          "data": {
            "text/plain": [
              "array([0, 1, 2, 2, 1, 3, 3, 0, 0, 2, 2, 1, 3, 0, 1, 3, 3], dtype=int8)"
            ]
          },
          "metadata": {
            "tags": []
          },
          "execution_count": 6
        }
      ]
    },
    {
      "metadata": {
        "id": "Bn3n9kNBDjhg",
        "colab_type": "text"
      },
      "cell_type": "markdown",
      "source": [
        "**value_counts()** -- the occurrences for each bin"
      ]
    },
    {
      "metadata": {
        "id": "ok4jWDzODsuy",
        "colab_type": "code",
        "colab": {
          "base_uri": "https://localhost:8080/",
          "height": 102
        },
        "outputId": "e360bd67-2b07-4ff9-b206-cc40e838d632"
      },
      "cell_type": "code",
      "source": [
        "pd.value_counts(cat)"
      ],
      "execution_count": 7,
      "outputs": [
        {
          "output_type": "execute_result",
          "data": {
            "text/plain": [
              "(75, 100]    5\n",
              "(50, 75]     4\n",
              "(25, 50]     4\n",
              "(0, 25]      4\n",
              "dtype: int64"
            ]
          },
          "metadata": {
            "tags": []
          },
          "execution_count": 7
        }
      ]
    },
    {
      "metadata": {
        "colab_type": "text",
        "id": "Y_egN-zxEyC_"
      },
      "cell_type": "markdown",
      "source": [
        "To give names to various bins, use the **labels** option inside the **cut()**"
      ]
    },
    {
      "metadata": {
        "id": "KEFKQj2FE4zt",
        "colab_type": "code",
        "colab": {
          "base_uri": "https://localhost:8080/",
          "height": 68
        },
        "outputId": "35ee1c07-7e88-4216-a6c8-192b2319cee5"
      },
      "cell_type": "code",
      "source": [
        "bin_names = ['unlikely','less likely','likely','highly likely']\n",
        "pd.cut(results, bins, labels=bin_names)"
      ],
      "execution_count": 9,
      "outputs": [
        {
          "output_type": "execute_result",
          "data": {
            "text/plain": [
              "[unlikely, less likely, likely, likely, less likely, ..., highly likely, unlikely, less likely, highly likely, highly likely]\n",
              "Length: 17\n",
              "Categories (4, object): [unlikely < less likely < likely < highly likely]"
            ]
          },
          "metadata": {
            "tags": []
          },
          "execution_count": 9
        }
      ]
    },
    {
      "metadata": {
        "id": "MWkQUd8iE-ev",
        "colab_type": "text"
      },
      "cell_type": "markdown",
      "source": [
        "**cut()** is passed as an argument to an integer like, cut(result, 5), this will divide the range of values of the array in many intervals as specified by the number."
      ]
    },
    {
      "metadata": {
        "id": "O4OAcqPUFPbT",
        "colab_type": "code",
        "colab": {
          "base_uri": "https://localhost:8080/",
          "height": 85
        },
        "outputId": "65a962e2-3995-435a-8863-f9bfbdc190ed"
      },
      "cell_type": "code",
      "source": [
        "pd.cut(results,5)"
      ],
      "execution_count": 10,
      "outputs": [
        {
          "output_type": "execute_result",
          "data": {
            "text/plain": [
              "[(2.904, 22.2], (22.2, 41.4], (60.6, 79.8], (41.4, 60.6], (22.2, 41.4], ..., (79.8, 99.0], (22.2, 41.4], (41.4, 60.6], (79.8, 99.0], (79.8, 99.0]]\n",
              "Length: 17\n",
              "Categories (5, interval[float64]): [(2.904, 22.2] < (22.2, 41.4] < (41.4, 60.6] < (60.6, 79.8] <\n",
              "                                    (79.8, 99.0]]"
            ]
          },
          "metadata": {
            "tags": []
          },
          "execution_count": 10
        }
      ]
    },
    {
      "metadata": {
        "id": "pqbYylkcFpGD",
        "colab_type": "text"
      },
      "cell_type": "markdown",
      "source": [
        "**qcut()** divides the sample directly into quintiles. **qcut()** ensures the number of occureences for each bin is equal, but the edges of each bin vary"
      ]
    },
    {
      "metadata": {
        "id": "qlq7NcCWFtOm",
        "colab_type": "code",
        "colab": {
          "base_uri": "https://localhost:8080/",
          "height": 85
        },
        "outputId": "ea0cb686-a9f4-4dbf-91dd-f5fead0d6638"
      },
      "cell_type": "code",
      "source": [
        "pd.qcut(results, 5)"
      ],
      "execution_count": 15,
      "outputs": [
        {
          "output_type": "execute_result",
          "data": {
            "text/plain": [
              "[(2.999, 24.0], (24.0, 46.0], (62.6, 87.0], (46.0, 62.6], (24.0, 46.0], ..., (62.6, 87.0], (2.999, 24.0], (46.0, 62.6], (87.0, 99.0], (62.6, 87.0]]\n",
              "Length: 17\n",
              "Categories (5, interval[float64]): [(2.999, 24.0] < (24.0, 46.0] < (46.0, 62.6] < (62.6, 87.0] <\n",
              "                                    (87.0, 99.0]]"
            ]
          },
          "metadata": {
            "tags": []
          },
          "execution_count": 15
        }
      ]
    },
    {
      "metadata": {
        "id": "D5bww-LpGFSr",
        "colab_type": "code",
        "colab": {
          "base_uri": "https://localhost:8080/",
          "height": 119
        },
        "outputId": "6ef259e8-5e70-4488-d0ed-bca2c381fee5"
      },
      "cell_type": "code",
      "source": [
        "pd.value_counts(pd.qcut(results, 5))"
      ],
      "execution_count": 16,
      "outputs": [
        {
          "output_type": "execute_result",
          "data": {
            "text/plain": [
              "(62.6, 87.0]     4\n",
              "(2.999, 24.0]    4\n",
              "(87.0, 99.0]     3\n",
              "(46.0, 62.6]     3\n",
              "(24.0, 46.0]     3\n",
              "dtype: int64"
            ]
          },
          "metadata": {
            "tags": []
          },
          "execution_count": 16
        }
      ]
    },
    {
      "metadata": {
        "id": "fGcG1SWoGKHr",
        "colab_type": "text"
      },
      "cell_type": "markdown",
      "source": [
        "###Detecting and Filtering Outliers"
      ]
    },
    {
      "metadata": {
        "id": "ZpTdhtKTGzZn",
        "colab_type": "text"
      },
      "cell_type": "markdown",
      "source": [
        "create 1000-by-3 random values from normal distribution"
      ]
    },
    {
      "metadata": {
        "id": "pv3DNzoyGrik",
        "colab_type": "code",
        "colab": {
          "base_uri": "https://localhost:8080/",
          "height": 297
        },
        "outputId": "48d4c8a2-9989-4e04-9b29-81115f54c4ea"
      },
      "cell_type": "code",
      "source": [
        "randframe = pd.DataFrame(np.random.randn(1000,3))\n",
        "randframe.describe()"
      ],
      "execution_count": 17,
      "outputs": [
        {
          "output_type": "execute_result",
          "data": {
            "text/html": [
              "<div>\n",
              "<style scoped>\n",
              "    .dataframe tbody tr th:only-of-type {\n",
              "        vertical-align: middle;\n",
              "    }\n",
              "\n",
              "    .dataframe tbody tr th {\n",
              "        vertical-align: top;\n",
              "    }\n",
              "\n",
              "    .dataframe thead th {\n",
              "        text-align: right;\n",
              "    }\n",
              "</style>\n",
              "<table border=\"1\" class=\"dataframe\">\n",
              "  <thead>\n",
              "    <tr style=\"text-align: right;\">\n",
              "      <th></th>\n",
              "      <th>0</th>\n",
              "      <th>1</th>\n",
              "      <th>2</th>\n",
              "    </tr>\n",
              "  </thead>\n",
              "  <tbody>\n",
              "    <tr>\n",
              "      <th>count</th>\n",
              "      <td>1000.000000</td>\n",
              "      <td>1000.000000</td>\n",
              "      <td>1000.000000</td>\n",
              "    </tr>\n",
              "    <tr>\n",
              "      <th>mean</th>\n",
              "      <td>0.016707</td>\n",
              "      <td>0.044275</td>\n",
              "      <td>-0.002577</td>\n",
              "    </tr>\n",
              "    <tr>\n",
              "      <th>std</th>\n",
              "      <td>1.012068</td>\n",
              "      <td>1.019511</td>\n",
              "      <td>1.021862</td>\n",
              "    </tr>\n",
              "    <tr>\n",
              "      <th>min</th>\n",
              "      <td>-3.819105</td>\n",
              "      <td>-2.975727</td>\n",
              "      <td>-3.126504</td>\n",
              "    </tr>\n",
              "    <tr>\n",
              "      <th>25%</th>\n",
              "      <td>-0.678127</td>\n",
              "      <td>-0.687734</td>\n",
              "      <td>-0.687277</td>\n",
              "    </tr>\n",
              "    <tr>\n",
              "      <th>50%</th>\n",
              "      <td>0.019106</td>\n",
              "      <td>0.037520</td>\n",
              "      <td>-0.016273</td>\n",
              "    </tr>\n",
              "    <tr>\n",
              "      <th>75%</th>\n",
              "      <td>0.684618</td>\n",
              "      <td>0.761100</td>\n",
              "      <td>0.667789</td>\n",
              "    </tr>\n",
              "    <tr>\n",
              "      <th>max</th>\n",
              "      <td>3.463310</td>\n",
              "      <td>3.124706</td>\n",
              "      <td>3.523281</td>\n",
              "    </tr>\n",
              "  </tbody>\n",
              "</table>\n",
              "</div>"
            ],
            "text/plain": [
              "                 0            1            2\n",
              "count  1000.000000  1000.000000  1000.000000\n",
              "mean      0.016707     0.044275    -0.002577\n",
              "std       1.012068     1.019511     1.021862\n",
              "min      -3.819105    -2.975727    -3.126504\n",
              "25%      -0.678127    -0.687734    -0.687277\n",
              "50%       0.019106     0.037520    -0.016273\n",
              "75%       0.684618     0.761100     0.667789\n",
              "max       3.463310     3.124706     3.523281"
            ]
          },
          "metadata": {
            "tags": []
          },
          "execution_count": 17
        }
      ]
    },
    {
      "metadata": {
        "id": "caSnivaUINfh",
        "colab_type": "code",
        "colab": {
          "base_uri": "https://localhost:8080/",
          "height": 85
        },
        "outputId": "6a93456b-6378-4e9e-d6b3-289a092c77fa"
      },
      "cell_type": "code",
      "source": [
        "randframe.std()"
      ],
      "execution_count": 18,
      "outputs": [
        {
          "output_type": "execute_result",
          "data": {
            "text/plain": [
              "0    1.012068\n",
              "1    1.019511\n",
              "2    1.021862\n",
              "dtype: float64"
            ]
          },
          "metadata": {
            "tags": []
          },
          "execution_count": 18
        }
      ]
    },
    {
      "metadata": {
        "id": "aEVXUirQIjry",
        "colab_type": "text"
      },
      "cell_type": "markdown",
      "source": [
        "The **any()** function returns whether any element is True over requested axis"
      ]
    },
    {
      "metadata": {
        "id": "LueOS8AcIp_Q",
        "colab_type": "code",
        "colab": {
          "base_uri": "https://localhost:8080/",
          "height": 328
        },
        "outputId": "9108c0e9-2b28-4b68-e20d-7aa88e74b600"
      },
      "cell_type": "code",
      "source": [
        "criteria = np.abs(randframe) > (3*randframe.std())\n",
        "randframe[criteria.any(1)]"
      ],
      "execution_count": 20,
      "outputs": [
        {
          "output_type": "execute_result",
          "data": {
            "text/html": [
              "<div>\n",
              "<style scoped>\n",
              "    .dataframe tbody tr th:only-of-type {\n",
              "        vertical-align: middle;\n",
              "    }\n",
              "\n",
              "    .dataframe tbody tr th {\n",
              "        vertical-align: top;\n",
              "    }\n",
              "\n",
              "    .dataframe thead th {\n",
              "        text-align: right;\n",
              "    }\n",
              "</style>\n",
              "<table border=\"1\" class=\"dataframe\">\n",
              "  <thead>\n",
              "    <tr style=\"text-align: right;\">\n",
              "      <th></th>\n",
              "      <th>0</th>\n",
              "      <th>1</th>\n",
              "      <th>2</th>\n",
              "    </tr>\n",
              "  </thead>\n",
              "  <tbody>\n",
              "    <tr>\n",
              "      <th>63</th>\n",
              "      <td>-1.004557</td>\n",
              "      <td>-0.456946</td>\n",
              "      <td>3.523281</td>\n",
              "    </tr>\n",
              "    <tr>\n",
              "      <th>124</th>\n",
              "      <td>3.463310</td>\n",
              "      <td>-1.330892</td>\n",
              "      <td>0.847611</td>\n",
              "    </tr>\n",
              "    <tr>\n",
              "      <th>300</th>\n",
              "      <td>-3.819105</td>\n",
              "      <td>-0.312284</td>\n",
              "      <td>-0.023131</td>\n",
              "    </tr>\n",
              "    <tr>\n",
              "      <th>434</th>\n",
              "      <td>3.229023</td>\n",
              "      <td>0.677766</td>\n",
              "      <td>-1.483561</td>\n",
              "    </tr>\n",
              "    <tr>\n",
              "      <th>477</th>\n",
              "      <td>-3.057823</td>\n",
              "      <td>1.454993</td>\n",
              "      <td>-0.133305</td>\n",
              "    </tr>\n",
              "    <tr>\n",
              "      <th>757</th>\n",
              "      <td>-3.408064</td>\n",
              "      <td>-0.010713</td>\n",
              "      <td>2.006312</td>\n",
              "    </tr>\n",
              "    <tr>\n",
              "      <th>912</th>\n",
              "      <td>1.456711</td>\n",
              "      <td>3.124706</td>\n",
              "      <td>-0.421396</td>\n",
              "    </tr>\n",
              "    <tr>\n",
              "      <th>933</th>\n",
              "      <td>1.538014</td>\n",
              "      <td>1.234787</td>\n",
              "      <td>-3.126504</td>\n",
              "    </tr>\n",
              "    <tr>\n",
              "      <th>978</th>\n",
              "      <td>1.646848</td>\n",
              "      <td>-0.352369</td>\n",
              "      <td>3.277556</td>\n",
              "    </tr>\n",
              "  </tbody>\n",
              "</table>\n",
              "</div>"
            ],
            "text/plain": [
              "            0         1         2\n",
              "63  -1.004557 -0.456946  3.523281\n",
              "124  3.463310 -1.330892  0.847611\n",
              "300 -3.819105 -0.312284 -0.023131\n",
              "434  3.229023  0.677766 -1.483561\n",
              "477 -3.057823  1.454993 -0.133305\n",
              "757 -3.408064 -0.010713  2.006312\n",
              "912  1.456711  3.124706 -0.421396\n",
              "933  1.538014  1.234787 -3.126504\n",
              "978  1.646848 -0.352369  3.277556"
            ]
          },
          "metadata": {
            "tags": []
          },
          "execution_count": 20
        }
      ]
    },
    {
      "metadata": {
        "id": "-uz-X_iJJBSB",
        "colab_type": "text"
      },
      "cell_type": "markdown",
      "source": [
        "###Permutation\n",
        "random reordering of a series or the rows of a dataframe\n",
        "\n",
        "**numpy.random.permutation()**"
      ]
    },
    {
      "metadata": {
        "id": "EgUBHbX7T3yn",
        "colab_type": "code",
        "colab": {
          "base_uri": "https://localhost:8080/",
          "height": 266
        },
        "outputId": "133ddff2-0141-4388-89e8-f74fed303297"
      },
      "cell_type": "code",
      "source": [
        "nframe = pd.DataFrame(np.arange(49).reshape(7,7))\n",
        "nframe"
      ],
      "execution_count": 26,
      "outputs": [
        {
          "output_type": "execute_result",
          "data": {
            "text/html": [
              "<div>\n",
              "<style scoped>\n",
              "    .dataframe tbody tr th:only-of-type {\n",
              "        vertical-align: middle;\n",
              "    }\n",
              "\n",
              "    .dataframe tbody tr th {\n",
              "        vertical-align: top;\n",
              "    }\n",
              "\n",
              "    .dataframe thead th {\n",
              "        text-align: right;\n",
              "    }\n",
              "</style>\n",
              "<table border=\"1\" class=\"dataframe\">\n",
              "  <thead>\n",
              "    <tr style=\"text-align: right;\">\n",
              "      <th></th>\n",
              "      <th>0</th>\n",
              "      <th>1</th>\n",
              "      <th>2</th>\n",
              "      <th>3</th>\n",
              "      <th>4</th>\n",
              "      <th>5</th>\n",
              "      <th>6</th>\n",
              "    </tr>\n",
              "  </thead>\n",
              "  <tbody>\n",
              "    <tr>\n",
              "      <th>0</th>\n",
              "      <td>0</td>\n",
              "      <td>1</td>\n",
              "      <td>2</td>\n",
              "      <td>3</td>\n",
              "      <td>4</td>\n",
              "      <td>5</td>\n",
              "      <td>6</td>\n",
              "    </tr>\n",
              "    <tr>\n",
              "      <th>1</th>\n",
              "      <td>7</td>\n",
              "      <td>8</td>\n",
              "      <td>9</td>\n",
              "      <td>10</td>\n",
              "      <td>11</td>\n",
              "      <td>12</td>\n",
              "      <td>13</td>\n",
              "    </tr>\n",
              "    <tr>\n",
              "      <th>2</th>\n",
              "      <td>14</td>\n",
              "      <td>15</td>\n",
              "      <td>16</td>\n",
              "      <td>17</td>\n",
              "      <td>18</td>\n",
              "      <td>19</td>\n",
              "      <td>20</td>\n",
              "    </tr>\n",
              "    <tr>\n",
              "      <th>3</th>\n",
              "      <td>21</td>\n",
              "      <td>22</td>\n",
              "      <td>23</td>\n",
              "      <td>24</td>\n",
              "      <td>25</td>\n",
              "      <td>26</td>\n",
              "      <td>27</td>\n",
              "    </tr>\n",
              "    <tr>\n",
              "      <th>4</th>\n",
              "      <td>28</td>\n",
              "      <td>29</td>\n",
              "      <td>30</td>\n",
              "      <td>31</td>\n",
              "      <td>32</td>\n",
              "      <td>33</td>\n",
              "      <td>34</td>\n",
              "    </tr>\n",
              "    <tr>\n",
              "      <th>5</th>\n",
              "      <td>35</td>\n",
              "      <td>36</td>\n",
              "      <td>37</td>\n",
              "      <td>38</td>\n",
              "      <td>39</td>\n",
              "      <td>40</td>\n",
              "      <td>41</td>\n",
              "    </tr>\n",
              "    <tr>\n",
              "      <th>6</th>\n",
              "      <td>42</td>\n",
              "      <td>43</td>\n",
              "      <td>44</td>\n",
              "      <td>45</td>\n",
              "      <td>46</td>\n",
              "      <td>47</td>\n",
              "      <td>48</td>\n",
              "    </tr>\n",
              "  </tbody>\n",
              "</table>\n",
              "</div>"
            ],
            "text/plain": [
              "    0   1   2   3   4   5   6\n",
              "0   0   1   2   3   4   5   6\n",
              "1   7   8   9  10  11  12  13\n",
              "2  14  15  16  17  18  19  20\n",
              "3  21  22  23  24  25  26  27\n",
              "4  28  29  30  31  32  33  34\n",
              "5  35  36  37  38  39  40  41\n",
              "6  42  43  44  45  46  47  48"
            ]
          },
          "metadata": {
            "tags": []
          },
          "execution_count": 26
        }
      ]
    },
    {
      "metadata": {
        "id": "Xxmiq4gfT_Uk",
        "colab_type": "code",
        "colab": {
          "base_uri": "https://localhost:8080/",
          "height": 34
        },
        "outputId": "cd4631de-8202-4ac7-f2f1-400f879b9144"
      },
      "cell_type": "code",
      "source": [
        "new_order = np.random.permutation(7)\n",
        "new_order"
      ],
      "execution_count": 27,
      "outputs": [
        {
          "output_type": "execute_result",
          "data": {
            "text/plain": [
              "array([5, 2, 0, 3, 6, 4, 1])"
            ]
          },
          "metadata": {
            "tags": []
          },
          "execution_count": 27
        }
      ]
    },
    {
      "metadata": {
        "id": "QAtBIQoBUF3k",
        "colab_type": "text"
      },
      "cell_type": "markdown",
      "source": [
        "The **take()** function in the dataframe will apply that order to the dataframe on all lines"
      ]
    },
    {
      "metadata": {
        "id": "JRPzfxdSUMqA",
        "colab_type": "code",
        "colab": {
          "base_uri": "https://localhost:8080/",
          "height": 266
        },
        "outputId": "985f884f-a284-40cf-bf73-45f166e8862b"
      },
      "cell_type": "code",
      "source": [
        "nframe.take(new_order)"
      ],
      "execution_count": 28,
      "outputs": [
        {
          "output_type": "execute_result",
          "data": {
            "text/html": [
              "<div>\n",
              "<style scoped>\n",
              "    .dataframe tbody tr th:only-of-type {\n",
              "        vertical-align: middle;\n",
              "    }\n",
              "\n",
              "    .dataframe tbody tr th {\n",
              "        vertical-align: top;\n",
              "    }\n",
              "\n",
              "    .dataframe thead th {\n",
              "        text-align: right;\n",
              "    }\n",
              "</style>\n",
              "<table border=\"1\" class=\"dataframe\">\n",
              "  <thead>\n",
              "    <tr style=\"text-align: right;\">\n",
              "      <th></th>\n",
              "      <th>0</th>\n",
              "      <th>1</th>\n",
              "      <th>2</th>\n",
              "      <th>3</th>\n",
              "      <th>4</th>\n",
              "      <th>5</th>\n",
              "      <th>6</th>\n",
              "    </tr>\n",
              "  </thead>\n",
              "  <tbody>\n",
              "    <tr>\n",
              "      <th>5</th>\n",
              "      <td>35</td>\n",
              "      <td>36</td>\n",
              "      <td>37</td>\n",
              "      <td>38</td>\n",
              "      <td>39</td>\n",
              "      <td>40</td>\n",
              "      <td>41</td>\n",
              "    </tr>\n",
              "    <tr>\n",
              "      <th>2</th>\n",
              "      <td>14</td>\n",
              "      <td>15</td>\n",
              "      <td>16</td>\n",
              "      <td>17</td>\n",
              "      <td>18</td>\n",
              "      <td>19</td>\n",
              "      <td>20</td>\n",
              "    </tr>\n",
              "    <tr>\n",
              "      <th>0</th>\n",
              "      <td>0</td>\n",
              "      <td>1</td>\n",
              "      <td>2</td>\n",
              "      <td>3</td>\n",
              "      <td>4</td>\n",
              "      <td>5</td>\n",
              "      <td>6</td>\n",
              "    </tr>\n",
              "    <tr>\n",
              "      <th>3</th>\n",
              "      <td>21</td>\n",
              "      <td>22</td>\n",
              "      <td>23</td>\n",
              "      <td>24</td>\n",
              "      <td>25</td>\n",
              "      <td>26</td>\n",
              "      <td>27</td>\n",
              "    </tr>\n",
              "    <tr>\n",
              "      <th>6</th>\n",
              "      <td>42</td>\n",
              "      <td>43</td>\n",
              "      <td>44</td>\n",
              "      <td>45</td>\n",
              "      <td>46</td>\n",
              "      <td>47</td>\n",
              "      <td>48</td>\n",
              "    </tr>\n",
              "    <tr>\n",
              "      <th>4</th>\n",
              "      <td>28</td>\n",
              "      <td>29</td>\n",
              "      <td>30</td>\n",
              "      <td>31</td>\n",
              "      <td>32</td>\n",
              "      <td>33</td>\n",
              "      <td>34</td>\n",
              "    </tr>\n",
              "    <tr>\n",
              "      <th>1</th>\n",
              "      <td>7</td>\n",
              "      <td>8</td>\n",
              "      <td>9</td>\n",
              "      <td>10</td>\n",
              "      <td>11</td>\n",
              "      <td>12</td>\n",
              "      <td>13</td>\n",
              "    </tr>\n",
              "  </tbody>\n",
              "</table>\n",
              "</div>"
            ],
            "text/plain": [
              "    0   1   2   3   4   5   6\n",
              "5  35  36  37  38  39  40  41\n",
              "2  14  15  16  17  18  19  20\n",
              "0   0   1   2   3   4   5   6\n",
              "3  21  22  23  24  25  26  27\n",
              "6  42  43  44  45  46  47  48\n",
              "4  28  29  30  31  32  33  34\n",
              "1   7   8   9  10  11  12  13"
            ]
          },
          "metadata": {
            "tags": []
          },
          "execution_count": 28
        }
      ]
    },
    {
      "metadata": {
        "id": "XYA0ETGSUXIf",
        "colab_type": "text"
      },
      "cell_type": "markdown",
      "source": [
        "To apply a portion of the entire dataframe to a permutation,"
      ]
    },
    {
      "metadata": {
        "id": "qdA9ubnkUa9p",
        "colab_type": "code",
        "colab": {
          "base_uri": "https://localhost:8080/",
          "height": 142
        },
        "outputId": "6c1367b2-9520-4091-ae26-dcf32df6e447"
      },
      "cell_type": "code",
      "source": [
        "new_order = [3,4,2]\n",
        "nframe.take(new_order)"
      ],
      "execution_count": 29,
      "outputs": [
        {
          "output_type": "execute_result",
          "data": {
            "text/html": [
              "<div>\n",
              "<style scoped>\n",
              "    .dataframe tbody tr th:only-of-type {\n",
              "        vertical-align: middle;\n",
              "    }\n",
              "\n",
              "    .dataframe tbody tr th {\n",
              "        vertical-align: top;\n",
              "    }\n",
              "\n",
              "    .dataframe thead th {\n",
              "        text-align: right;\n",
              "    }\n",
              "</style>\n",
              "<table border=\"1\" class=\"dataframe\">\n",
              "  <thead>\n",
              "    <tr style=\"text-align: right;\">\n",
              "      <th></th>\n",
              "      <th>0</th>\n",
              "      <th>1</th>\n",
              "      <th>2</th>\n",
              "      <th>3</th>\n",
              "      <th>4</th>\n",
              "      <th>5</th>\n",
              "      <th>6</th>\n",
              "    </tr>\n",
              "  </thead>\n",
              "  <tbody>\n",
              "    <tr>\n",
              "      <th>3</th>\n",
              "      <td>21</td>\n",
              "      <td>22</td>\n",
              "      <td>23</td>\n",
              "      <td>24</td>\n",
              "      <td>25</td>\n",
              "      <td>26</td>\n",
              "      <td>27</td>\n",
              "    </tr>\n",
              "    <tr>\n",
              "      <th>4</th>\n",
              "      <td>28</td>\n",
              "      <td>29</td>\n",
              "      <td>30</td>\n",
              "      <td>31</td>\n",
              "      <td>32</td>\n",
              "      <td>33</td>\n",
              "      <td>34</td>\n",
              "    </tr>\n",
              "    <tr>\n",
              "      <th>2</th>\n",
              "      <td>14</td>\n",
              "      <td>15</td>\n",
              "      <td>16</td>\n",
              "      <td>17</td>\n",
              "      <td>18</td>\n",
              "      <td>19</td>\n",
              "      <td>20</td>\n",
              "    </tr>\n",
              "  </tbody>\n",
              "</table>\n",
              "</div>"
            ],
            "text/plain": [
              "    0   1   2   3   4   5   6\n",
              "3  21  22  23  24  25  26  27\n",
              "4  28  29  30  31  32  33  34\n",
              "2  14  15  16  17  18  19  20"
            ]
          },
          "metadata": {
            "tags": []
          },
          "execution_count": 29
        }
      ]
    },
    {
      "metadata": {
        "id": "aH4NsPKYUiqY",
        "colab_type": "text"
      },
      "cell_type": "markdown",
      "source": [
        "###Random Sampling"
      ]
    },
    {
      "metadata": {
        "id": "Neey2TCKVG_V",
        "colab_type": "code",
        "colab": {
          "base_uri": "https://localhost:8080/",
          "height": 34
        },
        "outputId": "56135b19-f12e-4d56-d2ce-d8fb5d554cd5"
      },
      "cell_type": "code",
      "source": [
        "len(nframe) # number of rows in dataframe"
      ],
      "execution_count": 35,
      "outputs": [
        {
          "output_type": "execute_result",
          "data": {
            "text/plain": [
              "7"
            ]
          },
          "metadata": {
            "tags": []
          },
          "execution_count": 35
        }
      ]
    },
    {
      "metadata": {
        "id": "8wbIlGRjUppZ",
        "colab_type": "code",
        "colab": {
          "base_uri": "https://localhost:8080/",
          "height": 34
        },
        "outputId": "590a273b-ff6d-4839-b145-3ca80176f48c"
      },
      "cell_type": "code",
      "source": [
        "sample = np.random.randint(0,len(nframe), size=3)\n",
        "sample #generate random integer from 0 to len(nframe)"
      ],
      "execution_count": 32,
      "outputs": [
        {
          "output_type": "execute_result",
          "data": {
            "text/plain": [
              "array([3, 5, 4])"
            ]
          },
          "metadata": {
            "tags": []
          },
          "execution_count": 32
        }
      ]
    },
    {
      "metadata": {
        "id": "JoPorT-6VSqu",
        "colab_type": "code",
        "colab": {
          "base_uri": "https://localhost:8080/",
          "height": 142
        },
        "outputId": "fb8bc074-068c-45ac-ec3b-0141496dbdf2"
      },
      "cell_type": "code",
      "source": [
        "nframe.take(sample)"
      ],
      "execution_count": 36,
      "outputs": [
        {
          "output_type": "execute_result",
          "data": {
            "text/html": [
              "<div>\n",
              "<style scoped>\n",
              "    .dataframe tbody tr th:only-of-type {\n",
              "        vertical-align: middle;\n",
              "    }\n",
              "\n",
              "    .dataframe tbody tr th {\n",
              "        vertical-align: top;\n",
              "    }\n",
              "\n",
              "    .dataframe thead th {\n",
              "        text-align: right;\n",
              "    }\n",
              "</style>\n",
              "<table border=\"1\" class=\"dataframe\">\n",
              "  <thead>\n",
              "    <tr style=\"text-align: right;\">\n",
              "      <th></th>\n",
              "      <th>0</th>\n",
              "      <th>1</th>\n",
              "      <th>2</th>\n",
              "      <th>3</th>\n",
              "      <th>4</th>\n",
              "      <th>5</th>\n",
              "      <th>6</th>\n",
              "    </tr>\n",
              "  </thead>\n",
              "  <tbody>\n",
              "    <tr>\n",
              "      <th>3</th>\n",
              "      <td>21</td>\n",
              "      <td>22</td>\n",
              "      <td>23</td>\n",
              "      <td>24</td>\n",
              "      <td>25</td>\n",
              "      <td>26</td>\n",
              "      <td>27</td>\n",
              "    </tr>\n",
              "    <tr>\n",
              "      <th>5</th>\n",
              "      <td>35</td>\n",
              "      <td>36</td>\n",
              "      <td>37</td>\n",
              "      <td>38</td>\n",
              "      <td>39</td>\n",
              "      <td>40</td>\n",
              "      <td>41</td>\n",
              "    </tr>\n",
              "    <tr>\n",
              "      <th>4</th>\n",
              "      <td>28</td>\n",
              "      <td>29</td>\n",
              "      <td>30</td>\n",
              "      <td>31</td>\n",
              "      <td>32</td>\n",
              "      <td>33</td>\n",
              "      <td>34</td>\n",
              "    </tr>\n",
              "  </tbody>\n",
              "</table>\n",
              "</div>"
            ],
            "text/plain": [
              "    0   1   2   3   4   5   6\n",
              "3  21  22  23  24  25  26  27\n",
              "5  35  36  37  38  39  40  41\n",
              "4  28  29  30  31  32  33  34"
            ]
          },
          "metadata": {
            "tags": []
          },
          "execution_count": 36
        }
      ]
    },
    {
      "metadata": {
        "id": "9kng5epgVWZ4",
        "colab_type": "text"
      },
      "cell_type": "markdown",
      "source": [
        "##String Manipulation"
      ]
    },
    {
      "metadata": {
        "id": "FRhisrqnVcZ_",
        "colab_type": "text"
      },
      "cell_type": "markdown",
      "source": [
        "###Built-in Methods for String Manipulation\n",
        "**split()** function separates parts of the text using a separator"
      ]
    },
    {
      "metadata": {
        "id": "3MDy7rF3Vpw4",
        "colab_type": "code",
        "colab": {
          "base_uri": "https://localhost:8080/",
          "height": 34
        },
        "outputId": "4a195247-a463-4152-c23f-6a7143088912"
      },
      "cell_type": "code",
      "source": [
        "text = '16 Bolton Avenue , Boston'\n",
        "text.split(',')"
      ],
      "execution_count": 37,
      "outputs": [
        {
          "output_type": "execute_result",
          "data": {
            "text/plain": [
              "['16 Bolton Avenue ', ' Boston']"
            ]
          },
          "metadata": {
            "tags": []
          },
          "execution_count": 37
        }
      ]
    },
    {
      "metadata": {
        "id": "QAwvl6fMV7jn",
        "colab_type": "text"
      },
      "cell_type": "markdown",
      "source": [
        "But the first element has a space character in the end.\n",
        "\n",
        "You have to the **split()** function along with the **strip()** function to trim the whitespace (including newlines)"
      ]
    },
    {
      "metadata": {
        "id": "LNX8j9obWRiV",
        "colab_type": "code",
        "colab": {
          "base_uri": "https://localhost:8080/",
          "height": 34
        },
        "outputId": "b19040cd-a56a-4642-82f0-570043d89622"
      },
      "cell_type": "code",
      "source": [
        "tokens = [s.strip() for s in text.split(',')]\n",
        "tokens"
      ],
      "execution_count": 40,
      "outputs": [
        {
          "output_type": "execute_result",
          "data": {
            "text/plain": [
              "['16 Bolton Avenue', 'Boston']"
            ]
          },
          "metadata": {
            "tags": []
          },
          "execution_count": 40
        }
      ]
    },
    {
      "metadata": {
        "id": "-naoQ_N0WlFP",
        "colab_type": "text"
      },
      "cell_type": "markdown",
      "source": [
        "You have to use a for loop since **text.split()** returns a list and the list doesn't have the **strip()** function"
      ]
    },
    {
      "metadata": {
        "id": "EIQlSXo1W3mv",
        "colab_type": "code",
        "colab": {
          "base_uri": "https://localhost:8080/",
          "height": 34
        },
        "outputId": "15630d6a-6231-4a19-fcd6-cbd9eea39736"
      },
      "cell_type": "code",
      "source": [
        "address, city = [s.strip() for s in text.split(',')]\n",
        "address"
      ],
      "execution_count": 42,
      "outputs": [
        {
          "output_type": "execute_result",
          "data": {
            "text/plain": [
              "'16 Bolton Avenue'"
            ]
          },
          "metadata": {
            "tags": []
          },
          "execution_count": 42
        }
      ]
    },
    {
      "metadata": {
        "id": "7_tA-4olXBHn",
        "colab_type": "code",
        "colab": {
          "base_uri": "https://localhost:8080/",
          "height": 34
        },
        "outputId": "52d0ff2f-ed46-4ae1-91c9-c4e393825f56"
      },
      "cell_type": "code",
      "source": [
        "city"
      ],
      "execution_count": 43,
      "outputs": [
        {
          "output_type": "execute_result",
          "data": {
            "text/plain": [
              "'Boston'"
            ]
          },
          "metadata": {
            "tags": []
          },
          "execution_count": 43
        }
      ]
    },
    {
      "metadata": {
        "id": "0USWfBksXG0I",
        "colab_type": "text"
      },
      "cell_type": "markdown",
      "source": [
        "To concatenate strings,"
      ]
    },
    {
      "metadata": {
        "id": "dRIvaQrOXJCd",
        "colab_type": "code",
        "colab": {
          "base_uri": "https://localhost:8080/",
          "height": 34
        },
        "outputId": "fe29b718-a252-40c8-b1a5-64f8fc098b1f"
      },
      "cell_type": "code",
      "source": [
        "address + ',' + city"
      ],
      "execution_count": 44,
      "outputs": [
        {
          "output_type": "execute_result",
          "data": {
            "text/plain": [
              "'16 Bolton Avenue,Boston'"
            ]
          },
          "metadata": {
            "tags": []
          },
          "execution_count": 44
        }
      ]
    },
    {
      "metadata": {
        "id": "PxfAyhETXPBw",
        "colab_type": "text"
      },
      "cell_type": "markdown",
      "source": [
        "Use the **join()** function assigned to the separator character,"
      ]
    },
    {
      "metadata": {
        "id": "o5XjspyPXbEy",
        "colab_type": "code",
        "colab": {
          "base_uri": "https://localhost:8080/",
          "height": 34
        },
        "outputId": "603a5ede-8964-4f84-eb72-bd647f9af214"
      },
      "cell_type": "code",
      "source": [
        "strings = ['A+','A','A-','B','BB','BBB','C+']\n",
        "' ; '.join(strings)"
      ],
      "execution_count": 46,
      "outputs": [
        {
          "output_type": "execute_result",
          "data": {
            "text/plain": [
              "'A+ ; A ; A- ; B ; BB ; BBB ; C+'"
            ]
          },
          "metadata": {
            "tags": []
          },
          "execution_count": 46
        }
      ]
    },
    {
      "metadata": {
        "id": "WwG48iI_XqRP",
        "colab_type": "text"
      },
      "cell_type": "markdown",
      "source": [
        "Search substring,"
      ]
    },
    {
      "metadata": {
        "id": "x9CBjpuXXtYO",
        "colab_type": "code",
        "colab": {
          "base_uri": "https://localhost:8080/",
          "height": 34
        },
        "outputId": "14205e7f-9546-40c4-b874-d81b863f516a"
      },
      "cell_type": "code",
      "source": [
        "'Boston' in text"
      ],
      "execution_count": 47,
      "outputs": [
        {
          "output_type": "execute_result",
          "data": {
            "text/plain": [
              "True"
            ]
          },
          "metadata": {
            "tags": []
          },
          "execution_count": 47
        }
      ]
    },
    {
      "metadata": {
        "id": "f7BNNKwaYF1r",
        "colab_type": "text"
      },
      "cell_type": "markdown",
      "source": [
        "**index()** and **find()** return the number of the corresponding character in the text"
      ]
    },
    {
      "metadata": {
        "id": "x-G4erDkX0Ek",
        "colab_type": "code",
        "colab": {
          "base_uri": "https://localhost:8080/",
          "height": 34
        },
        "outputId": "8c69107c-8d56-4933-8a4a-ef2e6521d102"
      },
      "cell_type": "code",
      "source": [
        "text.index('Boston')"
      ],
      "execution_count": 48,
      "outputs": [
        {
          "output_type": "execute_result",
          "data": {
            "text/plain": [
              "19"
            ]
          },
          "metadata": {
            "tags": []
          },
          "execution_count": 48
        }
      ]
    },
    {
      "metadata": {
        "id": "CR7aaD8nYMo4",
        "colab_type": "code",
        "colab": {
          "base_uri": "https://localhost:8080/",
          "height": 34
        },
        "outputId": "886f4f7f-a25b-4752-f61b-ec49361d3b32"
      },
      "cell_type": "code",
      "source": [
        "text.find('Boston')"
      ],
      "execution_count": 50,
      "outputs": [
        {
          "output_type": "execute_result",
          "data": {
            "text/plain": [
              "19"
            ]
          },
          "metadata": {
            "tags": []
          },
          "execution_count": 50
        }
      ]
    },
    {
      "metadata": {
        "id": "gYYygGSFYXaw",
        "colab_type": "text"
      },
      "cell_type": "markdown",
      "source": [
        "For not found substring,"
      ]
    },
    {
      "metadata": {
        "id": "h401D4lIYPHB",
        "colab_type": "code",
        "colab": {
          "base_uri": "https://localhost:8080/",
          "height": 163
        },
        "outputId": "d92a32e7-cc10-43f4-9fb2-ffbb147a1cbe"
      },
      "cell_type": "code",
      "source": [
        "text.index('New York')"
      ],
      "execution_count": 52,
      "outputs": [
        {
          "output_type": "error",
          "ename": "ValueError",
          "evalue": "ignored",
          "traceback": [
            "\u001b[0;31m---------------------------------------------------------------------------\u001b[0m",
            "\u001b[0;31mValueError\u001b[0m                                Traceback (most recent call last)",
            "\u001b[0;32m<ipython-input-52-27470edf9cd5>\u001b[0m in \u001b[0;36m<module>\u001b[0;34m()\u001b[0m\n\u001b[0;32m----> 1\u001b[0;31m \u001b[0mtext\u001b[0m\u001b[0;34m.\u001b[0m\u001b[0mindex\u001b[0m\u001b[0;34m(\u001b[0m\u001b[0;34m'New York'\u001b[0m\u001b[0;34m)\u001b[0m\u001b[0;34m\u001b[0m\u001b[0m\n\u001b[0m",
            "\u001b[0;31mValueError\u001b[0m: substring not found"
          ]
        }
      ]
    },
    {
      "metadata": {
        "id": "a13h-xy7YSG4",
        "colab_type": "code",
        "colab": {
          "base_uri": "https://localhost:8080/",
          "height": 34
        },
        "outputId": "66c92c79-afe6-4fef-de9b-39a3f1fd1b50"
      },
      "cell_type": "code",
      "source": [
        "text.find('New York')"
      ],
      "execution_count": 54,
      "outputs": [
        {
          "output_type": "execute_result",
          "data": {
            "text/plain": [
              "-1"
            ]
          },
          "metadata": {
            "tags": []
          },
          "execution_count": 54
        }
      ]
    },
    {
      "metadata": {
        "id": "sJBaAl2AYb14",
        "colab_type": "text"
      },
      "cell_type": "markdown",
      "source": [
        "**count()** provides the how many times occured within the text"
      ]
    },
    {
      "metadata": {
        "id": "SwPGbKLqYp_v",
        "colab_type": "code",
        "colab": {
          "base_uri": "https://localhost:8080/",
          "height": 34
        },
        "outputId": "c65590e7-35e1-4dfb-b5bc-d67211feb228"
      },
      "cell_type": "code",
      "source": [
        "text.count('e')"
      ],
      "execution_count": 55,
      "outputs": [
        {
          "output_type": "execute_result",
          "data": {
            "text/plain": [
              "2"
            ]
          },
          "metadata": {
            "tags": []
          },
          "execution_count": 55
        }
      ]
    },
    {
      "metadata": {
        "id": "NKIvo6EvYrlP",
        "colab_type": "code",
        "colab": {
          "base_uri": "https://localhost:8080/",
          "height": 34
        },
        "outputId": "bf2d41f0-38eb-4f97-8934-d0490252ad90"
      },
      "cell_type": "code",
      "source": [
        "text.count('Avenue')"
      ],
      "execution_count": 56,
      "outputs": [
        {
          "output_type": "execute_result",
          "data": {
            "text/plain": [
              "1"
            ]
          },
          "metadata": {
            "tags": []
          },
          "execution_count": 56
        }
      ]
    },
    {
      "metadata": {
        "id": "SQ-2mzc7Yzkr",
        "colab_type": "text"
      },
      "cell_type": "markdown",
      "source": [
        "**replace()** function,"
      ]
    },
    {
      "metadata": {
        "id": "ehCjsIj2Y-IY",
        "colab_type": "code",
        "colab": {
          "base_uri": "https://localhost:8080/",
          "height": 34
        },
        "outputId": "f2462925-2fb0-4415-f759-c077ac88dd2f"
      },
      "cell_type": "code",
      "source": [
        "text"
      ],
      "execution_count": 59,
      "outputs": [
        {
          "output_type": "execute_result",
          "data": {
            "text/plain": [
              "'16 Bolton Avenue , Boston'"
            ]
          },
          "metadata": {
            "tags": []
          },
          "execution_count": 59
        }
      ]
    },
    {
      "metadata": {
        "id": "ucGKBzLvY1Vq",
        "colab_type": "code",
        "colab": {
          "base_uri": "https://localhost:8080/",
          "height": 34
        },
        "outputId": "143919a1-c436-49d0-a21d-20d286f94ae4"
      },
      "cell_type": "code",
      "source": [
        "text.replace('Avenue', 'Street')"
      ],
      "execution_count": 57,
      "outputs": [
        {
          "output_type": "execute_result",
          "data": {
            "text/plain": [
              "'16 Bolton Street , Boston'"
            ]
          },
          "metadata": {
            "tags": []
          },
          "execution_count": 57
        }
      ]
    },
    {
      "metadata": {
        "id": "6oZ9GHJBY4ma",
        "colab_type": "code",
        "colab": {
          "base_uri": "https://localhost:8080/",
          "height": 34
        },
        "outputId": "1cf7a774-3716-4b6c-e3fb-ec56b713d82b"
      },
      "cell_type": "code",
      "source": [
        "text.replace('1','')"
      ],
      "execution_count": 58,
      "outputs": [
        {
          "output_type": "execute_result",
          "data": {
            "text/plain": [
              "'6 Bolton Avenue , Boston'"
            ]
          },
          "metadata": {
            "tags": []
          },
          "execution_count": 58
        }
      ]
    },
    {
      "metadata": {
        "id": "0tpGjgbQZJa1",
        "colab_type": "text"
      },
      "cell_type": "markdown",
      "source": [
        "###Regular Expressions\n",
        "*regex* - a single expression\n",
        "\n",
        "**re** module for operations of the regular expressions"
      ]
    },
    {
      "metadata": {
        "id": "2zZas4nCZcYr",
        "colab_type": "code",
        "colab": {}
      },
      "cell_type": "code",
      "source": [
        "import re"
      ],
      "execution_count": 0,
      "outputs": []
    },
    {
      "metadata": {
        "id": "uYvSXMJfZfao",
        "colab_type": "text"
      },
      "cell_type": "markdown",
      "source": [
        "The **re** module provides the main categorical functions:\n",
        "*  Pattern matching\n",
        "*  Substitution\n",
        "*  Splitting"
      ]
    },
    {
      "metadata": {
        "id": "6T06Xb5yZ5JK",
        "colab_type": "code",
        "colab": {
          "base_uri": "https://localhost:8080/",
          "height": 34
        },
        "outputId": "71e8b9ea-03dc-43e5-caca-bbf0ba0bc5bf"
      },
      "cell_type": "code",
      "source": [
        "text = \"This is       an\\t odd   \\n text!\"\n",
        "re.split('\\s+', text)"
      ],
      "execution_count": 63,
      "outputs": [
        {
          "output_type": "execute_result",
          "data": {
            "text/plain": [
              "['This', 'is', 'an', 'odd', 'text!']"
            ]
          },
          "metadata": {
            "tags": []
          },
          "execution_count": 63
        }
      ]
    },
    {
      "metadata": {
        "id": "RVWVn_acaGAr",
        "colab_type": "text"
      },
      "cell_type": "markdown",
      "source": [
        "**\\s+** regex is for expressing a sequence of one or more whitespace characters\n",
        "\n",
        "**re.compile()** returns a reusable object regex"
      ]
    },
    {
      "metadata": {
        "id": "5PEsjO-kaws3",
        "colab_type": "code",
        "colab": {}
      },
      "cell_type": "code",
      "source": [
        "regex = re.compile('\\s+')"
      ],
      "execution_count": 0,
      "outputs": []
    },
    {
      "metadata": {
        "id": "Ci-oRqXda1Pm",
        "colab_type": "code",
        "colab": {
          "base_uri": "https://localhost:8080/",
          "height": 34
        },
        "outputId": "96735748-93dc-4670-9969-f90d03056d34"
      },
      "cell_type": "code",
      "source": [
        "regex.split(text)"
      ],
      "execution_count": 65,
      "outputs": [
        {
          "output_type": "execute_result",
          "data": {
            "text/plain": [
              "['This', 'is', 'an', 'odd', 'text!']"
            ]
          },
          "metadata": {
            "tags": []
          },
          "execution_count": 65
        }
      ]
    },
    {
      "metadata": {
        "id": "6U_Nt6u9a6wg",
        "colab_type": "text"
      },
      "cell_type": "markdown",
      "source": [
        "**findall()** function mataches a regex pattern to any other substrings in the text and returns a list of all the substrings in the text that meet the requirements of the regex.\n",
        "\n",
        "For example, if you want to  find all the words starting with \"A\" uppercase in a string, or with \"a\" regardless wheter upper- or lowercase:"
      ]
    },
    {
      "metadata": {
        "id": "o1NlzXk-bXtI",
        "colab_type": "code",
        "colab": {
          "base_uri": "https://localhost:8080/",
          "height": 34
        },
        "outputId": "1a4f9616-7a7b-4f1d-e980-951f981f5b0b"
      },
      "cell_type": "code",
      "source": [
        "text = 'This is my address: 16 Bolton Avenue, Boston'\n",
        "re.findall('A\\w+', text)"
      ],
      "execution_count": 66,
      "outputs": [
        {
          "output_type": "execute_result",
          "data": {
            "text/plain": [
              "['Avenue']"
            ]
          },
          "metadata": {
            "tags": []
          },
          "execution_count": 66
        }
      ]
    },
    {
      "metadata": {
        "id": "L1KvL-4-bhxk",
        "colab_type": "code",
        "colab": {
          "base_uri": "https://localhost:8080/",
          "height": 34
        },
        "outputId": "37594348-ea0b-4124-b68d-c7e394808fdc"
      },
      "cell_type": "code",
      "source": [
        "re.findall('[A,a]\\w+', text)"
      ],
      "execution_count": 67,
      "outputs": [
        {
          "output_type": "execute_result",
          "data": {
            "text/plain": [
              "['address', 'Avenue']"
            ]
          },
          "metadata": {
            "tags": []
          },
          "execution_count": 67
        }
      ]
    },
    {
      "metadata": {
        "id": "5u6nGGiEbr0C",
        "colab_type": "text"
      },
      "cell_type": "markdown",
      "source": [
        "**search()** function only returns the first match. The object returned by this function does not contain the value of the substring but its start and end positions within the string."
      ]
    },
    {
      "metadata": {
        "id": "3MqUZpHmcAmT",
        "colab_type": "code",
        "colab": {
          "base_uri": "https://localhost:8080/",
          "height": 34
        },
        "outputId": "670c278d-ea77-46b0-82b8-89134a418c91"
      },
      "cell_type": "code",
      "source": [
        "re.search('[A,a]\\w+', text)"
      ],
      "execution_count": 69,
      "outputs": [
        {
          "output_type": "execute_result",
          "data": {
            "text/plain": [
              "<_sre.SRE_Match object; span=(11, 18), match='address'>"
            ]
          },
          "metadata": {
            "tags": []
          },
          "execution_count": 69
        }
      ]
    },
    {
      "metadata": {
        "id": "PysxlymfcHlI",
        "colab_type": "code",
        "colab": {
          "base_uri": "https://localhost:8080/",
          "height": 34
        },
        "outputId": "cca92b89-758a-4347-b091-3eff4d84f3fe"
      },
      "cell_type": "code",
      "source": [
        "search = re.search('[A,a]\\w+', text)\n",
        "search.start()"
      ],
      "execution_count": 70,
      "outputs": [
        {
          "output_type": "execute_result",
          "data": {
            "text/plain": [
              "11"
            ]
          },
          "metadata": {
            "tags": []
          },
          "execution_count": 70
        }
      ]
    },
    {
      "metadata": {
        "id": "FTSo-6lucMdv",
        "colab_type": "code",
        "colab": {
          "base_uri": "https://localhost:8080/",
          "height": 34
        },
        "outputId": "6dda5768-1908-4d28-af03-14be884144a5"
      },
      "cell_type": "code",
      "source": [
        "search.end()"
      ],
      "execution_count": 71,
      "outputs": [
        {
          "output_type": "execute_result",
          "data": {
            "text/plain": [
              "18"
            ]
          },
          "metadata": {
            "tags": []
          },
          "execution_count": 71
        }
      ]
    },
    {
      "metadata": {
        "id": "nITnqOUOcNrT",
        "colab_type": "code",
        "colab": {
          "base_uri": "https://localhost:8080/",
          "height": 34
        },
        "outputId": "f46aba2c-805f-4f7b-a9ff-4ace6da16557"
      },
      "cell_type": "code",
      "source": [
        "text[search.start() : search.end()]"
      ],
      "execution_count": 72,
      "outputs": [
        {
          "output_type": "execute_result",
          "data": {
            "text/plain": [
              "'address'"
            ]
          },
          "metadata": {
            "tags": []
          },
          "execution_count": 72
        }
      ]
    },
    {
      "metadata": {
        "id": "OHHwGPuXcSvR",
        "colab_type": "text"
      },
      "cell_type": "markdown",
      "source": [
        "**match()** function only performs matching at the beginning of the string..."
      ]
    },
    {
      "metadata": {
        "id": "pnIKEG1HcvjA",
        "colab_type": "code",
        "colab": {}
      },
      "cell_type": "code",
      "source": [
        "re.match('[A,a]\\w+', text)"
      ],
      "execution_count": 0,
      "outputs": []
    },
    {
      "metadata": {
        "id": "6EgZk0BZc7m3",
        "colab_type": "code",
        "colab": {
          "base_uri": "https://localhost:8080/",
          "height": 34
        },
        "outputId": "e12282c0-eb11-4165-cd04-ae61c7270a90"
      },
      "cell_type": "code",
      "source": [
        "re.match('T\\w+', text)"
      ],
      "execution_count": 75,
      "outputs": [
        {
          "output_type": "execute_result",
          "data": {
            "text/plain": [
              "<_sre.SRE_Match object; span=(0, 4), match='This'>"
            ]
          },
          "metadata": {
            "tags": []
          },
          "execution_count": 75
        }
      ]
    },
    {
      "metadata": {
        "id": "0vTmfQScc_5y",
        "colab_type": "code",
        "colab": {
          "base_uri": "https://localhost:8080/",
          "height": 34
        },
        "outputId": "848fda41-8e22-4ce0-aabc-112df97eb72d"
      },
      "cell_type": "code",
      "source": [
        "match = re.match('T\\w+', text)\n",
        "text[match.start() : match.end()]"
      ],
      "execution_count": 76,
      "outputs": [
        {
          "output_type": "execute_result",
          "data": {
            "text/plain": [
              "'This'"
            ]
          },
          "metadata": {
            "tags": []
          },
          "execution_count": 76
        }
      ]
    },
    {
      "metadata": {
        "id": "I88jLJYcdHxD",
        "colab_type": "text"
      },
      "cell_type": "markdown",
      "source": [
        "#Data Aggregation"
      ]
    },
    {
      "metadata": {
        "id": "wTrZPDW6dSO5",
        "colab_type": "text"
      },
      "cell_type": "markdown",
      "source": [
        "##GroupBy\n",
        "*split-apply-combine*\n",
        "*  Splitting -- Division into groups of datasets\n",
        "*  Applying -- Application of a function on each group\n",
        "*  Combining -- Combination of all the results obtained by different groups"
      ]
    },
    {
      "metadata": {
        "id": "mW1AGCMZd147",
        "colab_type": "code",
        "colab": {
          "base_uri": "https://localhost:8080/",
          "height": 204
        },
        "outputId": "2ce7e2a1-5f16-47e3-8168-ba6b01f6ecac"
      },
      "cell_type": "code",
      "source": [
        "frame = pd.DataFrame({ 'color': ['white','red','green','red','green'],\n",
        "                      'object': ['pen','pencil','pencil','ashtray','pen'],\n",
        "                      'price1' : [5.56,4.20,1.30,0.56,2.75],\n",
        "                      'price2' : [4.75,4.12,1.60,0.75,3.15]})\n",
        "frame"
      ],
      "execution_count": 77,
      "outputs": [
        {
          "output_type": "execute_result",
          "data": {
            "text/html": [
              "<div>\n",
              "<style scoped>\n",
              "    .dataframe tbody tr th:only-of-type {\n",
              "        vertical-align: middle;\n",
              "    }\n",
              "\n",
              "    .dataframe tbody tr th {\n",
              "        vertical-align: top;\n",
              "    }\n",
              "\n",
              "    .dataframe thead th {\n",
              "        text-align: right;\n",
              "    }\n",
              "</style>\n",
              "<table border=\"1\" class=\"dataframe\">\n",
              "  <thead>\n",
              "    <tr style=\"text-align: right;\">\n",
              "      <th></th>\n",
              "      <th>color</th>\n",
              "      <th>object</th>\n",
              "      <th>price1</th>\n",
              "      <th>price2</th>\n",
              "    </tr>\n",
              "  </thead>\n",
              "  <tbody>\n",
              "    <tr>\n",
              "      <th>0</th>\n",
              "      <td>white</td>\n",
              "      <td>pen</td>\n",
              "      <td>5.56</td>\n",
              "      <td>4.75</td>\n",
              "    </tr>\n",
              "    <tr>\n",
              "      <th>1</th>\n",
              "      <td>red</td>\n",
              "      <td>pencil</td>\n",
              "      <td>4.20</td>\n",
              "      <td>4.12</td>\n",
              "    </tr>\n",
              "    <tr>\n",
              "      <th>2</th>\n",
              "      <td>green</td>\n",
              "      <td>pencil</td>\n",
              "      <td>1.30</td>\n",
              "      <td>1.60</td>\n",
              "    </tr>\n",
              "    <tr>\n",
              "      <th>3</th>\n",
              "      <td>red</td>\n",
              "      <td>ashtray</td>\n",
              "      <td>0.56</td>\n",
              "      <td>0.75</td>\n",
              "    </tr>\n",
              "    <tr>\n",
              "      <th>4</th>\n",
              "      <td>green</td>\n",
              "      <td>pen</td>\n",
              "      <td>2.75</td>\n",
              "      <td>3.15</td>\n",
              "    </tr>\n",
              "  </tbody>\n",
              "</table>\n",
              "</div>"
            ],
            "text/plain": [
              "   color   object  price1  price2\n",
              "0  white      pen    5.56    4.75\n",
              "1    red   pencil    4.20    4.12\n",
              "2  green   pencil    1.30    1.60\n",
              "3    red  ashtray    0.56    0.75\n",
              "4  green      pen    2.75    3.15"
            ]
          },
          "metadata": {
            "tags": []
          },
          "execution_count": 77
        }
      ]
    },
    {
      "metadata": {
        "id": "h89-5gcxeHgu",
        "colab_type": "text"
      },
      "cell_type": "markdown",
      "source": [
        "Suppose you want to calculate the average of the price1 column using group labels listed in the color column.\n",
        "\n",
        "Access the *price1* column and call the **groupby()** function with the *color* column"
      ]
    },
    {
      "metadata": {
        "id": "GYKfSkoCeYsO",
        "colab_type": "code",
        "colab": {
          "base_uri": "https://localhost:8080/",
          "height": 34
        },
        "outputId": "63bb9c99-fc98-4584-ea35-d08e1fbc411e"
      },
      "cell_type": "code",
      "source": [
        "group = frame['price1'].groupby(frame['color'])\n",
        "group"
      ],
      "execution_count": 78,
      "outputs": [
        {
          "output_type": "execute_result",
          "data": {
            "text/plain": [
              "<pandas.core.groupby.SeriesGroupBy object at 0x7f3bc6c9f860>"
            ]
          },
          "metadata": {
            "tags": []
          },
          "execution_count": 78
        }
      ]
    },
    {
      "metadata": {
        "id": "tu-IafbJem_r",
        "colab_type": "code",
        "colab": {
          "base_uri": "https://localhost:8080/",
          "height": 68
        },
        "outputId": "87141d19-de4b-4bde-ff34-97ae8700154f"
      },
      "cell_type": "code",
      "source": [
        "group.groups"
      ],
      "execution_count": 79,
      "outputs": [
        {
          "output_type": "execute_result",
          "data": {
            "text/plain": [
              "{'green': Int64Index([2, 4], dtype='int64'),\n",
              " 'red': Int64Index([1, 3], dtype='int64'),\n",
              " 'white': Int64Index([0], dtype='int64')}"
            ]
          },
          "metadata": {
            "tags": []
          },
          "execution_count": 79
        }
      ]
    },
    {
      "metadata": {
        "id": "OolspuTzerbI",
        "colab_type": "code",
        "colab": {
          "base_uri": "https://localhost:8080/",
          "height": 102
        },
        "outputId": "94d3abf9-39ad-48a1-f182-0a0b491dcdc3"
      },
      "cell_type": "code",
      "source": [
        "group.mean()"
      ],
      "execution_count": 80,
      "outputs": [
        {
          "output_type": "execute_result",
          "data": {
            "text/plain": [
              "color\n",
              "green    2.025\n",
              "red      2.380\n",
              "white    5.560\n",
              "Name: price1, dtype: float64"
            ]
          },
          "metadata": {
            "tags": []
          },
          "execution_count": 80
        }
      ]
    },
    {
      "metadata": {
        "id": "3cBxVeeBesY9",
        "colab_type": "code",
        "colab": {
          "base_uri": "https://localhost:8080/",
          "height": 102
        },
        "outputId": "1bed777f-f61c-4e14-b39f-f35eff39a124"
      },
      "cell_type": "code",
      "source": [
        "group.sum()"
      ],
      "execution_count": 81,
      "outputs": [
        {
          "output_type": "execute_result",
          "data": {
            "text/plain": [
              "color\n",
              "green    4.05\n",
              "red      4.76\n",
              "white    5.56\n",
              "Name: price1, dtype: float64"
            ]
          },
          "metadata": {
            "tags": []
          },
          "execution_count": 81
        }
      ]
    },
    {
      "metadata": {
        "id": "jV3D6XdCexGr",
        "colab_type": "text"
      },
      "cell_type": "markdown",
      "source": [
        "###Hierarchical Grouping\n",
        "make a grouping of multiple keys hierarchical"
      ]
    },
    {
      "metadata": {
        "id": "kJyPqqiSfAXl",
        "colab_type": "code",
        "colab": {
          "base_uri": "https://localhost:8080/",
          "height": 102
        },
        "outputId": "2d84aef3-4ff5-48bb-e993-c26f241b289c"
      },
      "cell_type": "code",
      "source": [
        "ggroup = frame['price1'].groupby([frame['color'], frame['object']])\n",
        "#need to be in a list inside the groupby()\n",
        "ggroup.groups"
      ],
      "execution_count": 83,
      "outputs": [
        {
          "output_type": "execute_result",
          "data": {
            "text/plain": [
              "{('green', 'pen'): Int64Index([4], dtype='int64'),\n",
              " ('green', 'pencil'): Int64Index([2], dtype='int64'),\n",
              " ('red', 'ashtray'): Int64Index([3], dtype='int64'),\n",
              " ('red', 'pencil'): Int64Index([1], dtype='int64'),\n",
              " ('white', 'pen'): Int64Index([0], dtype='int64')}"
            ]
          },
          "metadata": {
            "tags": []
          },
          "execution_count": 83
        }
      ]
    },
    {
      "metadata": {
        "id": "YUtf-LiZfR5e",
        "colab_type": "code",
        "colab": {
          "base_uri": "https://localhost:8080/",
          "height": 136
        },
        "outputId": "1984a1fc-dff5-43fe-b259-397980254588"
      },
      "cell_type": "code",
      "source": [
        "ggroup.sum()"
      ],
      "execution_count": 84,
      "outputs": [
        {
          "output_type": "execute_result",
          "data": {
            "text/plain": [
              "color  object \n",
              "green  pen        2.75\n",
              "       pencil     1.30\n",
              "red    ashtray    0.56\n",
              "       pencil     4.20\n",
              "white  pen        5.56\n",
              "Name: price1, dtype: float64"
            ]
          },
          "metadata": {
            "tags": []
          },
          "execution_count": 84
        }
      ]
    },
    {
      "metadata": {
        "id": "fv7Phj98fgyC",
        "colab_type": "text"
      },
      "cell_type": "markdown",
      "source": [
        "Apply the grouping to multiple columns"
      ]
    },
    {
      "metadata": {
        "id": "ga_0hgVeftHR",
        "colab_type": "code",
        "colab": {
          "base_uri": "https://localhost:8080/",
          "height": 173
        },
        "outputId": "e9a33232-355e-4dd9-85ba-affe97a84969"
      },
      "cell_type": "code",
      "source": [
        "frame[['price1','price2']].groupby(frame['color']).mean()"
      ],
      "execution_count": 85,
      "outputs": [
        {
          "output_type": "execute_result",
          "data": {
            "text/html": [
              "<div>\n",
              "<style scoped>\n",
              "    .dataframe tbody tr th:only-of-type {\n",
              "        vertical-align: middle;\n",
              "    }\n",
              "\n",
              "    .dataframe tbody tr th {\n",
              "        vertical-align: top;\n",
              "    }\n",
              "\n",
              "    .dataframe thead th {\n",
              "        text-align: right;\n",
              "    }\n",
              "</style>\n",
              "<table border=\"1\" class=\"dataframe\">\n",
              "  <thead>\n",
              "    <tr style=\"text-align: right;\">\n",
              "      <th></th>\n",
              "      <th>price1</th>\n",
              "      <th>price2</th>\n",
              "    </tr>\n",
              "    <tr>\n",
              "      <th>color</th>\n",
              "      <th></th>\n",
              "      <th></th>\n",
              "    </tr>\n",
              "  </thead>\n",
              "  <tbody>\n",
              "    <tr>\n",
              "      <th>green</th>\n",
              "      <td>2.025</td>\n",
              "      <td>2.375</td>\n",
              "    </tr>\n",
              "    <tr>\n",
              "      <th>red</th>\n",
              "      <td>2.380</td>\n",
              "      <td>2.435</td>\n",
              "    </tr>\n",
              "    <tr>\n",
              "      <th>white</th>\n",
              "      <td>5.560</td>\n",
              "      <td>4.750</td>\n",
              "    </tr>\n",
              "  </tbody>\n",
              "</table>\n",
              "</div>"
            ],
            "text/plain": [
              "       price1  price2\n",
              "color                \n",
              "green   2.025   2.375\n",
              "red     2.380   2.435\n",
              "white   5.560   4.750"
            ]
          },
          "metadata": {
            "tags": []
          },
          "execution_count": 85
        }
      ]
    },
    {
      "metadata": {
        "id": "ORGZDB1Hf0bx",
        "colab_type": "code",
        "colab": {
          "base_uri": "https://localhost:8080/",
          "height": 173
        },
        "outputId": "b181c0d4-e24d-45e4-80a2-3e617254539b"
      },
      "cell_type": "code",
      "source": [
        "frame.groupby(frame['color']).mean()"
      ],
      "execution_count": 86,
      "outputs": [
        {
          "output_type": "execute_result",
          "data": {
            "text/html": [
              "<div>\n",
              "<style scoped>\n",
              "    .dataframe tbody tr th:only-of-type {\n",
              "        vertical-align: middle;\n",
              "    }\n",
              "\n",
              "    .dataframe tbody tr th {\n",
              "        vertical-align: top;\n",
              "    }\n",
              "\n",
              "    .dataframe thead th {\n",
              "        text-align: right;\n",
              "    }\n",
              "</style>\n",
              "<table border=\"1\" class=\"dataframe\">\n",
              "  <thead>\n",
              "    <tr style=\"text-align: right;\">\n",
              "      <th></th>\n",
              "      <th>price1</th>\n",
              "      <th>price2</th>\n",
              "    </tr>\n",
              "    <tr>\n",
              "      <th>color</th>\n",
              "      <th></th>\n",
              "      <th></th>\n",
              "    </tr>\n",
              "  </thead>\n",
              "  <tbody>\n",
              "    <tr>\n",
              "      <th>green</th>\n",
              "      <td>2.025</td>\n",
              "      <td>2.375</td>\n",
              "    </tr>\n",
              "    <tr>\n",
              "      <th>red</th>\n",
              "      <td>2.380</td>\n",
              "      <td>2.435</td>\n",
              "    </tr>\n",
              "    <tr>\n",
              "      <th>white</th>\n",
              "      <td>5.560</td>\n",
              "      <td>4.750</td>\n",
              "    </tr>\n",
              "  </tbody>\n",
              "</table>\n",
              "</div>"
            ],
            "text/plain": [
              "       price1  price2\n",
              "color                \n",
              "green   2.025   2.375\n",
              "red     2.380   2.435\n",
              "white   5.560   4.750"
            ]
          },
          "metadata": {
            "tags": []
          },
          "execution_count": 86
        }
      ]
    },
    {
      "metadata": {
        "id": "yQHP_Rydf7eG",
        "colab_type": "text"
      },
      "cell_type": "markdown",
      "source": [
        "##Group Iteration\n",
        "The **GroupBy** object supports the operation of an iteration to *generate a sequence of **two-tuples** containing the **name** of the group together with the **data** portion.*"
      ]
    },
    {
      "metadata": {
        "id": "aXiOtw0EgRPj",
        "colab_type": "code",
        "colab": {
          "base_uri": "https://localhost:8080/",
          "height": 204
        },
        "outputId": "7d9e1cff-b3f3-4809-df90-ce500cd149b8"
      },
      "cell_type": "code",
      "source": [
        "for name, group in frame.groupby('color'):\n",
        "  print(name)\n",
        "  print(group)"
      ],
      "execution_count": 87,
      "outputs": [
        {
          "output_type": "stream",
          "text": [
            "green\n",
            "   color  object  price1  price2\n",
            "2  green  pencil    1.30    1.60\n",
            "4  green     pen    2.75    3.15\n",
            "red\n",
            "  color   object  price1  price2\n",
            "1   red   pencil    4.20    4.12\n",
            "3   red  ashtray    0.56    0.75\n",
            "white\n",
            "   color object  price1  price2\n",
            "0  white    pen    5.56    4.75\n"
          ],
          "name": "stdout"
        }
      ]
    },
    {
      "metadata": {
        "id": "xd09GHWwgjXm",
        "colab_type": "text"
      },
      "cell_type": "markdown",
      "source": [
        "##Chain of Transformation"
      ]
    },
    {
      "metadata": {
        "id": "Otgo_7cSg2vw",
        "colab_type": "code",
        "colab": {
          "base_uri": "https://localhost:8080/",
          "height": 34
        },
        "outputId": "4c495e24-dac8-4016-9c4b-2b1b2a9a1c6d"
      },
      "cell_type": "code",
      "source": [
        "result1 = frame['price1'].groupby(frame['color']).mean()\n",
        "type(result1)"
      ],
      "execution_count": 88,
      "outputs": [
        {
          "output_type": "execute_result",
          "data": {
            "text/plain": [
              "pandas.core.series.Series"
            ]
          },
          "metadata": {
            "tags": []
          },
          "execution_count": 88
        }
      ]
    },
    {
      "metadata": {
        "id": "wnPuFiRBg73A",
        "colab_type": "code",
        "colab": {
          "base_uri": "https://localhost:8080/",
          "height": 34
        },
        "outputId": "2429989a-602b-4ea7-af0e-b87c3d20197e"
      },
      "cell_type": "code",
      "source": [
        "result2 = frame.groupby(frame['color']).mean()\n",
        "type(result2)"
      ],
      "execution_count": 89,
      "outputs": [
        {
          "output_type": "execute_result",
          "data": {
            "text/plain": [
              "pandas.core.frame.DataFrame"
            ]
          },
          "metadata": {
            "tags": []
          },
          "execution_count": 89
        }
      ]
    },
    {
      "metadata": {
        "id": "kVaRVMKZhD8m",
        "colab_type": "text"
      },
      "cell_type": "markdown",
      "source": [
        "Select a single column at any point in the various phases:"
      ]
    },
    {
      "metadata": {
        "id": "4a1haq0BhKHh",
        "colab_type": "code",
        "colab": {
          "base_uri": "https://localhost:8080/",
          "height": 102
        },
        "outputId": "be88b8e6-508b-4bf6-d506-2f1b9dc49ef7"
      },
      "cell_type": "code",
      "source": [
        "frame['price1'].groupby(frame['color']).mean()"
      ],
      "execution_count": 90,
      "outputs": [
        {
          "output_type": "execute_result",
          "data": {
            "text/plain": [
              "color\n",
              "green    2.025\n",
              "red      2.380\n",
              "white    5.560\n",
              "Name: price1, dtype: float64"
            ]
          },
          "metadata": {
            "tags": []
          },
          "execution_count": 90
        }
      ]
    },
    {
      "metadata": {
        "id": "cqViqe_UhQje",
        "colab_type": "code",
        "colab": {
          "base_uri": "https://localhost:8080/",
          "height": 102
        },
        "outputId": "811ccba3-ac9b-4da3-f190-bb2f79bd0a9a"
      },
      "cell_type": "code",
      "source": [
        "frame.groupby(frame['color'])['price1'].mean()"
      ],
      "execution_count": 91,
      "outputs": [
        {
          "output_type": "execute_result",
          "data": {
            "text/plain": [
              "color\n",
              "green    2.025\n",
              "red      2.380\n",
              "white    5.560\n",
              "Name: price1, dtype: float64"
            ]
          },
          "metadata": {
            "tags": []
          },
          "execution_count": 91
        }
      ]
    },
    {
      "metadata": {
        "id": "dfdRgE7uhV3J",
        "colab_type": "code",
        "colab": {
          "base_uri": "https://localhost:8080/",
          "height": 102
        },
        "outputId": "ddca8054-2c20-479f-b1a2-6051871e74a9"
      },
      "cell_type": "code",
      "source": [
        "(frame.groupby(frame['color']).mean())['price1']"
      ],
      "execution_count": 92,
      "outputs": [
        {
          "output_type": "execute_result",
          "data": {
            "text/plain": [
              "color\n",
              "green    2.025\n",
              "red      2.380\n",
              "white    5.560\n",
              "Name: price1, dtype: float64"
            ]
          },
          "metadata": {
            "tags": []
          },
          "execution_count": 92
        }
      ]
    },
    {
      "metadata": {
        "id": "Wi09OJw7hm_h",
        "colab_type": "text"
      },
      "cell_type": "markdown",
      "source": [
        "After aggregation (**sum()** or **mean()**, etc), you may want to add a prefix to the column name that describes the type of aggregation operation to keep track of the source data.\n",
        "\n",
        "Use the **add_prefix()** function"
      ]
    },
    {
      "metadata": {
        "id": "l3pEh6V0iBHM",
        "colab_type": "code",
        "colab": {
          "base_uri": "https://localhost:8080/",
          "height": 173
        },
        "outputId": "663066ae-e584-43c2-87d8-3f7389e0997f"
      },
      "cell_type": "code",
      "source": [
        "means = frame.groupby('color').mean().add_prefix('mean_')\n",
        "means #               ^ don't need to write frame['color']"
      ],
      "execution_count": 94,
      "outputs": [
        {
          "output_type": "execute_result",
          "data": {
            "text/html": [
              "<div>\n",
              "<style scoped>\n",
              "    .dataframe tbody tr th:only-of-type {\n",
              "        vertical-align: middle;\n",
              "    }\n",
              "\n",
              "    .dataframe tbody tr th {\n",
              "        vertical-align: top;\n",
              "    }\n",
              "\n",
              "    .dataframe thead th {\n",
              "        text-align: right;\n",
              "    }\n",
              "</style>\n",
              "<table border=\"1\" class=\"dataframe\">\n",
              "  <thead>\n",
              "    <tr style=\"text-align: right;\">\n",
              "      <th></th>\n",
              "      <th>mean_price1</th>\n",
              "      <th>mean_price2</th>\n",
              "    </tr>\n",
              "    <tr>\n",
              "      <th>color</th>\n",
              "      <th></th>\n",
              "      <th></th>\n",
              "    </tr>\n",
              "  </thead>\n",
              "  <tbody>\n",
              "    <tr>\n",
              "      <th>green</th>\n",
              "      <td>2.025</td>\n",
              "      <td>2.375</td>\n",
              "    </tr>\n",
              "    <tr>\n",
              "      <th>red</th>\n",
              "      <td>2.380</td>\n",
              "      <td>2.435</td>\n",
              "    </tr>\n",
              "    <tr>\n",
              "      <th>white</th>\n",
              "      <td>5.560</td>\n",
              "      <td>4.750</td>\n",
              "    </tr>\n",
              "  </tbody>\n",
              "</table>\n",
              "</div>"
            ],
            "text/plain": [
              "       mean_price1  mean_price2\n",
              "color                          \n",
              "green        2.025        2.375\n",
              "red          2.380        2.435\n",
              "white        5.560        4.750"
            ]
          },
          "metadata": {
            "tags": []
          },
          "execution_count": 94
        }
      ]
    },
    {
      "metadata": {
        "id": "ILUCWi7YipCx",
        "colab_type": "text"
      },
      "cell_type": "markdown",
      "source": [
        "##Functions on Groups"
      ]
    },
    {
      "metadata": {
        "id": "Hzte0COCi3oe",
        "colab_type": "code",
        "colab": {
          "base_uri": "https://localhost:8080/",
          "height": 102
        },
        "outputId": "d2d32f8d-0b98-4c31-cd26-f1479ccd52da"
      },
      "cell_type": "code",
      "source": [
        "group = frame.groupby('color')\n",
        "group['price1'].quantile(0.6)"
      ],
      "execution_count": 95,
      "outputs": [
        {
          "output_type": "execute_result",
          "data": {
            "text/plain": [
              "color\n",
              "green    2.170\n",
              "red      2.744\n",
              "white    5.560\n",
              "Name: price1, dtype: float64"
            ]
          },
          "metadata": {
            "tags": []
          },
          "execution_count": 95
        }
      ]
    },
    {
      "metadata": {
        "id": "Ry99YTRrjAb9",
        "colab_type": "text"
      },
      "cell_type": "markdown",
      "source": [
        "To use your own defined aggregation function, pass it to **agg()**"
      ]
    },
    {
      "metadata": {
        "id": "B0t16MCyjhwu",
        "colab_type": "code",
        "colab": {
          "base_uri": "https://localhost:8080/",
          "height": 102
        },
        "outputId": "0287ccd5-7b5a-4451-bcf0-03f1349e65c6"
      },
      "cell_type": "code",
      "source": [
        "def range(series):\n",
        "  return series.max() - series.min()\n",
        "\n",
        "group['price1'].agg(range)"
      ],
      "execution_count": 96,
      "outputs": [
        {
          "output_type": "execute_result",
          "data": {
            "text/plain": [
              "color\n",
              "green    1.45\n",
              "red      3.64\n",
              "white    0.00\n",
              "Name: price1, dtype: float64"
            ]
          },
          "metadata": {
            "tags": []
          },
          "execution_count": 96
        }
      ]
    },
    {
      "metadata": {
        "id": "dRwaEnGvjxmr",
        "colab_type": "code",
        "colab": {
          "base_uri": "https://localhost:8080/",
          "height": 173
        },
        "outputId": "c163945b-cf47-43aa-a5e4-e01c664a975f"
      },
      "cell_type": "code",
      "source": [
        "group.agg(range)"
      ],
      "execution_count": 99,
      "outputs": [
        {
          "output_type": "execute_result",
          "data": {
            "text/html": [
              "<div>\n",
              "<style scoped>\n",
              "    .dataframe tbody tr th:only-of-type {\n",
              "        vertical-align: middle;\n",
              "    }\n",
              "\n",
              "    .dataframe tbody tr th {\n",
              "        vertical-align: top;\n",
              "    }\n",
              "\n",
              "    .dataframe thead th {\n",
              "        text-align: right;\n",
              "    }\n",
              "</style>\n",
              "<table border=\"1\" class=\"dataframe\">\n",
              "  <thead>\n",
              "    <tr style=\"text-align: right;\">\n",
              "      <th></th>\n",
              "      <th>price1</th>\n",
              "      <th>price2</th>\n",
              "    </tr>\n",
              "    <tr>\n",
              "      <th>color</th>\n",
              "      <th></th>\n",
              "      <th></th>\n",
              "    </tr>\n",
              "  </thead>\n",
              "  <tbody>\n",
              "    <tr>\n",
              "      <th>green</th>\n",
              "      <td>1.45</td>\n",
              "      <td>1.55</td>\n",
              "    </tr>\n",
              "    <tr>\n",
              "      <th>red</th>\n",
              "      <td>3.64</td>\n",
              "      <td>3.37</td>\n",
              "    </tr>\n",
              "    <tr>\n",
              "      <th>white</th>\n",
              "      <td>0.00</td>\n",
              "      <td>0.00</td>\n",
              "    </tr>\n",
              "  </tbody>\n",
              "</table>\n",
              "</div>"
            ],
            "text/plain": [
              "       price1  price2\n",
              "color                \n",
              "green    1.45    1.55\n",
              "red      3.64    3.37\n",
              "white    0.00    0.00"
            ]
          },
          "metadata": {
            "tags": []
          },
          "execution_count": 99
        }
      ]
    },
    {
      "metadata": {
        "id": "u6-MyhjLj0V1",
        "colab_type": "text"
      },
      "cell_type": "markdown",
      "source": [
        "You can pass more aggregate functions in a list to **agg()**"
      ]
    },
    {
      "metadata": {
        "id": "6-vJei0tj91W",
        "colab_type": "code",
        "colab": {
          "base_uri": "https://localhost:8080/",
          "height": 204
        },
        "outputId": "e43676eb-85ed-40f0-a5c5-320b2f02c7a3"
      },
      "cell_type": "code",
      "source": [
        "group.agg(['mean','std',range])"
      ],
      "execution_count": 101,
      "outputs": [
        {
          "output_type": "execute_result",
          "data": {
            "text/html": [
              "<div>\n",
              "<style scoped>\n",
              "    .dataframe tbody tr th:only-of-type {\n",
              "        vertical-align: middle;\n",
              "    }\n",
              "\n",
              "    .dataframe tbody tr th {\n",
              "        vertical-align: top;\n",
              "    }\n",
              "\n",
              "    .dataframe thead tr th {\n",
              "        text-align: left;\n",
              "    }\n",
              "\n",
              "    .dataframe thead tr:last-of-type th {\n",
              "        text-align: right;\n",
              "    }\n",
              "</style>\n",
              "<table border=\"1\" class=\"dataframe\">\n",
              "  <thead>\n",
              "    <tr>\n",
              "      <th></th>\n",
              "      <th colspan=\"3\" halign=\"left\">price1</th>\n",
              "      <th colspan=\"3\" halign=\"left\">price2</th>\n",
              "    </tr>\n",
              "    <tr>\n",
              "      <th></th>\n",
              "      <th>mean</th>\n",
              "      <th>std</th>\n",
              "      <th>range</th>\n",
              "      <th>mean</th>\n",
              "      <th>std</th>\n",
              "      <th>range</th>\n",
              "    </tr>\n",
              "    <tr>\n",
              "      <th>color</th>\n",
              "      <th></th>\n",
              "      <th></th>\n",
              "      <th></th>\n",
              "      <th></th>\n",
              "      <th></th>\n",
              "      <th></th>\n",
              "    </tr>\n",
              "  </thead>\n",
              "  <tbody>\n",
              "    <tr>\n",
              "      <th>green</th>\n",
              "      <td>2.025</td>\n",
              "      <td>1.025305</td>\n",
              "      <td>1.45</td>\n",
              "      <td>2.375</td>\n",
              "      <td>1.096016</td>\n",
              "      <td>1.55</td>\n",
              "    </tr>\n",
              "    <tr>\n",
              "      <th>red</th>\n",
              "      <td>2.380</td>\n",
              "      <td>2.573869</td>\n",
              "      <td>3.64</td>\n",
              "      <td>2.435</td>\n",
              "      <td>2.382950</td>\n",
              "      <td>3.37</td>\n",
              "    </tr>\n",
              "    <tr>\n",
              "      <th>white</th>\n",
              "      <td>5.560</td>\n",
              "      <td>NaN</td>\n",
              "      <td>0.00</td>\n",
              "      <td>4.750</td>\n",
              "      <td>NaN</td>\n",
              "      <td>0.00</td>\n",
              "    </tr>\n",
              "  </tbody>\n",
              "</table>\n",
              "</div>"
            ],
            "text/plain": [
              "      price1                 price2                \n",
              "        mean       std range   mean       std range\n",
              "color                                              \n",
              "green  2.025  1.025305  1.45  2.375  1.096016  1.55\n",
              "red    2.380  2.573869  3.64  2.435  2.382950  3.37\n",
              "white  5.560       NaN  0.00  4.750       NaN  0.00"
            ]
          },
          "metadata": {
            "tags": []
          },
          "execution_count": 101
        }
      ]
    },
    {
      "metadata": {
        "id": "rBV2FFNJkISI",
        "colab_type": "text"
      },
      "cell_type": "markdown",
      "source": [
        "##Advanced Data Aggregation\n",
        "Suppose you want to combine the original dataframe and the one obtained by the group aggregation, for example, the sum."
      ]
    },
    {
      "metadata": {
        "id": "qgDLx3XBkgmi",
        "colab_type": "code",
        "colab": {
          "base_uri": "https://localhost:8080/",
          "height": 204
        },
        "outputId": "4772a9d8-3c2a-41ae-eaf5-3ba812c71333"
      },
      "cell_type": "code",
      "source": [
        "frame = pd.DataFrame({ 'color':['white','red','green','red','green'],\n",
        "                      'price1':[5.56,4.20,1.30,0.56,2.75],\n",
        "                      'price2':[4.75,4.12,1.60,0.75,3.15]})\n",
        "frame"
      ],
      "execution_count": 102,
      "outputs": [
        {
          "output_type": "execute_result",
          "data": {
            "text/html": [
              "<div>\n",
              "<style scoped>\n",
              "    .dataframe tbody tr th:only-of-type {\n",
              "        vertical-align: middle;\n",
              "    }\n",
              "\n",
              "    .dataframe tbody tr th {\n",
              "        vertical-align: top;\n",
              "    }\n",
              "\n",
              "    .dataframe thead th {\n",
              "        text-align: right;\n",
              "    }\n",
              "</style>\n",
              "<table border=\"1\" class=\"dataframe\">\n",
              "  <thead>\n",
              "    <tr style=\"text-align: right;\">\n",
              "      <th></th>\n",
              "      <th>color</th>\n",
              "      <th>price1</th>\n",
              "      <th>price2</th>\n",
              "    </tr>\n",
              "  </thead>\n",
              "  <tbody>\n",
              "    <tr>\n",
              "      <th>0</th>\n",
              "      <td>white</td>\n",
              "      <td>5.56</td>\n",
              "      <td>4.75</td>\n",
              "    </tr>\n",
              "    <tr>\n",
              "      <th>1</th>\n",
              "      <td>red</td>\n",
              "      <td>4.20</td>\n",
              "      <td>4.12</td>\n",
              "    </tr>\n",
              "    <tr>\n",
              "      <th>2</th>\n",
              "      <td>green</td>\n",
              "      <td>1.30</td>\n",
              "      <td>1.60</td>\n",
              "    </tr>\n",
              "    <tr>\n",
              "      <th>3</th>\n",
              "      <td>red</td>\n",
              "      <td>0.56</td>\n",
              "      <td>0.75</td>\n",
              "    </tr>\n",
              "    <tr>\n",
              "      <th>4</th>\n",
              "      <td>green</td>\n",
              "      <td>2.75</td>\n",
              "      <td>3.15</td>\n",
              "    </tr>\n",
              "  </tbody>\n",
              "</table>\n",
              "</div>"
            ],
            "text/plain": [
              "   color  price1  price2\n",
              "0  white    5.56    4.75\n",
              "1    red    4.20    4.12\n",
              "2  green    1.30    1.60\n",
              "3    red    0.56    0.75\n",
              "4  green    2.75    3.15"
            ]
          },
          "metadata": {
            "tags": []
          },
          "execution_count": 102
        }
      ]
    },
    {
      "metadata": {
        "id": "IIrYPSswkoIG",
        "colab_type": "code",
        "colab": {
          "base_uri": "https://localhost:8080/",
          "height": 173
        },
        "outputId": "4e1b33dd-9e03-42ac-c975-34c5507fb81e"
      },
      "cell_type": "code",
      "source": [
        "sums = frame.groupby('color').sum().add_prefix('tot_')\n",
        "sums"
      ],
      "execution_count": 103,
      "outputs": [
        {
          "output_type": "execute_result",
          "data": {
            "text/html": [
              "<div>\n",
              "<style scoped>\n",
              "    .dataframe tbody tr th:only-of-type {\n",
              "        vertical-align: middle;\n",
              "    }\n",
              "\n",
              "    .dataframe tbody tr th {\n",
              "        vertical-align: top;\n",
              "    }\n",
              "\n",
              "    .dataframe thead th {\n",
              "        text-align: right;\n",
              "    }\n",
              "</style>\n",
              "<table border=\"1\" class=\"dataframe\">\n",
              "  <thead>\n",
              "    <tr style=\"text-align: right;\">\n",
              "      <th></th>\n",
              "      <th>tot_price1</th>\n",
              "      <th>tot_price2</th>\n",
              "    </tr>\n",
              "    <tr>\n",
              "      <th>color</th>\n",
              "      <th></th>\n",
              "      <th></th>\n",
              "    </tr>\n",
              "  </thead>\n",
              "  <tbody>\n",
              "    <tr>\n",
              "      <th>green</th>\n",
              "      <td>4.05</td>\n",
              "      <td>4.75</td>\n",
              "    </tr>\n",
              "    <tr>\n",
              "      <th>red</th>\n",
              "      <td>4.76</td>\n",
              "      <td>4.87</td>\n",
              "    </tr>\n",
              "    <tr>\n",
              "      <th>white</th>\n",
              "      <td>5.56</td>\n",
              "      <td>4.75</td>\n",
              "    </tr>\n",
              "  </tbody>\n",
              "</table>\n",
              "</div>"
            ],
            "text/plain": [
              "       tot_price1  tot_price2\n",
              "color                        \n",
              "green        4.05        4.75\n",
              "red          4.76        4.87\n",
              "white        5.56        4.75"
            ]
          },
          "metadata": {
            "tags": []
          },
          "execution_count": 103
        }
      ]
    },
    {
      "metadata": {
        "id": "lah7a5Wbkzdy",
        "colab_type": "text"
      },
      "cell_type": "markdown",
      "source": [
        "You can add the sum result using the **merge()**"
      ]
    },
    {
      "metadata": {
        "id": "oWxELrqKk48Q",
        "colab_type": "code",
        "colab": {
          "base_uri": "https://localhost:8080/",
          "height": 204
        },
        "outputId": "1a6ebdef-81a3-457a-e194-0ff10e4584db"
      },
      "cell_type": "code",
      "source": [
        "pd.merge(frame, sums, left_on= 'color', right_index=True)"
      ],
      "execution_count": 104,
      "outputs": [
        {
          "output_type": "execute_result",
          "data": {
            "text/html": [
              "<div>\n",
              "<style scoped>\n",
              "    .dataframe tbody tr th:only-of-type {\n",
              "        vertical-align: middle;\n",
              "    }\n",
              "\n",
              "    .dataframe tbody tr th {\n",
              "        vertical-align: top;\n",
              "    }\n",
              "\n",
              "    .dataframe thead th {\n",
              "        text-align: right;\n",
              "    }\n",
              "</style>\n",
              "<table border=\"1\" class=\"dataframe\">\n",
              "  <thead>\n",
              "    <tr style=\"text-align: right;\">\n",
              "      <th></th>\n",
              "      <th>color</th>\n",
              "      <th>price1</th>\n",
              "      <th>price2</th>\n",
              "      <th>tot_price1</th>\n",
              "      <th>tot_price2</th>\n",
              "    </tr>\n",
              "  </thead>\n",
              "  <tbody>\n",
              "    <tr>\n",
              "      <th>0</th>\n",
              "      <td>white</td>\n",
              "      <td>5.56</td>\n",
              "      <td>4.75</td>\n",
              "      <td>5.56</td>\n",
              "      <td>4.75</td>\n",
              "    </tr>\n",
              "    <tr>\n",
              "      <th>1</th>\n",
              "      <td>red</td>\n",
              "      <td>4.20</td>\n",
              "      <td>4.12</td>\n",
              "      <td>4.76</td>\n",
              "      <td>4.87</td>\n",
              "    </tr>\n",
              "    <tr>\n",
              "      <th>3</th>\n",
              "      <td>red</td>\n",
              "      <td>0.56</td>\n",
              "      <td>0.75</td>\n",
              "      <td>4.76</td>\n",
              "      <td>4.87</td>\n",
              "    </tr>\n",
              "    <tr>\n",
              "      <th>2</th>\n",
              "      <td>green</td>\n",
              "      <td>1.30</td>\n",
              "      <td>1.60</td>\n",
              "      <td>4.05</td>\n",
              "      <td>4.75</td>\n",
              "    </tr>\n",
              "    <tr>\n",
              "      <th>4</th>\n",
              "      <td>green</td>\n",
              "      <td>2.75</td>\n",
              "      <td>3.15</td>\n",
              "      <td>4.05</td>\n",
              "      <td>4.75</td>\n",
              "    </tr>\n",
              "  </tbody>\n",
              "</table>\n",
              "</div>"
            ],
            "text/plain": [
              "   color  price1  price2  tot_price1  tot_price2\n",
              "0  white    5.56    4.75        5.56        4.75\n",
              "1    red    4.20    4.12        4.76        4.87\n",
              "3    red    0.56    0.75        4.76        4.87\n",
              "2  green    1.30    1.60        4.05        4.75\n",
              "4  green    2.75    3.15        4.05        4.75"
            ]
          },
          "metadata": {
            "tags": []
          },
          "execution_count": 104
        }
      ]
    },
    {
      "metadata": {
        "id": "vj4GIveSmMKa",
        "colab_type": "text"
      },
      "cell_type": "markdown",
      "source": [
        "Another way to achieve this is to use **transform()**"
      ]
    },
    {
      "metadata": {
        "id": "_RCNXVCTmQtp",
        "colab_type": "code",
        "colab": {
          "base_uri": "https://localhost:8080/",
          "height": 204
        },
        "outputId": "03a2ffab-f4c8-4d6e-9545-c5714440cf04"
      },
      "cell_type": "code",
      "source": [
        "frame.groupby('color').transform(np.sum).add_prefix('tot_')"
      ],
      "execution_count": 105,
      "outputs": [
        {
          "output_type": "execute_result",
          "data": {
            "text/html": [
              "<div>\n",
              "<style scoped>\n",
              "    .dataframe tbody tr th:only-of-type {\n",
              "        vertical-align: middle;\n",
              "    }\n",
              "\n",
              "    .dataframe tbody tr th {\n",
              "        vertical-align: top;\n",
              "    }\n",
              "\n",
              "    .dataframe thead th {\n",
              "        text-align: right;\n",
              "    }\n",
              "</style>\n",
              "<table border=\"1\" class=\"dataframe\">\n",
              "  <thead>\n",
              "    <tr style=\"text-align: right;\">\n",
              "      <th></th>\n",
              "      <th>tot_price1</th>\n",
              "      <th>tot_price2</th>\n",
              "    </tr>\n",
              "  </thead>\n",
              "  <tbody>\n",
              "    <tr>\n",
              "      <th>0</th>\n",
              "      <td>5.56</td>\n",
              "      <td>4.75</td>\n",
              "    </tr>\n",
              "    <tr>\n",
              "      <th>1</th>\n",
              "      <td>4.76</td>\n",
              "      <td>4.87</td>\n",
              "    </tr>\n",
              "    <tr>\n",
              "      <th>2</th>\n",
              "      <td>4.05</td>\n",
              "      <td>4.75</td>\n",
              "    </tr>\n",
              "    <tr>\n",
              "      <th>3</th>\n",
              "      <td>4.76</td>\n",
              "      <td>4.87</td>\n",
              "    </tr>\n",
              "    <tr>\n",
              "      <th>4</th>\n",
              "      <td>4.05</td>\n",
              "      <td>4.75</td>\n",
              "    </tr>\n",
              "  </tbody>\n",
              "</table>\n",
              "</div>"
            ],
            "text/plain": [
              "   tot_price1  tot_price2\n",
              "0        5.56        4.75\n",
              "1        4.76        4.87\n",
              "2        4.05        4.75\n",
              "3        4.76        4.87\n",
              "4        4.05        4.75"
            ]
          },
          "metadata": {
            "tags": []
          },
          "execution_count": 105
        }
      ]
    },
    {
      "metadata": {
        "id": "BNihxBAfmZuS",
        "colab_type": "text"
      },
      "cell_type": "markdown",
      "source": [
        "**transform()** performs the aggregation and shows the values calculated based on the key value on each line of the dataframe to start.\n",
        "\n",
        "The **apply()** function applies in its entirety the split-apply-combine scheme."
      ]
    },
    {
      "metadata": {
        "id": "q37NO6JWm63y",
        "colab_type": "code",
        "colab": {
          "base_uri": "https://localhost:8080/",
          "height": 235
        },
        "outputId": "c7e0b218-20b5-43db-f8d3-63899f1c7c2a"
      },
      "cell_type": "code",
      "source": [
        "frame = pd.DataFrame( { 'color':['white','black','white','white','black','black'],\n",
        "                       'status':['up','up','down','down','down','up'],\n",
        "                       'value1':[12.33,14.55,22.34,27.84,23.40,18.33],\n",
        "                       'value2':[11.23,31.80,29.99,31.18,18.25,22.44]})\n",
        "frame"
      ],
      "execution_count": 107,
      "outputs": [
        {
          "output_type": "execute_result",
          "data": {
            "text/html": [
              "<div>\n",
              "<style scoped>\n",
              "    .dataframe tbody tr th:only-of-type {\n",
              "        vertical-align: middle;\n",
              "    }\n",
              "\n",
              "    .dataframe tbody tr th {\n",
              "        vertical-align: top;\n",
              "    }\n",
              "\n",
              "    .dataframe thead th {\n",
              "        text-align: right;\n",
              "    }\n",
              "</style>\n",
              "<table border=\"1\" class=\"dataframe\">\n",
              "  <thead>\n",
              "    <tr style=\"text-align: right;\">\n",
              "      <th></th>\n",
              "      <th>color</th>\n",
              "      <th>status</th>\n",
              "      <th>value1</th>\n",
              "      <th>value2</th>\n",
              "    </tr>\n",
              "  </thead>\n",
              "  <tbody>\n",
              "    <tr>\n",
              "      <th>0</th>\n",
              "      <td>white</td>\n",
              "      <td>up</td>\n",
              "      <td>12.33</td>\n",
              "      <td>11.23</td>\n",
              "    </tr>\n",
              "    <tr>\n",
              "      <th>1</th>\n",
              "      <td>black</td>\n",
              "      <td>up</td>\n",
              "      <td>14.55</td>\n",
              "      <td>31.80</td>\n",
              "    </tr>\n",
              "    <tr>\n",
              "      <th>2</th>\n",
              "      <td>white</td>\n",
              "      <td>down</td>\n",
              "      <td>22.34</td>\n",
              "      <td>29.99</td>\n",
              "    </tr>\n",
              "    <tr>\n",
              "      <th>3</th>\n",
              "      <td>white</td>\n",
              "      <td>down</td>\n",
              "      <td>27.84</td>\n",
              "      <td>31.18</td>\n",
              "    </tr>\n",
              "    <tr>\n",
              "      <th>4</th>\n",
              "      <td>black</td>\n",
              "      <td>down</td>\n",
              "      <td>23.40</td>\n",
              "      <td>18.25</td>\n",
              "    </tr>\n",
              "    <tr>\n",
              "      <th>5</th>\n",
              "      <td>black</td>\n",
              "      <td>up</td>\n",
              "      <td>18.33</td>\n",
              "      <td>22.44</td>\n",
              "    </tr>\n",
              "  </tbody>\n",
              "</table>\n",
              "</div>"
            ],
            "text/plain": [
              "   color status  value1  value2\n",
              "0  white     up   12.33   11.23\n",
              "1  black     up   14.55   31.80\n",
              "2  white   down   22.34   29.99\n",
              "3  white   down   27.84   31.18\n",
              "4  black   down   23.40   18.25\n",
              "5  black     up   18.33   22.44"
            ]
          },
          "metadata": {
            "tags": []
          },
          "execution_count": 107
        }
      ]
    },
    {
      "metadata": {
        "id": "-fRsh9E6m_w7",
        "colab_type": "code",
        "colab": {
          "base_uri": "https://localhost:8080/",
          "height": 204
        },
        "outputId": "6ccd9c4f-5b52-4f25-9b8e-d9dd6a379856"
      },
      "cell_type": "code",
      "source": [
        "frame.groupby(['color','status']).apply(lambda x: x.max()) #pass a lambda function to apply()"
      ],
      "execution_count": 108,
      "outputs": [
        {
          "output_type": "execute_result",
          "data": {
            "text/html": [
              "<div>\n",
              "<style scoped>\n",
              "    .dataframe tbody tr th:only-of-type {\n",
              "        vertical-align: middle;\n",
              "    }\n",
              "\n",
              "    .dataframe tbody tr th {\n",
              "        vertical-align: top;\n",
              "    }\n",
              "\n",
              "    .dataframe thead th {\n",
              "        text-align: right;\n",
              "    }\n",
              "</style>\n",
              "<table border=\"1\" class=\"dataframe\">\n",
              "  <thead>\n",
              "    <tr style=\"text-align: right;\">\n",
              "      <th></th>\n",
              "      <th></th>\n",
              "      <th>color</th>\n",
              "      <th>status</th>\n",
              "      <th>value1</th>\n",
              "      <th>value2</th>\n",
              "    </tr>\n",
              "    <tr>\n",
              "      <th>color</th>\n",
              "      <th>status</th>\n",
              "      <th></th>\n",
              "      <th></th>\n",
              "      <th></th>\n",
              "      <th></th>\n",
              "    </tr>\n",
              "  </thead>\n",
              "  <tbody>\n",
              "    <tr>\n",
              "      <th rowspan=\"2\" valign=\"top\">black</th>\n",
              "      <th>down</th>\n",
              "      <td>black</td>\n",
              "      <td>down</td>\n",
              "      <td>23.40</td>\n",
              "      <td>18.25</td>\n",
              "    </tr>\n",
              "    <tr>\n",
              "      <th>up</th>\n",
              "      <td>black</td>\n",
              "      <td>up</td>\n",
              "      <td>18.33</td>\n",
              "      <td>31.80</td>\n",
              "    </tr>\n",
              "    <tr>\n",
              "      <th rowspan=\"2\" valign=\"top\">white</th>\n",
              "      <th>down</th>\n",
              "      <td>white</td>\n",
              "      <td>down</td>\n",
              "      <td>27.84</td>\n",
              "      <td>31.18</td>\n",
              "    </tr>\n",
              "    <tr>\n",
              "      <th>up</th>\n",
              "      <td>white</td>\n",
              "      <td>up</td>\n",
              "      <td>12.33</td>\n",
              "      <td>11.23</td>\n",
              "    </tr>\n",
              "  </tbody>\n",
              "</table>\n",
              "</div>"
            ],
            "text/plain": [
              "              color status  value1  value2\n",
              "color status                              \n",
              "black down    black   down   23.40   18.25\n",
              "      up      black     up   18.33   31.80\n",
              "white down    white   down   27.84   31.18\n",
              "      up      white     up   12.33   11.23"
            ]
          },
          "metadata": {
            "tags": []
          },
          "execution_count": 108
        }
      ]
    },
    {
      "metadata": {
        "id": "2Rx1SPbXnVdY",
        "colab_type": "code",
        "colab": {
          "base_uri": "https://localhost:8080/",
          "height": 235
        },
        "outputId": "dfe5d613-a6c2-4b3b-b66f-e1f257be785b"
      },
      "cell_type": "code",
      "source": [
        "reindex = {\n",
        "    0: 'first',\n",
        "    1: 'second',\n",
        "    2: 'third',\n",
        "    3: 'fourth',\n",
        "    4: 'fifth',\n",
        "    5: 'sixth'\n",
        "}\n",
        "recolumn = {\n",
        "    'status': 'object',\n",
        "    'price': 'value'\n",
        "}\n",
        "\n",
        "frame.rename(index=reindex, columns=recolumn)"
      ],
      "execution_count": 112,
      "outputs": [
        {
          "output_type": "execute_result",
          "data": {
            "text/html": [
              "<div>\n",
              "<style scoped>\n",
              "    .dataframe tbody tr th:only-of-type {\n",
              "        vertical-align: middle;\n",
              "    }\n",
              "\n",
              "    .dataframe tbody tr th {\n",
              "        vertical-align: top;\n",
              "    }\n",
              "\n",
              "    .dataframe thead th {\n",
              "        text-align: right;\n",
              "    }\n",
              "</style>\n",
              "<table border=\"1\" class=\"dataframe\">\n",
              "  <thead>\n",
              "    <tr style=\"text-align: right;\">\n",
              "      <th></th>\n",
              "      <th>color</th>\n",
              "      <th>object</th>\n",
              "      <th>value1</th>\n",
              "      <th>value2</th>\n",
              "    </tr>\n",
              "  </thead>\n",
              "  <tbody>\n",
              "    <tr>\n",
              "      <th>first</th>\n",
              "      <td>white</td>\n",
              "      <td>up</td>\n",
              "      <td>12.33</td>\n",
              "      <td>11.23</td>\n",
              "    </tr>\n",
              "    <tr>\n",
              "      <th>second</th>\n",
              "      <td>black</td>\n",
              "      <td>up</td>\n",
              "      <td>14.55</td>\n",
              "      <td>31.80</td>\n",
              "    </tr>\n",
              "    <tr>\n",
              "      <th>third</th>\n",
              "      <td>white</td>\n",
              "      <td>down</td>\n",
              "      <td>22.34</td>\n",
              "      <td>29.99</td>\n",
              "    </tr>\n",
              "    <tr>\n",
              "      <th>fourth</th>\n",
              "      <td>white</td>\n",
              "      <td>down</td>\n",
              "      <td>27.84</td>\n",
              "      <td>31.18</td>\n",
              "    </tr>\n",
              "    <tr>\n",
              "      <th>fifth</th>\n",
              "      <td>black</td>\n",
              "      <td>down</td>\n",
              "      <td>23.40</td>\n",
              "      <td>18.25</td>\n",
              "    </tr>\n",
              "    <tr>\n",
              "      <th>sixth</th>\n",
              "      <td>black</td>\n",
              "      <td>up</td>\n",
              "      <td>18.33</td>\n",
              "      <td>22.44</td>\n",
              "    </tr>\n",
              "  </tbody>\n",
              "</table>\n",
              "</div>"
            ],
            "text/plain": [
              "        color object  value1  value2\n",
              "first   white     up   12.33   11.23\n",
              "second  black     up   14.55   31.80\n",
              "third   white   down   22.34   29.99\n",
              "fourth  white   down   27.84   31.18\n",
              "fifth   black   down   23.40   18.25\n",
              "sixth   black     up   18.33   22.44"
            ]
          },
          "metadata": {
            "tags": []
          },
          "execution_count": 112
        }
      ]
    },
    {
      "metadata": {
        "id": "axJDgRFwoVry",
        "colab_type": "code",
        "colab": {
          "base_uri": "https://localhost:8080/",
          "height": 119
        },
        "outputId": "6986e97a-8a33-4c2f-bcb0-c0245611500b"
      },
      "cell_type": "code",
      "source": [
        "temp = pd.date_range('10/19/2018', periods=10, freq= 'H')\n",
        "temp #generate time log"
      ],
      "execution_count": 118,
      "outputs": [
        {
          "output_type": "execute_result",
          "data": {
            "text/plain": [
              "DatetimeIndex(['2018-10-19 00:00:00', '2018-10-19 01:00:00',\n",
              "               '2018-10-19 02:00:00', '2018-10-19 03:00:00',\n",
              "               '2018-10-19 04:00:00', '2018-10-19 05:00:00',\n",
              "               '2018-10-19 06:00:00', '2018-10-19 07:00:00',\n",
              "               '2018-10-19 08:00:00', '2018-10-19 09:00:00'],\n",
              "              dtype='datetime64[ns]', freq='H')"
            ]
          },
          "metadata": {
            "tags": []
          },
          "execution_count": 118
        }
      ]
    },
    {
      "metadata": {
        "id": "iqkx39zzpP0o",
        "colab_type": "code",
        "colab": {
          "base_uri": "https://localhost:8080/",
          "height": 204
        },
        "outputId": "7a2f5650-b420-4af5-d042-593dae7e0d02"
      },
      "cell_type": "code",
      "source": [
        "timeseries = pd.Series(np.random.rand(10), index= temp)\n",
        "timeseries # use time log as indexes"
      ],
      "execution_count": 119,
      "outputs": [
        {
          "output_type": "execute_result",
          "data": {
            "text/plain": [
              "2018-10-19 00:00:00    0.311210\n",
              "2018-10-19 01:00:00    0.422271\n",
              "2018-10-19 02:00:00    0.446513\n",
              "2018-10-19 03:00:00    0.604656\n",
              "2018-10-19 04:00:00    0.835793\n",
              "2018-10-19 05:00:00    0.062849\n",
              "2018-10-19 06:00:00    0.437614\n",
              "2018-10-19 07:00:00    0.966204\n",
              "2018-10-19 08:00:00    0.714539\n",
              "2018-10-19 09:00:00    0.898949\n",
              "Freq: H, dtype: float64"
            ]
          },
          "metadata": {
            "tags": []
          },
          "execution_count": 119
        }
      ]
    },
    {
      "metadata": {
        "id": "7Xf8QNo8pbGi",
        "colab_type": "code",
        "colab": {
          "base_uri": "https://localhost:8080/",
          "height": 359
        },
        "outputId": "19678034-bb57-4700-d068-7bf72f1677a5"
      },
      "cell_type": "code",
      "source": [
        "timetable = pd.DataFrame( {'date': temp,\n",
        "                          'value1': np.random.rand(10),\n",
        "                          'value2': np.random.rand(10)})\n",
        "timetable"
      ],
      "execution_count": 120,
      "outputs": [
        {
          "output_type": "execute_result",
          "data": {
            "text/html": [
              "<div>\n",
              "<style scoped>\n",
              "    .dataframe tbody tr th:only-of-type {\n",
              "        vertical-align: middle;\n",
              "    }\n",
              "\n",
              "    .dataframe tbody tr th {\n",
              "        vertical-align: top;\n",
              "    }\n",
              "\n",
              "    .dataframe thead th {\n",
              "        text-align: right;\n",
              "    }\n",
              "</style>\n",
              "<table border=\"1\" class=\"dataframe\">\n",
              "  <thead>\n",
              "    <tr style=\"text-align: right;\">\n",
              "      <th></th>\n",
              "      <th>date</th>\n",
              "      <th>value1</th>\n",
              "      <th>value2</th>\n",
              "    </tr>\n",
              "  </thead>\n",
              "  <tbody>\n",
              "    <tr>\n",
              "      <th>0</th>\n",
              "      <td>2018-10-19 00:00:00</td>\n",
              "      <td>0.774752</td>\n",
              "      <td>0.673493</td>\n",
              "    </tr>\n",
              "    <tr>\n",
              "      <th>1</th>\n",
              "      <td>2018-10-19 01:00:00</td>\n",
              "      <td>0.080827</td>\n",
              "      <td>0.306500</td>\n",
              "    </tr>\n",
              "    <tr>\n",
              "      <th>2</th>\n",
              "      <td>2018-10-19 02:00:00</td>\n",
              "      <td>0.039249</td>\n",
              "      <td>0.794418</td>\n",
              "    </tr>\n",
              "    <tr>\n",
              "      <th>3</th>\n",
              "      <td>2018-10-19 03:00:00</td>\n",
              "      <td>0.248962</td>\n",
              "      <td>0.987976</td>\n",
              "    </tr>\n",
              "    <tr>\n",
              "      <th>4</th>\n",
              "      <td>2018-10-19 04:00:00</td>\n",
              "      <td>0.180555</td>\n",
              "      <td>0.963380</td>\n",
              "    </tr>\n",
              "    <tr>\n",
              "      <th>5</th>\n",
              "      <td>2018-10-19 05:00:00</td>\n",
              "      <td>0.658327</td>\n",
              "      <td>0.418741</td>\n",
              "    </tr>\n",
              "    <tr>\n",
              "      <th>6</th>\n",
              "      <td>2018-10-19 06:00:00</td>\n",
              "      <td>0.692688</td>\n",
              "      <td>0.382739</td>\n",
              "    </tr>\n",
              "    <tr>\n",
              "      <th>7</th>\n",
              "      <td>2018-10-19 07:00:00</td>\n",
              "      <td>0.123786</td>\n",
              "      <td>0.792842</td>\n",
              "    </tr>\n",
              "    <tr>\n",
              "      <th>8</th>\n",
              "      <td>2018-10-19 08:00:00</td>\n",
              "      <td>0.181257</td>\n",
              "      <td>0.000055</td>\n",
              "    </tr>\n",
              "    <tr>\n",
              "      <th>9</th>\n",
              "      <td>2018-10-19 09:00:00</td>\n",
              "      <td>0.405021</td>\n",
              "      <td>0.183632</td>\n",
              "    </tr>\n",
              "  </tbody>\n",
              "</table>\n",
              "</div>"
            ],
            "text/plain": [
              "                 date    value1    value2\n",
              "0 2018-10-19 00:00:00  0.774752  0.673493\n",
              "1 2018-10-19 01:00:00  0.080827  0.306500\n",
              "2 2018-10-19 02:00:00  0.039249  0.794418\n",
              "3 2018-10-19 03:00:00  0.248962  0.987976\n",
              "4 2018-10-19 04:00:00  0.180555  0.963380\n",
              "5 2018-10-19 05:00:00  0.658327  0.418741\n",
              "6 2018-10-19 06:00:00  0.692688  0.382739\n",
              "7 2018-10-19 07:00:00  0.123786  0.792842\n",
              "8 2018-10-19 08:00:00  0.181257  0.000055\n",
              "9 2018-10-19 09:00:00  0.405021  0.183632"
            ]
          },
          "metadata": {
            "tags": []
          },
          "execution_count": 120
        }
      ]
    },
    {
      "metadata": {
        "id": "bd0zTy1Mp2Qc",
        "colab_type": "text"
      },
      "cell_type": "markdown",
      "source": [
        "You can add a column of text values to the dataframe"
      ]
    },
    {
      "metadata": {
        "id": "2BVjCQtqp8Qt",
        "colab_type": "code",
        "colab": {
          "base_uri": "https://localhost:8080/",
          "height": 359
        },
        "outputId": "1c183c3c-3910-4363-d4c4-465e747d61c1"
      },
      "cell_type": "code",
      "source": [
        "timetable['cat'] = ['up','down','left','left','up','up','down','right',\n",
        "                    'right','up']\n",
        "timetable"
      ],
      "execution_count": 121,
      "outputs": [
        {
          "output_type": "execute_result",
          "data": {
            "text/html": [
              "<div>\n",
              "<style scoped>\n",
              "    .dataframe tbody tr th:only-of-type {\n",
              "        vertical-align: middle;\n",
              "    }\n",
              "\n",
              "    .dataframe tbody tr th {\n",
              "        vertical-align: top;\n",
              "    }\n",
              "\n",
              "    .dataframe thead th {\n",
              "        text-align: right;\n",
              "    }\n",
              "</style>\n",
              "<table border=\"1\" class=\"dataframe\">\n",
              "  <thead>\n",
              "    <tr style=\"text-align: right;\">\n",
              "      <th></th>\n",
              "      <th>date</th>\n",
              "      <th>value1</th>\n",
              "      <th>value2</th>\n",
              "      <th>cat</th>\n",
              "    </tr>\n",
              "  </thead>\n",
              "  <tbody>\n",
              "    <tr>\n",
              "      <th>0</th>\n",
              "      <td>2018-10-19 00:00:00</td>\n",
              "      <td>0.774752</td>\n",
              "      <td>0.673493</td>\n",
              "      <td>up</td>\n",
              "    </tr>\n",
              "    <tr>\n",
              "      <th>1</th>\n",
              "      <td>2018-10-19 01:00:00</td>\n",
              "      <td>0.080827</td>\n",
              "      <td>0.306500</td>\n",
              "      <td>down</td>\n",
              "    </tr>\n",
              "    <tr>\n",
              "      <th>2</th>\n",
              "      <td>2018-10-19 02:00:00</td>\n",
              "      <td>0.039249</td>\n",
              "      <td>0.794418</td>\n",
              "      <td>left</td>\n",
              "    </tr>\n",
              "    <tr>\n",
              "      <th>3</th>\n",
              "      <td>2018-10-19 03:00:00</td>\n",
              "      <td>0.248962</td>\n",
              "      <td>0.987976</td>\n",
              "      <td>left</td>\n",
              "    </tr>\n",
              "    <tr>\n",
              "      <th>4</th>\n",
              "      <td>2018-10-19 04:00:00</td>\n",
              "      <td>0.180555</td>\n",
              "      <td>0.963380</td>\n",
              "      <td>up</td>\n",
              "    </tr>\n",
              "    <tr>\n",
              "      <th>5</th>\n",
              "      <td>2018-10-19 05:00:00</td>\n",
              "      <td>0.658327</td>\n",
              "      <td>0.418741</td>\n",
              "      <td>up</td>\n",
              "    </tr>\n",
              "    <tr>\n",
              "      <th>6</th>\n",
              "      <td>2018-10-19 06:00:00</td>\n",
              "      <td>0.692688</td>\n",
              "      <td>0.382739</td>\n",
              "      <td>down</td>\n",
              "    </tr>\n",
              "    <tr>\n",
              "      <th>7</th>\n",
              "      <td>2018-10-19 07:00:00</td>\n",
              "      <td>0.123786</td>\n",
              "      <td>0.792842</td>\n",
              "      <td>right</td>\n",
              "    </tr>\n",
              "    <tr>\n",
              "      <th>8</th>\n",
              "      <td>2018-10-19 08:00:00</td>\n",
              "      <td>0.181257</td>\n",
              "      <td>0.000055</td>\n",
              "      <td>right</td>\n",
              "    </tr>\n",
              "    <tr>\n",
              "      <th>9</th>\n",
              "      <td>2018-10-19 09:00:00</td>\n",
              "      <td>0.405021</td>\n",
              "      <td>0.183632</td>\n",
              "      <td>up</td>\n",
              "    </tr>\n",
              "  </tbody>\n",
              "</table>\n",
              "</div>"
            ],
            "text/plain": [
              "                 date    value1    value2    cat\n",
              "0 2018-10-19 00:00:00  0.774752  0.673493     up\n",
              "1 2018-10-19 01:00:00  0.080827  0.306500   down\n",
              "2 2018-10-19 02:00:00  0.039249  0.794418   left\n",
              "3 2018-10-19 03:00:00  0.248962  0.987976   left\n",
              "4 2018-10-19 04:00:00  0.180555  0.963380     up\n",
              "5 2018-10-19 05:00:00  0.658327  0.418741     up\n",
              "6 2018-10-19 06:00:00  0.692688  0.382739   down\n",
              "7 2018-10-19 07:00:00  0.123786  0.792842  right\n",
              "8 2018-10-19 08:00:00  0.181257  0.000055  right\n",
              "9 2018-10-19 09:00:00  0.405021  0.183632     up"
            ]
          },
          "metadata": {
            "tags": []
          },
          "execution_count": 121
        }
      ]
    }
  ]
}