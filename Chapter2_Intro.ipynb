{
  "nbformat": 4,
  "nbformat_minor": 0,
  "metadata": {
    "colab": {
      "name": "Chapter2_Intro.ipynb",
      "version": "0.3.2",
      "provenance": [],
      "include_colab_link": true
    },
    "kernelspec": {
      "name": "python3",
      "display_name": "Python 3"
    }
  },
  "cells": [
    {
      "cell_type": "markdown",
      "metadata": {
        "id": "view-in-github",
        "colab_type": "text"
      },
      "source": [
        "<a href=\"https://colab.research.google.com/github/lblogan14/python_data_analysis/blob/master/Chapter2_Intro.ipynb\" target=\"_parent\"><img src=\"https://colab.research.google.com/assets/colab-badge.svg\" alt=\"Open In Colab\"/></a>"
      ]
    },
    {
      "metadata": {
        "id": "UDm21NSXx2vF",
        "colab_type": "text"
      },
      "cell_type": "markdown",
      "source": [
        "Python Interpreter:\n",
        "\n",
        "Cython - http://docs.cython.org\n",
        "\n",
        "Jython - http://www.jython.org\n",
        "\n",
        "PyPy - http://pypy.org\n",
        "\n",
        "Installing Python on Ubuntu Linux systems, run the command: \n",
        "\n",
        "    apt-get install python\n",
        "\n",
        "Anaconda includes Spyder as IDE, IPython QtConsole, and Notebook. The application, called conda, manages the entire Anaconda distribution, so conda is the package manger and the environment manager. When installing a new package, run the command:\n",
        "\n",
        "    conda install <package name>\n",
        "\n",
        "To create an environment based on Python 3.6, run\n",
        "\n",
        "    conda create -n py36 python=3.6 anaconda\n",
        " \n",
        " This will generate a new Anaconda environment with all the packages related to the Python 3.6 version.\n",
        " \n",
        " Once it's installed, you can activate the new environment by entering the following command:\n",
        " \n",
        "    source activate py36\n",
        " \n",
        " (On Windows, use 'activate py36', instead)\n",
        " \n",
        " When you want to return to work with the original Python version, run:\n",
        " \n",
        "    source deactivate\n",
        " \n",
        " "
      ]
    },
    {
      "metadata": {
        "id": "2kOQmhC-0tTq",
        "colab_type": "code",
        "colab": {
          "base_uri": "https://localhost:8080/",
          "height": 34
        },
        "outputId": "2ed33804-f391-49a2-8261-6c000a47be67"
      },
      "cell_type": "code",
      "source": [
        "from math import * # the asterik will import all functions in math module\n",
        "a = 12 * 3.4\n",
        "print('sin(a) = ',sin(a))"
      ],
      "execution_count": 2,
      "outputs": [
        {
          "output_type": "stream",
          "text": [
            "sin(a) =  0.040693257349864856\n"
          ],
          "name": "stdout"
        }
      ]
    },
    {
      "metadata": {
        "id": "tz9vEVII1FQY",
        "colab_type": "code",
        "outputId": "c16826ba-5dde-49f1-d273-ba7b354b9e8a",
        "colab": {
          "base_uri": "https://localhost:8080/",
          "height": 68
        }
      },
      "cell_type": "code",
      "source": [
        "dict = {'name': 'William', 'age': 25, 'city': 'London'}\n",
        "dict['name'] # return value from key\n",
        "\n",
        "for key, value in dict.items():\n",
        "  print(key, value)"
      ],
      "execution_count": 3,
      "outputs": [
        {
          "output_type": "stream",
          "text": [
            "name William\n",
            "age 25\n",
            "city London\n"
          ],
          "name": "stdout"
        }
      ]
    },
    {
      "metadata": {
        "id": "FzkaVJkI18ye",
        "colab_type": "text"
      },
      "cell_type": "markdown",
      "source": [
        "# Functional Programming"
      ]
    },
    {
      "metadata": {
        "id": "YUqJa9cS2Hlw",
        "colab_type": "text"
      },
      "cell_type": "markdown",
      "source": [
        "## map(function, list)"
      ]
    },
    {
      "metadata": {
        "id": "SLq4X4c-1kdE",
        "colab_type": "code",
        "outputId": "8fa5e94c-da90-4abf-8f34-0cf2e267eb92",
        "colab": {
          "base_uri": "https://localhost:8080/",
          "height": 34
        }
      },
      "cell_type": "code",
      "source": [
        "items = [1,2,3,4,5]\n",
        "def inc(x): return x+1\n",
        "\n",
        "list(map(inc, items))"
      ],
      "execution_count": 8,
      "outputs": [
        {
          "output_type": "execute_result",
          "data": {
            "text/plain": [
              "[2, 3, 4, 5, 6]"
            ]
          },
          "metadata": {
            "tags": []
          },
          "execution_count": 8
        }
      ]
    },
    {
      "metadata": {
        "id": "o8gzvLZL2yI0",
        "colab_type": "text"
      },
      "cell_type": "markdown",
      "source": [
        "### lambda command\n",
        "\n",
        "allows you to define the function directly within the first argument"
      ]
    },
    {
      "metadata": {
        "id": "q8Cf8EGs22-C",
        "colab_type": "code",
        "outputId": "9649c06e-f47f-44a4-ca92-919453798927",
        "colab": {
          "base_uri": "https://localhost:8080/",
          "height": 34
        }
      },
      "cell_type": "code",
      "source": [
        "list(map(lambda x: x+1, items))"
      ],
      "execution_count": 9,
      "outputs": [
        {
          "output_type": "execute_result",
          "data": {
            "text/plain": [
              "[2, 3, 4, 5, 6]"
            ]
          },
          "metadata": {
            "tags": []
          },
          "execution_count": 9
        }
      ]
    },
    {
      "metadata": {
        "id": "nKozI37P3JIm",
        "colab_type": "text"
      },
      "cell_type": "markdown",
      "source": [
        "## filter(function, list)\n",
        "\n",
        "extracts the elements of thelist for which the function returns True"
      ]
    },
    {
      "metadata": {
        "id": "wRTCWW7q3U8r",
        "colab_type": "code",
        "outputId": "103df9d4-ef99-4162-cef3-82dd3003d6aa",
        "colab": {
          "base_uri": "https://localhost:8080/",
          "height": 34
        }
      },
      "cell_type": "code",
      "source": [
        "list(filter(lambda x: x<4, items))"
      ],
      "execution_count": 11,
      "outputs": [
        {
          "output_type": "execute_result",
          "data": {
            "text/plain": [
              "[1, 2, 3]"
            ]
          },
          "metadata": {
            "tags": []
          },
          "execution_count": 11
        }
      ]
    },
    {
      "metadata": {
        "id": "prRQ62He3Zza",
        "colab_type": "text"
      },
      "cell_type": "markdown",
      "source": [
        "## reduce(function, list)\n",
        "\n",
        "Apply function of two arguments cumulatively to the items of sequence, from left to right, so as to reduce the sequence to a single value.\n",
        "\n",
        "To use reduce(), you must import the module functools..."
      ]
    },
    {
      "metadata": {
        "id": "UiTRXJ8Azpc3",
        "colab_type": "code",
        "colab": {
          "base_uri": "https://localhost:8080/",
          "height": 34
        },
        "outputId": "4b242af3-3491-44d8-a8cd-15ce65991a52"
      },
      "cell_type": "code",
      "source": [
        "items"
      ],
      "execution_count": 13,
      "outputs": [
        {
          "output_type": "execute_result",
          "data": {
            "text/plain": [
              "[1, 2, 3, 4, 5]"
            ]
          },
          "metadata": {
            "tags": []
          },
          "execution_count": 13
        }
      ]
    },
    {
      "metadata": {
        "id": "20jerNBz3oTP",
        "colab_type": "code",
        "outputId": "275deceb-470c-46ea-803b-5070718b7ea2",
        "colab": {
          "base_uri": "https://localhost:8080/",
          "height": 34
        }
      },
      "cell_type": "code",
      "source": [
        "from functools import reduce\n",
        "reduce(lambda x,y: x/y, items)"
      ],
      "execution_count": 7,
      "outputs": [
        {
          "output_type": "execute_result",
          "data": {
            "text/plain": [
              "0.008333333333333333"
            ]
          },
          "metadata": {
            "tags": []
          },
          "execution_count": 7
        }
      ]
    },
    {
      "metadata": {
        "id": "tq3AZDLbzsmb",
        "colab_type": "text"
      },
      "cell_type": "markdown",
      "source": [
        "What **reduce()** does is to perform ((((1/2) /3) /4) /5) = 0.083333"
      ]
    },
    {
      "metadata": {
        "id": "QS_GqpDNz8Nr",
        "colab_type": "code",
        "colab": {
          "base_uri": "https://localhost:8080/",
          "height": 34
        },
        "outputId": "670c49dc-600b-4f0c-c899-b5fe3ba2d8c9"
      },
      "cell_type": "code",
      "source": [
        "1 / 2 / 3 / 4 / 5"
      ],
      "execution_count": 14,
      "outputs": [
        {
          "output_type": "execute_result",
          "data": {
            "text/plain": [
              "0.008333333333333333"
            ]
          },
          "metadata": {
            "tags": []
          },
          "execution_count": 14
        }
      ]
    },
    {
      "metadata": {
        "id": "oStN6k0n5Mwr",
        "colab_type": "text"
      },
      "cell_type": "markdown",
      "source": [
        "## list comprehension"
      ]
    },
    {
      "metadata": {
        "id": "x82b_iri5REy",
        "colab_type": "code",
        "colab": {
          "base_uri": "https://localhost:8080/",
          "height": 34
        },
        "outputId": "29a09122-7b1b-4920-aef2-a4be75c591f2"
      },
      "cell_type": "code",
      "source": [
        "S = [x**2 for x in range(5)]\n",
        "S"
      ],
      "execution_count": 12,
      "outputs": [
        {
          "output_type": "execute_result",
          "data": {
            "text/plain": [
              "[0, 1, 4, 9, 16]"
            ]
          },
          "metadata": {
            "tags": []
          },
          "execution_count": 12
        }
      ]
    },
    {
      "metadata": {
        "id": "2yrfq_SH5eNO",
        "colab_type": "text"
      },
      "cell_type": "markdown",
      "source": [
        "IPython includes the IPython shell, the QtConsole, and the IPython Notebook\n",
        "\n",
        "The Jupyter Project - https://jupyter.org\n",
        "\n",
        "The Python Package Index (PyPI) is a software repository that contains all the software needed for programming in Python.  https://pypi.python.org/pypi\n",
        "\n",
        "Once you installed PyPI, you can pip the application and manage the packages as following:\n",
        "\n",
        "    pip install <<package_name>>\n",
        "    pip search <<package_name>>\n",
        "    pip show <<package_name>>\n",
        "    pip uninstall <<package_name>>\n",
        "To install PyPI on Ubuntu, run the command:\n",
        "\n",
        "    sudo apt-get install python-pip\n",
        "\n",
        "The Interactive Development Environments (IDEs) for Python: Spyder, Eclipse(pyDev), Sublime, Liclipse, NinjaIDE, Komodo"
      ]
    }
  ]
}