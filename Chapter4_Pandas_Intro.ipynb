{
  "nbformat": 4,
  "nbformat_minor": 0,
  "metadata": {
    "colab": {
      "name": "Chapter4_Pandas_Intro.ipynb",
      "version": "0.3.2",
      "provenance": [],
      "include_colab_link": true
    },
    "kernelspec": {
      "name": "python3",
      "display_name": "Python 3"
    }
  },
  "cells": [
    {
      "cell_type": "markdown",
      "metadata": {
        "id": "view-in-github",
        "colab_type": "text"
      },
      "source": [
        "<a href=\"https://colab.research.google.com/github/lblogan14/python_data_analysis/blob/master/Chapter4_Pandas_Intro.ipynb\" target=\"_parent\"><img src=\"https://colab.research.google.com/assets/colab-badge.svg\" alt=\"Open In Colab\"/></a>"
      ]
    },
    {
      "metadata": {
        "id": "J9iqRkpMPRJr",
        "colab_type": "text"
      },
      "cell_type": "markdown",
      "source": [
        "The pandas package is designed on the basis of the NumPy library. Two new data structures are developed: series and dataframe.\n",
        "\n",
        "**Install pandas from Anaconda**\n",
        "\n",
        "    conda list pandas\n",
        "    conda install pandas\n",
        "**intall pandas from PyPI**\n",
        "\n",
        "    pip install pandas\n",
        "\n",
        "**intall on Linux**\n",
        "\n",
        "    sudo apt-get intall python-pandas"
      ]
    },
    {
      "metadata": {
        "id": "Z9YMC2FwQO6b",
        "colab_type": "code",
        "colab": {}
      },
      "cell_type": "code",
      "source": [
        "'''Import necessary packages'''\n",
        "import pandas as pd\n",
        "import numpy as np"
      ],
      "execution_count": 0,
      "outputs": []
    },
    {
      "metadata": {
        "id": "2faTX8X8Q6GO",
        "colab_type": "text"
      },
      "cell_type": "markdown",
      "source": [
        "##Introduction to pandas Data Structures##"
      ]
    },
    {
      "metadata": {
        "id": "VJRRzcKpVSLA",
        "colab_type": "text"
      },
      "cell_type": "markdown",
      "source": [
        "###The Series###\n",
        "\n",
        "designed to represent one-dimensional data structures and is composed of two arrays associated with each other.\n",
        "\n",
        "The main array holds the data, to which each element is  associated with a label, contained within the other array, called the index."
      ]
    },
    {
      "metadata": {
        "id": "0dy2oNY2VWSv",
        "colab_type": "text"
      },
      "cell_type": "markdown",
      "source": [
        "####Series() constructor####"
      ]
    },
    {
      "metadata": {
        "id": "WJXyOswfRvpw",
        "colab_type": "code",
        "colab": {
          "base_uri": "https://localhost:8080/",
          "height": 121
        },
        "outputId": "8f55c7a2-1b03-4fd2-d3a7-475be2a61908"
      },
      "cell_type": "code",
      "source": [
        "s = pd.Series([12, -4.7, 7, 9])\n",
        "s #['index', 'value']"
      ],
      "execution_count": 3,
      "outputs": [
        {
          "output_type": "execute_result",
          "data": {
            "text/plain": [
              "0    12.0\n",
              "1    -4.7\n",
              "2     7.0\n",
              "3     9.0\n",
              "dtype: float64"
            ]
          },
          "metadata": {
            "tags": []
          },
          "execution_count": 3
        }
      ]
    },
    {
      "metadata": {
        "id": "enaHdcClSC6h",
        "colab_type": "text"
      },
      "cell_type": "markdown",
      "source": [
        "create a series with meaningful labels"
      ]
    },
    {
      "metadata": {
        "id": "FRLWHFcDSIYw",
        "colab_type": "code",
        "colab": {
          "base_uri": "https://localhost:8080/",
          "height": 121
        },
        "outputId": "1542a9b8-bc19-48e4-fc70-e647184d5b7d"
      },
      "cell_type": "code",
      "source": [
        "s = pd.Series([12, -4.7, 7, 9], index=['a','b','c','d'])\n",
        "s"
      ],
      "execution_count": 4,
      "outputs": [
        {
          "output_type": "execute_result",
          "data": {
            "text/plain": [
              "a    12.0\n",
              "b    -4.7\n",
              "c     7.0\n",
              "d     9.0\n",
              "dtype: float64"
            ]
          },
          "metadata": {
            "tags": []
          },
          "execution_count": 4
        }
      ]
    },
    {
      "metadata": {
        "id": "bInw5UOYSloh",
        "colab_type": "text"
      },
      "cell_type": "markdown",
      "source": [
        "You can individually see the two arrays by using the index and the values attributes."
      ]
    },
    {
      "metadata": {
        "id": "rRpdv3Q3SZ7v",
        "colab_type": "code",
        "colab": {
          "base_uri": "https://localhost:8080/",
          "height": 54
        },
        "outputId": "2cb900c3-1310-4dda-d150-542a8c6f97b3"
      },
      "cell_type": "code",
      "source": [
        "s.index"
      ],
      "execution_count": 5,
      "outputs": [
        {
          "output_type": "execute_result",
          "data": {
            "text/plain": [
              "Index(['a', 'b', 'c', 'd'], dtype='object')"
            ]
          },
          "metadata": {
            "tags": []
          },
          "execution_count": 5
        }
      ]
    },
    {
      "metadata": {
        "id": "kDgwzxy8SspG",
        "colab_type": "code",
        "colab": {
          "base_uri": "https://localhost:8080/",
          "height": 54
        },
        "outputId": "d6c13feb-a9f3-4bdb-c514-fef5ed722103"
      },
      "cell_type": "code",
      "source": [
        "s.values"
      ],
      "execution_count": 6,
      "outputs": [
        {
          "output_type": "execute_result",
          "data": {
            "text/plain": [
              "array([12. , -4.7,  7. ,  9. ])"
            ]
          },
          "metadata": {
            "tags": []
          },
          "execution_count": 6
        }
      ]
    },
    {
      "metadata": {
        "id": "ap3YQLU1TA4x",
        "colab_type": "text"
      },
      "cell_type": "markdown",
      "source": [
        "####Selecting the Internal Elements####\n",
        "\n",
        "using the key,"
      ]
    },
    {
      "metadata": {
        "id": "2LEtMJBhTIjr",
        "colab_type": "code",
        "colab": {
          "base_uri": "https://localhost:8080/",
          "height": 54
        },
        "outputId": "741da3a0-f471-41dd-a2db-c57cf15381f6"
      },
      "cell_type": "code",
      "source": [
        "s[1]"
      ],
      "execution_count": 7,
      "outputs": [
        {
          "output_type": "execute_result",
          "data": {
            "text/plain": [
              "-4.7"
            ]
          },
          "metadata": {
            "tags": []
          },
          "execution_count": 7
        }
      ]
    },
    {
      "metadata": {
        "id": "zeWzFhq0TOtV",
        "colab_type": "text"
      },
      "cell_type": "markdown",
      "source": [
        "or the label corresponding to the same position"
      ]
    },
    {
      "metadata": {
        "id": "szAF1NA6TTk3",
        "colab_type": "code",
        "colab": {
          "base_uri": "https://localhost:8080/",
          "height": 54
        },
        "outputId": "898aa56d-7d15-4596-b1b8-fe77ba87d40c"
      },
      "cell_type": "code",
      "source": [
        "s['b']"
      ],
      "execution_count": 8,
      "outputs": [
        {
          "output_type": "execute_result",
          "data": {
            "text/plain": [
              "-4.7"
            ]
          },
          "metadata": {
            "tags": []
          },
          "execution_count": 8
        }
      ]
    },
    {
      "metadata": {
        "id": "fbPGY5VtTZIx",
        "colab_type": "text"
      },
      "cell_type": "markdown",
      "source": [
        "Select multiple items:"
      ]
    },
    {
      "metadata": {
        "id": "YN7T4o1LTbRB",
        "colab_type": "code",
        "colab": {
          "base_uri": "https://localhost:8080/",
          "height": 87
        },
        "outputId": "db1efc61-7878-4a03-b0a1-a54b90005b0e"
      },
      "cell_type": "code",
      "source": [
        "s[0:2]"
      ],
      "execution_count": 9,
      "outputs": [
        {
          "output_type": "execute_result",
          "data": {
            "text/plain": [
              "a    12.0\n",
              "b    -4.7\n",
              "dtype: float64"
            ]
          },
          "metadata": {
            "tags": []
          },
          "execution_count": 9
        }
      ]
    },
    {
      "metadata": {
        "id": "fFNtQsOeTc-H",
        "colab_type": "code",
        "colab": {
          "base_uri": "https://localhost:8080/",
          "height": 87
        },
        "outputId": "0362c59a-bf6b-41bc-b4d3-9bfc842d40bf"
      },
      "cell_type": "code",
      "source": [
        "s[['b','c']] #specify a list of labels in an array"
      ],
      "execution_count": 10,
      "outputs": [
        {
          "output_type": "execute_result",
          "data": {
            "text/plain": [
              "b   -4.7\n",
              "c    7.0\n",
              "dtype: float64"
            ]
          },
          "metadata": {
            "tags": []
          },
          "execution_count": 10
        }
      ]
    },
    {
      "metadata": {
        "id": "-grFVenvT3lo",
        "colab_type": "text"
      },
      "cell_type": "markdown",
      "source": [
        "####Assigning Values####\n",
        "\n",
        "by selecting the value via index or label"
      ]
    },
    {
      "metadata": {
        "id": "0Ep8asnOUA1o",
        "colab_type": "code",
        "colab": {
          "base_uri": "https://localhost:8080/",
          "height": 121
        },
        "outputId": "068aab06-7f85-4d02-cd9c-0754eb11f8ab"
      },
      "cell_type": "code",
      "source": [
        "s[1] = 0\n",
        "s"
      ],
      "execution_count": 11,
      "outputs": [
        {
          "output_type": "execute_result",
          "data": {
            "text/plain": [
              "a    12.0\n",
              "b     0.0\n",
              "c     7.0\n",
              "d     9.0\n",
              "dtype: float64"
            ]
          },
          "metadata": {
            "tags": []
          },
          "execution_count": 11
        }
      ]
    },
    {
      "metadata": {
        "id": "P_ihMCyYUCzM",
        "colab_type": "code",
        "colab": {
          "base_uri": "https://localhost:8080/",
          "height": 121
        },
        "outputId": "52365d36-5625-44d0-bedb-4db27199c254"
      },
      "cell_type": "code",
      "source": [
        "s['b'] = 1\n",
        "s"
      ],
      "execution_count": 12,
      "outputs": [
        {
          "output_type": "execute_result",
          "data": {
            "text/plain": [
              "a    12.0\n",
              "b     1.0\n",
              "c     7.0\n",
              "d     9.0\n",
              "dtype: float64"
            ]
          },
          "metadata": {
            "tags": []
          },
          "execution_count": 12
        }
      ]
    },
    {
      "metadata": {
        "id": "OAGps3gHUQ2-",
        "colab_type": "text"
      },
      "cell_type": "markdown",
      "source": [
        "####Defining a Series from others####"
      ]
    },
    {
      "metadata": {
        "id": "ryR3dTtaUgbU",
        "colab_type": "code",
        "colab": {
          "base_uri": "https://localhost:8080/",
          "height": 121
        },
        "outputId": "e3ab0ea6-78ab-402a-a3e7-1c62a6d56016"
      },
      "cell_type": "code",
      "source": [
        "s4 = pd.Series(s)\n",
        "s4"
      ],
      "execution_count": 13,
      "outputs": [
        {
          "output_type": "execute_result",
          "data": {
            "text/plain": [
              "a    12.0\n",
              "b     1.0\n",
              "c     7.0\n",
              "d     9.0\n",
              "dtype: float64"
            ]
          },
          "metadata": {
            "tags": []
          },
          "execution_count": 13
        }
      ]
    },
    {
      "metadata": {
        "id": "AWP5GydMUaMS",
        "colab_type": "code",
        "colab": {
          "base_uri": "https://localhost:8080/",
          "height": 121
        },
        "outputId": "9cc0a69d-6133-4b2c-e756-4787be407499"
      },
      "cell_type": "code",
      "source": [
        "arr = np.array([1,2,3,4])\n",
        "s3 = pd.Series(arr)\n",
        "s3"
      ],
      "execution_count": 14,
      "outputs": [
        {
          "output_type": "execute_result",
          "data": {
            "text/plain": [
              "0    1\n",
              "1    2\n",
              "2    3\n",
              "3    4\n",
              "dtype: int64"
            ]
          },
          "metadata": {
            "tags": []
          },
          "execution_count": 14
        }
      ]
    },
    {
      "metadata": {
        "id": "lZiBPB8rUe98",
        "colab_type": "text"
      },
      "cell_type": "markdown",
      "source": [
        "Noted that this Series is not copied... Change in arr will change elements in s3:"
      ]
    },
    {
      "metadata": {
        "id": "H6b2lPouU0g-",
        "colab_type": "code",
        "colab": {
          "base_uri": "https://localhost:8080/",
          "height": 121
        },
        "outputId": "6a5ea521-1b1a-4a9d-9f83-9a537e201ad3"
      },
      "cell_type": "code",
      "source": [
        "arr[2] = -2\n",
        "s3"
      ],
      "execution_count": 15,
      "outputs": [
        {
          "output_type": "execute_result",
          "data": {
            "text/plain": [
              "0    1\n",
              "1    2\n",
              "2   -2\n",
              "3    4\n",
              "dtype: int64"
            ]
          },
          "metadata": {
            "tags": []
          },
          "execution_count": 15
        }
      ]
    },
    {
      "metadata": {
        "id": "ZqySdef_U5wy",
        "colab_type": "text"
      },
      "cell_type": "markdown",
      "source": [
        "####Filtering####"
      ]
    },
    {
      "metadata": {
        "id": "ih1tSI00U8eq",
        "colab_type": "code",
        "colab": {
          "base_uri": "https://localhost:8080/",
          "height": 87
        },
        "outputId": "ba2f4048-e50a-4679-8072-22072b6428ee"
      },
      "cell_type": "code",
      "source": [
        "s[s > 8]"
      ],
      "execution_count": 16,
      "outputs": [
        {
          "output_type": "execute_result",
          "data": {
            "text/plain": [
              "a    12.0\n",
              "d     9.0\n",
              "dtype: float64"
            ]
          },
          "metadata": {
            "tags": []
          },
          "execution_count": 16
        }
      ]
    },
    {
      "metadata": {
        "id": "TD2wdEegVCMh",
        "colab_type": "text"
      },
      "cell_type": "markdown",
      "source": [
        "####Opearations####"
      ]
    },
    {
      "metadata": {
        "id": "Q5wxOW_vVFkA",
        "colab_type": "code",
        "colab": {
          "base_uri": "https://localhost:8080/",
          "height": 101
        },
        "outputId": "3caeaf9a-4da0-4eda-81d7-4ca243051b24"
      },
      "cell_type": "code",
      "source": [
        "s / 2"
      ],
      "execution_count": 17,
      "outputs": [
        {
          "output_type": "execute_result",
          "data": {
            "text/plain": [
              "a    6.0\n",
              "b    0.5\n",
              "c    3.5\n",
              "d    4.5\n",
              "dtype: float64"
            ]
          },
          "metadata": {
            "tags": []
          },
          "execution_count": 17
        }
      ]
    },
    {
      "metadata": {
        "id": "n32aXC0xVI0E",
        "colab_type": "code",
        "colab": {
          "base_uri": "https://localhost:8080/",
          "height": 101
        },
        "outputId": "5bee21d2-4236-41ca-8da9-f3252e45c9c6"
      },
      "cell_type": "code",
      "source": [
        "np.log(s)"
      ],
      "execution_count": 18,
      "outputs": [
        {
          "output_type": "execute_result",
          "data": {
            "text/plain": [
              "a    2.484907\n",
              "b    0.000000\n",
              "c    1.945910\n",
              "d    2.197225\n",
              "dtype: float64"
            ]
          },
          "metadata": {
            "tags": []
          },
          "execution_count": 18
        }
      ]
    },
    {
      "metadata": {
        "id": "Gr-RnWPqVa1k",
        "colab_type": "text"
      },
      "cell_type": "markdown",
      "source": [
        "####Evaluating####\n",
        "\n",
        "**unique()** function can exclude the duplicates"
      ]
    },
    {
      "metadata": {
        "id": "PnKMPd_bVxuj",
        "colab_type": "code",
        "colab": {
          "base_uri": "https://localhost:8080/",
          "height": 134
        },
        "outputId": "fc7a7f0f-359e-4950-e2e5-93290dcc2a08"
      },
      "cell_type": "code",
      "source": [
        "serd = pd.Series([1,0,2,1,2,3], index=['white', 'white', 'blue', 'green', 'green', 'yellow'])\n",
        "serd"
      ],
      "execution_count": 19,
      "outputs": [
        {
          "output_type": "execute_result",
          "data": {
            "text/plain": [
              "white     1\n",
              "white     0\n",
              "blue      2\n",
              "green     1\n",
              "green     2\n",
              "yellow    3\n",
              "dtype: int64"
            ]
          },
          "metadata": {
            "tags": []
          },
          "execution_count": 19
        }
      ]
    },
    {
      "metadata": {
        "id": "-sb1hMZnV8z_",
        "colab_type": "code",
        "colab": {
          "base_uri": "https://localhost:8080/",
          "height": 34
        },
        "outputId": "b1dca9cd-47d9-4204-fe37-83c3329c024f"
      },
      "cell_type": "code",
      "source": [
        "serd.unique()"
      ],
      "execution_count": 20,
      "outputs": [
        {
          "output_type": "execute_result",
          "data": {
            "text/plain": [
              "array([1, 0, 2, 3])"
            ]
          },
          "metadata": {
            "tags": []
          },
          "execution_count": 20
        }
      ]
    },
    {
      "metadata": {
        "id": "qLysYM7WWEzJ",
        "colab_type": "text"
      },
      "cell_type": "markdown",
      "source": [
        "**value_counts()** function returns unique values and calculates the occurrences within a series"
      ]
    },
    {
      "metadata": {
        "id": "e6_bpHcOWM78",
        "colab_type": "code",
        "colab": {
          "base_uri": "https://localhost:8080/",
          "height": 101
        },
        "outputId": "4217bef9-0589-4478-8097-08dbff25de24"
      },
      "cell_type": "code",
      "source": [
        "serd.value_counts()"
      ],
      "execution_count": 21,
      "outputs": [
        {
          "output_type": "execute_result",
          "data": {
            "text/plain": [
              "2    2\n",
              "1    2\n",
              "3    1\n",
              "0    1\n",
              "dtype: int64"
            ]
          },
          "metadata": {
            "tags": []
          },
          "execution_count": 21
        }
      ]
    },
    {
      "metadata": {
        "id": "fYsp77TyWaci",
        "colab_type": "text"
      },
      "cell_type": "markdown",
      "source": [
        "**isin()** function returns the Boolean values if the values are contained in the data structure"
      ]
    },
    {
      "metadata": {
        "id": "ieowJ50LWk4j",
        "colab_type": "code",
        "colab": {
          "base_uri": "https://localhost:8080/",
          "height": 134
        },
        "outputId": "5dc5f73d-5409-4a45-9a9e-ce5384302796"
      },
      "cell_type": "code",
      "source": [
        "serd.isin([0,3]) #if 0 and 3 are in this series"
      ],
      "execution_count": 22,
      "outputs": [
        {
          "output_type": "execute_result",
          "data": {
            "text/plain": [
              "white     False\n",
              "white      True\n",
              "blue      False\n",
              "green     False\n",
              "green     False\n",
              "yellow     True\n",
              "dtype: bool"
            ]
          },
          "metadata": {
            "tags": []
          },
          "execution_count": 22
        }
      ]
    },
    {
      "metadata": {
        "id": "Q_mtPxNAW8Sa",
        "colab_type": "text"
      },
      "cell_type": "markdown",
      "source": [
        "You can use this to filter data"
      ]
    },
    {
      "metadata": {
        "id": "hbI-bWHzWwEh",
        "colab_type": "code",
        "colab": {
          "base_uri": "https://localhost:8080/",
          "height": 67
        },
        "outputId": "ca18cba0-0edb-4094-ead6-ff8aa44a693d"
      },
      "cell_type": "code",
      "source": [
        "serd[serd.isin([0,3])]"
      ],
      "execution_count": 23,
      "outputs": [
        {
          "output_type": "execute_result",
          "data": {
            "text/plain": [
              "white     0\n",
              "yellow    3\n",
              "dtype: int64"
            ]
          },
          "metadata": {
            "tags": []
          },
          "execution_count": 23
        }
      ]
    },
    {
      "metadata": {
        "id": "c-kLOLNBXIp2",
        "colab_type": "text"
      },
      "cell_type": "markdown",
      "source": [
        "####NaN Values####\n",
        "\n",
        "To define a missing value, use **np.NaN**"
      ]
    },
    {
      "metadata": {
        "id": "qLdfXhFDXZOQ",
        "colab_type": "code",
        "colab": {
          "base_uri": "https://localhost:8080/",
          "height": 101
        },
        "outputId": "79cbb353-d7b1-4da7-d3af-0cf594d6d114"
      },
      "cell_type": "code",
      "source": [
        "s2 = pd.Series([5, -3, np.NaN, 14])\n",
        "s2"
      ],
      "execution_count": 24,
      "outputs": [
        {
          "output_type": "execute_result",
          "data": {
            "text/plain": [
              "0     5.0\n",
              "1    -3.0\n",
              "2     NaN\n",
              "3    14.0\n",
              "dtype: float64"
            ]
          },
          "metadata": {
            "tags": []
          },
          "execution_count": 24
        }
      ]
    },
    {
      "metadata": {
        "id": "3paoJSGyXfhA",
        "colab_type": "text"
      },
      "cell_type": "markdown",
      "source": [
        "use **isnull()** and **notnull()** to identify the indices without a value"
      ]
    },
    {
      "metadata": {
        "id": "QLzBqzgTXrOq",
        "colab_type": "code",
        "colab": {
          "base_uri": "https://localhost:8080/",
          "height": 101
        },
        "outputId": "1fbcaba1-d5f5-4761-b12e-4b8330fba608"
      },
      "cell_type": "code",
      "source": [
        "s2.isnull()"
      ],
      "execution_count": 25,
      "outputs": [
        {
          "output_type": "execute_result",
          "data": {
            "text/plain": [
              "0    False\n",
              "1    False\n",
              "2     True\n",
              "3    False\n",
              "dtype: bool"
            ]
          },
          "metadata": {
            "tags": []
          },
          "execution_count": 25
        }
      ]
    },
    {
      "metadata": {
        "id": "1dN3b1lEXtBa",
        "colab_type": "code",
        "colab": {
          "base_uri": "https://localhost:8080/",
          "height": 101
        },
        "outputId": "657e6407-0bfa-45f8-92f9-a9dae49f9216"
      },
      "cell_type": "code",
      "source": [
        "s2.notnull()"
      ],
      "execution_count": 26,
      "outputs": [
        {
          "output_type": "execute_result",
          "data": {
            "text/plain": [
              "0     True\n",
              "1     True\n",
              "2    False\n",
              "3     True\n",
              "dtype: bool"
            ]
          },
          "metadata": {
            "tags": []
          },
          "execution_count": 26
        }
      ]
    },
    {
      "metadata": {
        "id": "mZSeftO9XzG9",
        "colab_type": "text"
      },
      "cell_type": "markdown",
      "source": [
        "This can be used to filter data"
      ]
    },
    {
      "metadata": {
        "id": "eH30KQtkX1Gr",
        "colab_type": "code",
        "colab": {
          "base_uri": "https://localhost:8080/",
          "height": 84
        },
        "outputId": "947a2cdf-897a-4b36-8ae7-01ccc7484caf"
      },
      "cell_type": "code",
      "source": [
        "s2[s2.notnull()]"
      ],
      "execution_count": 27,
      "outputs": [
        {
          "output_type": "execute_result",
          "data": {
            "text/plain": [
              "0     5.0\n",
              "1    -3.0\n",
              "3    14.0\n",
              "dtype: float64"
            ]
          },
          "metadata": {
            "tags": []
          },
          "execution_count": 27
        }
      ]
    },
    {
      "metadata": {
        "id": "ywBu0PaCX3kW",
        "colab_type": "code",
        "colab": {
          "base_uri": "https://localhost:8080/",
          "height": 50
        },
        "outputId": "73e517f1-02ec-4b70-b20b-29223e7fba2b"
      },
      "cell_type": "code",
      "source": [
        "s2[s2.isnull()]"
      ],
      "execution_count": 28,
      "outputs": [
        {
          "output_type": "execute_result",
          "data": {
            "text/plain": [
              "2   NaN\n",
              "dtype: float64"
            ]
          },
          "metadata": {
            "tags": []
          },
          "execution_count": 28
        }
      ]
    },
    {
      "metadata": {
        "id": "44M0k97GYgVJ",
        "colab_type": "text"
      },
      "cell_type": "markdown",
      "source": [
        "####Series as Dictionary####"
      ]
    },
    {
      "metadata": {
        "id": "bHmLzTgDYlKz",
        "colab_type": "code",
        "colab": {
          "base_uri": "https://localhost:8080/",
          "height": 101
        },
        "outputId": "166dec89-f2ea-494e-f4b1-511e4504cb56"
      },
      "cell_type": "code",
      "source": [
        "mydict = {'red':2000, 'blue':1000, 'yellow':500, 'orange':1000}\n",
        "myseries = pd.Series(mydict)\n",
        "myseries"
      ],
      "execution_count": 29,
      "outputs": [
        {
          "output_type": "execute_result",
          "data": {
            "text/plain": [
              "blue      1000\n",
              "orange    1000\n",
              "red       2000\n",
              "yellow     500\n",
              "dtype: int64"
            ]
          },
          "metadata": {
            "tags": []
          },
          "execution_count": 29
        }
      ]
    },
    {
      "metadata": {
        "id": "CoEuO04YY3a2",
        "colab_type": "text"
      },
      "cell_type": "markdown",
      "source": [
        "To define the array indices separately"
      ]
    },
    {
      "metadata": {
        "id": "L4AWoidtY8TH",
        "colab_type": "code",
        "colab": {
          "base_uri": "https://localhost:8080/",
          "height": 118
        },
        "outputId": "e7c628ef-ae7e-4d2f-ada9-ece129990b13"
      },
      "cell_type": "code",
      "source": [
        "colors = ['red','yellow','orange','blue','green']\n",
        "myseries = pd.Series(mydict, index=colors)\n",
        "myseries"
      ],
      "execution_count": 30,
      "outputs": [
        {
          "output_type": "execute_result",
          "data": {
            "text/plain": [
              "red       2000.0\n",
              "yellow     500.0\n",
              "orange    1000.0\n",
              "blue      1000.0\n",
              "green        NaN\n",
              "dtype: float64"
            ]
          },
          "metadata": {
            "tags": []
          },
          "execution_count": 30
        }
      ]
    },
    {
      "metadata": {
        "id": "V5Mblz-FZIZ2",
        "colab_type": "text"
      },
      "cell_type": "markdown",
      "source": [
        "####Operations between Series####\n",
        "\n",
        "Same labels are added together"
      ]
    },
    {
      "metadata": {
        "id": "-UngZ9hHZZ4D",
        "colab_type": "code",
        "colab": {
          "base_uri": "https://localhost:8080/",
          "height": 134
        },
        "outputId": "0246b0ca-85d7-4898-d94f-42a3738439d0"
      },
      "cell_type": "code",
      "source": [
        "mydict2 = {'red':400, 'yellow':1000, 'black':700}\n",
        "myseries2 = pd.Series(mydict2)\n",
        "myseries + myseries2"
      ],
      "execution_count": 31,
      "outputs": [
        {
          "output_type": "execute_result",
          "data": {
            "text/plain": [
              "black        NaN\n",
              "blue         NaN\n",
              "green        NaN\n",
              "orange       NaN\n",
              "red       2400.0\n",
              "yellow    1500.0\n",
              "dtype: float64"
            ]
          },
          "metadata": {
            "tags": []
          },
          "execution_count": 31
        }
      ]
    },
    {
      "metadata": {
        "id": "QaJwuJeaZ8Wy",
        "colab_type": "text"
      },
      "cell_type": "markdown",
      "source": [
        "###The DataFrame###\n",
        "\n",
        "a tabular data structure silimar to a spreadsheet.\n",
        "\n",
        "The dataframe has two index arrays. The first index array associated with the lines. Each label is associated with all the values in the row. The second array contains a series of labels, each associated with a particular column\n",
        "\n",
        "The dataframe can be understood as a dict of series, where the keys are the column names and the values are the series that will form the columns of the dataframe."
      ]
    },
    {
      "metadata": {
        "id": "CqF1iToeazp6",
        "colab_type": "text"
      },
      "cell_type": "markdown",
      "source": [
        "####Defining a DataFrame####\n",
        "\n",
        "passa dict object to the **DataFrame()** constructor"
      ]
    },
    {
      "metadata": {
        "id": "CMtN5Raca_0E",
        "colab_type": "code",
        "colab": {
          "base_uri": "https://localhost:8080/",
          "height": 195
        },
        "outputId": "6d90e4d4-fee4-40f3-fba6-425fc3973bad"
      },
      "cell_type": "code",
      "source": [
        "data = {'color': ['blue','green','yellow','red','white'],\n",
        "       'object': ['ball','pen','pencil','paper','mug'],\n",
        "       'price': [1.2, 1.0, 0.6, 0.9, 1.7]}\n",
        "frame = pd.DataFrame(data)\n",
        "frame"
      ],
      "execution_count": 32,
      "outputs": [
        {
          "output_type": "execute_result",
          "data": {
            "text/html": [
              "<div>\n",
              "<style scoped>\n",
              "    .dataframe tbody tr th:only-of-type {\n",
              "        vertical-align: middle;\n",
              "    }\n",
              "\n",
              "    .dataframe tbody tr th {\n",
              "        vertical-align: top;\n",
              "    }\n",
              "\n",
              "    .dataframe thead th {\n",
              "        text-align: right;\n",
              "    }\n",
              "</style>\n",
              "<table border=\"1\" class=\"dataframe\">\n",
              "  <thead>\n",
              "    <tr style=\"text-align: right;\">\n",
              "      <th></th>\n",
              "      <th>color</th>\n",
              "      <th>object</th>\n",
              "      <th>price</th>\n",
              "    </tr>\n",
              "  </thead>\n",
              "  <tbody>\n",
              "    <tr>\n",
              "      <th>0</th>\n",
              "      <td>blue</td>\n",
              "      <td>ball</td>\n",
              "      <td>1.2</td>\n",
              "    </tr>\n",
              "    <tr>\n",
              "      <th>1</th>\n",
              "      <td>green</td>\n",
              "      <td>pen</td>\n",
              "      <td>1.0</td>\n",
              "    </tr>\n",
              "    <tr>\n",
              "      <th>2</th>\n",
              "      <td>yellow</td>\n",
              "      <td>pencil</td>\n",
              "      <td>0.6</td>\n",
              "    </tr>\n",
              "    <tr>\n",
              "      <th>3</th>\n",
              "      <td>red</td>\n",
              "      <td>paper</td>\n",
              "      <td>0.9</td>\n",
              "    </tr>\n",
              "    <tr>\n",
              "      <th>4</th>\n",
              "      <td>white</td>\n",
              "      <td>mug</td>\n",
              "      <td>1.7</td>\n",
              "    </tr>\n",
              "  </tbody>\n",
              "</table>\n",
              "</div>"
            ],
            "text/plain": [
              "    color  object  price\n",
              "0    blue    ball    1.2\n",
              "1   green     pen    1.0\n",
              "2  yellow  pencil    0.6\n",
              "3     red   paper    0.9\n",
              "4   white     mug    1.7"
            ]
          },
          "metadata": {
            "tags": []
          },
          "execution_count": 32
        }
      ]
    },
    {
      "metadata": {
        "id": "HRN8LjeEbgum",
        "colab_type": "text"
      },
      "cell_type": "markdown",
      "source": [
        "You can select a sequence of columns by using the **columns** option"
      ]
    },
    {
      "metadata": {
        "id": "dKLgkX5bbmZR",
        "colab_type": "code",
        "colab": {
          "base_uri": "https://localhost:8080/",
          "height": 195
        },
        "outputId": "9ed4f4cd-9b0a-4703-b5da-b9e5f81bd981"
      },
      "cell_type": "code",
      "source": [
        "frame2 = pd.DataFrame(data, columns=['object','price'])\n",
        "frame2"
      ],
      "execution_count": 33,
      "outputs": [
        {
          "output_type": "execute_result",
          "data": {
            "text/html": [
              "<div>\n",
              "<style scoped>\n",
              "    .dataframe tbody tr th:only-of-type {\n",
              "        vertical-align: middle;\n",
              "    }\n",
              "\n",
              "    .dataframe tbody tr th {\n",
              "        vertical-align: top;\n",
              "    }\n",
              "\n",
              "    .dataframe thead th {\n",
              "        text-align: right;\n",
              "    }\n",
              "</style>\n",
              "<table border=\"1\" class=\"dataframe\">\n",
              "  <thead>\n",
              "    <tr style=\"text-align: right;\">\n",
              "      <th></th>\n",
              "      <th>object</th>\n",
              "      <th>price</th>\n",
              "    </tr>\n",
              "  </thead>\n",
              "  <tbody>\n",
              "    <tr>\n",
              "      <th>0</th>\n",
              "      <td>ball</td>\n",
              "      <td>1.2</td>\n",
              "    </tr>\n",
              "    <tr>\n",
              "      <th>1</th>\n",
              "      <td>pen</td>\n",
              "      <td>1.0</td>\n",
              "    </tr>\n",
              "    <tr>\n",
              "      <th>2</th>\n",
              "      <td>pencil</td>\n",
              "      <td>0.6</td>\n",
              "    </tr>\n",
              "    <tr>\n",
              "      <th>3</th>\n",
              "      <td>paper</td>\n",
              "      <td>0.9</td>\n",
              "    </tr>\n",
              "    <tr>\n",
              "      <th>4</th>\n",
              "      <td>mug</td>\n",
              "      <td>1.7</td>\n",
              "    </tr>\n",
              "  </tbody>\n",
              "</table>\n",
              "</div>"
            ],
            "text/plain": [
              "   object  price\n",
              "0    ball    1.2\n",
              "1     pen    1.0\n",
              "2  pencil    0.6\n",
              "3   paper    0.9\n",
              "4     mug    1.7"
            ]
          },
          "metadata": {
            "tags": []
          },
          "execution_count": 33
        }
      ]
    },
    {
      "metadata": {
        "id": "zQRP-ftxbyTV",
        "colab_type": "text"
      },
      "cell_type": "markdown",
      "source": [
        "You can assign the labels in the index array using the **index** option"
      ]
    },
    {
      "metadata": {
        "id": "ADsViRedb5ME",
        "colab_type": "code",
        "colab": {
          "base_uri": "https://localhost:8080/",
          "height": 195
        },
        "outputId": "f6466665-e579-4391-9096-7baad69f0c54"
      },
      "cell_type": "code",
      "source": [
        "frame2 = pd.DataFrame(data, index=['one','two','three','four','five'])\n",
        "frame2"
      ],
      "execution_count": 34,
      "outputs": [
        {
          "output_type": "execute_result",
          "data": {
            "text/html": [
              "<div>\n",
              "<style scoped>\n",
              "    .dataframe tbody tr th:only-of-type {\n",
              "        vertical-align: middle;\n",
              "    }\n",
              "\n",
              "    .dataframe tbody tr th {\n",
              "        vertical-align: top;\n",
              "    }\n",
              "\n",
              "    .dataframe thead th {\n",
              "        text-align: right;\n",
              "    }\n",
              "</style>\n",
              "<table border=\"1\" class=\"dataframe\">\n",
              "  <thead>\n",
              "    <tr style=\"text-align: right;\">\n",
              "      <th></th>\n",
              "      <th>color</th>\n",
              "      <th>object</th>\n",
              "      <th>price</th>\n",
              "    </tr>\n",
              "  </thead>\n",
              "  <tbody>\n",
              "    <tr>\n",
              "      <th>one</th>\n",
              "      <td>blue</td>\n",
              "      <td>ball</td>\n",
              "      <td>1.2</td>\n",
              "    </tr>\n",
              "    <tr>\n",
              "      <th>two</th>\n",
              "      <td>green</td>\n",
              "      <td>pen</td>\n",
              "      <td>1.0</td>\n",
              "    </tr>\n",
              "    <tr>\n",
              "      <th>three</th>\n",
              "      <td>yellow</td>\n",
              "      <td>pencil</td>\n",
              "      <td>0.6</td>\n",
              "    </tr>\n",
              "    <tr>\n",
              "      <th>four</th>\n",
              "      <td>red</td>\n",
              "      <td>paper</td>\n",
              "      <td>0.9</td>\n",
              "    </tr>\n",
              "    <tr>\n",
              "      <th>five</th>\n",
              "      <td>white</td>\n",
              "      <td>mug</td>\n",
              "      <td>1.7</td>\n",
              "    </tr>\n",
              "  </tbody>\n",
              "</table>\n",
              "</div>"
            ],
            "text/plain": [
              "        color  object  price\n",
              "one      blue    ball    1.2\n",
              "two     green     pen    1.0\n",
              "three  yellow  pencil    0.6\n",
              "four      red   paper    0.9\n",
              "five    white     mug    1.7"
            ]
          },
          "metadata": {
            "tags": []
          },
          "execution_count": 34
        }
      ]
    },
    {
      "metadata": {
        "id": "o5BDDr9PcJJ5",
        "colab_type": "text"
      },
      "cell_type": "markdown",
      "source": [
        "To create a dataframe without using a dict object, you can specify the labels using the **columns** and **index** options when assigning the data matrix"
      ]
    },
    {
      "metadata": {
        "id": "gPeId9z0cXHg",
        "colab_type": "code",
        "colab": {
          "base_uri": "https://localhost:8080/",
          "height": 166
        },
        "outputId": "06e4c145-6199-4b6a-fab5-f9c6bbd833d7"
      },
      "cell_type": "code",
      "source": [
        "frame3 = pd.DataFrame(np.arange(16).reshape(4,4),\n",
        "                     index = ['red','blue','yellow','white'],\n",
        "                     columns = ['ball','pen','pencil','paper'])\n",
        "frame3"
      ],
      "execution_count": 35,
      "outputs": [
        {
          "output_type": "execute_result",
          "data": {
            "text/html": [
              "<div>\n",
              "<style scoped>\n",
              "    .dataframe tbody tr th:only-of-type {\n",
              "        vertical-align: middle;\n",
              "    }\n",
              "\n",
              "    .dataframe tbody tr th {\n",
              "        vertical-align: top;\n",
              "    }\n",
              "\n",
              "    .dataframe thead th {\n",
              "        text-align: right;\n",
              "    }\n",
              "</style>\n",
              "<table border=\"1\" class=\"dataframe\">\n",
              "  <thead>\n",
              "    <tr style=\"text-align: right;\">\n",
              "      <th></th>\n",
              "      <th>ball</th>\n",
              "      <th>pen</th>\n",
              "      <th>pencil</th>\n",
              "      <th>paper</th>\n",
              "    </tr>\n",
              "  </thead>\n",
              "  <tbody>\n",
              "    <tr>\n",
              "      <th>red</th>\n",
              "      <td>0</td>\n",
              "      <td>1</td>\n",
              "      <td>2</td>\n",
              "      <td>3</td>\n",
              "    </tr>\n",
              "    <tr>\n",
              "      <th>blue</th>\n",
              "      <td>4</td>\n",
              "      <td>5</td>\n",
              "      <td>6</td>\n",
              "      <td>7</td>\n",
              "    </tr>\n",
              "    <tr>\n",
              "      <th>yellow</th>\n",
              "      <td>8</td>\n",
              "      <td>9</td>\n",
              "      <td>10</td>\n",
              "      <td>11</td>\n",
              "    </tr>\n",
              "    <tr>\n",
              "      <th>white</th>\n",
              "      <td>12</td>\n",
              "      <td>13</td>\n",
              "      <td>14</td>\n",
              "      <td>15</td>\n",
              "    </tr>\n",
              "  </tbody>\n",
              "</table>\n",
              "</div>"
            ],
            "text/plain": [
              "        ball  pen  pencil  paper\n",
              "red        0    1       2      3\n",
              "blue       4    5       6      7\n",
              "yellow     8    9      10     11\n",
              "white     12   13      14     15"
            ]
          },
          "metadata": {
            "tags": []
          },
          "execution_count": 35
        }
      ]
    },
    {
      "metadata": {
        "id": "gwguYaIqc13_",
        "colab_type": "text"
      },
      "cell_type": "markdown",
      "source": [
        "####Selecting Elements####"
      ]
    },
    {
      "metadata": {
        "id": "QCkm9C-Lc9ym",
        "colab_type": "code",
        "colab": {
          "base_uri": "https://localhost:8080/",
          "height": 195
        },
        "outputId": "dc2b15d2-b7c0-4f58-8e66-b20d1c29610c"
      },
      "cell_type": "code",
      "source": [
        "frame"
      ],
      "execution_count": 36,
      "outputs": [
        {
          "output_type": "execute_result",
          "data": {
            "text/html": [
              "<div>\n",
              "<style scoped>\n",
              "    .dataframe tbody tr th:only-of-type {\n",
              "        vertical-align: middle;\n",
              "    }\n",
              "\n",
              "    .dataframe tbody tr th {\n",
              "        vertical-align: top;\n",
              "    }\n",
              "\n",
              "    .dataframe thead th {\n",
              "        text-align: right;\n",
              "    }\n",
              "</style>\n",
              "<table border=\"1\" class=\"dataframe\">\n",
              "  <thead>\n",
              "    <tr style=\"text-align: right;\">\n",
              "      <th></th>\n",
              "      <th>color</th>\n",
              "      <th>object</th>\n",
              "      <th>price</th>\n",
              "    </tr>\n",
              "  </thead>\n",
              "  <tbody>\n",
              "    <tr>\n",
              "      <th>0</th>\n",
              "      <td>blue</td>\n",
              "      <td>ball</td>\n",
              "      <td>1.2</td>\n",
              "    </tr>\n",
              "    <tr>\n",
              "      <th>1</th>\n",
              "      <td>green</td>\n",
              "      <td>pen</td>\n",
              "      <td>1.0</td>\n",
              "    </tr>\n",
              "    <tr>\n",
              "      <th>2</th>\n",
              "      <td>yellow</td>\n",
              "      <td>pencil</td>\n",
              "      <td>0.6</td>\n",
              "    </tr>\n",
              "    <tr>\n",
              "      <th>3</th>\n",
              "      <td>red</td>\n",
              "      <td>paper</td>\n",
              "      <td>0.9</td>\n",
              "    </tr>\n",
              "    <tr>\n",
              "      <th>4</th>\n",
              "      <td>white</td>\n",
              "      <td>mug</td>\n",
              "      <td>1.7</td>\n",
              "    </tr>\n",
              "  </tbody>\n",
              "</table>\n",
              "</div>"
            ],
            "text/plain": [
              "    color  object  price\n",
              "0    blue    ball    1.2\n",
              "1   green     pen    1.0\n",
              "2  yellow  pencil    0.6\n",
              "3     red   paper    0.9\n",
              "4   white     mug    1.7"
            ]
          },
          "metadata": {
            "tags": []
          },
          "execution_count": 36
        }
      ]
    },
    {
      "metadata": {
        "id": "5-6Fzti5dAEd",
        "colab_type": "text"
      },
      "cell_type": "markdown",
      "source": [
        "Name of all the columns"
      ]
    },
    {
      "metadata": {
        "id": "-n4QfsIpdHvD",
        "colab_type": "code",
        "colab": {
          "base_uri": "https://localhost:8080/",
          "height": 34
        },
        "outputId": "d9e45d69-9a97-4446-cd5e-813249a5900c"
      },
      "cell_type": "code",
      "source": [
        "frame.columns"
      ],
      "execution_count": 37,
      "outputs": [
        {
          "output_type": "execute_result",
          "data": {
            "text/plain": [
              "Index(['color', 'object', 'price'], dtype='object')"
            ]
          },
          "metadata": {
            "tags": []
          },
          "execution_count": 37
        }
      ]
    },
    {
      "metadata": {
        "id": "eKH_FR3BdL-d",
        "colab_type": "text"
      },
      "cell_type": "markdown",
      "source": [
        "List of indices"
      ]
    },
    {
      "metadata": {
        "id": "gWmWW4-NdOUw",
        "colab_type": "code",
        "colab": {
          "base_uri": "https://localhost:8080/",
          "height": 34
        },
        "outputId": "2d2bef82-3227-44e7-c174-bb3bfe7c3761"
      },
      "cell_type": "code",
      "source": [
        "frame.index"
      ],
      "execution_count": 38,
      "outputs": [
        {
          "output_type": "execute_result",
          "data": {
            "text/plain": [
              "RangeIndex(start=0, stop=5, step=1)"
            ]
          },
          "metadata": {
            "tags": []
          },
          "execution_count": 38
        }
      ]
    },
    {
      "metadata": {
        "id": "C0ulSm1zdTas",
        "colab_type": "text"
      },
      "cell_type": "markdown",
      "source": [
        "Entire dataset"
      ]
    },
    {
      "metadata": {
        "id": "But67StEdVCR",
        "colab_type": "code",
        "colab": {
          "base_uri": "https://localhost:8080/",
          "height": 101
        },
        "outputId": "9526df33-899e-49cf-ab7e-e1fd58a1d23a"
      },
      "cell_type": "code",
      "source": [
        "frame.values"
      ],
      "execution_count": 39,
      "outputs": [
        {
          "output_type": "execute_result",
          "data": {
            "text/plain": [
              "array([['blue', 'ball', 1.2],\n",
              "       ['green', 'pen', 1.0],\n",
              "       ['yellow', 'pencil', 0.6],\n",
              "       ['red', 'paper', 0.9],\n",
              "       ['white', 'mug', 1.7]], dtype=object)"
            ]
          },
          "metadata": {
            "tags": []
          },
          "execution_count": 39
        }
      ]
    },
    {
      "metadata": {
        "id": "5B_IXM7SdcWX",
        "colab_type": "text"
      },
      "cell_type": "markdown",
      "source": [
        "Selecting the column of interest"
      ]
    },
    {
      "metadata": {
        "id": "zjYarGRKdhvv",
        "colab_type": "code",
        "colab": {
          "base_uri": "https://localhost:8080/",
          "height": 118
        },
        "outputId": "4ed2d7cb-78d5-4e1b-908a-f7139d0455e2"
      },
      "cell_type": "code",
      "source": [
        "frame['price']"
      ],
      "execution_count": 40,
      "outputs": [
        {
          "output_type": "execute_result",
          "data": {
            "text/plain": [
              "0    1.2\n",
              "1    1.0\n",
              "2    0.6\n",
              "3    0.9\n",
              "4    1.7\n",
              "Name: price, dtype: float64"
            ]
          },
          "metadata": {
            "tags": []
          },
          "execution_count": 40
        }
      ]
    },
    {
      "metadata": {
        "id": "kMNIRZzUdkHx",
        "colab_type": "code",
        "colab": {
          "base_uri": "https://localhost:8080/",
          "height": 118
        },
        "outputId": "f696bc1b-9c58-4413-dca1-0af519e9a43f"
      },
      "cell_type": "code",
      "source": [
        "frame.price"
      ],
      "execution_count": 41,
      "outputs": [
        {
          "output_type": "execute_result",
          "data": {
            "text/plain": [
              "0    1.2\n",
              "1    1.0\n",
              "2    0.6\n",
              "3    0.9\n",
              "4    1.7\n",
              "Name: price, dtype: float64"
            ]
          },
          "metadata": {
            "tags": []
          },
          "execution_count": 41
        }
      ]
    },
    {
      "metadata": {
        "id": "InP2CqYdd53K",
        "colab_type": "text"
      },
      "cell_type": "markdown",
      "source": [
        "Selecting the rows of interest by using the **loc** attribute"
      ]
    },
    {
      "metadata": {
        "id": "uMeg-d6Dd-JC",
        "colab_type": "code",
        "colab": {
          "base_uri": "https://localhost:8080/",
          "height": 84
        },
        "outputId": "f08ce8b0-788b-47a6-a2d8-3689641ed567"
      },
      "cell_type": "code",
      "source": [
        "frame.loc[2] #the thrid row"
      ],
      "execution_count": 42,
      "outputs": [
        {
          "output_type": "execute_result",
          "data": {
            "text/plain": [
              "color     yellow\n",
              "object    pencil\n",
              "price        0.6\n",
              "Name: 2, dtype: object"
            ]
          },
          "metadata": {
            "tags": []
          },
          "execution_count": 42
        }
      ]
    },
    {
      "metadata": {
        "id": "MjHUvt68eAjs",
        "colab_type": "code",
        "colab": {
          "base_uri": "https://localhost:8080/",
          "height": 136
        },
        "outputId": "216a1e00-a9b0-4020-818b-0b4995b27958"
      },
      "cell_type": "code",
      "source": [
        "frame.loc[2:4] #from the second to the fourth row"
      ],
      "execution_count": 43,
      "outputs": [
        {
          "output_type": "execute_result",
          "data": {
            "text/html": [
              "<div>\n",
              "<style scoped>\n",
              "    .dataframe tbody tr th:only-of-type {\n",
              "        vertical-align: middle;\n",
              "    }\n",
              "\n",
              "    .dataframe tbody tr th {\n",
              "        vertical-align: top;\n",
              "    }\n",
              "\n",
              "    .dataframe thead th {\n",
              "        text-align: right;\n",
              "    }\n",
              "</style>\n",
              "<table border=\"1\" class=\"dataframe\">\n",
              "  <thead>\n",
              "    <tr style=\"text-align: right;\">\n",
              "      <th></th>\n",
              "      <th>color</th>\n",
              "      <th>object</th>\n",
              "      <th>price</th>\n",
              "    </tr>\n",
              "  </thead>\n",
              "  <tbody>\n",
              "    <tr>\n",
              "      <th>2</th>\n",
              "      <td>yellow</td>\n",
              "      <td>pencil</td>\n",
              "      <td>0.6</td>\n",
              "    </tr>\n",
              "    <tr>\n",
              "      <th>3</th>\n",
              "      <td>red</td>\n",
              "      <td>paper</td>\n",
              "      <td>0.9</td>\n",
              "    </tr>\n",
              "    <tr>\n",
              "      <th>4</th>\n",
              "      <td>white</td>\n",
              "      <td>mug</td>\n",
              "      <td>1.7</td>\n",
              "    </tr>\n",
              "  </tbody>\n",
              "</table>\n",
              "</div>"
            ],
            "text/plain": [
              "    color  object  price\n",
              "2  yellow  pencil    0.6\n",
              "3     red   paper    0.9\n",
              "4   white     mug    1.7"
            ]
          },
          "metadata": {
            "tags": []
          },
          "execution_count": 43
        }
      ]
    },
    {
      "metadata": {
        "id": "oqjopqFXecp2",
        "colab_type": "code",
        "colab": {
          "base_uri": "https://localhost:8080/",
          "height": 106
        },
        "outputId": "3e0bebd8-a21c-47e0-ed20-54a47c5085c9"
      },
      "cell_type": "code",
      "source": [
        "frame[2:4] #from the second to the third row"
      ],
      "execution_count": 44,
      "outputs": [
        {
          "output_type": "execute_result",
          "data": {
            "text/html": [
              "<div>\n",
              "<style scoped>\n",
              "    .dataframe tbody tr th:only-of-type {\n",
              "        vertical-align: middle;\n",
              "    }\n",
              "\n",
              "    .dataframe tbody tr th {\n",
              "        vertical-align: top;\n",
              "    }\n",
              "\n",
              "    .dataframe thead th {\n",
              "        text-align: right;\n",
              "    }\n",
              "</style>\n",
              "<table border=\"1\" class=\"dataframe\">\n",
              "  <thead>\n",
              "    <tr style=\"text-align: right;\">\n",
              "      <th></th>\n",
              "      <th>color</th>\n",
              "      <th>object</th>\n",
              "      <th>price</th>\n",
              "    </tr>\n",
              "  </thead>\n",
              "  <tbody>\n",
              "    <tr>\n",
              "      <th>2</th>\n",
              "      <td>yellow</td>\n",
              "      <td>pencil</td>\n",
              "      <td>0.6</td>\n",
              "    </tr>\n",
              "    <tr>\n",
              "      <th>3</th>\n",
              "      <td>red</td>\n",
              "      <td>paper</td>\n",
              "      <td>0.9</td>\n",
              "    </tr>\n",
              "  </tbody>\n",
              "</table>\n",
              "</div>"
            ],
            "text/plain": [
              "    color  object  price\n",
              "2  yellow  pencil    0.6\n",
              "3     red   paper    0.9"
            ]
          },
          "metadata": {
            "tags": []
          },
          "execution_count": 44
        }
      ]
    },
    {
      "metadata": {
        "id": "caYzIYbvelJU",
        "colab_type": "text"
      },
      "cell_type": "markdown",
      "source": [
        "Return a single value, need to specify the column name and then the index"
      ]
    },
    {
      "metadata": {
        "id": "PtD_R6QmesxF",
        "colab_type": "code",
        "colab": {
          "base_uri": "https://localhost:8080/",
          "height": 34
        },
        "outputId": "004163a9-67c1-4f15-f148-64c5a2922a57"
      },
      "cell_type": "code",
      "source": [
        "frame['object'][3]"
      ],
      "execution_count": 45,
      "outputs": [
        {
          "output_type": "execute_result",
          "data": {
            "text/plain": [
              "'paper'"
            ]
          },
          "metadata": {
            "tags": []
          },
          "execution_count": 45
        }
      ]
    },
    {
      "metadata": {
        "id": "9YYTUqEbe543",
        "colab_type": "text"
      },
      "cell_type": "markdown",
      "source": [
        "####Assgining Values####\n",
        "using the **name** attribute"
      ]
    },
    {
      "metadata": {
        "id": "jmCSadoSfA71",
        "colab_type": "code",
        "colab": {
          "base_uri": "https://localhost:8080/",
          "height": 195
        },
        "outputId": "52914a08-aa64-4a67-82c6-58e51b811cab"
      },
      "cell_type": "code",
      "source": [
        "frame"
      ],
      "execution_count": 46,
      "outputs": [
        {
          "output_type": "execute_result",
          "data": {
            "text/html": [
              "<div>\n",
              "<style scoped>\n",
              "    .dataframe tbody tr th:only-of-type {\n",
              "        vertical-align: middle;\n",
              "    }\n",
              "\n",
              "    .dataframe tbody tr th {\n",
              "        vertical-align: top;\n",
              "    }\n",
              "\n",
              "    .dataframe thead th {\n",
              "        text-align: right;\n",
              "    }\n",
              "</style>\n",
              "<table border=\"1\" class=\"dataframe\">\n",
              "  <thead>\n",
              "    <tr style=\"text-align: right;\">\n",
              "      <th></th>\n",
              "      <th>color</th>\n",
              "      <th>object</th>\n",
              "      <th>price</th>\n",
              "    </tr>\n",
              "  </thead>\n",
              "  <tbody>\n",
              "    <tr>\n",
              "      <th>0</th>\n",
              "      <td>blue</td>\n",
              "      <td>ball</td>\n",
              "      <td>1.2</td>\n",
              "    </tr>\n",
              "    <tr>\n",
              "      <th>1</th>\n",
              "      <td>green</td>\n",
              "      <td>pen</td>\n",
              "      <td>1.0</td>\n",
              "    </tr>\n",
              "    <tr>\n",
              "      <th>2</th>\n",
              "      <td>yellow</td>\n",
              "      <td>pencil</td>\n",
              "      <td>0.6</td>\n",
              "    </tr>\n",
              "    <tr>\n",
              "      <th>3</th>\n",
              "      <td>red</td>\n",
              "      <td>paper</td>\n",
              "      <td>0.9</td>\n",
              "    </tr>\n",
              "    <tr>\n",
              "      <th>4</th>\n",
              "      <td>white</td>\n",
              "      <td>mug</td>\n",
              "      <td>1.7</td>\n",
              "    </tr>\n",
              "  </tbody>\n",
              "</table>\n",
              "</div>"
            ],
            "text/plain": [
              "    color  object  price\n",
              "0    blue    ball    1.2\n",
              "1   green     pen    1.0\n",
              "2  yellow  pencil    0.6\n",
              "3     red   paper    0.9\n",
              "4   white     mug    1.7"
            ]
          },
          "metadata": {
            "tags": []
          },
          "execution_count": 46
        }
      ]
    },
    {
      "metadata": {
        "id": "5RHeZJarfBky",
        "colab_type": "code",
        "colab": {
          "base_uri": "https://localhost:8080/",
          "height": 225
        },
        "outputId": "796dfb3d-f028-407e-983a-75b0cc198f01"
      },
      "cell_type": "code",
      "source": [
        "frame.index.name = 'id'\n",
        "frame.columns.name = 'item'\n",
        "frame"
      ],
      "execution_count": 47,
      "outputs": [
        {
          "output_type": "execute_result",
          "data": {
            "text/html": [
              "<div>\n",
              "<style scoped>\n",
              "    .dataframe tbody tr th:only-of-type {\n",
              "        vertical-align: middle;\n",
              "    }\n",
              "\n",
              "    .dataframe tbody tr th {\n",
              "        vertical-align: top;\n",
              "    }\n",
              "\n",
              "    .dataframe thead th {\n",
              "        text-align: right;\n",
              "    }\n",
              "</style>\n",
              "<table border=\"1\" class=\"dataframe\">\n",
              "  <thead>\n",
              "    <tr style=\"text-align: right;\">\n",
              "      <th>item</th>\n",
              "      <th>color</th>\n",
              "      <th>object</th>\n",
              "      <th>price</th>\n",
              "    </tr>\n",
              "    <tr>\n",
              "      <th>id</th>\n",
              "      <th></th>\n",
              "      <th></th>\n",
              "      <th></th>\n",
              "    </tr>\n",
              "  </thead>\n",
              "  <tbody>\n",
              "    <tr>\n",
              "      <th>0</th>\n",
              "      <td>blue</td>\n",
              "      <td>ball</td>\n",
              "      <td>1.2</td>\n",
              "    </tr>\n",
              "    <tr>\n",
              "      <th>1</th>\n",
              "      <td>green</td>\n",
              "      <td>pen</td>\n",
              "      <td>1.0</td>\n",
              "    </tr>\n",
              "    <tr>\n",
              "      <th>2</th>\n",
              "      <td>yellow</td>\n",
              "      <td>pencil</td>\n",
              "      <td>0.6</td>\n",
              "    </tr>\n",
              "    <tr>\n",
              "      <th>3</th>\n",
              "      <td>red</td>\n",
              "      <td>paper</td>\n",
              "      <td>0.9</td>\n",
              "    </tr>\n",
              "    <tr>\n",
              "      <th>4</th>\n",
              "      <td>white</td>\n",
              "      <td>mug</td>\n",
              "      <td>1.7</td>\n",
              "    </tr>\n",
              "  </tbody>\n",
              "</table>\n",
              "</div>"
            ],
            "text/plain": [
              "item   color  object  price\n",
              "id                         \n",
              "0       blue    ball    1.2\n",
              "1      green     pen    1.0\n",
              "2     yellow  pencil    0.6\n",
              "3        red   paper    0.9\n",
              "4      white     mug    1.7"
            ]
          },
          "metadata": {
            "tags": []
          },
          "execution_count": 47
        }
      ]
    },
    {
      "metadata": {
        "id": "YJJcXi25fUag",
        "colab_type": "text"
      },
      "cell_type": "markdown",
      "source": [
        "Add a new column"
      ]
    },
    {
      "metadata": {
        "id": "gXcrg7L-fWEX",
        "colab_type": "code",
        "colab": {
          "base_uri": "https://localhost:8080/",
          "height": 225
        },
        "outputId": "ea1753df-58d3-4611-fbf7-c195efc8c977"
      },
      "cell_type": "code",
      "source": [
        "frame['new'] = 12\n",
        "frame"
      ],
      "execution_count": 48,
      "outputs": [
        {
          "output_type": "execute_result",
          "data": {
            "text/html": [
              "<div>\n",
              "<style scoped>\n",
              "    .dataframe tbody tr th:only-of-type {\n",
              "        vertical-align: middle;\n",
              "    }\n",
              "\n",
              "    .dataframe tbody tr th {\n",
              "        vertical-align: top;\n",
              "    }\n",
              "\n",
              "    .dataframe thead th {\n",
              "        text-align: right;\n",
              "    }\n",
              "</style>\n",
              "<table border=\"1\" class=\"dataframe\">\n",
              "  <thead>\n",
              "    <tr style=\"text-align: right;\">\n",
              "      <th>item</th>\n",
              "      <th>color</th>\n",
              "      <th>object</th>\n",
              "      <th>price</th>\n",
              "      <th>new</th>\n",
              "    </tr>\n",
              "    <tr>\n",
              "      <th>id</th>\n",
              "      <th></th>\n",
              "      <th></th>\n",
              "      <th></th>\n",
              "      <th></th>\n",
              "    </tr>\n",
              "  </thead>\n",
              "  <tbody>\n",
              "    <tr>\n",
              "      <th>0</th>\n",
              "      <td>blue</td>\n",
              "      <td>ball</td>\n",
              "      <td>1.2</td>\n",
              "      <td>12</td>\n",
              "    </tr>\n",
              "    <tr>\n",
              "      <th>1</th>\n",
              "      <td>green</td>\n",
              "      <td>pen</td>\n",
              "      <td>1.0</td>\n",
              "      <td>12</td>\n",
              "    </tr>\n",
              "    <tr>\n",
              "      <th>2</th>\n",
              "      <td>yellow</td>\n",
              "      <td>pencil</td>\n",
              "      <td>0.6</td>\n",
              "      <td>12</td>\n",
              "    </tr>\n",
              "    <tr>\n",
              "      <th>3</th>\n",
              "      <td>red</td>\n",
              "      <td>paper</td>\n",
              "      <td>0.9</td>\n",
              "      <td>12</td>\n",
              "    </tr>\n",
              "    <tr>\n",
              "      <th>4</th>\n",
              "      <td>white</td>\n",
              "      <td>mug</td>\n",
              "      <td>1.7</td>\n",
              "      <td>12</td>\n",
              "    </tr>\n",
              "  </tbody>\n",
              "</table>\n",
              "</div>"
            ],
            "text/plain": [
              "item   color  object  price  new\n",
              "id                              \n",
              "0       blue    ball    1.2   12\n",
              "1      green     pen    1.0   12\n",
              "2     yellow  pencil    0.6   12\n",
              "3        red   paper    0.9   12\n",
              "4      white     mug    1.7   12"
            ]
          },
          "metadata": {
            "tags": []
          },
          "execution_count": 48
        }
      ]
    },
    {
      "metadata": {
        "id": "GtczwNl1fZWA",
        "colab_type": "code",
        "colab": {
          "base_uri": "https://localhost:8080/",
          "height": 225
        },
        "outputId": "38e227e0-af3a-4611-feb8-1861bfbe5361"
      },
      "cell_type": "code",
      "source": [
        "frame['new'] = [3.0, 1.3, 2.2, 0.8, 1.1]\n",
        "frame"
      ],
      "execution_count": 49,
      "outputs": [
        {
          "output_type": "execute_result",
          "data": {
            "text/html": [
              "<div>\n",
              "<style scoped>\n",
              "    .dataframe tbody tr th:only-of-type {\n",
              "        vertical-align: middle;\n",
              "    }\n",
              "\n",
              "    .dataframe tbody tr th {\n",
              "        vertical-align: top;\n",
              "    }\n",
              "\n",
              "    .dataframe thead th {\n",
              "        text-align: right;\n",
              "    }\n",
              "</style>\n",
              "<table border=\"1\" class=\"dataframe\">\n",
              "  <thead>\n",
              "    <tr style=\"text-align: right;\">\n",
              "      <th>item</th>\n",
              "      <th>color</th>\n",
              "      <th>object</th>\n",
              "      <th>price</th>\n",
              "      <th>new</th>\n",
              "    </tr>\n",
              "    <tr>\n",
              "      <th>id</th>\n",
              "      <th></th>\n",
              "      <th></th>\n",
              "      <th></th>\n",
              "      <th></th>\n",
              "    </tr>\n",
              "  </thead>\n",
              "  <tbody>\n",
              "    <tr>\n",
              "      <th>0</th>\n",
              "      <td>blue</td>\n",
              "      <td>ball</td>\n",
              "      <td>1.2</td>\n",
              "      <td>3.0</td>\n",
              "    </tr>\n",
              "    <tr>\n",
              "      <th>1</th>\n",
              "      <td>green</td>\n",
              "      <td>pen</td>\n",
              "      <td>1.0</td>\n",
              "      <td>1.3</td>\n",
              "    </tr>\n",
              "    <tr>\n",
              "      <th>2</th>\n",
              "      <td>yellow</td>\n",
              "      <td>pencil</td>\n",
              "      <td>0.6</td>\n",
              "      <td>2.2</td>\n",
              "    </tr>\n",
              "    <tr>\n",
              "      <th>3</th>\n",
              "      <td>red</td>\n",
              "      <td>paper</td>\n",
              "      <td>0.9</td>\n",
              "      <td>0.8</td>\n",
              "    </tr>\n",
              "    <tr>\n",
              "      <th>4</th>\n",
              "      <td>white</td>\n",
              "      <td>mug</td>\n",
              "      <td>1.7</td>\n",
              "      <td>1.1</td>\n",
              "    </tr>\n",
              "  </tbody>\n",
              "</table>\n",
              "</div>"
            ],
            "text/plain": [
              "item   color  object  price  new\n",
              "id                              \n",
              "0       blue    ball    1.2  3.0\n",
              "1      green     pen    1.0  1.3\n",
              "2     yellow  pencil    0.6  2.2\n",
              "3        red   paper    0.9  0.8\n",
              "4      white     mug    1.7  1.1"
            ]
          },
          "metadata": {
            "tags": []
          },
          "execution_count": 49
        }
      ]
    },
    {
      "metadata": {
        "id": "IyeJJ9bCfo7o",
        "colab_type": "code",
        "colab": {
          "base_uri": "https://localhost:8080/",
          "height": 118
        },
        "outputId": "60002fa7-043c-4197-a25b-8c1a6b80ea8e"
      },
      "cell_type": "code",
      "source": [
        "ser = pd.Series(np.arange(5))\n",
        "ser"
      ],
      "execution_count": 50,
      "outputs": [
        {
          "output_type": "execute_result",
          "data": {
            "text/plain": [
              "0    0\n",
              "1    1\n",
              "2    2\n",
              "3    3\n",
              "4    4\n",
              "dtype: int64"
            ]
          },
          "metadata": {
            "tags": []
          },
          "execution_count": 50
        }
      ]
    },
    {
      "metadata": {
        "id": "ygb3eNnKfti-",
        "colab_type": "code",
        "colab": {
          "base_uri": "https://localhost:8080/",
          "height": 225
        },
        "outputId": "2b8fe640-69b0-4e4e-db2e-c80648a5a51e"
      },
      "cell_type": "code",
      "source": [
        "frame['new'] = ser\n",
        "frame"
      ],
      "execution_count": 51,
      "outputs": [
        {
          "output_type": "execute_result",
          "data": {
            "text/html": [
              "<div>\n",
              "<style scoped>\n",
              "    .dataframe tbody tr th:only-of-type {\n",
              "        vertical-align: middle;\n",
              "    }\n",
              "\n",
              "    .dataframe tbody tr th {\n",
              "        vertical-align: top;\n",
              "    }\n",
              "\n",
              "    .dataframe thead th {\n",
              "        text-align: right;\n",
              "    }\n",
              "</style>\n",
              "<table border=\"1\" class=\"dataframe\">\n",
              "  <thead>\n",
              "    <tr style=\"text-align: right;\">\n",
              "      <th>item</th>\n",
              "      <th>color</th>\n",
              "      <th>object</th>\n",
              "      <th>price</th>\n",
              "      <th>new</th>\n",
              "    </tr>\n",
              "    <tr>\n",
              "      <th>id</th>\n",
              "      <th></th>\n",
              "      <th></th>\n",
              "      <th></th>\n",
              "      <th></th>\n",
              "    </tr>\n",
              "  </thead>\n",
              "  <tbody>\n",
              "    <tr>\n",
              "      <th>0</th>\n",
              "      <td>blue</td>\n",
              "      <td>ball</td>\n",
              "      <td>1.2</td>\n",
              "      <td>0</td>\n",
              "    </tr>\n",
              "    <tr>\n",
              "      <th>1</th>\n",
              "      <td>green</td>\n",
              "      <td>pen</td>\n",
              "      <td>1.0</td>\n",
              "      <td>1</td>\n",
              "    </tr>\n",
              "    <tr>\n",
              "      <th>2</th>\n",
              "      <td>yellow</td>\n",
              "      <td>pencil</td>\n",
              "      <td>0.6</td>\n",
              "      <td>2</td>\n",
              "    </tr>\n",
              "    <tr>\n",
              "      <th>3</th>\n",
              "      <td>red</td>\n",
              "      <td>paper</td>\n",
              "      <td>0.9</td>\n",
              "      <td>3</td>\n",
              "    </tr>\n",
              "    <tr>\n",
              "      <th>4</th>\n",
              "      <td>white</td>\n",
              "      <td>mug</td>\n",
              "      <td>1.7</td>\n",
              "      <td>4</td>\n",
              "    </tr>\n",
              "  </tbody>\n",
              "</table>\n",
              "</div>"
            ],
            "text/plain": [
              "item   color  object  price  new\n",
              "id                              \n",
              "0       blue    ball    1.2    0\n",
              "1      green     pen    1.0    1\n",
              "2     yellow  pencil    0.6    2\n",
              "3        red   paper    0.9    3\n",
              "4      white     mug    1.7    4"
            ]
          },
          "metadata": {
            "tags": []
          },
          "execution_count": 51
        }
      ]
    },
    {
      "metadata": {
        "id": "QTngi1SKfy5C",
        "colab_type": "text"
      },
      "cell_type": "markdown",
      "source": [
        "Change a single value"
      ]
    },
    {
      "metadata": {
        "id": "P1FYfgzNf2or",
        "colab_type": "code",
        "colab": {
          "base_uri": "https://localhost:8080/",
          "height": 309
        },
        "outputId": "a3d88ec3-6ca3-456c-9009-5465267326a2"
      },
      "cell_type": "code",
      "source": [
        "frame['price'][2] = 3.3\n",
        "frame"
      ],
      "execution_count": 52,
      "outputs": [
        {
          "output_type": "stream",
          "text": [
            "/usr/local/lib/python3.6/dist-packages/ipykernel_launcher.py:1: SettingWithCopyWarning: \n",
            "A value is trying to be set on a copy of a slice from a DataFrame\n",
            "\n",
            "See the caveats in the documentation: http://pandas.pydata.org/pandas-docs/stable/indexing.html#indexing-view-versus-copy\n",
            "  \"\"\"Entry point for launching an IPython kernel.\n"
          ],
          "name": "stderr"
        },
        {
          "output_type": "execute_result",
          "data": {
            "text/html": [
              "<div>\n",
              "<style scoped>\n",
              "    .dataframe tbody tr th:only-of-type {\n",
              "        vertical-align: middle;\n",
              "    }\n",
              "\n",
              "    .dataframe tbody tr th {\n",
              "        vertical-align: top;\n",
              "    }\n",
              "\n",
              "    .dataframe thead th {\n",
              "        text-align: right;\n",
              "    }\n",
              "</style>\n",
              "<table border=\"1\" class=\"dataframe\">\n",
              "  <thead>\n",
              "    <tr style=\"text-align: right;\">\n",
              "      <th>item</th>\n",
              "      <th>color</th>\n",
              "      <th>object</th>\n",
              "      <th>price</th>\n",
              "      <th>new</th>\n",
              "    </tr>\n",
              "    <tr>\n",
              "      <th>id</th>\n",
              "      <th></th>\n",
              "      <th></th>\n",
              "      <th></th>\n",
              "      <th></th>\n",
              "    </tr>\n",
              "  </thead>\n",
              "  <tbody>\n",
              "    <tr>\n",
              "      <th>0</th>\n",
              "      <td>blue</td>\n",
              "      <td>ball</td>\n",
              "      <td>1.2</td>\n",
              "      <td>0</td>\n",
              "    </tr>\n",
              "    <tr>\n",
              "      <th>1</th>\n",
              "      <td>green</td>\n",
              "      <td>pen</td>\n",
              "      <td>1.0</td>\n",
              "      <td>1</td>\n",
              "    </tr>\n",
              "    <tr>\n",
              "      <th>2</th>\n",
              "      <td>yellow</td>\n",
              "      <td>pencil</td>\n",
              "      <td>3.3</td>\n",
              "      <td>2</td>\n",
              "    </tr>\n",
              "    <tr>\n",
              "      <th>3</th>\n",
              "      <td>red</td>\n",
              "      <td>paper</td>\n",
              "      <td>0.9</td>\n",
              "      <td>3</td>\n",
              "    </tr>\n",
              "    <tr>\n",
              "      <th>4</th>\n",
              "      <td>white</td>\n",
              "      <td>mug</td>\n",
              "      <td>1.7</td>\n",
              "      <td>4</td>\n",
              "    </tr>\n",
              "  </tbody>\n",
              "</table>\n",
              "</div>"
            ],
            "text/plain": [
              "item   color  object  price  new\n",
              "id                              \n",
              "0       blue    ball    1.2    0\n",
              "1      green     pen    1.0    1\n",
              "2     yellow  pencil    3.3    2\n",
              "3        red   paper    0.9    3\n",
              "4      white     mug    1.7    4"
            ]
          },
          "metadata": {
            "tags": []
          },
          "execution_count": 52
        }
      ]
    },
    {
      "metadata": {
        "id": "A57FFX_4gFqa",
        "colab_type": "text"
      },
      "cell_type": "markdown",
      "source": [
        "####Membership of a Value####\n",
        "**isin()** function still applies"
      ]
    },
    {
      "metadata": {
        "id": "_A1cepcngS7T",
        "colab_type": "code",
        "colab": {
          "base_uri": "https://localhost:8080/",
          "height": 225
        },
        "outputId": "e883cd9c-3d1e-40cd-c7f0-a9601d7f1880"
      },
      "cell_type": "code",
      "source": [
        "frame.isin([1.0, 'pen'])"
      ],
      "execution_count": 53,
      "outputs": [
        {
          "output_type": "execute_result",
          "data": {
            "text/html": [
              "<div>\n",
              "<style scoped>\n",
              "    .dataframe tbody tr th:only-of-type {\n",
              "        vertical-align: middle;\n",
              "    }\n",
              "\n",
              "    .dataframe tbody tr th {\n",
              "        vertical-align: top;\n",
              "    }\n",
              "\n",
              "    .dataframe thead th {\n",
              "        text-align: right;\n",
              "    }\n",
              "</style>\n",
              "<table border=\"1\" class=\"dataframe\">\n",
              "  <thead>\n",
              "    <tr style=\"text-align: right;\">\n",
              "      <th>item</th>\n",
              "      <th>color</th>\n",
              "      <th>object</th>\n",
              "      <th>price</th>\n",
              "      <th>new</th>\n",
              "    </tr>\n",
              "    <tr>\n",
              "      <th>id</th>\n",
              "      <th></th>\n",
              "      <th></th>\n",
              "      <th></th>\n",
              "      <th></th>\n",
              "    </tr>\n",
              "  </thead>\n",
              "  <tbody>\n",
              "    <tr>\n",
              "      <th>0</th>\n",
              "      <td>False</td>\n",
              "      <td>False</td>\n",
              "      <td>False</td>\n",
              "      <td>False</td>\n",
              "    </tr>\n",
              "    <tr>\n",
              "      <th>1</th>\n",
              "      <td>False</td>\n",
              "      <td>True</td>\n",
              "      <td>True</td>\n",
              "      <td>True</td>\n",
              "    </tr>\n",
              "    <tr>\n",
              "      <th>2</th>\n",
              "      <td>False</td>\n",
              "      <td>False</td>\n",
              "      <td>False</td>\n",
              "      <td>False</td>\n",
              "    </tr>\n",
              "    <tr>\n",
              "      <th>3</th>\n",
              "      <td>False</td>\n",
              "      <td>False</td>\n",
              "      <td>False</td>\n",
              "      <td>False</td>\n",
              "    </tr>\n",
              "    <tr>\n",
              "      <th>4</th>\n",
              "      <td>False</td>\n",
              "      <td>False</td>\n",
              "      <td>False</td>\n",
              "      <td>False</td>\n",
              "    </tr>\n",
              "  </tbody>\n",
              "</table>\n",
              "</div>"
            ],
            "text/plain": [
              "item  color  object  price    new\n",
              "id                               \n",
              "0     False   False  False  False\n",
              "1     False    True   True   True\n",
              "2     False   False  False  False\n",
              "3     False   False  False  False\n",
              "4     False   False  False  False"
            ]
          },
          "metadata": {
            "tags": []
          },
          "execution_count": 53
        }
      ]
    },
    {
      "metadata": {
        "id": "-v7ypaBAgdIw",
        "colab_type": "code",
        "colab": {
          "base_uri": "https://localhost:8080/",
          "height": 225
        },
        "outputId": "53b262ad-2515-4a58-a741-68dd1462f74d"
      },
      "cell_type": "code",
      "source": [
        "frame[frame.isin([1.0, 'pen'])]"
      ],
      "execution_count": 54,
      "outputs": [
        {
          "output_type": "execute_result",
          "data": {
            "text/html": [
              "<div>\n",
              "<style scoped>\n",
              "    .dataframe tbody tr th:only-of-type {\n",
              "        vertical-align: middle;\n",
              "    }\n",
              "\n",
              "    .dataframe tbody tr th {\n",
              "        vertical-align: top;\n",
              "    }\n",
              "\n",
              "    .dataframe thead th {\n",
              "        text-align: right;\n",
              "    }\n",
              "</style>\n",
              "<table border=\"1\" class=\"dataframe\">\n",
              "  <thead>\n",
              "    <tr style=\"text-align: right;\">\n",
              "      <th>item</th>\n",
              "      <th>color</th>\n",
              "      <th>object</th>\n",
              "      <th>price</th>\n",
              "      <th>new</th>\n",
              "    </tr>\n",
              "    <tr>\n",
              "      <th>id</th>\n",
              "      <th></th>\n",
              "      <th></th>\n",
              "      <th></th>\n",
              "      <th></th>\n",
              "    </tr>\n",
              "  </thead>\n",
              "  <tbody>\n",
              "    <tr>\n",
              "      <th>0</th>\n",
              "      <td>NaN</td>\n",
              "      <td>NaN</td>\n",
              "      <td>NaN</td>\n",
              "      <td>NaN</td>\n",
              "    </tr>\n",
              "    <tr>\n",
              "      <th>1</th>\n",
              "      <td>NaN</td>\n",
              "      <td>pen</td>\n",
              "      <td>1.0</td>\n",
              "      <td>1.0</td>\n",
              "    </tr>\n",
              "    <tr>\n",
              "      <th>2</th>\n",
              "      <td>NaN</td>\n",
              "      <td>NaN</td>\n",
              "      <td>NaN</td>\n",
              "      <td>NaN</td>\n",
              "    </tr>\n",
              "    <tr>\n",
              "      <th>3</th>\n",
              "      <td>NaN</td>\n",
              "      <td>NaN</td>\n",
              "      <td>NaN</td>\n",
              "      <td>NaN</td>\n",
              "    </tr>\n",
              "    <tr>\n",
              "      <th>4</th>\n",
              "      <td>NaN</td>\n",
              "      <td>NaN</td>\n",
              "      <td>NaN</td>\n",
              "      <td>NaN</td>\n",
              "    </tr>\n",
              "  </tbody>\n",
              "</table>\n",
              "</div>"
            ],
            "text/plain": [
              "item color object  price  new\n",
              "id                           \n",
              "0      NaN    NaN    NaN  NaN\n",
              "1      NaN    pen    1.0  1.0\n",
              "2      NaN    NaN    NaN  NaN\n",
              "3      NaN    NaN    NaN  NaN\n",
              "4      NaN    NaN    NaN  NaN"
            ]
          },
          "metadata": {
            "tags": []
          },
          "execution_count": 54
        }
      ]
    },
    {
      "metadata": {
        "id": "-MY3O48Pghl5",
        "colab_type": "text"
      },
      "cell_type": "markdown",
      "source": [
        "####Deleting a Column####"
      ]
    },
    {
      "metadata": {
        "id": "Mhuw8332guFJ",
        "colab_type": "code",
        "colab": {
          "base_uri": "https://localhost:8080/",
          "height": 225
        },
        "outputId": "4a16baa0-8b3d-4ee3-bc4f-248f9cd2c38c"
      },
      "cell_type": "code",
      "source": [
        "del frame['new']\n",
        "frame"
      ],
      "execution_count": 55,
      "outputs": [
        {
          "output_type": "execute_result",
          "data": {
            "text/html": [
              "<div>\n",
              "<style scoped>\n",
              "    .dataframe tbody tr th:only-of-type {\n",
              "        vertical-align: middle;\n",
              "    }\n",
              "\n",
              "    .dataframe tbody tr th {\n",
              "        vertical-align: top;\n",
              "    }\n",
              "\n",
              "    .dataframe thead th {\n",
              "        text-align: right;\n",
              "    }\n",
              "</style>\n",
              "<table border=\"1\" class=\"dataframe\">\n",
              "  <thead>\n",
              "    <tr style=\"text-align: right;\">\n",
              "      <th>item</th>\n",
              "      <th>color</th>\n",
              "      <th>object</th>\n",
              "      <th>price</th>\n",
              "    </tr>\n",
              "    <tr>\n",
              "      <th>id</th>\n",
              "      <th></th>\n",
              "      <th></th>\n",
              "      <th></th>\n",
              "    </tr>\n",
              "  </thead>\n",
              "  <tbody>\n",
              "    <tr>\n",
              "      <th>0</th>\n",
              "      <td>blue</td>\n",
              "      <td>ball</td>\n",
              "      <td>1.2</td>\n",
              "    </tr>\n",
              "    <tr>\n",
              "      <th>1</th>\n",
              "      <td>green</td>\n",
              "      <td>pen</td>\n",
              "      <td>1.0</td>\n",
              "    </tr>\n",
              "    <tr>\n",
              "      <th>2</th>\n",
              "      <td>yellow</td>\n",
              "      <td>pencil</td>\n",
              "      <td>3.3</td>\n",
              "    </tr>\n",
              "    <tr>\n",
              "      <th>3</th>\n",
              "      <td>red</td>\n",
              "      <td>paper</td>\n",
              "      <td>0.9</td>\n",
              "    </tr>\n",
              "    <tr>\n",
              "      <th>4</th>\n",
              "      <td>white</td>\n",
              "      <td>mug</td>\n",
              "      <td>1.7</td>\n",
              "    </tr>\n",
              "  </tbody>\n",
              "</table>\n",
              "</div>"
            ],
            "text/plain": [
              "item   color  object  price\n",
              "id                         \n",
              "0       blue    ball    1.2\n",
              "1      green     pen    1.0\n",
              "2     yellow  pencil    3.3\n",
              "3        red   paper    0.9\n",
              "4      white     mug    1.7"
            ]
          },
          "metadata": {
            "tags": []
          },
          "execution_count": 55
        }
      ]
    },
    {
      "metadata": {
        "id": "T2hGME0jgxcz",
        "colab_type": "text"
      },
      "cell_type": "markdown",
      "source": [
        "####Filtering####"
      ]
    },
    {
      "metadata": {
        "id": "SmtAh4Ezg2TO",
        "colab_type": "code",
        "colab": {
          "base_uri": "https://localhost:8080/",
          "height": 225
        },
        "outputId": "f2251e0b-03f9-4460-d059-6193a92107b2"
      },
      "cell_type": "code",
      "source": [
        "frame[frame < 1.2]"
      ],
      "execution_count": 56,
      "outputs": [
        {
          "output_type": "execute_result",
          "data": {
            "text/html": [
              "<div>\n",
              "<style scoped>\n",
              "    .dataframe tbody tr th:only-of-type {\n",
              "        vertical-align: middle;\n",
              "    }\n",
              "\n",
              "    .dataframe tbody tr th {\n",
              "        vertical-align: top;\n",
              "    }\n",
              "\n",
              "    .dataframe thead th {\n",
              "        text-align: right;\n",
              "    }\n",
              "</style>\n",
              "<table border=\"1\" class=\"dataframe\">\n",
              "  <thead>\n",
              "    <tr style=\"text-align: right;\">\n",
              "      <th>item</th>\n",
              "      <th>color</th>\n",
              "      <th>object</th>\n",
              "      <th>price</th>\n",
              "    </tr>\n",
              "    <tr>\n",
              "      <th>id</th>\n",
              "      <th></th>\n",
              "      <th></th>\n",
              "      <th></th>\n",
              "    </tr>\n",
              "  </thead>\n",
              "  <tbody>\n",
              "    <tr>\n",
              "      <th>0</th>\n",
              "      <td>blue</td>\n",
              "      <td>ball</td>\n",
              "      <td>NaN</td>\n",
              "    </tr>\n",
              "    <tr>\n",
              "      <th>1</th>\n",
              "      <td>green</td>\n",
              "      <td>pen</td>\n",
              "      <td>1.0</td>\n",
              "    </tr>\n",
              "    <tr>\n",
              "      <th>2</th>\n",
              "      <td>yellow</td>\n",
              "      <td>pencil</td>\n",
              "      <td>NaN</td>\n",
              "    </tr>\n",
              "    <tr>\n",
              "      <th>3</th>\n",
              "      <td>red</td>\n",
              "      <td>paper</td>\n",
              "      <td>0.9</td>\n",
              "    </tr>\n",
              "    <tr>\n",
              "      <th>4</th>\n",
              "      <td>white</td>\n",
              "      <td>mug</td>\n",
              "      <td>NaN</td>\n",
              "    </tr>\n",
              "  </tbody>\n",
              "</table>\n",
              "</div>"
            ],
            "text/plain": [
              "item   color  object  price\n",
              "id                         \n",
              "0       blue    ball    NaN\n",
              "1      green     pen    1.0\n",
              "2     yellow  pencil    NaN\n",
              "3        red   paper    0.9\n",
              "4      white     mug    NaN"
            ]
          },
          "metadata": {
            "tags": []
          },
          "execution_count": 56
        }
      ]
    },
    {
      "metadata": {
        "id": "EVihVOU6hEl_",
        "colab_type": "text"
      },
      "cell_type": "markdown",
      "source": [
        "####DataFrame from Nested dict####"
      ]
    },
    {
      "metadata": {
        "id": "VAAUOiyQhIcS",
        "colab_type": "code",
        "colab": {
          "base_uri": "https://localhost:8080/",
          "height": 136
        },
        "outputId": "d701798a-70c6-4445-d8ca-f650d9a97f4e"
      },
      "cell_type": "code",
      "source": [
        "nestdict = {'red': {2012:22, 2013:33},\n",
        "           'white': {2011:12, 2012:22, 2013:16},\n",
        "           'blue': {2011:17, 2012:27, 2013:18}}\n",
        "frame2 = pd.DataFrame(nestdict)\n",
        "frame2"
      ],
      "execution_count": 57,
      "outputs": [
        {
          "output_type": "execute_result",
          "data": {
            "text/html": [
              "<div>\n",
              "<style scoped>\n",
              "    .dataframe tbody tr th:only-of-type {\n",
              "        vertical-align: middle;\n",
              "    }\n",
              "\n",
              "    .dataframe tbody tr th {\n",
              "        vertical-align: top;\n",
              "    }\n",
              "\n",
              "    .dataframe thead th {\n",
              "        text-align: right;\n",
              "    }\n",
              "</style>\n",
              "<table border=\"1\" class=\"dataframe\">\n",
              "  <thead>\n",
              "    <tr style=\"text-align: right;\">\n",
              "      <th></th>\n",
              "      <th>blue</th>\n",
              "      <th>red</th>\n",
              "      <th>white</th>\n",
              "    </tr>\n",
              "  </thead>\n",
              "  <tbody>\n",
              "    <tr>\n",
              "      <th>2011</th>\n",
              "      <td>17</td>\n",
              "      <td>NaN</td>\n",
              "      <td>12</td>\n",
              "    </tr>\n",
              "    <tr>\n",
              "      <th>2012</th>\n",
              "      <td>27</td>\n",
              "      <td>22.0</td>\n",
              "      <td>22</td>\n",
              "    </tr>\n",
              "    <tr>\n",
              "      <th>2013</th>\n",
              "      <td>18</td>\n",
              "      <td>33.0</td>\n",
              "      <td>16</td>\n",
              "    </tr>\n",
              "  </tbody>\n",
              "</table>\n",
              "</div>"
            ],
            "text/plain": [
              "      blue   red  white\n",
              "2011    17   NaN     12\n",
              "2012    27  22.0     22\n",
              "2013    18  33.0     16"
            ]
          },
          "metadata": {
            "tags": []
          },
          "execution_count": 57
        }
      ]
    },
    {
      "metadata": {
        "id": "_gEqz5gBhjlD",
        "colab_type": "text"
      },
      "cell_type": "markdown",
      "source": [
        "####Transposition of a DataFrame####"
      ]
    },
    {
      "metadata": {
        "id": "m9AAuNuShmHR",
        "colab_type": "code",
        "colab": {
          "base_uri": "https://localhost:8080/",
          "height": 166
        },
        "outputId": "3f1c25d1-3e0a-4433-b3de-26e7ff01a639"
      },
      "cell_type": "code",
      "source": [
        "frame.T"
      ],
      "execution_count": 58,
      "outputs": [
        {
          "output_type": "execute_result",
          "data": {
            "text/html": [
              "<div>\n",
              "<style scoped>\n",
              "    .dataframe tbody tr th:only-of-type {\n",
              "        vertical-align: middle;\n",
              "    }\n",
              "\n",
              "    .dataframe tbody tr th {\n",
              "        vertical-align: top;\n",
              "    }\n",
              "\n",
              "    .dataframe thead th {\n",
              "        text-align: right;\n",
              "    }\n",
              "</style>\n",
              "<table border=\"1\" class=\"dataframe\">\n",
              "  <thead>\n",
              "    <tr style=\"text-align: right;\">\n",
              "      <th>id</th>\n",
              "      <th>0</th>\n",
              "      <th>1</th>\n",
              "      <th>2</th>\n",
              "      <th>3</th>\n",
              "      <th>4</th>\n",
              "    </tr>\n",
              "    <tr>\n",
              "      <th>item</th>\n",
              "      <th></th>\n",
              "      <th></th>\n",
              "      <th></th>\n",
              "      <th></th>\n",
              "      <th></th>\n",
              "    </tr>\n",
              "  </thead>\n",
              "  <tbody>\n",
              "    <tr>\n",
              "      <th>color</th>\n",
              "      <td>blue</td>\n",
              "      <td>green</td>\n",
              "      <td>yellow</td>\n",
              "      <td>red</td>\n",
              "      <td>white</td>\n",
              "    </tr>\n",
              "    <tr>\n",
              "      <th>object</th>\n",
              "      <td>ball</td>\n",
              "      <td>pen</td>\n",
              "      <td>pencil</td>\n",
              "      <td>paper</td>\n",
              "      <td>mug</td>\n",
              "    </tr>\n",
              "    <tr>\n",
              "      <th>price</th>\n",
              "      <td>1.2</td>\n",
              "      <td>1</td>\n",
              "      <td>3.3</td>\n",
              "      <td>0.9</td>\n",
              "      <td>1.7</td>\n",
              "    </tr>\n",
              "  </tbody>\n",
              "</table>\n",
              "</div>"
            ],
            "text/plain": [
              "id         0      1       2      3      4\n",
              "item                                     \n",
              "color   blue  green  yellow    red  white\n",
              "object  ball    pen  pencil  paper    mug\n",
              "price    1.2      1     3.3    0.9    1.7"
            ]
          },
          "metadata": {
            "tags": []
          },
          "execution_count": 58
        }
      ]
    },
    {
      "metadata": {
        "id": "eRBqWvUqkX8R",
        "colab_type": "text"
      },
      "cell_type": "markdown",
      "source": [
        "###The Index Objects###\n"
      ]
    },
    {
      "metadata": {
        "id": "qd1YmjlQkhZM",
        "colab_type": "code",
        "colab": {
          "base_uri": "https://localhost:8080/",
          "height": 34
        },
        "outputId": "392ba47a-9619-49a4-a66f-a7d75a03915b"
      },
      "cell_type": "code",
      "source": [
        "ser = pd.Series([5,0,3,8,4], index=['red','blue','yellow','white','green'])\n",
        "ser.index"
      ],
      "execution_count": 59,
      "outputs": [
        {
          "output_type": "execute_result",
          "data": {
            "text/plain": [
              "Index(['red', 'blue', 'yellow', 'white', 'green'], dtype='object')"
            ]
          },
          "metadata": {
            "tags": []
          },
          "execution_count": 59
        }
      ]
    },
    {
      "metadata": {
        "id": "Zt_dEbQ7k7SH",
        "colab_type": "text"
      },
      "cell_type": "markdown",
      "source": [
        "**idxmin()** returns the index with the lowest value"
      ]
    },
    {
      "metadata": {
        "id": "92n6n4JYk_sk",
        "colab_type": "code",
        "colab": {
          "base_uri": "https://localhost:8080/",
          "height": 34
        },
        "outputId": "40193f50-d845-41f6-e210-11823770bfda"
      },
      "cell_type": "code",
      "source": [
        "ser.idxmin()"
      ],
      "execution_count": 60,
      "outputs": [
        {
          "output_type": "execute_result",
          "data": {
            "text/plain": [
              "'blue'"
            ]
          },
          "metadata": {
            "tags": []
          },
          "execution_count": 60
        }
      ]
    },
    {
      "metadata": {
        "id": "12fRK-GFlA4d",
        "colab_type": "text"
      },
      "cell_type": "markdown",
      "source": [
        "**idxmax()** returns the index with the highest value"
      ]
    },
    {
      "metadata": {
        "id": "OmAUPmqMlF0h",
        "colab_type": "code",
        "colab": {
          "base_uri": "https://localhost:8080/",
          "height": 34
        },
        "outputId": "c6e5e579-5152-442e-ce1a-c2ca11d33260"
      },
      "cell_type": "code",
      "source": [
        "ser.idxmax()"
      ],
      "execution_count": 61,
      "outputs": [
        {
          "output_type": "execute_result",
          "data": {
            "text/plain": [
              "'white'"
            ]
          },
          "metadata": {
            "tags": []
          },
          "execution_count": 61
        }
      ]
    },
    {
      "metadata": {
        "id": "LocDV0WrlUzJ",
        "colab_type": "text"
      },
      "cell_type": "markdown",
      "source": [
        "**is_unique** attribute tells you if there are indices with duplicate labels"
      ]
    },
    {
      "metadata": {
        "id": "lRX0g4mhliDO",
        "colab_type": "code",
        "colab": {
          "base_uri": "https://localhost:8080/",
          "height": 34
        },
        "outputId": "ae49365e-1049-43a2-d0fc-8608c00e4a6f"
      },
      "cell_type": "code",
      "source": [
        "serd.index.is_unique"
      ],
      "execution_count": 62,
      "outputs": [
        {
          "output_type": "execute_result",
          "data": {
            "text/plain": [
              "False"
            ]
          },
          "metadata": {
            "tags": []
          },
          "execution_count": 62
        }
      ]
    },
    {
      "metadata": {
        "id": "kqdeWCdolju7",
        "colab_type": "code",
        "colab": {
          "base_uri": "https://localhost:8080/",
          "height": 34
        },
        "outputId": "94a25add-eb44-4aac-8417-7fddb7bfe09e"
      },
      "cell_type": "code",
      "source": [
        "frame.index.is_unique"
      ],
      "execution_count": 63,
      "outputs": [
        {
          "output_type": "execute_result",
          "data": {
            "text/plain": [
              "True"
            ]
          },
          "metadata": {
            "tags": []
          },
          "execution_count": 63
        }
      ]
    },
    {
      "metadata": {
        "id": "BQydAL9Nlzd5",
        "colab_type": "text"
      },
      "cell_type": "markdown",
      "source": [
        "###Other Functionalities on Indexes###"
      ]
    },
    {
      "metadata": {
        "id": "2L-yyo9_mARR",
        "colab_type": "text"
      },
      "cell_type": "markdown",
      "source": [
        "####Reindexing####"
      ]
    },
    {
      "metadata": {
        "id": "pqXARdcImIZ0",
        "colab_type": "code",
        "colab": {
          "base_uri": "https://localhost:8080/",
          "height": 101
        },
        "outputId": "ac490d87-95f5-4dd4-946d-1e8dddfaf814"
      },
      "cell_type": "code",
      "source": [
        "ser = pd.Series([2,5,7,4], index= ['one','two','three','four'])\n",
        "ser"
      ],
      "execution_count": 64,
      "outputs": [
        {
          "output_type": "execute_result",
          "data": {
            "text/plain": [
              "one      2\n",
              "two      5\n",
              "three    7\n",
              "four     4\n",
              "dtype: int64"
            ]
          },
          "metadata": {
            "tags": []
          },
          "execution_count": 64
        }
      ]
    },
    {
      "metadata": {
        "id": "TL9hPRTlmU1O",
        "colab_type": "text"
      },
      "cell_type": "markdown",
      "source": [
        "The **reindex()** function will reindex in the order provided by the index array"
      ]
    },
    {
      "metadata": {
        "id": "71kxef1MmcAY",
        "colab_type": "code",
        "colab": {
          "base_uri": "https://localhost:8080/",
          "height": 101
        },
        "outputId": "c8768333-666c-4f66-9d81-3f6e36c2583e"
      },
      "cell_type": "code",
      "source": [
        "ser.reindex(['three','one','four','two'])"
      ],
      "execution_count": 65,
      "outputs": [
        {
          "output_type": "execute_result",
          "data": {
            "text/plain": [
              "three    7\n",
              "one      2\n",
              "four     4\n",
              "two      5\n",
              "dtype: int64"
            ]
          },
          "metadata": {
            "tags": []
          },
          "execution_count": 65
        }
      ]
    },
    {
      "metadata": {
        "id": "SQX_mkBqmjHp",
        "colab_type": "text"
      },
      "cell_type": "markdown",
      "source": [
        "You can use **reindex()** to modify the series"
      ]
    },
    {
      "metadata": {
        "id": "-2JKjgpImrOd",
        "colab_type": "code",
        "colab": {
          "base_uri": "https://localhost:8080/",
          "height": 101
        },
        "outputId": "fc2c2bef-ee2f-472b-b90b-359635e92a28"
      },
      "cell_type": "code",
      "source": [
        "ser.reindex(['three','four','five','one'])"
      ],
      "execution_count": 66,
      "outputs": [
        {
          "output_type": "execute_result",
          "data": {
            "text/plain": [
              "three    7.0\n",
              "four     4.0\n",
              "five     NaN\n",
              "one      2.0\n",
              "dtype: float64"
            ]
          },
          "metadata": {
            "tags": []
          },
          "execution_count": 66
        }
      ]
    },
    {
      "metadata": {
        "id": "eGvFMEoZnAMI",
        "colab_type": "text"
      },
      "cell_type": "markdown",
      "source": [
        "The automatic reindexing will also help you fill the missing values."
      ]
    },
    {
      "metadata": {
        "id": "md7f3AfVnKYq",
        "colab_type": "code",
        "colab": {
          "base_uri": "https://localhost:8080/",
          "height": 101
        },
        "outputId": "40788ca8-2984-4ae1-dd1a-c68afe68a0f4"
      },
      "cell_type": "code",
      "source": [
        "ser3 = pd.Series([1,5,6,3], index= [0,3,5,6])\n",
        "ser3"
      ],
      "execution_count": 67,
      "outputs": [
        {
          "output_type": "execute_result",
          "data": {
            "text/plain": [
              "0    1\n",
              "3    5\n",
              "5    6\n",
              "6    3\n",
              "dtype: int64"
            ]
          },
          "metadata": {
            "tags": []
          },
          "execution_count": 67
        }
      ]
    },
    {
      "metadata": {
        "id": "yDKAKyU5nQs6",
        "colab_type": "text"
      },
      "cell_type": "markdown",
      "source": [
        "As you can see, the indexes 1, 2, and 4 are missing.\n",
        "\n",
        "You can use **reindex()** with the **method** option set to **ffill**\n",
        "The **ffill** method will assign values of *nearest* lowest index in the original series to the missing values of the new indexes"
      ]
    },
    {
      "metadata": {
        "id": "46GJPeb9niGP",
        "colab_type": "code",
        "colab": {
          "base_uri": "https://localhost:8080/",
          "height": 134
        },
        "outputId": "0b83c91f-3e1d-4a39-be6a-410e34ace608"
      },
      "cell_type": "code",
      "source": [
        "ser3.reindex(range(6), method= 'ffill')"
      ],
      "execution_count": 68,
      "outputs": [
        {
          "output_type": "execute_result",
          "data": {
            "text/plain": [
              "0    1\n",
              "1    1\n",
              "2    1\n",
              "3    5\n",
              "4    5\n",
              "5    6\n",
              "dtype: int64"
            ]
          },
          "metadata": {
            "tags": []
          },
          "execution_count": 68
        }
      ]
    },
    {
      "metadata": {
        "id": "ljoT4t7voDgM",
        "colab_type": "text"
      },
      "cell_type": "markdown",
      "source": [
        "The **bfill** method will assign values of *nearest* highest index in the original series to the missing values of the new indexes"
      ]
    },
    {
      "metadata": {
        "id": "9EAx0l3qoS5c",
        "colab_type": "code",
        "colab": {
          "base_uri": "https://localhost:8080/",
          "height": 134
        },
        "outputId": "fe86bc8e-26e1-4dbf-e5e2-74da3e8e18ee"
      },
      "cell_type": "code",
      "source": [
        "ser3.reindex(range(6), method= 'bfill')"
      ],
      "execution_count": 69,
      "outputs": [
        {
          "output_type": "execute_result",
          "data": {
            "text/plain": [
              "0    1\n",
              "1    5\n",
              "2    5\n",
              "3    5\n",
              "4    6\n",
              "5    6\n",
              "dtype: int64"
            ]
          },
          "metadata": {
            "tags": []
          },
          "execution_count": 69
        }
      ]
    },
    {
      "metadata": {
        "id": "HVi9p_qQojXy",
        "colab_type": "text"
      },
      "cell_type": "markdown",
      "source": [
        "Extend this idea to the DataFrame structure"
      ]
    },
    {
      "metadata": {
        "id": "tihutKJhomGx",
        "colab_type": "code",
        "colab": {
          "base_uri": "https://localhost:8080/",
          "height": 225
        },
        "outputId": "1061eafd-8ba4-430b-b6a6-dace67c1b06c"
      },
      "cell_type": "code",
      "source": [
        "frame"
      ],
      "execution_count": 70,
      "outputs": [
        {
          "output_type": "execute_result",
          "data": {
            "text/html": [
              "<div>\n",
              "<style scoped>\n",
              "    .dataframe tbody tr th:only-of-type {\n",
              "        vertical-align: middle;\n",
              "    }\n",
              "\n",
              "    .dataframe tbody tr th {\n",
              "        vertical-align: top;\n",
              "    }\n",
              "\n",
              "    .dataframe thead th {\n",
              "        text-align: right;\n",
              "    }\n",
              "</style>\n",
              "<table border=\"1\" class=\"dataframe\">\n",
              "  <thead>\n",
              "    <tr style=\"text-align: right;\">\n",
              "      <th>item</th>\n",
              "      <th>color</th>\n",
              "      <th>object</th>\n",
              "      <th>price</th>\n",
              "    </tr>\n",
              "    <tr>\n",
              "      <th>id</th>\n",
              "      <th></th>\n",
              "      <th></th>\n",
              "      <th></th>\n",
              "    </tr>\n",
              "  </thead>\n",
              "  <tbody>\n",
              "    <tr>\n",
              "      <th>0</th>\n",
              "      <td>blue</td>\n",
              "      <td>ball</td>\n",
              "      <td>1.2</td>\n",
              "    </tr>\n",
              "    <tr>\n",
              "      <th>1</th>\n",
              "      <td>green</td>\n",
              "      <td>pen</td>\n",
              "      <td>1.0</td>\n",
              "    </tr>\n",
              "    <tr>\n",
              "      <th>2</th>\n",
              "      <td>yellow</td>\n",
              "      <td>pencil</td>\n",
              "      <td>3.3</td>\n",
              "    </tr>\n",
              "    <tr>\n",
              "      <th>3</th>\n",
              "      <td>red</td>\n",
              "      <td>paper</td>\n",
              "      <td>0.9</td>\n",
              "    </tr>\n",
              "    <tr>\n",
              "      <th>4</th>\n",
              "      <td>white</td>\n",
              "      <td>mug</td>\n",
              "      <td>1.7</td>\n",
              "    </tr>\n",
              "  </tbody>\n",
              "</table>\n",
              "</div>"
            ],
            "text/plain": [
              "item   color  object  price\n",
              "id                         \n",
              "0       blue    ball    1.2\n",
              "1      green     pen    1.0\n",
              "2     yellow  pencil    3.3\n",
              "3        red   paper    0.9\n",
              "4      white     mug    1.7"
            ]
          },
          "metadata": {
            "tags": []
          },
          "execution_count": 70
        }
      ]
    },
    {
      "metadata": {
        "id": "uk6bPYwConH0",
        "colab_type": "code",
        "colab": {
          "base_uri": "https://localhost:8080/",
          "height": 225
        },
        "outputId": "ee55c042-ca0e-4c44-b0a9-184e50f64fab"
      },
      "cell_type": "code",
      "source": [
        "frame.reindex(range(5), method= 'ffill', columns= ['color','price','new','object'])"
      ],
      "execution_count": 71,
      "outputs": [
        {
          "output_type": "execute_result",
          "data": {
            "text/html": [
              "<div>\n",
              "<style scoped>\n",
              "    .dataframe tbody tr th:only-of-type {\n",
              "        vertical-align: middle;\n",
              "    }\n",
              "\n",
              "    .dataframe tbody tr th {\n",
              "        vertical-align: top;\n",
              "    }\n",
              "\n",
              "    .dataframe thead th {\n",
              "        text-align: right;\n",
              "    }\n",
              "</style>\n",
              "<table border=\"1\" class=\"dataframe\">\n",
              "  <thead>\n",
              "    <tr style=\"text-align: right;\">\n",
              "      <th>item</th>\n",
              "      <th>color</th>\n",
              "      <th>price</th>\n",
              "      <th>new</th>\n",
              "      <th>object</th>\n",
              "    </tr>\n",
              "    <tr>\n",
              "      <th>id</th>\n",
              "      <th></th>\n",
              "      <th></th>\n",
              "      <th></th>\n",
              "      <th></th>\n",
              "    </tr>\n",
              "  </thead>\n",
              "  <tbody>\n",
              "    <tr>\n",
              "      <th>0</th>\n",
              "      <td>blue</td>\n",
              "      <td>1.2</td>\n",
              "      <td>blue</td>\n",
              "      <td>ball</td>\n",
              "    </tr>\n",
              "    <tr>\n",
              "      <th>1</th>\n",
              "      <td>green</td>\n",
              "      <td>1.0</td>\n",
              "      <td>green</td>\n",
              "      <td>pen</td>\n",
              "    </tr>\n",
              "    <tr>\n",
              "      <th>2</th>\n",
              "      <td>yellow</td>\n",
              "      <td>3.3</td>\n",
              "      <td>yellow</td>\n",
              "      <td>pencil</td>\n",
              "    </tr>\n",
              "    <tr>\n",
              "      <th>3</th>\n",
              "      <td>red</td>\n",
              "      <td>0.9</td>\n",
              "      <td>red</td>\n",
              "      <td>paper</td>\n",
              "    </tr>\n",
              "    <tr>\n",
              "      <th>4</th>\n",
              "      <td>white</td>\n",
              "      <td>1.7</td>\n",
              "      <td>white</td>\n",
              "      <td>mug</td>\n",
              "    </tr>\n",
              "  </tbody>\n",
              "</table>\n",
              "</div>"
            ],
            "text/plain": [
              "item   color  price     new  object\n",
              "id                                 \n",
              "0       blue    1.2    blue    ball\n",
              "1      green    1.0   green     pen\n",
              "2     yellow    3.3  yellow  pencil\n",
              "3        red    0.9     red   paper\n",
              "4      white    1.7   white     mug"
            ]
          },
          "metadata": {
            "tags": []
          },
          "execution_count": 71
        }
      ]
    },
    {
      "metadata": {
        "id": "PTkutpHpo5j5",
        "colab_type": "text"
      },
      "cell_type": "markdown",
      "source": [
        "####Dropping####\n",
        "\n",
        "Using **drop()** function to delete a row or a column"
      ]
    },
    {
      "metadata": {
        "id": "npjdy1ympEhb",
        "colab_type": "code",
        "colab": {
          "base_uri": "https://localhost:8080/",
          "height": 101
        },
        "outputId": "58d36088-6396-4ef1-b7db-4f0ad1321f17"
      },
      "cell_type": "code",
      "source": [
        "ser = pd.Series(np.arange(4.), index=['red','blue','yellow','white'])\n",
        "ser"
      ],
      "execution_count": 72,
      "outputs": [
        {
          "output_type": "execute_result",
          "data": {
            "text/plain": [
              "red       0.0\n",
              "blue      1.0\n",
              "yellow    2.0\n",
              "white     3.0\n",
              "dtype: float64"
            ]
          },
          "metadata": {
            "tags": []
          },
          "execution_count": 72
        }
      ]
    },
    {
      "metadata": {
        "id": "LKODIQfRpTG-",
        "colab_type": "code",
        "colab": {
          "base_uri": "https://localhost:8080/",
          "height": 84
        },
        "outputId": "c7e416e9-eb39-4901-b2c5-5356a852cfb8"
      },
      "cell_type": "code",
      "source": [
        "ser.drop('yellow')"
      ],
      "execution_count": 73,
      "outputs": [
        {
          "output_type": "execute_result",
          "data": {
            "text/plain": [
              "red      0.0\n",
              "blue     1.0\n",
              "white    3.0\n",
              "dtype: float64"
            ]
          },
          "metadata": {
            "tags": []
          },
          "execution_count": 73
        }
      ]
    },
    {
      "metadata": {
        "id": "9uvFF3OLpYh2",
        "colab_type": "code",
        "colab": {
          "base_uri": "https://localhost:8080/",
          "height": 67
        },
        "outputId": "c9127ed3-0a2e-4c44-ac2f-f8fd02171e89"
      },
      "cell_type": "code",
      "source": [
        "ser.drop(['blue','white'])"
      ],
      "execution_count": 74,
      "outputs": [
        {
          "output_type": "execute_result",
          "data": {
            "text/plain": [
              "red       0.0\n",
              "yellow    2.0\n",
              "dtype: float64"
            ]
          },
          "metadata": {
            "tags": []
          },
          "execution_count": 74
        }
      ]
    },
    {
      "metadata": {
        "id": "8QY88_zopyEh",
        "colab_type": "text"
      },
      "cell_type": "markdown",
      "source": [
        "Extend the idea to DataFrame"
      ]
    },
    {
      "metadata": {
        "id": "9-QxwLdjp0CM",
        "colab_type": "code",
        "colab": {
          "base_uri": "https://localhost:8080/",
          "height": 166
        },
        "outputId": "e7a3f27f-972b-4fea-966f-54a8abbeeeba"
      },
      "cell_type": "code",
      "source": [
        "frame = pd.DataFrame(np.arange(16).reshape((4,4)), \n",
        "                     index=['red','blue','yellow','white'], \n",
        "                     columns=['ball','pen','pencil','paper'])\n",
        "frame"
      ],
      "execution_count": 75,
      "outputs": [
        {
          "output_type": "execute_result",
          "data": {
            "text/html": [
              "<div>\n",
              "<style scoped>\n",
              "    .dataframe tbody tr th:only-of-type {\n",
              "        vertical-align: middle;\n",
              "    }\n",
              "\n",
              "    .dataframe tbody tr th {\n",
              "        vertical-align: top;\n",
              "    }\n",
              "\n",
              "    .dataframe thead th {\n",
              "        text-align: right;\n",
              "    }\n",
              "</style>\n",
              "<table border=\"1\" class=\"dataframe\">\n",
              "  <thead>\n",
              "    <tr style=\"text-align: right;\">\n",
              "      <th></th>\n",
              "      <th>ball</th>\n",
              "      <th>pen</th>\n",
              "      <th>pencil</th>\n",
              "      <th>paper</th>\n",
              "    </tr>\n",
              "  </thead>\n",
              "  <tbody>\n",
              "    <tr>\n",
              "      <th>red</th>\n",
              "      <td>0</td>\n",
              "      <td>1</td>\n",
              "      <td>2</td>\n",
              "      <td>3</td>\n",
              "    </tr>\n",
              "    <tr>\n",
              "      <th>blue</th>\n",
              "      <td>4</td>\n",
              "      <td>5</td>\n",
              "      <td>6</td>\n",
              "      <td>7</td>\n",
              "    </tr>\n",
              "    <tr>\n",
              "      <th>yellow</th>\n",
              "      <td>8</td>\n",
              "      <td>9</td>\n",
              "      <td>10</td>\n",
              "      <td>11</td>\n",
              "    </tr>\n",
              "    <tr>\n",
              "      <th>white</th>\n",
              "      <td>12</td>\n",
              "      <td>13</td>\n",
              "      <td>14</td>\n",
              "      <td>15</td>\n",
              "    </tr>\n",
              "  </tbody>\n",
              "</table>\n",
              "</div>"
            ],
            "text/plain": [
              "        ball  pen  pencil  paper\n",
              "red        0    1       2      3\n",
              "blue       4    5       6      7\n",
              "yellow     8    9      10     11\n",
              "white     12   13      14     15"
            ]
          },
          "metadata": {
            "tags": []
          },
          "execution_count": 75
        }
      ]
    },
    {
      "metadata": {
        "id": "HQOQVduNp-PW",
        "colab_type": "text"
      },
      "cell_type": "markdown",
      "source": [
        "To delete rows,"
      ]
    },
    {
      "metadata": {
        "id": "k2HFHtPcp8FE",
        "colab_type": "code",
        "colab": {
          "base_uri": "https://localhost:8080/",
          "height": 106
        },
        "outputId": "6bb77ed2-7576-4bd3-926c-7076a58dc25e"
      },
      "cell_type": "code",
      "source": [
        "frame.drop(['blue','yellow'])"
      ],
      "execution_count": 76,
      "outputs": [
        {
          "output_type": "execute_result",
          "data": {
            "text/html": [
              "<div>\n",
              "<style scoped>\n",
              "    .dataframe tbody tr th:only-of-type {\n",
              "        vertical-align: middle;\n",
              "    }\n",
              "\n",
              "    .dataframe tbody tr th {\n",
              "        vertical-align: top;\n",
              "    }\n",
              "\n",
              "    .dataframe thead th {\n",
              "        text-align: right;\n",
              "    }\n",
              "</style>\n",
              "<table border=\"1\" class=\"dataframe\">\n",
              "  <thead>\n",
              "    <tr style=\"text-align: right;\">\n",
              "      <th></th>\n",
              "      <th>ball</th>\n",
              "      <th>pen</th>\n",
              "      <th>pencil</th>\n",
              "      <th>paper</th>\n",
              "    </tr>\n",
              "  </thead>\n",
              "  <tbody>\n",
              "    <tr>\n",
              "      <th>red</th>\n",
              "      <td>0</td>\n",
              "      <td>1</td>\n",
              "      <td>2</td>\n",
              "      <td>3</td>\n",
              "    </tr>\n",
              "    <tr>\n",
              "      <th>white</th>\n",
              "      <td>12</td>\n",
              "      <td>13</td>\n",
              "      <td>14</td>\n",
              "      <td>15</td>\n",
              "    </tr>\n",
              "  </tbody>\n",
              "</table>\n",
              "</div>"
            ],
            "text/plain": [
              "       ball  pen  pencil  paper\n",
              "red       0    1       2      3\n",
              "white    12   13      14     15"
            ]
          },
          "metadata": {
            "tags": []
          },
          "execution_count": 76
        }
      ]
    },
    {
      "metadata": {
        "id": "0YV73oOLqDaI",
        "colab_type": "text"
      },
      "cell_type": "markdown",
      "source": [
        "To delete columns, you need to set the **axis**=1"
      ]
    },
    {
      "metadata": {
        "id": "cQhc3O0oqFOS",
        "colab_type": "code",
        "colab": {
          "base_uri": "https://localhost:8080/",
          "height": 166
        },
        "outputId": "e7697bcb-8d7c-4996-9cda-7a208ae61680"
      },
      "cell_type": "code",
      "source": [
        "frame.drop(['pen','pencil'], axis = 1)"
      ],
      "execution_count": 77,
      "outputs": [
        {
          "output_type": "execute_result",
          "data": {
            "text/html": [
              "<div>\n",
              "<style scoped>\n",
              "    .dataframe tbody tr th:only-of-type {\n",
              "        vertical-align: middle;\n",
              "    }\n",
              "\n",
              "    .dataframe tbody tr th {\n",
              "        vertical-align: top;\n",
              "    }\n",
              "\n",
              "    .dataframe thead th {\n",
              "        text-align: right;\n",
              "    }\n",
              "</style>\n",
              "<table border=\"1\" class=\"dataframe\">\n",
              "  <thead>\n",
              "    <tr style=\"text-align: right;\">\n",
              "      <th></th>\n",
              "      <th>ball</th>\n",
              "      <th>paper</th>\n",
              "    </tr>\n",
              "  </thead>\n",
              "  <tbody>\n",
              "    <tr>\n",
              "      <th>red</th>\n",
              "      <td>0</td>\n",
              "      <td>3</td>\n",
              "    </tr>\n",
              "    <tr>\n",
              "      <th>blue</th>\n",
              "      <td>4</td>\n",
              "      <td>7</td>\n",
              "    </tr>\n",
              "    <tr>\n",
              "      <th>yellow</th>\n",
              "      <td>8</td>\n",
              "      <td>11</td>\n",
              "    </tr>\n",
              "    <tr>\n",
              "      <th>white</th>\n",
              "      <td>12</td>\n",
              "      <td>15</td>\n",
              "    </tr>\n",
              "  </tbody>\n",
              "</table>\n",
              "</div>"
            ],
            "text/plain": [
              "        ball  paper\n",
              "red        0      3\n",
              "blue       4      7\n",
              "yellow     8     11\n",
              "white     12     15"
            ]
          },
          "metadata": {
            "tags": []
          },
          "execution_count": 77
        }
      ]
    },
    {
      "metadata": {
        "id": "5tbCF-WhqUvW",
        "colab_type": "text"
      },
      "cell_type": "markdown",
      "source": [
        "####Alignment####"
      ]
    },
    {
      "metadata": {
        "id": "-iUDq2yMqcku",
        "colab_type": "code",
        "colab": {
          "base_uri": "https://localhost:8080/",
          "height": 134
        },
        "outputId": "49b133e1-ab05-471e-a9ec-befa3c5c9946"
      },
      "cell_type": "code",
      "source": [
        "s1 = pd.Series([3,2,5,1], ['white','yellow','greeen','blue'])\n",
        "s2 = pd.Series([1,4,7,2,1], ['white', 'yellow','black','blue','brown'])\n",
        "s1 + s2"
      ],
      "execution_count": 78,
      "outputs": [
        {
          "output_type": "execute_result",
          "data": {
            "text/plain": [
              "black     NaN\n",
              "blue      3.0\n",
              "brown     NaN\n",
              "greeen    NaN\n",
              "white     4.0\n",
              "yellow    6.0\n",
              "dtype: float64"
            ]
          },
          "metadata": {
            "tags": []
          },
          "execution_count": 78
        }
      ]
    },
    {
      "metadata": {
        "id": "tDG2PaACq0_a",
        "colab_type": "text"
      },
      "cell_type": "markdown",
      "source": [
        "The members which are shown up in both series will be added, others will has the value **NaN**"
      ]
    },
    {
      "metadata": {
        "id": "g-esBFxmrCdc",
        "colab_type": "code",
        "colab": {
          "base_uri": "https://localhost:8080/",
          "height": 166
        },
        "outputId": "fea25c87-45fc-4cd6-820a-6d569d771adb"
      },
      "cell_type": "code",
      "source": [
        "frame1 = pd.DataFrame(np.arange(16).reshape((4,4)), \n",
        "                      index=['red','blue','yellow','white'],\n",
        "                      columns=['ball','pen','pencil','paper'])\n",
        "frame1"
      ],
      "execution_count": 79,
      "outputs": [
        {
          "output_type": "execute_result",
          "data": {
            "text/html": [
              "<div>\n",
              "<style scoped>\n",
              "    .dataframe tbody tr th:only-of-type {\n",
              "        vertical-align: middle;\n",
              "    }\n",
              "\n",
              "    .dataframe tbody tr th {\n",
              "        vertical-align: top;\n",
              "    }\n",
              "\n",
              "    .dataframe thead th {\n",
              "        text-align: right;\n",
              "    }\n",
              "</style>\n",
              "<table border=\"1\" class=\"dataframe\">\n",
              "  <thead>\n",
              "    <tr style=\"text-align: right;\">\n",
              "      <th></th>\n",
              "      <th>ball</th>\n",
              "      <th>pen</th>\n",
              "      <th>pencil</th>\n",
              "      <th>paper</th>\n",
              "    </tr>\n",
              "  </thead>\n",
              "  <tbody>\n",
              "    <tr>\n",
              "      <th>red</th>\n",
              "      <td>0</td>\n",
              "      <td>1</td>\n",
              "      <td>2</td>\n",
              "      <td>3</td>\n",
              "    </tr>\n",
              "    <tr>\n",
              "      <th>blue</th>\n",
              "      <td>4</td>\n",
              "      <td>5</td>\n",
              "      <td>6</td>\n",
              "      <td>7</td>\n",
              "    </tr>\n",
              "    <tr>\n",
              "      <th>yellow</th>\n",
              "      <td>8</td>\n",
              "      <td>9</td>\n",
              "      <td>10</td>\n",
              "      <td>11</td>\n",
              "    </tr>\n",
              "    <tr>\n",
              "      <th>white</th>\n",
              "      <td>12</td>\n",
              "      <td>13</td>\n",
              "      <td>14</td>\n",
              "      <td>15</td>\n",
              "    </tr>\n",
              "  </tbody>\n",
              "</table>\n",
              "</div>"
            ],
            "text/plain": [
              "        ball  pen  pencil  paper\n",
              "red        0    1       2      3\n",
              "blue       4    5       6      7\n",
              "yellow     8    9      10     11\n",
              "white     12   13      14     15"
            ]
          },
          "metadata": {
            "tags": []
          },
          "execution_count": 79
        }
      ]
    },
    {
      "metadata": {
        "id": "ewevoDUCrNXJ",
        "colab_type": "code",
        "colab": {
          "base_uri": "https://localhost:8080/",
          "height": 166
        },
        "outputId": "ba302e84-22e8-4c7d-8351-fbec12591902"
      },
      "cell_type": "code",
      "source": [
        "frame2 = pd.DataFrame(np.arange(12).reshape((4,3)),\n",
        "                      index=['blue','green','white','yellow'],\n",
        "                      columns=['mug','pen','ball'])\n",
        "frame2"
      ],
      "execution_count": 80,
      "outputs": [
        {
          "output_type": "execute_result",
          "data": {
            "text/html": [
              "<div>\n",
              "<style scoped>\n",
              "    .dataframe tbody tr th:only-of-type {\n",
              "        vertical-align: middle;\n",
              "    }\n",
              "\n",
              "    .dataframe tbody tr th {\n",
              "        vertical-align: top;\n",
              "    }\n",
              "\n",
              "    .dataframe thead th {\n",
              "        text-align: right;\n",
              "    }\n",
              "</style>\n",
              "<table border=\"1\" class=\"dataframe\">\n",
              "  <thead>\n",
              "    <tr style=\"text-align: right;\">\n",
              "      <th></th>\n",
              "      <th>mug</th>\n",
              "      <th>pen</th>\n",
              "      <th>ball</th>\n",
              "    </tr>\n",
              "  </thead>\n",
              "  <tbody>\n",
              "    <tr>\n",
              "      <th>blue</th>\n",
              "      <td>0</td>\n",
              "      <td>1</td>\n",
              "      <td>2</td>\n",
              "    </tr>\n",
              "    <tr>\n",
              "      <th>green</th>\n",
              "      <td>3</td>\n",
              "      <td>4</td>\n",
              "      <td>5</td>\n",
              "    </tr>\n",
              "    <tr>\n",
              "      <th>white</th>\n",
              "      <td>6</td>\n",
              "      <td>7</td>\n",
              "      <td>8</td>\n",
              "    </tr>\n",
              "    <tr>\n",
              "      <th>yellow</th>\n",
              "      <td>9</td>\n",
              "      <td>10</td>\n",
              "      <td>11</td>\n",
              "    </tr>\n",
              "  </tbody>\n",
              "</table>\n",
              "</div>"
            ],
            "text/plain": [
              "        mug  pen  ball\n",
              "blue      0    1     2\n",
              "green     3    4     5\n",
              "white     6    7     8\n",
              "yellow    9   10    11"
            ]
          },
          "metadata": {
            "tags": []
          },
          "execution_count": 80
        }
      ]
    },
    {
      "metadata": {
        "id": "mCbmEk_KrT9l",
        "colab_type": "code",
        "colab": {
          "base_uri": "https://localhost:8080/",
          "height": 195
        },
        "outputId": "11c7b478-544b-4a1c-cb4b-5bf844d5e7af"
      },
      "cell_type": "code",
      "source": [
        "frame1 + frame2"
      ],
      "execution_count": 81,
      "outputs": [
        {
          "output_type": "execute_result",
          "data": {
            "text/html": [
              "<div>\n",
              "<style scoped>\n",
              "    .dataframe tbody tr th:only-of-type {\n",
              "        vertical-align: middle;\n",
              "    }\n",
              "\n",
              "    .dataframe tbody tr th {\n",
              "        vertical-align: top;\n",
              "    }\n",
              "\n",
              "    .dataframe thead th {\n",
              "        text-align: right;\n",
              "    }\n",
              "</style>\n",
              "<table border=\"1\" class=\"dataframe\">\n",
              "  <thead>\n",
              "    <tr style=\"text-align: right;\">\n",
              "      <th></th>\n",
              "      <th>ball</th>\n",
              "      <th>mug</th>\n",
              "      <th>paper</th>\n",
              "      <th>pen</th>\n",
              "      <th>pencil</th>\n",
              "    </tr>\n",
              "  </thead>\n",
              "  <tbody>\n",
              "    <tr>\n",
              "      <th>blue</th>\n",
              "      <td>6.0</td>\n",
              "      <td>NaN</td>\n",
              "      <td>NaN</td>\n",
              "      <td>6.0</td>\n",
              "      <td>NaN</td>\n",
              "    </tr>\n",
              "    <tr>\n",
              "      <th>green</th>\n",
              "      <td>NaN</td>\n",
              "      <td>NaN</td>\n",
              "      <td>NaN</td>\n",
              "      <td>NaN</td>\n",
              "      <td>NaN</td>\n",
              "    </tr>\n",
              "    <tr>\n",
              "      <th>red</th>\n",
              "      <td>NaN</td>\n",
              "      <td>NaN</td>\n",
              "      <td>NaN</td>\n",
              "      <td>NaN</td>\n",
              "      <td>NaN</td>\n",
              "    </tr>\n",
              "    <tr>\n",
              "      <th>white</th>\n",
              "      <td>20.0</td>\n",
              "      <td>NaN</td>\n",
              "      <td>NaN</td>\n",
              "      <td>20.0</td>\n",
              "      <td>NaN</td>\n",
              "    </tr>\n",
              "    <tr>\n",
              "      <th>yellow</th>\n",
              "      <td>19.0</td>\n",
              "      <td>NaN</td>\n",
              "      <td>NaN</td>\n",
              "      <td>19.0</td>\n",
              "      <td>NaN</td>\n",
              "    </tr>\n",
              "  </tbody>\n",
              "</table>\n",
              "</div>"
            ],
            "text/plain": [
              "        ball  mug  paper   pen  pencil\n",
              "blue     6.0  NaN    NaN   6.0     NaN\n",
              "green    NaN  NaN    NaN   NaN     NaN\n",
              "red      NaN  NaN    NaN   NaN     NaN\n",
              "white   20.0  NaN    NaN  20.0     NaN\n",
              "yellow  19.0  NaN    NaN  19.0     NaN"
            ]
          },
          "metadata": {
            "tags": []
          },
          "execution_count": 81
        }
      ]
    },
    {
      "metadata": {
        "id": "PYf7F2wxrmW3",
        "colab_type": "text"
      },
      "cell_type": "markdown",
      "source": [
        "###Operations between Data Structures###"
      ]
    },
    {
      "metadata": {
        "id": "IofQdCgary87",
        "colab_type": "text"
      },
      "cell_type": "markdown",
      "source": [
        "####Flexible Arithmetic Methods####\n",
        "\n",
        "    add()\n",
        "    sub()\n",
        "    div()\n",
        "    mul()"
      ]
    },
    {
      "metadata": {
        "id": "T1QQ1W_Cr9sp",
        "colab_type": "code",
        "colab": {
          "base_uri": "https://localhost:8080/",
          "height": 195
        },
        "outputId": "db605630-5f67-4b0e-cd56-9faee876786a"
      },
      "cell_type": "code",
      "source": [
        "frame1.add(frame2)"
      ],
      "execution_count": 82,
      "outputs": [
        {
          "output_type": "execute_result",
          "data": {
            "text/html": [
              "<div>\n",
              "<style scoped>\n",
              "    .dataframe tbody tr th:only-of-type {\n",
              "        vertical-align: middle;\n",
              "    }\n",
              "\n",
              "    .dataframe tbody tr th {\n",
              "        vertical-align: top;\n",
              "    }\n",
              "\n",
              "    .dataframe thead th {\n",
              "        text-align: right;\n",
              "    }\n",
              "</style>\n",
              "<table border=\"1\" class=\"dataframe\">\n",
              "  <thead>\n",
              "    <tr style=\"text-align: right;\">\n",
              "      <th></th>\n",
              "      <th>ball</th>\n",
              "      <th>mug</th>\n",
              "      <th>paper</th>\n",
              "      <th>pen</th>\n",
              "      <th>pencil</th>\n",
              "    </tr>\n",
              "  </thead>\n",
              "  <tbody>\n",
              "    <tr>\n",
              "      <th>blue</th>\n",
              "      <td>6.0</td>\n",
              "      <td>NaN</td>\n",
              "      <td>NaN</td>\n",
              "      <td>6.0</td>\n",
              "      <td>NaN</td>\n",
              "    </tr>\n",
              "    <tr>\n",
              "      <th>green</th>\n",
              "      <td>NaN</td>\n",
              "      <td>NaN</td>\n",
              "      <td>NaN</td>\n",
              "      <td>NaN</td>\n",
              "      <td>NaN</td>\n",
              "    </tr>\n",
              "    <tr>\n",
              "      <th>red</th>\n",
              "      <td>NaN</td>\n",
              "      <td>NaN</td>\n",
              "      <td>NaN</td>\n",
              "      <td>NaN</td>\n",
              "      <td>NaN</td>\n",
              "    </tr>\n",
              "    <tr>\n",
              "      <th>white</th>\n",
              "      <td>20.0</td>\n",
              "      <td>NaN</td>\n",
              "      <td>NaN</td>\n",
              "      <td>20.0</td>\n",
              "      <td>NaN</td>\n",
              "    </tr>\n",
              "    <tr>\n",
              "      <th>yellow</th>\n",
              "      <td>19.0</td>\n",
              "      <td>NaN</td>\n",
              "      <td>NaN</td>\n",
              "      <td>19.0</td>\n",
              "      <td>NaN</td>\n",
              "    </tr>\n",
              "  </tbody>\n",
              "</table>\n",
              "</div>"
            ],
            "text/plain": [
              "        ball  mug  paper   pen  pencil\n",
              "blue     6.0  NaN    NaN   6.0     NaN\n",
              "green    NaN  NaN    NaN   NaN     NaN\n",
              "red      NaN  NaN    NaN   NaN     NaN\n",
              "white   20.0  NaN    NaN  20.0     NaN\n",
              "yellow  19.0  NaN    NaN  19.0     NaN"
            ]
          },
          "metadata": {
            "tags": []
          },
          "execution_count": 82
        }
      ]
    },
    {
      "metadata": {
        "id": "H2Bu8TtcsDmT",
        "colab_type": "text"
      },
      "cell_type": "markdown",
      "source": [
        "####Operations between DataFrame and Series####"
      ]
    },
    {
      "metadata": {
        "id": "z2DOGouCsL8e",
        "colab_type": "code",
        "colab": {
          "base_uri": "https://localhost:8080/",
          "height": 166
        },
        "outputId": "405962b4-4b8b-43f9-ae99-0015092062a0"
      },
      "cell_type": "code",
      "source": [
        "frame = pd.DataFrame(np.arange(16).reshape((4,4)),\n",
        "                     index=['red','blue','yellow','white'],\n",
        "                     columns=['ball','pen','pencil','paper'])\n",
        "frame"
      ],
      "execution_count": 83,
      "outputs": [
        {
          "output_type": "execute_result",
          "data": {
            "text/html": [
              "<div>\n",
              "<style scoped>\n",
              "    .dataframe tbody tr th:only-of-type {\n",
              "        vertical-align: middle;\n",
              "    }\n",
              "\n",
              "    .dataframe tbody tr th {\n",
              "        vertical-align: top;\n",
              "    }\n",
              "\n",
              "    .dataframe thead th {\n",
              "        text-align: right;\n",
              "    }\n",
              "</style>\n",
              "<table border=\"1\" class=\"dataframe\">\n",
              "  <thead>\n",
              "    <tr style=\"text-align: right;\">\n",
              "      <th></th>\n",
              "      <th>ball</th>\n",
              "      <th>pen</th>\n",
              "      <th>pencil</th>\n",
              "      <th>paper</th>\n",
              "    </tr>\n",
              "  </thead>\n",
              "  <tbody>\n",
              "    <tr>\n",
              "      <th>red</th>\n",
              "      <td>0</td>\n",
              "      <td>1</td>\n",
              "      <td>2</td>\n",
              "      <td>3</td>\n",
              "    </tr>\n",
              "    <tr>\n",
              "      <th>blue</th>\n",
              "      <td>4</td>\n",
              "      <td>5</td>\n",
              "      <td>6</td>\n",
              "      <td>7</td>\n",
              "    </tr>\n",
              "    <tr>\n",
              "      <th>yellow</th>\n",
              "      <td>8</td>\n",
              "      <td>9</td>\n",
              "      <td>10</td>\n",
              "      <td>11</td>\n",
              "    </tr>\n",
              "    <tr>\n",
              "      <th>white</th>\n",
              "      <td>12</td>\n",
              "      <td>13</td>\n",
              "      <td>14</td>\n",
              "      <td>15</td>\n",
              "    </tr>\n",
              "  </tbody>\n",
              "</table>\n",
              "</div>"
            ],
            "text/plain": [
              "        ball  pen  pencil  paper\n",
              "red        0    1       2      3\n",
              "blue       4    5       6      7\n",
              "yellow     8    9      10     11\n",
              "white     12   13      14     15"
            ]
          },
          "metadata": {
            "tags": []
          },
          "execution_count": 83
        }
      ]
    },
    {
      "metadata": {
        "id": "eTk3PiiQsO_y",
        "colab_type": "code",
        "colab": {
          "base_uri": "https://localhost:8080/",
          "height": 101
        },
        "outputId": "c59597dc-e700-423c-d2cb-9529a4e25586"
      },
      "cell_type": "code",
      "source": [
        "ser = pd.Series(np.arange(4), index=['ball','pen','pencil','paper'])\n",
        "ser"
      ],
      "execution_count": 84,
      "outputs": [
        {
          "output_type": "execute_result",
          "data": {
            "text/plain": [
              "ball      0\n",
              "pen       1\n",
              "pencil    2\n",
              "paper     3\n",
              "dtype: int64"
            ]
          },
          "metadata": {
            "tags": []
          },
          "execution_count": 84
        }
      ]
    },
    {
      "metadata": {
        "id": "vm8roiuZsYMw",
        "colab_type": "code",
        "colab": {
          "base_uri": "https://localhost:8080/",
          "height": 166
        },
        "outputId": "fbb105b8-d34f-41ca-bad7-401816b50fb1"
      },
      "cell_type": "code",
      "source": [
        "frame - ser"
      ],
      "execution_count": 85,
      "outputs": [
        {
          "output_type": "execute_result",
          "data": {
            "text/html": [
              "<div>\n",
              "<style scoped>\n",
              "    .dataframe tbody tr th:only-of-type {\n",
              "        vertical-align: middle;\n",
              "    }\n",
              "\n",
              "    .dataframe tbody tr th {\n",
              "        vertical-align: top;\n",
              "    }\n",
              "\n",
              "    .dataframe thead th {\n",
              "        text-align: right;\n",
              "    }\n",
              "</style>\n",
              "<table border=\"1\" class=\"dataframe\">\n",
              "  <thead>\n",
              "    <tr style=\"text-align: right;\">\n",
              "      <th></th>\n",
              "      <th>ball</th>\n",
              "      <th>pen</th>\n",
              "      <th>pencil</th>\n",
              "      <th>paper</th>\n",
              "    </tr>\n",
              "  </thead>\n",
              "  <tbody>\n",
              "    <tr>\n",
              "      <th>red</th>\n",
              "      <td>0</td>\n",
              "      <td>0</td>\n",
              "      <td>0</td>\n",
              "      <td>0</td>\n",
              "    </tr>\n",
              "    <tr>\n",
              "      <th>blue</th>\n",
              "      <td>4</td>\n",
              "      <td>4</td>\n",
              "      <td>4</td>\n",
              "      <td>4</td>\n",
              "    </tr>\n",
              "    <tr>\n",
              "      <th>yellow</th>\n",
              "      <td>8</td>\n",
              "      <td>8</td>\n",
              "      <td>8</td>\n",
              "      <td>8</td>\n",
              "    </tr>\n",
              "    <tr>\n",
              "      <th>white</th>\n",
              "      <td>12</td>\n",
              "      <td>12</td>\n",
              "      <td>12</td>\n",
              "      <td>12</td>\n",
              "    </tr>\n",
              "  </tbody>\n",
              "</table>\n",
              "</div>"
            ],
            "text/plain": [
              "        ball  pen  pencil  paper\n",
              "red        0    0       0      0\n",
              "blue       4    4       4      4\n",
              "yellow     8    8       8      8\n",
              "white     12   12      12     12"
            ]
          },
          "metadata": {
            "tags": []
          },
          "execution_count": 85
        }
      ]
    },
    {
      "metadata": {
        "id": "u_QIi0pTsrJR",
        "colab_type": "text"
      },
      "cell_type": "markdown",
      "source": [
        "As you can see, the result will be subtracted for all values of the column, regardless of their index\n",
        "\n",
        "If an index is not present in either one data structure, **NaN** will show up for that index"
      ]
    },
    {
      "metadata": {
        "id": "F9LIsATbsZmG",
        "colab_type": "code",
        "colab": {
          "base_uri": "https://localhost:8080/",
          "height": 118
        },
        "outputId": "085467cc-7001-46f7-80fa-9f8b7c9e1afb"
      },
      "cell_type": "code",
      "source": [
        "ser['mug'] = 9\n",
        "ser"
      ],
      "execution_count": 87,
      "outputs": [
        {
          "output_type": "execute_result",
          "data": {
            "text/plain": [
              "ball      0\n",
              "pen       1\n",
              "pencil    2\n",
              "paper     3\n",
              "mug       9\n",
              "dtype: int64"
            ]
          },
          "metadata": {
            "tags": []
          },
          "execution_count": 87
        }
      ]
    },
    {
      "metadata": {
        "id": "oKkpr3iMsfNH",
        "colab_type": "code",
        "colab": {
          "base_uri": "https://localhost:8080/",
          "height": 166
        },
        "outputId": "d161cdaf-a697-43d1-872f-8e7defa3c0ae"
      },
      "cell_type": "code",
      "source": [
        "frame - ser"
      ],
      "execution_count": 88,
      "outputs": [
        {
          "output_type": "execute_result",
          "data": {
            "text/html": [
              "<div>\n",
              "<style scoped>\n",
              "    .dataframe tbody tr th:only-of-type {\n",
              "        vertical-align: middle;\n",
              "    }\n",
              "\n",
              "    .dataframe tbody tr th {\n",
              "        vertical-align: top;\n",
              "    }\n",
              "\n",
              "    .dataframe thead th {\n",
              "        text-align: right;\n",
              "    }\n",
              "</style>\n",
              "<table border=\"1\" class=\"dataframe\">\n",
              "  <thead>\n",
              "    <tr style=\"text-align: right;\">\n",
              "      <th></th>\n",
              "      <th>ball</th>\n",
              "      <th>mug</th>\n",
              "      <th>paper</th>\n",
              "      <th>pen</th>\n",
              "      <th>pencil</th>\n",
              "    </tr>\n",
              "  </thead>\n",
              "  <tbody>\n",
              "    <tr>\n",
              "      <th>red</th>\n",
              "      <td>0</td>\n",
              "      <td>NaN</td>\n",
              "      <td>0</td>\n",
              "      <td>0</td>\n",
              "      <td>0</td>\n",
              "    </tr>\n",
              "    <tr>\n",
              "      <th>blue</th>\n",
              "      <td>4</td>\n",
              "      <td>NaN</td>\n",
              "      <td>4</td>\n",
              "      <td>4</td>\n",
              "      <td>4</td>\n",
              "    </tr>\n",
              "    <tr>\n",
              "      <th>yellow</th>\n",
              "      <td>8</td>\n",
              "      <td>NaN</td>\n",
              "      <td>8</td>\n",
              "      <td>8</td>\n",
              "      <td>8</td>\n",
              "    </tr>\n",
              "    <tr>\n",
              "      <th>white</th>\n",
              "      <td>12</td>\n",
              "      <td>NaN</td>\n",
              "      <td>12</td>\n",
              "      <td>12</td>\n",
              "      <td>12</td>\n",
              "    </tr>\n",
              "  </tbody>\n",
              "</table>\n",
              "</div>"
            ],
            "text/plain": [
              "        ball  mug  paper  pen  pencil\n",
              "red        0  NaN      0    0       0\n",
              "blue       4  NaN      4    4       4\n",
              "yellow     8  NaN      8    8       8\n",
              "white     12  NaN     12   12      12"
            ]
          },
          "metadata": {
            "tags": []
          },
          "execution_count": 88
        }
      ]
    },
    {
      "metadata": {
        "id": "wGevQERntEVL",
        "colab_type": "text"
      },
      "cell_type": "markdown",
      "source": [
        "###Function Application and Mapping###"
      ]
    },
    {
      "metadata": {
        "id": "4M-R3arOtO0n",
        "colab_type": "text"
      },
      "cell_type": "markdown",
      "source": [
        "####Functions by Element####"
      ]
    },
    {
      "metadata": {
        "id": "HNpSpIi8tcJS",
        "colab_type": "code",
        "colab": {
          "base_uri": "https://localhost:8080/",
          "height": 166
        },
        "outputId": "53239ca4-7dbd-4c72-ca75-3ccbb3d61d71"
      },
      "cell_type": "code",
      "source": [
        "frame = pd.DataFrame(np.arange(16).reshape((4,4)),\n",
        "                     index=['red','blue','yellow','white'],\n",
        "                     columns=['ball','pen','pencil','paper'])\n",
        "frame"
      ],
      "execution_count": 89,
      "outputs": [
        {
          "output_type": "execute_result",
          "data": {
            "text/html": [
              "<div>\n",
              "<style scoped>\n",
              "    .dataframe tbody tr th:only-of-type {\n",
              "        vertical-align: middle;\n",
              "    }\n",
              "\n",
              "    .dataframe tbody tr th {\n",
              "        vertical-align: top;\n",
              "    }\n",
              "\n",
              "    .dataframe thead th {\n",
              "        text-align: right;\n",
              "    }\n",
              "</style>\n",
              "<table border=\"1\" class=\"dataframe\">\n",
              "  <thead>\n",
              "    <tr style=\"text-align: right;\">\n",
              "      <th></th>\n",
              "      <th>ball</th>\n",
              "      <th>pen</th>\n",
              "      <th>pencil</th>\n",
              "      <th>paper</th>\n",
              "    </tr>\n",
              "  </thead>\n",
              "  <tbody>\n",
              "    <tr>\n",
              "      <th>red</th>\n",
              "      <td>0</td>\n",
              "      <td>1</td>\n",
              "      <td>2</td>\n",
              "      <td>3</td>\n",
              "    </tr>\n",
              "    <tr>\n",
              "      <th>blue</th>\n",
              "      <td>4</td>\n",
              "      <td>5</td>\n",
              "      <td>6</td>\n",
              "      <td>7</td>\n",
              "    </tr>\n",
              "    <tr>\n",
              "      <th>yellow</th>\n",
              "      <td>8</td>\n",
              "      <td>9</td>\n",
              "      <td>10</td>\n",
              "      <td>11</td>\n",
              "    </tr>\n",
              "    <tr>\n",
              "      <th>white</th>\n",
              "      <td>12</td>\n",
              "      <td>13</td>\n",
              "      <td>14</td>\n",
              "      <td>15</td>\n",
              "    </tr>\n",
              "  </tbody>\n",
              "</table>\n",
              "</div>"
            ],
            "text/plain": [
              "        ball  pen  pencil  paper\n",
              "red        0    1       2      3\n",
              "blue       4    5       6      7\n",
              "yellow     8    9      10     11\n",
              "white     12   13      14     15"
            ]
          },
          "metadata": {
            "tags": []
          },
          "execution_count": 89
        }
      ]
    },
    {
      "metadata": {
        "id": "HvrHLYZetfPJ",
        "colab_type": "code",
        "colab": {
          "base_uri": "https://localhost:8080/",
          "height": 166
        },
        "outputId": "16f1eeac-0d60-4789-de4f-b61a93e52da8"
      },
      "cell_type": "code",
      "source": [
        "np.sqrt(frame)"
      ],
      "execution_count": 90,
      "outputs": [
        {
          "output_type": "execute_result",
          "data": {
            "text/html": [
              "<div>\n",
              "<style scoped>\n",
              "    .dataframe tbody tr th:only-of-type {\n",
              "        vertical-align: middle;\n",
              "    }\n",
              "\n",
              "    .dataframe tbody tr th {\n",
              "        vertical-align: top;\n",
              "    }\n",
              "\n",
              "    .dataframe thead th {\n",
              "        text-align: right;\n",
              "    }\n",
              "</style>\n",
              "<table border=\"1\" class=\"dataframe\">\n",
              "  <thead>\n",
              "    <tr style=\"text-align: right;\">\n",
              "      <th></th>\n",
              "      <th>ball</th>\n",
              "      <th>pen</th>\n",
              "      <th>pencil</th>\n",
              "      <th>paper</th>\n",
              "    </tr>\n",
              "  </thead>\n",
              "  <tbody>\n",
              "    <tr>\n",
              "      <th>red</th>\n",
              "      <td>0.000000</td>\n",
              "      <td>1.000000</td>\n",
              "      <td>1.414214</td>\n",
              "      <td>1.732051</td>\n",
              "    </tr>\n",
              "    <tr>\n",
              "      <th>blue</th>\n",
              "      <td>2.000000</td>\n",
              "      <td>2.236068</td>\n",
              "      <td>2.449490</td>\n",
              "      <td>2.645751</td>\n",
              "    </tr>\n",
              "    <tr>\n",
              "      <th>yellow</th>\n",
              "      <td>2.828427</td>\n",
              "      <td>3.000000</td>\n",
              "      <td>3.162278</td>\n",
              "      <td>3.316625</td>\n",
              "    </tr>\n",
              "    <tr>\n",
              "      <th>white</th>\n",
              "      <td>3.464102</td>\n",
              "      <td>3.605551</td>\n",
              "      <td>3.741657</td>\n",
              "      <td>3.872983</td>\n",
              "    </tr>\n",
              "  </tbody>\n",
              "</table>\n",
              "</div>"
            ],
            "text/plain": [
              "            ball       pen    pencil     paper\n",
              "red     0.000000  1.000000  1.414214  1.732051\n",
              "blue    2.000000  2.236068  2.449490  2.645751\n",
              "yellow  2.828427  3.000000  3.162278  3.316625\n",
              "white   3.464102  3.605551  3.741657  3.872983"
            ]
          },
          "metadata": {
            "tags": []
          },
          "execution_count": 90
        }
      ]
    },
    {
      "metadata": {
        "id": "dNrKlcJ-tim4",
        "colab_type": "text"
      },
      "cell_type": "markdown",
      "source": [
        "####Functions by Row or Column####\n",
        "\n",
        "You can define a user-defined function and use **apply()** function on the dataframe\n",
        "\n",
        "There are two ways to define such user-defined functions: the **lambda** function or the traditional **def** function"
      ]
    },
    {
      "metadata": {
        "id": "9G29yLHluNAE",
        "colab_type": "code",
        "colab": {}
      },
      "cell_type": "code",
      "source": [
        "f = lambda x: x.max() - x.min()"
      ],
      "execution_count": 0,
      "outputs": []
    },
    {
      "metadata": {
        "id": "6pZjfmuVuQMs",
        "colab_type": "code",
        "colab": {}
      },
      "cell_type": "code",
      "source": [
        "def f(x):\n",
        "  return x.max() - x.min()"
      ],
      "execution_count": 0,
      "outputs": []
    },
    {
      "metadata": {
        "id": "Z89qccU0utbZ",
        "colab_type": "code",
        "colab": {
          "base_uri": "https://localhost:8080/",
          "height": 166
        },
        "outputId": "a084a992-6f5e-456a-bf4a-eb5ffd423e7a"
      },
      "cell_type": "code",
      "source": [
        "frame"
      ],
      "execution_count": 96,
      "outputs": [
        {
          "output_type": "execute_result",
          "data": {
            "text/html": [
              "<div>\n",
              "<style scoped>\n",
              "    .dataframe tbody tr th:only-of-type {\n",
              "        vertical-align: middle;\n",
              "    }\n",
              "\n",
              "    .dataframe tbody tr th {\n",
              "        vertical-align: top;\n",
              "    }\n",
              "\n",
              "    .dataframe thead th {\n",
              "        text-align: right;\n",
              "    }\n",
              "</style>\n",
              "<table border=\"1\" class=\"dataframe\">\n",
              "  <thead>\n",
              "    <tr style=\"text-align: right;\">\n",
              "      <th></th>\n",
              "      <th>ball</th>\n",
              "      <th>pen</th>\n",
              "      <th>pencil</th>\n",
              "      <th>paper</th>\n",
              "    </tr>\n",
              "  </thead>\n",
              "  <tbody>\n",
              "    <tr>\n",
              "      <th>red</th>\n",
              "      <td>0</td>\n",
              "      <td>1</td>\n",
              "      <td>2</td>\n",
              "      <td>3</td>\n",
              "    </tr>\n",
              "    <tr>\n",
              "      <th>blue</th>\n",
              "      <td>4</td>\n",
              "      <td>5</td>\n",
              "      <td>6</td>\n",
              "      <td>7</td>\n",
              "    </tr>\n",
              "    <tr>\n",
              "      <th>yellow</th>\n",
              "      <td>8</td>\n",
              "      <td>9</td>\n",
              "      <td>10</td>\n",
              "      <td>11</td>\n",
              "    </tr>\n",
              "    <tr>\n",
              "      <th>white</th>\n",
              "      <td>12</td>\n",
              "      <td>13</td>\n",
              "      <td>14</td>\n",
              "      <td>15</td>\n",
              "    </tr>\n",
              "  </tbody>\n",
              "</table>\n",
              "</div>"
            ],
            "text/plain": [
              "        ball  pen  pencil  paper\n",
              "red        0    1       2      3\n",
              "blue       4    5       6      7\n",
              "yellow     8    9      10     11\n",
              "white     12   13      14     15"
            ]
          },
          "metadata": {
            "tags": []
          },
          "execution_count": 96
        }
      ]
    },
    {
      "metadata": {
        "id": "2EZiBGlHu3ZG",
        "colab_type": "text"
      },
      "cell_type": "markdown",
      "source": [
        "Use **apply()** for the column"
      ]
    },
    {
      "metadata": {
        "id": "oV67iytfuV8f",
        "colab_type": "code",
        "colab": {
          "base_uri": "https://localhost:8080/",
          "height": 101
        },
        "outputId": "a72e95d5-b622-407b-c65c-5fe99a01b1bd"
      },
      "cell_type": "code",
      "source": [
        "frame.apply(f)"
      ],
      "execution_count": 95,
      "outputs": [
        {
          "output_type": "execute_result",
          "data": {
            "text/plain": [
              "ball      12\n",
              "pen       12\n",
              "pencil    12\n",
              "paper     12\n",
              "dtype: int64"
            ]
          },
          "metadata": {
            "tags": []
          },
          "execution_count": 95
        }
      ]
    },
    {
      "metadata": {
        "id": "gULOQCPsu9U8",
        "colab_type": "text"
      },
      "cell_type": "markdown",
      "source": [
        "Use **apply()** for the row, you need to add the **axis=1**"
      ]
    },
    {
      "metadata": {
        "id": "TW4LqPhlvEKb",
        "colab_type": "code",
        "colab": {
          "base_uri": "https://localhost:8080/",
          "height": 101
        },
        "outputId": "70661431-0486-406c-eb50-d361fb2fac67"
      },
      "cell_type": "code",
      "source": [
        "frame.apply(f, axis=1)"
      ],
      "execution_count": 97,
      "outputs": [
        {
          "output_type": "execute_result",
          "data": {
            "text/plain": [
              "red       3\n",
              "blue      3\n",
              "yellow    3\n",
              "white     3\n",
              "dtype: int64"
            ]
          },
          "metadata": {
            "tags": []
          },
          "execution_count": 97
        }
      ]
    },
    {
      "metadata": {
        "id": "Ffkz5J5EvP4Z",
        "colab_type": "text"
      },
      "cell_type": "markdown",
      "source": [
        "You can also use the user-defined function to return a series:"
      ]
    },
    {
      "metadata": {
        "id": "EQ_uBJisvXTB",
        "colab_type": "code",
        "colab": {
          "base_uri": "https://localhost:8080/",
          "height": 106
        },
        "outputId": "9a85caf1-5fbb-4422-f9df-ceebb28a7b79"
      },
      "cell_type": "code",
      "source": [
        "def f(x):\n",
        "  return pd.Series([x.min(), x.max()], index=['min','max'])\n",
        "\n",
        "frame.apply(f)"
      ],
      "execution_count": 98,
      "outputs": [
        {
          "output_type": "execute_result",
          "data": {
            "text/html": [
              "<div>\n",
              "<style scoped>\n",
              "    .dataframe tbody tr th:only-of-type {\n",
              "        vertical-align: middle;\n",
              "    }\n",
              "\n",
              "    .dataframe tbody tr th {\n",
              "        vertical-align: top;\n",
              "    }\n",
              "\n",
              "    .dataframe thead th {\n",
              "        text-align: right;\n",
              "    }\n",
              "</style>\n",
              "<table border=\"1\" class=\"dataframe\">\n",
              "  <thead>\n",
              "    <tr style=\"text-align: right;\">\n",
              "      <th></th>\n",
              "      <th>ball</th>\n",
              "      <th>pen</th>\n",
              "      <th>pencil</th>\n",
              "      <th>paper</th>\n",
              "    </tr>\n",
              "  </thead>\n",
              "  <tbody>\n",
              "    <tr>\n",
              "      <th>min</th>\n",
              "      <td>0</td>\n",
              "      <td>1</td>\n",
              "      <td>2</td>\n",
              "      <td>3</td>\n",
              "    </tr>\n",
              "    <tr>\n",
              "      <th>max</th>\n",
              "      <td>12</td>\n",
              "      <td>13</td>\n",
              "      <td>14</td>\n",
              "      <td>15</td>\n",
              "    </tr>\n",
              "  </tbody>\n",
              "</table>\n",
              "</div>"
            ],
            "text/plain": [
              "     ball  pen  pencil  paper\n",
              "min     0    1       2      3\n",
              "max    12   13      14     15"
            ]
          },
          "metadata": {
            "tags": []
          },
          "execution_count": 98
        }
      ]
    },
    {
      "metadata": {
        "id": "2Mb1JPV3viaA",
        "colab_type": "text"
      },
      "cell_type": "markdown",
      "source": [
        "####Statistics Functions####"
      ]
    },
    {
      "metadata": {
        "id": "5ZRWea0avnJm",
        "colab_type": "text"
      },
      "cell_type": "markdown",
      "source": [
        "**sum()**"
      ]
    },
    {
      "metadata": {
        "id": "N6eLjJYBvq7L",
        "colab_type": "code",
        "colab": {
          "base_uri": "https://localhost:8080/",
          "height": 101
        },
        "outputId": "29f721f1-db96-4817-886b-73ee30a2d6cc"
      },
      "cell_type": "code",
      "source": [
        "frame.sum(axis=0)"
      ],
      "execution_count": 103,
      "outputs": [
        {
          "output_type": "execute_result",
          "data": {
            "text/plain": [
              "ball      24\n",
              "pen       28\n",
              "pencil    32\n",
              "paper     36\n",
              "dtype: int64"
            ]
          },
          "metadata": {
            "tags": []
          },
          "execution_count": 103
        }
      ]
    },
    {
      "metadata": {
        "id": "zO8FeO3mvsL7",
        "colab_type": "text"
      },
      "cell_type": "markdown",
      "source": [
        "**mean()**"
      ]
    },
    {
      "metadata": {
        "id": "cARgageqvt1R",
        "colab_type": "code",
        "colab": {
          "base_uri": "https://localhost:8080/",
          "height": 101
        },
        "outputId": "2d425ae8-741a-4586-89af-3dba680e9b75"
      },
      "cell_type": "code",
      "source": [
        "frame.mean(axis=1)"
      ],
      "execution_count": 102,
      "outputs": [
        {
          "output_type": "execute_result",
          "data": {
            "text/plain": [
              "red        1.5\n",
              "blue       5.5\n",
              "yellow     9.5\n",
              "white     13.5\n",
              "dtype: float64"
            ]
          },
          "metadata": {
            "tags": []
          },
          "execution_count": 102
        }
      ]
    },
    {
      "metadata": {
        "id": "FW96PFoZvv4n",
        "colab_type": "text"
      },
      "cell_type": "markdown",
      "source": [
        "**describe()** allows you to obtain summary statistics at once."
      ]
    },
    {
      "metadata": {
        "id": "E49GpaZ9v06t",
        "colab_type": "code",
        "colab": {
          "base_uri": "https://localhost:8080/",
          "height": 284
        },
        "outputId": "3ced7f57-3eef-40c5-e542-ace42ef1392c"
      },
      "cell_type": "code",
      "source": [
        "frame.describe()"
      ],
      "execution_count": 107,
      "outputs": [
        {
          "output_type": "execute_result",
          "data": {
            "text/html": [
              "<div>\n",
              "<style scoped>\n",
              "    .dataframe tbody tr th:only-of-type {\n",
              "        vertical-align: middle;\n",
              "    }\n",
              "\n",
              "    .dataframe tbody tr th {\n",
              "        vertical-align: top;\n",
              "    }\n",
              "\n",
              "    .dataframe thead th {\n",
              "        text-align: right;\n",
              "    }\n",
              "</style>\n",
              "<table border=\"1\" class=\"dataframe\">\n",
              "  <thead>\n",
              "    <tr style=\"text-align: right;\">\n",
              "      <th></th>\n",
              "      <th>ball</th>\n",
              "      <th>pen</th>\n",
              "      <th>pencil</th>\n",
              "      <th>paper</th>\n",
              "    </tr>\n",
              "  </thead>\n",
              "  <tbody>\n",
              "    <tr>\n",
              "      <th>count</th>\n",
              "      <td>4.000000</td>\n",
              "      <td>4.000000</td>\n",
              "      <td>4.000000</td>\n",
              "      <td>4.000000</td>\n",
              "    </tr>\n",
              "    <tr>\n",
              "      <th>mean</th>\n",
              "      <td>6.000000</td>\n",
              "      <td>7.000000</td>\n",
              "      <td>8.000000</td>\n",
              "      <td>9.000000</td>\n",
              "    </tr>\n",
              "    <tr>\n",
              "      <th>std</th>\n",
              "      <td>5.163978</td>\n",
              "      <td>5.163978</td>\n",
              "      <td>5.163978</td>\n",
              "      <td>5.163978</td>\n",
              "    </tr>\n",
              "    <tr>\n",
              "      <th>min</th>\n",
              "      <td>0.000000</td>\n",
              "      <td>1.000000</td>\n",
              "      <td>2.000000</td>\n",
              "      <td>3.000000</td>\n",
              "    </tr>\n",
              "    <tr>\n",
              "      <th>25%</th>\n",
              "      <td>3.000000</td>\n",
              "      <td>4.000000</td>\n",
              "      <td>5.000000</td>\n",
              "      <td>6.000000</td>\n",
              "    </tr>\n",
              "    <tr>\n",
              "      <th>50%</th>\n",
              "      <td>6.000000</td>\n",
              "      <td>7.000000</td>\n",
              "      <td>8.000000</td>\n",
              "      <td>9.000000</td>\n",
              "    </tr>\n",
              "    <tr>\n",
              "      <th>75%</th>\n",
              "      <td>9.000000</td>\n",
              "      <td>10.000000</td>\n",
              "      <td>11.000000</td>\n",
              "      <td>12.000000</td>\n",
              "    </tr>\n",
              "    <tr>\n",
              "      <th>max</th>\n",
              "      <td>12.000000</td>\n",
              "      <td>13.000000</td>\n",
              "      <td>14.000000</td>\n",
              "      <td>15.000000</td>\n",
              "    </tr>\n",
              "  </tbody>\n",
              "</table>\n",
              "</div>"
            ],
            "text/plain": [
              "            ball        pen     pencil      paper\n",
              "count   4.000000   4.000000   4.000000   4.000000\n",
              "mean    6.000000   7.000000   8.000000   9.000000\n",
              "std     5.163978   5.163978   5.163978   5.163978\n",
              "min     0.000000   1.000000   2.000000   3.000000\n",
              "25%     3.000000   4.000000   5.000000   6.000000\n",
              "50%     6.000000   7.000000   8.000000   9.000000\n",
              "75%     9.000000  10.000000  11.000000  12.000000\n",
              "max    12.000000  13.000000  14.000000  15.000000"
            ]
          },
          "metadata": {
            "tags": []
          },
          "execution_count": 107
        }
      ]
    },
    {
      "metadata": {
        "id": "U7d_-p6KwHYs",
        "colab_type": "code",
        "colab": {}
      },
      "cell_type": "code",
      "source": [
        ""
      ],
      "execution_count": 0,
      "outputs": []
    },
    {
      "metadata": {
        "id": "tsn3SmEMwHyH",
        "colab_type": "text"
      },
      "cell_type": "markdown",
      "source": [
        "###Sorting and Ranking###\n",
        "\n",
        "**sort_index()** function sort the values according to the indexes"
      ]
    },
    {
      "metadata": {
        "id": "RJDB-dKRwXdp",
        "colab_type": "code",
        "colab": {
          "base_uri": "https://localhost:8080/",
          "height": 118
        },
        "outputId": "29ca0112-3ba0-44a6-ad51-fef5f3bfa73f"
      },
      "cell_type": "code",
      "source": [
        "ser = pd.Series([5,0,3,8,4], index=['red','blue','yellow','white','green'])\n",
        "ser"
      ],
      "execution_count": 108,
      "outputs": [
        {
          "output_type": "execute_result",
          "data": {
            "text/plain": [
              "red       5\n",
              "blue      0\n",
              "yellow    3\n",
              "white     8\n",
              "green     4\n",
              "dtype: int64"
            ]
          },
          "metadata": {
            "tags": []
          },
          "execution_count": 108
        }
      ]
    },
    {
      "metadata": {
        "id": "ev7wo-X9wdPw",
        "colab_type": "code",
        "colab": {
          "base_uri": "https://localhost:8080/",
          "height": 118
        },
        "outputId": "3a8739b6-aa5e-497e-c7ea-a39c76a772c3"
      },
      "cell_type": "code",
      "source": [
        "ser.sort_index()"
      ],
      "execution_count": 109,
      "outputs": [
        {
          "output_type": "execute_result",
          "data": {
            "text/plain": [
              "blue      0\n",
              "green     4\n",
              "red       5\n",
              "white     8\n",
              "yellow    3\n",
              "dtype: int64"
            ]
          },
          "metadata": {
            "tags": []
          },
          "execution_count": 109
        }
      ]
    },
    {
      "metadata": {
        "id": "CQHDe8A_wi9V",
        "colab_type": "code",
        "colab": {
          "base_uri": "https://localhost:8080/",
          "height": 118
        },
        "outputId": "db770a84-dab4-40c2-945a-827bf1277346"
      },
      "cell_type": "code",
      "source": [
        "ser.sort_index(ascending= False)"
      ],
      "execution_count": 111,
      "outputs": [
        {
          "output_type": "execute_result",
          "data": {
            "text/plain": [
              "yellow    3\n",
              "white     8\n",
              "red       5\n",
              "green     4\n",
              "blue      0\n",
              "dtype: int64"
            ]
          },
          "metadata": {
            "tags": []
          },
          "execution_count": 111
        }
      ]
    },
    {
      "metadata": {
        "id": "QQKE7H3TxDIX",
        "colab_type": "text"
      },
      "cell_type": "markdown",
      "source": [
        "For DataFrame, **sort_index()** will order by row, **sort_index(axis=1)** will order by column"
      ]
    },
    {
      "metadata": {
        "id": "je26rfKlwn5y",
        "colab_type": "code",
        "colab": {
          "base_uri": "https://localhost:8080/",
          "height": 166
        },
        "outputId": "2a0cf0c2-0da7-4a6b-8762-93e001b47bac"
      },
      "cell_type": "code",
      "source": [
        "frame = pd.DataFrame(np.arange(16).reshape((4,4)),\n",
        "                     index=['red','blue','yellow','white'],\n",
        "                     columns=['ball','pen','pencil','paper'])\n",
        "frame"
      ],
      "execution_count": 112,
      "outputs": [
        {
          "output_type": "execute_result",
          "data": {
            "text/html": [
              "<div>\n",
              "<style scoped>\n",
              "    .dataframe tbody tr th:only-of-type {\n",
              "        vertical-align: middle;\n",
              "    }\n",
              "\n",
              "    .dataframe tbody tr th {\n",
              "        vertical-align: top;\n",
              "    }\n",
              "\n",
              "    .dataframe thead th {\n",
              "        text-align: right;\n",
              "    }\n",
              "</style>\n",
              "<table border=\"1\" class=\"dataframe\">\n",
              "  <thead>\n",
              "    <tr style=\"text-align: right;\">\n",
              "      <th></th>\n",
              "      <th>ball</th>\n",
              "      <th>pen</th>\n",
              "      <th>pencil</th>\n",
              "      <th>paper</th>\n",
              "    </tr>\n",
              "  </thead>\n",
              "  <tbody>\n",
              "    <tr>\n",
              "      <th>red</th>\n",
              "      <td>0</td>\n",
              "      <td>1</td>\n",
              "      <td>2</td>\n",
              "      <td>3</td>\n",
              "    </tr>\n",
              "    <tr>\n",
              "      <th>blue</th>\n",
              "      <td>4</td>\n",
              "      <td>5</td>\n",
              "      <td>6</td>\n",
              "      <td>7</td>\n",
              "    </tr>\n",
              "    <tr>\n",
              "      <th>yellow</th>\n",
              "      <td>8</td>\n",
              "      <td>9</td>\n",
              "      <td>10</td>\n",
              "      <td>11</td>\n",
              "    </tr>\n",
              "    <tr>\n",
              "      <th>white</th>\n",
              "      <td>12</td>\n",
              "      <td>13</td>\n",
              "      <td>14</td>\n",
              "      <td>15</td>\n",
              "    </tr>\n",
              "  </tbody>\n",
              "</table>\n",
              "</div>"
            ],
            "text/plain": [
              "        ball  pen  pencil  paper\n",
              "red        0    1       2      3\n",
              "blue       4    5       6      7\n",
              "yellow     8    9      10     11\n",
              "white     12   13      14     15"
            ]
          },
          "metadata": {
            "tags": []
          },
          "execution_count": 112
        }
      ]
    },
    {
      "metadata": {
        "id": "4xmuhoAHxXU8",
        "colab_type": "code",
        "colab": {
          "base_uri": "https://localhost:8080/",
          "height": 166
        },
        "outputId": "4571f93a-0a63-47ce-aec3-14e53fe5694f"
      },
      "cell_type": "code",
      "source": [
        "frame.sort_index()"
      ],
      "execution_count": 113,
      "outputs": [
        {
          "output_type": "execute_result",
          "data": {
            "text/html": [
              "<div>\n",
              "<style scoped>\n",
              "    .dataframe tbody tr th:only-of-type {\n",
              "        vertical-align: middle;\n",
              "    }\n",
              "\n",
              "    .dataframe tbody tr th {\n",
              "        vertical-align: top;\n",
              "    }\n",
              "\n",
              "    .dataframe thead th {\n",
              "        text-align: right;\n",
              "    }\n",
              "</style>\n",
              "<table border=\"1\" class=\"dataframe\">\n",
              "  <thead>\n",
              "    <tr style=\"text-align: right;\">\n",
              "      <th></th>\n",
              "      <th>ball</th>\n",
              "      <th>pen</th>\n",
              "      <th>pencil</th>\n",
              "      <th>paper</th>\n",
              "    </tr>\n",
              "  </thead>\n",
              "  <tbody>\n",
              "    <tr>\n",
              "      <th>blue</th>\n",
              "      <td>4</td>\n",
              "      <td>5</td>\n",
              "      <td>6</td>\n",
              "      <td>7</td>\n",
              "    </tr>\n",
              "    <tr>\n",
              "      <th>red</th>\n",
              "      <td>0</td>\n",
              "      <td>1</td>\n",
              "      <td>2</td>\n",
              "      <td>3</td>\n",
              "    </tr>\n",
              "    <tr>\n",
              "      <th>white</th>\n",
              "      <td>12</td>\n",
              "      <td>13</td>\n",
              "      <td>14</td>\n",
              "      <td>15</td>\n",
              "    </tr>\n",
              "    <tr>\n",
              "      <th>yellow</th>\n",
              "      <td>8</td>\n",
              "      <td>9</td>\n",
              "      <td>10</td>\n",
              "      <td>11</td>\n",
              "    </tr>\n",
              "  </tbody>\n",
              "</table>\n",
              "</div>"
            ],
            "text/plain": [
              "        ball  pen  pencil  paper\n",
              "blue       4    5       6      7\n",
              "red        0    1       2      3\n",
              "white     12   13      14     15\n",
              "yellow     8    9      10     11"
            ]
          },
          "metadata": {
            "tags": []
          },
          "execution_count": 113
        }
      ]
    },
    {
      "metadata": {
        "id": "GMGjaN8xxZNd",
        "colab_type": "code",
        "colab": {
          "base_uri": "https://localhost:8080/",
          "height": 166
        },
        "outputId": "cfaf8fdc-1718-41f2-cfca-ccdeb26bf444"
      },
      "cell_type": "code",
      "source": [
        "frame.sort_index(axis=1)"
      ],
      "execution_count": 114,
      "outputs": [
        {
          "output_type": "execute_result",
          "data": {
            "text/html": [
              "<div>\n",
              "<style scoped>\n",
              "    .dataframe tbody tr th:only-of-type {\n",
              "        vertical-align: middle;\n",
              "    }\n",
              "\n",
              "    .dataframe tbody tr th {\n",
              "        vertical-align: top;\n",
              "    }\n",
              "\n",
              "    .dataframe thead th {\n",
              "        text-align: right;\n",
              "    }\n",
              "</style>\n",
              "<table border=\"1\" class=\"dataframe\">\n",
              "  <thead>\n",
              "    <tr style=\"text-align: right;\">\n",
              "      <th></th>\n",
              "      <th>ball</th>\n",
              "      <th>paper</th>\n",
              "      <th>pen</th>\n",
              "      <th>pencil</th>\n",
              "    </tr>\n",
              "  </thead>\n",
              "  <tbody>\n",
              "    <tr>\n",
              "      <th>red</th>\n",
              "      <td>0</td>\n",
              "      <td>3</td>\n",
              "      <td>1</td>\n",
              "      <td>2</td>\n",
              "    </tr>\n",
              "    <tr>\n",
              "      <th>blue</th>\n",
              "      <td>4</td>\n",
              "      <td>7</td>\n",
              "      <td>5</td>\n",
              "      <td>6</td>\n",
              "    </tr>\n",
              "    <tr>\n",
              "      <th>yellow</th>\n",
              "      <td>8</td>\n",
              "      <td>11</td>\n",
              "      <td>9</td>\n",
              "      <td>10</td>\n",
              "    </tr>\n",
              "    <tr>\n",
              "      <th>white</th>\n",
              "      <td>12</td>\n",
              "      <td>15</td>\n",
              "      <td>13</td>\n",
              "      <td>14</td>\n",
              "    </tr>\n",
              "  </tbody>\n",
              "</table>\n",
              "</div>"
            ],
            "text/plain": [
              "        ball  paper  pen  pencil\n",
              "red        0      3    1       2\n",
              "blue       4      7    5       6\n",
              "yellow     8     11    9      10\n",
              "white     12     15   13      14"
            ]
          },
          "metadata": {
            "tags": []
          },
          "execution_count": 114
        }
      ]
    },
    {
      "metadata": {
        "id": "JgYu5bn9xiZq",
        "colab_type": "text"
      },
      "cell_type": "markdown",
      "source": [
        "**sort_values()** will sort the values according to the values themselves"
      ]
    },
    {
      "metadata": {
        "id": "7Mu4eXwexqcA",
        "colab_type": "code",
        "colab": {
          "base_uri": "https://localhost:8080/",
          "height": 118
        },
        "outputId": "b4222055-c407-49a0-9b3b-959a51a63817"
      },
      "cell_type": "code",
      "source": [
        "ser.sort_values()"
      ],
      "execution_count": 115,
      "outputs": [
        {
          "output_type": "execute_result",
          "data": {
            "text/plain": [
              "blue      0\n",
              "yellow    3\n",
              "green     4\n",
              "red       5\n",
              "white     8\n",
              "dtype: int64"
            ]
          },
          "metadata": {
            "tags": []
          },
          "execution_count": 115
        }
      ]
    },
    {
      "metadata": {
        "id": "JjwPqzX2xyTs",
        "colab_type": "text"
      },
      "cell_type": "markdown",
      "source": [
        "To order the values in a dataframe, you also need to provide the name of the column on which to sort"
      ]
    },
    {
      "metadata": {
        "id": "yVxiaAjpx6hU",
        "colab_type": "code",
        "colab": {
          "base_uri": "https://localhost:8080/",
          "height": 166
        },
        "outputId": "d5290c07-e806-4abb-a346-8a8c729bccbd"
      },
      "cell_type": "code",
      "source": [
        "frame.sort_values(by= 'pen') #sorted by the values in pen column"
      ],
      "execution_count": 116,
      "outputs": [
        {
          "output_type": "execute_result",
          "data": {
            "text/html": [
              "<div>\n",
              "<style scoped>\n",
              "    .dataframe tbody tr th:only-of-type {\n",
              "        vertical-align: middle;\n",
              "    }\n",
              "\n",
              "    .dataframe tbody tr th {\n",
              "        vertical-align: top;\n",
              "    }\n",
              "\n",
              "    .dataframe thead th {\n",
              "        text-align: right;\n",
              "    }\n",
              "</style>\n",
              "<table border=\"1\" class=\"dataframe\">\n",
              "  <thead>\n",
              "    <tr style=\"text-align: right;\">\n",
              "      <th></th>\n",
              "      <th>ball</th>\n",
              "      <th>pen</th>\n",
              "      <th>pencil</th>\n",
              "      <th>paper</th>\n",
              "    </tr>\n",
              "  </thead>\n",
              "  <tbody>\n",
              "    <tr>\n",
              "      <th>red</th>\n",
              "      <td>0</td>\n",
              "      <td>1</td>\n",
              "      <td>2</td>\n",
              "      <td>3</td>\n",
              "    </tr>\n",
              "    <tr>\n",
              "      <th>blue</th>\n",
              "      <td>4</td>\n",
              "      <td>5</td>\n",
              "      <td>6</td>\n",
              "      <td>7</td>\n",
              "    </tr>\n",
              "    <tr>\n",
              "      <th>yellow</th>\n",
              "      <td>8</td>\n",
              "      <td>9</td>\n",
              "      <td>10</td>\n",
              "      <td>11</td>\n",
              "    </tr>\n",
              "    <tr>\n",
              "      <th>white</th>\n",
              "      <td>12</td>\n",
              "      <td>13</td>\n",
              "      <td>14</td>\n",
              "      <td>15</td>\n",
              "    </tr>\n",
              "  </tbody>\n",
              "</table>\n",
              "</div>"
            ],
            "text/plain": [
              "        ball  pen  pencil  paper\n",
              "red        0    1       2      3\n",
              "blue       4    5       6      7\n",
              "yellow     8    9      10     11\n",
              "white     12   13      14     15"
            ]
          },
          "metadata": {
            "tags": []
          },
          "execution_count": 116
        }
      ]
    },
    {
      "metadata": {
        "id": "Xr51Q1peyFJA",
        "colab_type": "code",
        "colab": {
          "base_uri": "https://localhost:8080/",
          "height": 166
        },
        "outputId": "28dcc1ec-7140-4f38-c576-37403a596283"
      },
      "cell_type": "code",
      "source": [
        "frame.sort_values(by= ['pen','pencil'])"
      ],
      "execution_count": 117,
      "outputs": [
        {
          "output_type": "execute_result",
          "data": {
            "text/html": [
              "<div>\n",
              "<style scoped>\n",
              "    .dataframe tbody tr th:only-of-type {\n",
              "        vertical-align: middle;\n",
              "    }\n",
              "\n",
              "    .dataframe tbody tr th {\n",
              "        vertical-align: top;\n",
              "    }\n",
              "\n",
              "    .dataframe thead th {\n",
              "        text-align: right;\n",
              "    }\n",
              "</style>\n",
              "<table border=\"1\" class=\"dataframe\">\n",
              "  <thead>\n",
              "    <tr style=\"text-align: right;\">\n",
              "      <th></th>\n",
              "      <th>ball</th>\n",
              "      <th>pen</th>\n",
              "      <th>pencil</th>\n",
              "      <th>paper</th>\n",
              "    </tr>\n",
              "  </thead>\n",
              "  <tbody>\n",
              "    <tr>\n",
              "      <th>red</th>\n",
              "      <td>0</td>\n",
              "      <td>1</td>\n",
              "      <td>2</td>\n",
              "      <td>3</td>\n",
              "    </tr>\n",
              "    <tr>\n",
              "      <th>blue</th>\n",
              "      <td>4</td>\n",
              "      <td>5</td>\n",
              "      <td>6</td>\n",
              "      <td>7</td>\n",
              "    </tr>\n",
              "    <tr>\n",
              "      <th>yellow</th>\n",
              "      <td>8</td>\n",
              "      <td>9</td>\n",
              "      <td>10</td>\n",
              "      <td>11</td>\n",
              "    </tr>\n",
              "    <tr>\n",
              "      <th>white</th>\n",
              "      <td>12</td>\n",
              "      <td>13</td>\n",
              "      <td>14</td>\n",
              "      <td>15</td>\n",
              "    </tr>\n",
              "  </tbody>\n",
              "</table>\n",
              "</div>"
            ],
            "text/plain": [
              "        ball  pen  pencil  paper\n",
              "red        0    1       2      3\n",
              "blue       4    5       6      7\n",
              "yellow     8    9      10     11\n",
              "white     12   13      14     15"
            ]
          },
          "metadata": {
            "tags": []
          },
          "execution_count": 117
        }
      ]
    },
    {
      "metadata": {
        "id": "pjxrj3thyP4s",
        "colab_type": "text"
      },
      "cell_type": "markdown",
      "source": [
        "**rank()** will sort the data and assign a rank to each element of the series"
      ]
    },
    {
      "metadata": {
        "id": "a_5Ht1_yygo0",
        "colab_type": "code",
        "colab": {
          "base_uri": "https://localhost:8080/",
          "height": 118
        },
        "outputId": "62d588ff-6f1b-4afa-c3c8-ada47ebb5a05"
      },
      "cell_type": "code",
      "source": [
        "ser.rank()"
      ],
      "execution_count": 118,
      "outputs": [
        {
          "output_type": "execute_result",
          "data": {
            "text/plain": [
              "red       4.0\n",
              "blue      1.0\n",
              "yellow    2.0\n",
              "white     5.0\n",
              "green     3.0\n",
              "dtype: float64"
            ]
          },
          "metadata": {
            "tags": []
          },
          "execution_count": 118
        }
      ]
    },
    {
      "metadata": {
        "id": "jZWVoPCEyqN6",
        "colab_type": "code",
        "colab": {
          "base_uri": "https://localhost:8080/",
          "height": 118
        },
        "outputId": "9e54debc-f9c7-49a0-b9d3-f0571852aea5"
      },
      "cell_type": "code",
      "source": [
        "ser.rank(method= 'first')"
      ],
      "execution_count": 119,
      "outputs": [
        {
          "output_type": "execute_result",
          "data": {
            "text/plain": [
              "red       4.0\n",
              "blue      1.0\n",
              "yellow    2.0\n",
              "white     5.0\n",
              "green     3.0\n",
              "dtype: float64"
            ]
          },
          "metadata": {
            "tags": []
          },
          "execution_count": 119
        }
      ]
    },
    {
      "metadata": {
        "id": "WakPJuXsytFC",
        "colab_type": "code",
        "colab": {
          "base_uri": "https://localhost:8080/",
          "height": 118
        },
        "outputId": "a18f1e86-e9b8-4b14-e279-686eb1465452"
      },
      "cell_type": "code",
      "source": [
        "ser.rank(ascending=False)"
      ],
      "execution_count": 120,
      "outputs": [
        {
          "output_type": "execute_result",
          "data": {
            "text/plain": [
              "red       2.0\n",
              "blue      5.0\n",
              "yellow    4.0\n",
              "white     1.0\n",
              "green     3.0\n",
              "dtype: float64"
            ]
          },
          "metadata": {
            "tags": []
          },
          "execution_count": 120
        }
      ]
    },
    {
      "metadata": {
        "id": "_9koxbcfyx8e",
        "colab_type": "text"
      },
      "cell_type": "markdown",
      "source": [
        "###Correlation and Covariance###\n",
        "\n",
        "Correlation - **corr()**\n",
        "\n",
        "Covariance - **cov()**"
      ]
    },
    {
      "metadata": {
        "id": "pCpsmWJJzCOn",
        "colab_type": "code",
        "colab": {}
      },
      "cell_type": "code",
      "source": [
        "seq2 = pd.Series([3,4,3,4,5,4,3,2],['2006','2007','2008',\n",
        "                                    '2009','2010','2011','2012','2013'])\n",
        "seq = pd.Series([1,2,3,4,4,3,2,1],['2006','2007','2008',\n",
        "                                   '2009','2010','2011','2012','2013'])"
      ],
      "execution_count": 0,
      "outputs": []
    },
    {
      "metadata": {
        "id": "qYi_CRIUzJJj",
        "colab_type": "code",
        "colab": {
          "base_uri": "https://localhost:8080/",
          "height": 34
        },
        "outputId": "ffb9f9f0-80e8-4364-e970-5ecc7bf9534a"
      },
      "cell_type": "code",
      "source": [
        "seq.corr(seq2)"
      ],
      "execution_count": 122,
      "outputs": [
        {
          "output_type": "execute_result",
          "data": {
            "text/plain": [
              "0.7745966692414835"
            ]
          },
          "metadata": {
            "tags": []
          },
          "execution_count": 122
        }
      ]
    },
    {
      "metadata": {
        "id": "uSbY_bCHzKpD",
        "colab_type": "code",
        "colab": {
          "base_uri": "https://localhost:8080/",
          "height": 34
        },
        "outputId": "766f7993-ba3a-48f3-d50e-85e9ef46ce6b"
      },
      "cell_type": "code",
      "source": [
        "seq.cov(seq2)"
      ],
      "execution_count": 123,
      "outputs": [
        {
          "output_type": "execute_result",
          "data": {
            "text/plain": [
              "0.8571428571428571"
            ]
          },
          "metadata": {
            "tags": []
          },
          "execution_count": 123
        }
      ]
    },
    {
      "metadata": {
        "id": "SuBAHov1zQU-",
        "colab_type": "text"
      },
      "cell_type": "markdown",
      "source": [
        "Can be also aplied to a single dataframe"
      ]
    },
    {
      "metadata": {
        "id": "6IorFAOszWNY",
        "colab_type": "code",
        "colab": {
          "base_uri": "https://localhost:8080/",
          "height": 166
        },
        "outputId": "de9cf029-1931-4c94-bfd3-c58d75f0efc8"
      },
      "cell_type": "code",
      "source": [
        "frame2 = pd.DataFrame([[1,4,3,6],[4,5,6,1],[3,3,1,5],[4,1,6,4]],\n",
        "                      index=['red','blue','yellow','white'],\n",
        "                      columns=['ball','pen','pencil','paper'])\n",
        "frame2"
      ],
      "execution_count": 124,
      "outputs": [
        {
          "output_type": "execute_result",
          "data": {
            "text/html": [
              "<div>\n",
              "<style scoped>\n",
              "    .dataframe tbody tr th:only-of-type {\n",
              "        vertical-align: middle;\n",
              "    }\n",
              "\n",
              "    .dataframe tbody tr th {\n",
              "        vertical-align: top;\n",
              "    }\n",
              "\n",
              "    .dataframe thead th {\n",
              "        text-align: right;\n",
              "    }\n",
              "</style>\n",
              "<table border=\"1\" class=\"dataframe\">\n",
              "  <thead>\n",
              "    <tr style=\"text-align: right;\">\n",
              "      <th></th>\n",
              "      <th>ball</th>\n",
              "      <th>pen</th>\n",
              "      <th>pencil</th>\n",
              "      <th>paper</th>\n",
              "    </tr>\n",
              "  </thead>\n",
              "  <tbody>\n",
              "    <tr>\n",
              "      <th>red</th>\n",
              "      <td>1</td>\n",
              "      <td>4</td>\n",
              "      <td>3</td>\n",
              "      <td>6</td>\n",
              "    </tr>\n",
              "    <tr>\n",
              "      <th>blue</th>\n",
              "      <td>4</td>\n",
              "      <td>5</td>\n",
              "      <td>6</td>\n",
              "      <td>1</td>\n",
              "    </tr>\n",
              "    <tr>\n",
              "      <th>yellow</th>\n",
              "      <td>3</td>\n",
              "      <td>3</td>\n",
              "      <td>1</td>\n",
              "      <td>5</td>\n",
              "    </tr>\n",
              "    <tr>\n",
              "      <th>white</th>\n",
              "      <td>4</td>\n",
              "      <td>1</td>\n",
              "      <td>6</td>\n",
              "      <td>4</td>\n",
              "    </tr>\n",
              "  </tbody>\n",
              "</table>\n",
              "</div>"
            ],
            "text/plain": [
              "        ball  pen  pencil  paper\n",
              "red        1    4       3      6\n",
              "blue       4    5       6      1\n",
              "yellow     3    3       1      5\n",
              "white      4    1       6      4"
            ]
          },
          "metadata": {
            "tags": []
          },
          "execution_count": 124
        }
      ]
    },
    {
      "metadata": {
        "id": "FyMlmtV3zb9W",
        "colab_type": "code",
        "colab": {
          "base_uri": "https://localhost:8080/",
          "height": 166
        },
        "outputId": "e19fafab-e453-412b-d341-9cdc81805260"
      },
      "cell_type": "code",
      "source": [
        "frame2.corr()"
      ],
      "execution_count": 127,
      "outputs": [
        {
          "output_type": "execute_result",
          "data": {
            "text/html": [
              "<div>\n",
              "<style scoped>\n",
              "    .dataframe tbody tr th:only-of-type {\n",
              "        vertical-align: middle;\n",
              "    }\n",
              "\n",
              "    .dataframe tbody tr th {\n",
              "        vertical-align: top;\n",
              "    }\n",
              "\n",
              "    .dataframe thead th {\n",
              "        text-align: right;\n",
              "    }\n",
              "</style>\n",
              "<table border=\"1\" class=\"dataframe\">\n",
              "  <thead>\n",
              "    <tr style=\"text-align: right;\">\n",
              "      <th></th>\n",
              "      <th>ball</th>\n",
              "      <th>pen</th>\n",
              "      <th>pencil</th>\n",
              "      <th>paper</th>\n",
              "    </tr>\n",
              "  </thead>\n",
              "  <tbody>\n",
              "    <tr>\n",
              "      <th>ball</th>\n",
              "      <td>1.000000</td>\n",
              "      <td>-0.276026</td>\n",
              "      <td>0.577350</td>\n",
              "      <td>-0.763763</td>\n",
              "    </tr>\n",
              "    <tr>\n",
              "      <th>pen</th>\n",
              "      <td>-0.276026</td>\n",
              "      <td>1.000000</td>\n",
              "      <td>-0.079682</td>\n",
              "      <td>-0.361403</td>\n",
              "    </tr>\n",
              "    <tr>\n",
              "      <th>pencil</th>\n",
              "      <td>0.577350</td>\n",
              "      <td>-0.079682</td>\n",
              "      <td>1.000000</td>\n",
              "      <td>-0.692935</td>\n",
              "    </tr>\n",
              "    <tr>\n",
              "      <th>paper</th>\n",
              "      <td>-0.763763</td>\n",
              "      <td>-0.361403</td>\n",
              "      <td>-0.692935</td>\n",
              "      <td>1.000000</td>\n",
              "    </tr>\n",
              "  </tbody>\n",
              "</table>\n",
              "</div>"
            ],
            "text/plain": [
              "            ball       pen    pencil     paper\n",
              "ball    1.000000 -0.276026  0.577350 -0.763763\n",
              "pen    -0.276026  1.000000 -0.079682 -0.361403\n",
              "pencil  0.577350 -0.079682  1.000000 -0.692935\n",
              "paper  -0.763763 -0.361403 -0.692935  1.000000"
            ]
          },
          "metadata": {
            "tags": []
          },
          "execution_count": 127
        }
      ]
    },
    {
      "metadata": {
        "id": "ijBqMGSwzdQ2",
        "colab_type": "code",
        "colab": {
          "base_uri": "https://localhost:8080/",
          "height": 166
        },
        "outputId": "e8e133bc-b2de-46ec-f0ef-d32c6ebf54b6"
      },
      "cell_type": "code",
      "source": [
        "frame2.cov()"
      ],
      "execution_count": 128,
      "outputs": [
        {
          "output_type": "execute_result",
          "data": {
            "text/html": [
              "<div>\n",
              "<style scoped>\n",
              "    .dataframe tbody tr th:only-of-type {\n",
              "        vertical-align: middle;\n",
              "    }\n",
              "\n",
              "    .dataframe tbody tr th {\n",
              "        vertical-align: top;\n",
              "    }\n",
              "\n",
              "    .dataframe thead th {\n",
              "        text-align: right;\n",
              "    }\n",
              "</style>\n",
              "<table border=\"1\" class=\"dataframe\">\n",
              "  <thead>\n",
              "    <tr style=\"text-align: right;\">\n",
              "      <th></th>\n",
              "      <th>ball</th>\n",
              "      <th>pen</th>\n",
              "      <th>pencil</th>\n",
              "      <th>paper</th>\n",
              "    </tr>\n",
              "  </thead>\n",
              "  <tbody>\n",
              "    <tr>\n",
              "      <th>ball</th>\n",
              "      <td>2.000000</td>\n",
              "      <td>-0.666667</td>\n",
              "      <td>2.000000</td>\n",
              "      <td>-2.333333</td>\n",
              "    </tr>\n",
              "    <tr>\n",
              "      <th>pen</th>\n",
              "      <td>-0.666667</td>\n",
              "      <td>2.916667</td>\n",
              "      <td>-0.333333</td>\n",
              "      <td>-1.333333</td>\n",
              "    </tr>\n",
              "    <tr>\n",
              "      <th>pencil</th>\n",
              "      <td>2.000000</td>\n",
              "      <td>-0.333333</td>\n",
              "      <td>6.000000</td>\n",
              "      <td>-3.666667</td>\n",
              "    </tr>\n",
              "    <tr>\n",
              "      <th>paper</th>\n",
              "      <td>-2.333333</td>\n",
              "      <td>-1.333333</td>\n",
              "      <td>-3.666667</td>\n",
              "      <td>4.666667</td>\n",
              "    </tr>\n",
              "  </tbody>\n",
              "</table>\n",
              "</div>"
            ],
            "text/plain": [
              "            ball       pen    pencil     paper\n",
              "ball    2.000000 -0.666667  2.000000 -2.333333\n",
              "pen    -0.666667  2.916667 -0.333333 -1.333333\n",
              "pencil  2.000000 -0.333333  6.000000 -3.666667\n",
              "paper  -2.333333 -1.333333 -3.666667  4.666667"
            ]
          },
          "metadata": {
            "tags": []
          },
          "execution_count": 128
        }
      ]
    },
    {
      "metadata": {
        "id": "wCwEmXgazpNA",
        "colab_type": "text"
      },
      "cell_type": "markdown",
      "source": [
        "**corrwith()** method can used to calculate the pairwise correlations between the columns or rows of a dataframe with a series or another DataFrame()"
      ]
    },
    {
      "metadata": {
        "id": "4yC_MUw7z1UZ",
        "colab_type": "code",
        "colab": {
          "base_uri": "https://localhost:8080/",
          "height": 118
        },
        "outputId": "0e8468eb-cbaf-40c9-b0aa-d6ee9430670e"
      },
      "cell_type": "code",
      "source": [
        "ser = pd.Series([0,1,2,3,9],index=['red','blue','yellow','white','green'])\n",
        "ser"
      ],
      "execution_count": 129,
      "outputs": [
        {
          "output_type": "execute_result",
          "data": {
            "text/plain": [
              "red       0\n",
              "blue      1\n",
              "yellow    2\n",
              "white     3\n",
              "green     9\n",
              "dtype: int64"
            ]
          },
          "metadata": {
            "tags": []
          },
          "execution_count": 129
        }
      ]
    },
    {
      "metadata": {
        "id": "gFjPzA3Iz5P8",
        "colab_type": "code",
        "colab": {
          "base_uri": "https://localhost:8080/",
          "height": 101
        },
        "outputId": "d57f0ea8-d028-4e46-84bd-6d895d045dd0"
      },
      "cell_type": "code",
      "source": [
        "frame2.corrwith(ser)"
      ],
      "execution_count": 131,
      "outputs": [
        {
          "output_type": "execute_result",
          "data": {
            "text/plain": [
              "ball      0.730297\n",
              "pen      -0.831522\n",
              "pencil    0.210819\n",
              "paper    -0.119523\n",
              "dtype: float64"
            ]
          },
          "metadata": {
            "tags": []
          },
          "execution_count": 131
        }
      ]
    },
    {
      "metadata": {
        "id": "CB3kjySQz8Vd",
        "colab_type": "code",
        "colab": {
          "base_uri": "https://localhost:8080/",
          "height": 101
        },
        "outputId": "53b320b9-8e0e-4413-b82c-a7b55a1ecbca"
      },
      "cell_type": "code",
      "source": [
        "frame2.corrwith(frame)"
      ],
      "execution_count": 132,
      "outputs": [
        {
          "output_type": "execute_result",
          "data": {
            "text/plain": [
              "ball      0.730297\n",
              "pen      -0.831522\n",
              "pencil    0.210819\n",
              "paper    -0.119523\n",
              "dtype: float64"
            ]
          },
          "metadata": {
            "tags": []
          },
          "execution_count": 132
        }
      ]
    },
    {
      "metadata": {
        "id": "cMfxy_NO0CTa",
        "colab_type": "text"
      },
      "cell_type": "markdown",
      "source": [
        "###\"Not a Number\" Data###"
      ]
    },
    {
      "metadata": {
        "id": "eL6h6Z5J1Ytp",
        "colab_type": "text"
      },
      "cell_type": "markdown",
      "source": [
        "####Assigning a NaN Value####\n",
        "\n",
        "use **np.NaN** (or **np.nan**)"
      ]
    },
    {
      "metadata": {
        "id": "-6mPoZe61nz3",
        "colab_type": "code",
        "colab": {
          "base_uri": "https://localhost:8080/",
          "height": 118
        },
        "outputId": "a2585e92-333a-4496-e040-894917321ddb"
      },
      "cell_type": "code",
      "source": [
        "ser = pd.Series([0,1,2,np.NaN,9], index=['red','blue','yellow','white','green'])\n",
        "ser"
      ],
      "execution_count": 133,
      "outputs": [
        {
          "output_type": "execute_result",
          "data": {
            "text/plain": [
              "red       0.0\n",
              "blue      1.0\n",
              "yellow    2.0\n",
              "white     NaN\n",
              "green     9.0\n",
              "dtype: float64"
            ]
          },
          "metadata": {
            "tags": []
          },
          "execution_count": 133
        }
      ]
    },
    {
      "metadata": {
        "id": "DtND6m0z1vMi",
        "colab_type": "code",
        "colab": {
          "base_uri": "https://localhost:8080/",
          "height": 118
        },
        "outputId": "3bff6137-3f58-48c6-aa0c-4e5bbf99a151"
      },
      "cell_type": "code",
      "source": [
        "ser['white'] = None\n",
        "ser"
      ],
      "execution_count": 134,
      "outputs": [
        {
          "output_type": "execute_result",
          "data": {
            "text/plain": [
              "red       0.0\n",
              "blue      1.0\n",
              "yellow    2.0\n",
              "white     NaN\n",
              "green     9.0\n",
              "dtype: float64"
            ]
          },
          "metadata": {
            "tags": []
          },
          "execution_count": 134
        }
      ]
    },
    {
      "metadata": {
        "id": "8G-s2We-10En",
        "colab_type": "text"
      },
      "cell_type": "markdown",
      "source": [
        "####Filtering out NaN Values####\n",
        "\n",
        "use **dropna()** function"
      ]
    },
    {
      "metadata": {
        "id": "yqRgNfX018uT",
        "colab_type": "code",
        "colab": {
          "base_uri": "https://localhost:8080/",
          "height": 101
        },
        "outputId": "09b7037e-c007-4370-b606-f37479f6b654"
      },
      "cell_type": "code",
      "source": [
        "ser.dropna()"
      ],
      "execution_count": 135,
      "outputs": [
        {
          "output_type": "execute_result",
          "data": {
            "text/plain": [
              "red       0.0\n",
              "blue      1.0\n",
              "yellow    2.0\n",
              "green     9.0\n",
              "dtype: float64"
            ]
          },
          "metadata": {
            "tags": []
          },
          "execution_count": 135
        }
      ]
    },
    {
      "metadata": {
        "id": "7WPOBUUd2Acl",
        "colab_type": "text"
      },
      "cell_type": "markdown",
      "source": [
        "or apply conditional selection with **notnull()**"
      ]
    },
    {
      "metadata": {
        "id": "UAKlDQnf2GEB",
        "colab_type": "code",
        "colab": {
          "base_uri": "https://localhost:8080/",
          "height": 101
        },
        "outputId": "1cdf3a04-4f7b-4cb4-d825-093e986e5722"
      },
      "cell_type": "code",
      "source": [
        "ser[ser.notnull()]"
      ],
      "execution_count": 136,
      "outputs": [
        {
          "output_type": "execute_result",
          "data": {
            "text/plain": [
              "red       0.0\n",
              "blue      1.0\n",
              "yellow    2.0\n",
              "green     9.0\n",
              "dtype: float64"
            ]
          },
          "metadata": {
            "tags": []
          },
          "execution_count": 136
        }
      ]
    },
    {
      "metadata": {
        "id": "p42PBrg92Ogd",
        "colab_type": "text"
      },
      "cell_type": "markdown",
      "source": [
        "Be CAREFUL using **dropna()** on DataFrame...\n",
        "\n",
        "One **NaN** can eliminate one row and one column..."
      ]
    },
    {
      "metadata": {
        "id": "Ndfkr7Gi2b5u",
        "colab_type": "code",
        "colab": {
          "base_uri": "https://localhost:8080/",
          "height": 136
        },
        "outputId": "9da005f6-f756-49dd-952a-615e550fcb80"
      },
      "cell_type": "code",
      "source": [
        "frame3 = pd.DataFrame([[6,np.nan,6],[np.nan,np.nan,np.nan],[2,np.nan,5]],\n",
        "                      index = ['blue','green','red'],\n",
        "                      columns = ['ball','mug','pen'])\n",
        "frame3"
      ],
      "execution_count": 137,
      "outputs": [
        {
          "output_type": "execute_result",
          "data": {
            "text/html": [
              "<div>\n",
              "<style scoped>\n",
              "    .dataframe tbody tr th:only-of-type {\n",
              "        vertical-align: middle;\n",
              "    }\n",
              "\n",
              "    .dataframe tbody tr th {\n",
              "        vertical-align: top;\n",
              "    }\n",
              "\n",
              "    .dataframe thead th {\n",
              "        text-align: right;\n",
              "    }\n",
              "</style>\n",
              "<table border=\"1\" class=\"dataframe\">\n",
              "  <thead>\n",
              "    <tr style=\"text-align: right;\">\n",
              "      <th></th>\n",
              "      <th>ball</th>\n",
              "      <th>mug</th>\n",
              "      <th>pen</th>\n",
              "    </tr>\n",
              "  </thead>\n",
              "  <tbody>\n",
              "    <tr>\n",
              "      <th>blue</th>\n",
              "      <td>6.0</td>\n",
              "      <td>NaN</td>\n",
              "      <td>6.0</td>\n",
              "    </tr>\n",
              "    <tr>\n",
              "      <th>green</th>\n",
              "      <td>NaN</td>\n",
              "      <td>NaN</td>\n",
              "      <td>NaN</td>\n",
              "    </tr>\n",
              "    <tr>\n",
              "      <th>red</th>\n",
              "      <td>2.0</td>\n",
              "      <td>NaN</td>\n",
              "      <td>5.0</td>\n",
              "    </tr>\n",
              "  </tbody>\n",
              "</table>\n",
              "</div>"
            ],
            "text/plain": [
              "       ball  mug  pen\n",
              "blue    6.0  NaN  6.0\n",
              "green   NaN  NaN  NaN\n",
              "red     2.0  NaN  5.0"
            ]
          },
          "metadata": {
            "tags": []
          },
          "execution_count": 137
        }
      ]
    },
    {
      "metadata": {
        "id": "CTKtMv_h2g_a",
        "colab_type": "code",
        "colab": {
          "base_uri": "https://localhost:8080/",
          "height": 47
        },
        "outputId": "0fa80169-d693-4567-9ed6-1395ac671978"
      },
      "cell_type": "code",
      "source": [
        "frame3.dropna()"
      ],
      "execution_count": 138,
      "outputs": [
        {
          "output_type": "execute_result",
          "data": {
            "text/html": [
              "<div>\n",
              "<style scoped>\n",
              "    .dataframe tbody tr th:only-of-type {\n",
              "        vertical-align: middle;\n",
              "    }\n",
              "\n",
              "    .dataframe tbody tr th {\n",
              "        vertical-align: top;\n",
              "    }\n",
              "\n",
              "    .dataframe thead th {\n",
              "        text-align: right;\n",
              "    }\n",
              "</style>\n",
              "<table border=\"1\" class=\"dataframe\">\n",
              "  <thead>\n",
              "    <tr style=\"text-align: right;\">\n",
              "      <th></th>\n",
              "      <th>ball</th>\n",
              "      <th>mug</th>\n",
              "      <th>pen</th>\n",
              "    </tr>\n",
              "  </thead>\n",
              "  <tbody>\n",
              "  </tbody>\n",
              "</table>\n",
              "</div>"
            ],
            "text/plain": [
              "Empty DataFrame\n",
              "Columns: [ball, mug, pen]\n",
              "Index: []"
            ]
          },
          "metadata": {
            "tags": []
          },
          "execution_count": 138
        }
      ]
    },
    {
      "metadata": {
        "id": "K23WLplR2vIK",
        "colab_type": "text"
      },
      "cell_type": "markdown",
      "source": [
        "To avoid this issue, you should specify the **how** option, assigning a value of **all** to it. This tells the **dropna()** function to delete *only the rows or columns in which all elements are NaN*."
      ]
    },
    {
      "metadata": {
        "id": "rBFPtMae3CG4",
        "colab_type": "code",
        "colab": {
          "base_uri": "https://localhost:8080/",
          "height": 106
        },
        "outputId": "cda1edeb-0d6d-4493-bc34-335de8d8b952"
      },
      "cell_type": "code",
      "source": [
        "frame3.dropna(how= 'all')"
      ],
      "execution_count": 140,
      "outputs": [
        {
          "output_type": "execute_result",
          "data": {
            "text/html": [
              "<div>\n",
              "<style scoped>\n",
              "    .dataframe tbody tr th:only-of-type {\n",
              "        vertical-align: middle;\n",
              "    }\n",
              "\n",
              "    .dataframe tbody tr th {\n",
              "        vertical-align: top;\n",
              "    }\n",
              "\n",
              "    .dataframe thead th {\n",
              "        text-align: right;\n",
              "    }\n",
              "</style>\n",
              "<table border=\"1\" class=\"dataframe\">\n",
              "  <thead>\n",
              "    <tr style=\"text-align: right;\">\n",
              "      <th></th>\n",
              "      <th>ball</th>\n",
              "      <th>mug</th>\n",
              "      <th>pen</th>\n",
              "    </tr>\n",
              "  </thead>\n",
              "  <tbody>\n",
              "    <tr>\n",
              "      <th>blue</th>\n",
              "      <td>6.0</td>\n",
              "      <td>NaN</td>\n",
              "      <td>6.0</td>\n",
              "    </tr>\n",
              "    <tr>\n",
              "      <th>red</th>\n",
              "      <td>2.0</td>\n",
              "      <td>NaN</td>\n",
              "      <td>5.0</td>\n",
              "    </tr>\n",
              "  </tbody>\n",
              "</table>\n",
              "</div>"
            ],
            "text/plain": [
              "      ball  mug  pen\n",
              "blue   6.0  NaN  6.0\n",
              "red    2.0  NaN  5.0"
            ]
          },
          "metadata": {
            "tags": []
          },
          "execution_count": 140
        }
      ]
    },
    {
      "metadata": {
        "id": "9h5VdKt63KM1",
        "colab_type": "text"
      },
      "cell_type": "markdown",
      "source": [
        "####Filling in NaN Occureences####\n",
        "\n",
        "use **fillna()** function"
      ]
    },
    {
      "metadata": {
        "id": "LRT_fscW3Spm",
        "colab_type": "code",
        "colab": {
          "base_uri": "https://localhost:8080/",
          "height": 136
        },
        "outputId": "7d7a4694-a398-40ff-e197-f50613fcc30f"
      },
      "cell_type": "code",
      "source": [
        "frame3.fillna(0)"
      ],
      "execution_count": 141,
      "outputs": [
        {
          "output_type": "execute_result",
          "data": {
            "text/html": [
              "<div>\n",
              "<style scoped>\n",
              "    .dataframe tbody tr th:only-of-type {\n",
              "        vertical-align: middle;\n",
              "    }\n",
              "\n",
              "    .dataframe tbody tr th {\n",
              "        vertical-align: top;\n",
              "    }\n",
              "\n",
              "    .dataframe thead th {\n",
              "        text-align: right;\n",
              "    }\n",
              "</style>\n",
              "<table border=\"1\" class=\"dataframe\">\n",
              "  <thead>\n",
              "    <tr style=\"text-align: right;\">\n",
              "      <th></th>\n",
              "      <th>ball</th>\n",
              "      <th>mug</th>\n",
              "      <th>pen</th>\n",
              "    </tr>\n",
              "  </thead>\n",
              "  <tbody>\n",
              "    <tr>\n",
              "      <th>blue</th>\n",
              "      <td>6.0</td>\n",
              "      <td>0.0</td>\n",
              "      <td>6.0</td>\n",
              "    </tr>\n",
              "    <tr>\n",
              "      <th>green</th>\n",
              "      <td>0.0</td>\n",
              "      <td>0.0</td>\n",
              "      <td>0.0</td>\n",
              "    </tr>\n",
              "    <tr>\n",
              "      <th>red</th>\n",
              "      <td>2.0</td>\n",
              "      <td>0.0</td>\n",
              "      <td>5.0</td>\n",
              "    </tr>\n",
              "  </tbody>\n",
              "</table>\n",
              "</div>"
            ],
            "text/plain": [
              "       ball  mug  pen\n",
              "blue    6.0  0.0  6.0\n",
              "green   0.0  0.0  0.0\n",
              "red     2.0  0.0  5.0"
            ]
          },
          "metadata": {
            "tags": []
          },
          "execution_count": 141
        }
      ]
    },
    {
      "metadata": {
        "id": "sQbKe0hr3XIR",
        "colab_type": "text"
      },
      "cell_type": "markdown",
      "source": [
        "You can also replace **NaN** with different values depending on the column, specifying one by one the indexes and the associated values"
      ]
    },
    {
      "metadata": {
        "id": "usse_s583gfh",
        "colab_type": "code",
        "colab": {
          "base_uri": "https://localhost:8080/",
          "height": 136
        },
        "outputId": "3c75f7ae-6a3f-4ed1-8490-00cec28a116e"
      },
      "cell_type": "code",
      "source": [
        "frame3.fillna({'ball':1, 'mug':0, 'pen':99}) # in the dict"
      ],
      "execution_count": 142,
      "outputs": [
        {
          "output_type": "execute_result",
          "data": {
            "text/html": [
              "<div>\n",
              "<style scoped>\n",
              "    .dataframe tbody tr th:only-of-type {\n",
              "        vertical-align: middle;\n",
              "    }\n",
              "\n",
              "    .dataframe tbody tr th {\n",
              "        vertical-align: top;\n",
              "    }\n",
              "\n",
              "    .dataframe thead th {\n",
              "        text-align: right;\n",
              "    }\n",
              "</style>\n",
              "<table border=\"1\" class=\"dataframe\">\n",
              "  <thead>\n",
              "    <tr style=\"text-align: right;\">\n",
              "      <th></th>\n",
              "      <th>ball</th>\n",
              "      <th>mug</th>\n",
              "      <th>pen</th>\n",
              "    </tr>\n",
              "  </thead>\n",
              "  <tbody>\n",
              "    <tr>\n",
              "      <th>blue</th>\n",
              "      <td>6.0</td>\n",
              "      <td>0.0</td>\n",
              "      <td>6.0</td>\n",
              "    </tr>\n",
              "    <tr>\n",
              "      <th>green</th>\n",
              "      <td>1.0</td>\n",
              "      <td>0.0</td>\n",
              "      <td>99.0</td>\n",
              "    </tr>\n",
              "    <tr>\n",
              "      <th>red</th>\n",
              "      <td>2.0</td>\n",
              "      <td>0.0</td>\n",
              "      <td>5.0</td>\n",
              "    </tr>\n",
              "  </tbody>\n",
              "</table>\n",
              "</div>"
            ],
            "text/plain": [
              "       ball  mug   pen\n",
              "blue    6.0  0.0   6.0\n",
              "green   1.0  0.0  99.0\n",
              "red     2.0  0.0   5.0"
            ]
          },
          "metadata": {
            "tags": []
          },
          "execution_count": 142
        }
      ]
    },
    {
      "metadata": {
        "id": "GzHmeepd3sXs",
        "colab_type": "text"
      },
      "cell_type": "markdown",
      "source": [
        "###Hierarchical Indexing and Leveling###\n",
        "\n",
        "allows you to have multiple levels of indexes on a single axis"
      ]
    },
    {
      "metadata": {
        "id": "arcdgdUG3-3M",
        "colab_type": "text"
      },
      "cell_type": "markdown",
      "source": [
        "Example of a series containing two arrays of indexes ( which means *creating a structure with two levels*)"
      ]
    },
    {
      "metadata": {
        "id": "yLwOYCYK4IuQ",
        "colab_type": "code",
        "colab": {
          "base_uri": "https://localhost:8080/",
          "height": 168
        },
        "outputId": "e5509b1a-f56f-490c-dbe5-30d5e2cfde65"
      },
      "cell_type": "code",
      "source": [
        "mser = pd.Series(np.random.rand(8),\n",
        "                index= [['white','white','white','blue','blue','red','red','red'], #first level\n",
        "                       ['up','down','right','up','down','up','down','left']])      #second level\n",
        "mser"
      ],
      "execution_count": 143,
      "outputs": [
        {
          "output_type": "execute_result",
          "data": {
            "text/plain": [
              "white  up       0.466076\n",
              "       down     0.175193\n",
              "       right    0.554998\n",
              "blue   up       0.845832\n",
              "       down     0.646697\n",
              "red    up       0.673806\n",
              "       down     0.466067\n",
              "       left     0.615963\n",
              "dtype: float64"
            ]
          },
          "metadata": {
            "tags": []
          },
          "execution_count": 143
        }
      ]
    },
    {
      "metadata": {
        "id": "n3vsm68i4oDD",
        "colab_type": "text"
      },
      "cell_type": "markdown",
      "source": [
        "The indexes now are multiple-level indexes"
      ]
    },
    {
      "metadata": {
        "id": "5ANNZ8Ju4sd8",
        "colab_type": "code",
        "colab": {
          "base_uri": "https://localhost:8080/",
          "height": 50
        },
        "outputId": "11546255-44a4-4870-ced9-f722a92fc7e7"
      },
      "cell_type": "code",
      "source": [
        "mser.index"
      ],
      "execution_count": 144,
      "outputs": [
        {
          "output_type": "execute_result",
          "data": {
            "text/plain": [
              "MultiIndex(levels=[['blue', 'red', 'white'], ['down', 'left', 'right', 'up']],\n",
              "           labels=[[2, 2, 2, 0, 0, 1, 1, 1], [3, 0, 2, 3, 0, 3, 0, 1]])"
            ]
          },
          "metadata": {
            "tags": []
          },
          "execution_count": 144
        }
      ]
    },
    {
      "metadata": {
        "id": "BeGVJRH044GG",
        "colab_type": "text"
      },
      "cell_type": "markdown",
      "source": [
        "To select the first index,"
      ]
    },
    {
      "metadata": {
        "id": "etWHxuFo46cP",
        "colab_type": "code",
        "colab": {
          "base_uri": "https://localhost:8080/",
          "height": 84
        },
        "outputId": "e4f33cf4-acd2-4cf1-9064-a9b2588c9340"
      },
      "cell_type": "code",
      "source": [
        "mser['white']"
      ],
      "execution_count": 145,
      "outputs": [
        {
          "output_type": "execute_result",
          "data": {
            "text/plain": [
              "up       0.466076\n",
              "down     0.175193\n",
              "right    0.554998\n",
              "dtype: float64"
            ]
          },
          "metadata": {
            "tags": []
          },
          "execution_count": 145
        }
      ]
    },
    {
      "metadata": {
        "id": "n2cM2vtM48-0",
        "colab_type": "text"
      },
      "cell_type": "markdown",
      "source": [
        "To select the second index,"
      ]
    },
    {
      "metadata": {
        "id": "dNmJtQei4_Cg",
        "colab_type": "code",
        "colab": {
          "base_uri": "https://localhost:8080/",
          "height": 84
        },
        "outputId": "c7e7fd14-8691-44d6-c43b-d0ab8b5a1a68"
      },
      "cell_type": "code",
      "source": [
        "mser[:,'up'] # use ':' to select all index in the first level"
      ],
      "execution_count": 146,
      "outputs": [
        {
          "output_type": "execute_result",
          "data": {
            "text/plain": [
              "white    0.466076\n",
              "blue     0.845832\n",
              "red      0.673806\n",
              "dtype: float64"
            ]
          },
          "metadata": {
            "tags": []
          },
          "execution_count": 146
        }
      ]
    },
    {
      "metadata": {
        "id": "JzSYCi0e5HtP",
        "colab_type": "text"
      },
      "cell_type": "markdown",
      "source": [
        "To select a specific value,"
      ]
    },
    {
      "metadata": {
        "id": "M-iL3cdE5Js7",
        "colab_type": "code",
        "colab": {
          "base_uri": "https://localhost:8080/",
          "height": 34
        },
        "outputId": "3bd3ac16-f980-4a59-da4f-2b085c783cbd"
      },
      "cell_type": "code",
      "source": [
        "mser['white','up']"
      ],
      "execution_count": 147,
      "outputs": [
        {
          "output_type": "execute_result",
          "data": {
            "text/plain": [
              "0.46607579222204687"
            ]
          },
          "metadata": {
            "tags": []
          },
          "execution_count": 147
        }
      ]
    },
    {
      "metadata": {
        "id": "QAzJamO-5Qzu",
        "colab_type": "text"
      },
      "cell_type": "markdown",
      "source": [
        "To reshape data and represent as a pivot-table, you may use **unstack()** function.\n",
        "\n",
        "**unstack()** converts the series with a hierarchical index to a simple dataframe, wher the second set  of indexes is converted into a new set of columns"
      ]
    },
    {
      "metadata": {
        "id": "R8zZC8N35iRU",
        "colab_type": "code",
        "colab": {
          "base_uri": "https://localhost:8080/",
          "height": 136
        },
        "outputId": "58604d32-0112-48ab-9b4e-42e4b1f47352"
      },
      "cell_type": "code",
      "source": [
        "mser.unstack()"
      ],
      "execution_count": 148,
      "outputs": [
        {
          "output_type": "execute_result",
          "data": {
            "text/html": [
              "<div>\n",
              "<style scoped>\n",
              "    .dataframe tbody tr th:only-of-type {\n",
              "        vertical-align: middle;\n",
              "    }\n",
              "\n",
              "    .dataframe tbody tr th {\n",
              "        vertical-align: top;\n",
              "    }\n",
              "\n",
              "    .dataframe thead th {\n",
              "        text-align: right;\n",
              "    }\n",
              "</style>\n",
              "<table border=\"1\" class=\"dataframe\">\n",
              "  <thead>\n",
              "    <tr style=\"text-align: right;\">\n",
              "      <th></th>\n",
              "      <th>down</th>\n",
              "      <th>left</th>\n",
              "      <th>right</th>\n",
              "      <th>up</th>\n",
              "    </tr>\n",
              "  </thead>\n",
              "  <tbody>\n",
              "    <tr>\n",
              "      <th>blue</th>\n",
              "      <td>0.646697</td>\n",
              "      <td>NaN</td>\n",
              "      <td>NaN</td>\n",
              "      <td>0.845832</td>\n",
              "    </tr>\n",
              "    <tr>\n",
              "      <th>red</th>\n",
              "      <td>0.466067</td>\n",
              "      <td>0.615963</td>\n",
              "      <td>NaN</td>\n",
              "      <td>0.673806</td>\n",
              "    </tr>\n",
              "    <tr>\n",
              "      <th>white</th>\n",
              "      <td>0.175193</td>\n",
              "      <td>NaN</td>\n",
              "      <td>0.554998</td>\n",
              "      <td>0.466076</td>\n",
              "    </tr>\n",
              "  </tbody>\n",
              "</table>\n",
              "</div>"
            ],
            "text/plain": [
              "           down      left     right        up\n",
              "blue   0.646697       NaN       NaN  0.845832\n",
              "red    0.466067  0.615963       NaN  0.673806\n",
              "white  0.175193       NaN  0.554998  0.466076"
            ]
          },
          "metadata": {
            "tags": []
          },
          "execution_count": 148
        }
      ]
    },
    {
      "metadata": {
        "id": "y7BqF0HV5n0y",
        "colab_type": "text"
      },
      "cell_type": "markdown",
      "source": [
        "To perform a reverse operation, use **stack()** function"
      ]
    },
    {
      "metadata": {
        "id": "DjdiyLeR5jf-",
        "colab_type": "code",
        "colab": {
          "base_uri": "https://localhost:8080/",
          "height": 166
        },
        "outputId": "eb5cbbe5-5f9f-40f7-c326-31098bee5f0b"
      },
      "cell_type": "code",
      "source": [
        "frame"
      ],
      "execution_count": 149,
      "outputs": [
        {
          "output_type": "execute_result",
          "data": {
            "text/html": [
              "<div>\n",
              "<style scoped>\n",
              "    .dataframe tbody tr th:only-of-type {\n",
              "        vertical-align: middle;\n",
              "    }\n",
              "\n",
              "    .dataframe tbody tr th {\n",
              "        vertical-align: top;\n",
              "    }\n",
              "\n",
              "    .dataframe thead th {\n",
              "        text-align: right;\n",
              "    }\n",
              "</style>\n",
              "<table border=\"1\" class=\"dataframe\">\n",
              "  <thead>\n",
              "    <tr style=\"text-align: right;\">\n",
              "      <th></th>\n",
              "      <th>ball</th>\n",
              "      <th>pen</th>\n",
              "      <th>pencil</th>\n",
              "      <th>paper</th>\n",
              "    </tr>\n",
              "  </thead>\n",
              "  <tbody>\n",
              "    <tr>\n",
              "      <th>red</th>\n",
              "      <td>0</td>\n",
              "      <td>1</td>\n",
              "      <td>2</td>\n",
              "      <td>3</td>\n",
              "    </tr>\n",
              "    <tr>\n",
              "      <th>blue</th>\n",
              "      <td>4</td>\n",
              "      <td>5</td>\n",
              "      <td>6</td>\n",
              "      <td>7</td>\n",
              "    </tr>\n",
              "    <tr>\n",
              "      <th>yellow</th>\n",
              "      <td>8</td>\n",
              "      <td>9</td>\n",
              "      <td>10</td>\n",
              "      <td>11</td>\n",
              "    </tr>\n",
              "    <tr>\n",
              "      <th>white</th>\n",
              "      <td>12</td>\n",
              "      <td>13</td>\n",
              "      <td>14</td>\n",
              "      <td>15</td>\n",
              "    </tr>\n",
              "  </tbody>\n",
              "</table>\n",
              "</div>"
            ],
            "text/plain": [
              "        ball  pen  pencil  paper\n",
              "red        0    1       2      3\n",
              "blue       4    5       6      7\n",
              "yellow     8    9      10     11\n",
              "white     12   13      14     15"
            ]
          },
          "metadata": {
            "tags": []
          },
          "execution_count": 149
        }
      ]
    },
    {
      "metadata": {
        "id": "M0jY2Gf05uZQ",
        "colab_type": "code",
        "colab": {
          "base_uri": "https://localhost:8080/",
          "height": 302
        },
        "outputId": "6e629621-7d2d-4516-a5c5-1b8d7f7894f2"
      },
      "cell_type": "code",
      "source": [
        "frame.stack()"
      ],
      "execution_count": 150,
      "outputs": [
        {
          "output_type": "execute_result",
          "data": {
            "text/plain": [
              "red     ball       0\n",
              "        pen        1\n",
              "        pencil     2\n",
              "        paper      3\n",
              "blue    ball       4\n",
              "        pen        5\n",
              "        pencil     6\n",
              "        paper      7\n",
              "yellow  ball       8\n",
              "        pen        9\n",
              "        pencil    10\n",
              "        paper     11\n",
              "white   ball      12\n",
              "        pen       13\n",
              "        pencil    14\n",
              "        paper     15\n",
              "dtype: int64"
            ]
          },
          "metadata": {
            "tags": []
          },
          "execution_count": 150
        }
      ]
    },
    {
      "metadata": {
        "id": "NsdYvhTR55DK",
        "colab_type": "text"
      },
      "cell_type": "markdown",
      "source": [
        "For DataFrame, you can define a hierarchical index using the **index** and **columns** options"
      ]
    },
    {
      "metadata": {
        "id": "hsz9KlXC6H9Q",
        "colab_type": "code",
        "colab": {
          "base_uri": "https://localhost:8080/",
          "height": 195
        },
        "outputId": "acfe28e8-2ecf-44a5-9b75-fd0d7100d185"
      },
      "cell_type": "code",
      "source": [
        "mframe = pd.DataFrame(np.random.randn(16).reshape(4,4),\n",
        "                      index=[['white','white','red','red'],     #row - first level\n",
        "                             ['up','down','up','down']],        #row - second level\n",
        "                      columns=[['pen','pen','paper','paper'],   #column - first level\n",
        "                               [1,2,1,2]])                      #column - second level\n",
        "mframe"
      ],
      "execution_count": 151,
      "outputs": [
        {
          "output_type": "execute_result",
          "data": {
            "text/html": [
              "<div>\n",
              "<style scoped>\n",
              "    .dataframe tbody tr th:only-of-type {\n",
              "        vertical-align: middle;\n",
              "    }\n",
              "\n",
              "    .dataframe tbody tr th {\n",
              "        vertical-align: top;\n",
              "    }\n",
              "\n",
              "    .dataframe thead tr th {\n",
              "        text-align: left;\n",
              "    }\n",
              "</style>\n",
              "<table border=\"1\" class=\"dataframe\">\n",
              "  <thead>\n",
              "    <tr>\n",
              "      <th></th>\n",
              "      <th></th>\n",
              "      <th colspan=\"2\" halign=\"left\">pen</th>\n",
              "      <th colspan=\"2\" halign=\"left\">paper</th>\n",
              "    </tr>\n",
              "    <tr>\n",
              "      <th></th>\n",
              "      <th></th>\n",
              "      <th>1</th>\n",
              "      <th>2</th>\n",
              "      <th>1</th>\n",
              "      <th>2</th>\n",
              "    </tr>\n",
              "  </thead>\n",
              "  <tbody>\n",
              "    <tr>\n",
              "      <th rowspan=\"2\" valign=\"top\">white</th>\n",
              "      <th>up</th>\n",
              "      <td>1.249320</td>\n",
              "      <td>0.433371</td>\n",
              "      <td>1.014253</td>\n",
              "      <td>-1.419111</td>\n",
              "    </tr>\n",
              "    <tr>\n",
              "      <th>down</th>\n",
              "      <td>-1.102312</td>\n",
              "      <td>-0.210819</td>\n",
              "      <td>-0.040815</td>\n",
              "      <td>-1.830725</td>\n",
              "    </tr>\n",
              "    <tr>\n",
              "      <th rowspan=\"2\" valign=\"top\">red</th>\n",
              "      <th>up</th>\n",
              "      <td>0.390486</td>\n",
              "      <td>1.032475</td>\n",
              "      <td>-1.199623</td>\n",
              "      <td>0.396890</td>\n",
              "    </tr>\n",
              "    <tr>\n",
              "      <th>down</th>\n",
              "      <td>-1.536510</td>\n",
              "      <td>1.592459</td>\n",
              "      <td>1.379996</td>\n",
              "      <td>0.063854</td>\n",
              "    </tr>\n",
              "  </tbody>\n",
              "</table>\n",
              "</div>"
            ],
            "text/plain": [
              "                 pen               paper          \n",
              "                   1         2         1         2\n",
              "white up    1.249320  0.433371  1.014253 -1.419111\n",
              "      down -1.102312 -0.210819 -0.040815 -1.830725\n",
              "red   up    0.390486  1.032475 -1.199623  0.396890\n",
              "      down -1.536510  1.592459  1.379996  0.063854"
            ]
          },
          "metadata": {
            "tags": []
          },
          "execution_count": 151
        }
      ]
    },
    {
      "metadata": {
        "id": "AW0N_l5t6e9n",
        "colab_type": "text"
      },
      "cell_type": "markdown",
      "source": [
        "###Reordering and Sorting Levels###\n",
        "\n",
        "**swaplevel()** function interchanges two levels without changing the data"
      ]
    },
    {
      "metadata": {
        "id": "x0fCutWg69Zj",
        "colab_type": "code",
        "colab": {
          "base_uri": "https://localhost:8080/",
          "height": 225
        },
        "outputId": "be00ea3e-f283-42e4-ee2d-55547575ebd2"
      },
      "cell_type": "code",
      "source": [
        "mframe.columns.names = ['object','id']\n",
        "mframe.index.names = ['colors','status']\n",
        "mframe"
      ],
      "execution_count": 152,
      "outputs": [
        {
          "output_type": "execute_result",
          "data": {
            "text/html": [
              "<div>\n",
              "<style scoped>\n",
              "    .dataframe tbody tr th:only-of-type {\n",
              "        vertical-align: middle;\n",
              "    }\n",
              "\n",
              "    .dataframe tbody tr th {\n",
              "        vertical-align: top;\n",
              "    }\n",
              "\n",
              "    .dataframe thead tr th {\n",
              "        text-align: left;\n",
              "    }\n",
              "\n",
              "    .dataframe thead tr:last-of-type th {\n",
              "        text-align: right;\n",
              "    }\n",
              "</style>\n",
              "<table border=\"1\" class=\"dataframe\">\n",
              "  <thead>\n",
              "    <tr>\n",
              "      <th></th>\n",
              "      <th>object</th>\n",
              "      <th colspan=\"2\" halign=\"left\">pen</th>\n",
              "      <th colspan=\"2\" halign=\"left\">paper</th>\n",
              "    </tr>\n",
              "    <tr>\n",
              "      <th></th>\n",
              "      <th>id</th>\n",
              "      <th>1</th>\n",
              "      <th>2</th>\n",
              "      <th>1</th>\n",
              "      <th>2</th>\n",
              "    </tr>\n",
              "    <tr>\n",
              "      <th>colors</th>\n",
              "      <th>status</th>\n",
              "      <th></th>\n",
              "      <th></th>\n",
              "      <th></th>\n",
              "      <th></th>\n",
              "    </tr>\n",
              "  </thead>\n",
              "  <tbody>\n",
              "    <tr>\n",
              "      <th rowspan=\"2\" valign=\"top\">white</th>\n",
              "      <th>up</th>\n",
              "      <td>1.249320</td>\n",
              "      <td>0.433371</td>\n",
              "      <td>1.014253</td>\n",
              "      <td>-1.419111</td>\n",
              "    </tr>\n",
              "    <tr>\n",
              "      <th>down</th>\n",
              "      <td>-1.102312</td>\n",
              "      <td>-0.210819</td>\n",
              "      <td>-0.040815</td>\n",
              "      <td>-1.830725</td>\n",
              "    </tr>\n",
              "    <tr>\n",
              "      <th rowspan=\"2\" valign=\"top\">red</th>\n",
              "      <th>up</th>\n",
              "      <td>0.390486</td>\n",
              "      <td>1.032475</td>\n",
              "      <td>-1.199623</td>\n",
              "      <td>0.396890</td>\n",
              "    </tr>\n",
              "    <tr>\n",
              "      <th>down</th>\n",
              "      <td>-1.536510</td>\n",
              "      <td>1.592459</td>\n",
              "      <td>1.379996</td>\n",
              "      <td>0.063854</td>\n",
              "    </tr>\n",
              "  </tbody>\n",
              "</table>\n",
              "</div>"
            ],
            "text/plain": [
              "object              pen               paper          \n",
              "id                    1         2         1         2\n",
              "colors status                                        \n",
              "white  up      1.249320  0.433371  1.014253 -1.419111\n",
              "       down   -1.102312 -0.210819 -0.040815 -1.830725\n",
              "red    up      0.390486  1.032475 -1.199623  0.396890\n",
              "       down   -1.536510  1.592459  1.379996  0.063854"
            ]
          },
          "metadata": {
            "tags": []
          },
          "execution_count": 152
        }
      ]
    },
    {
      "metadata": {
        "id": "LqPsCGcd7JBh",
        "colab_type": "code",
        "colab": {
          "base_uri": "https://localhost:8080/",
          "height": 225
        },
        "outputId": "74516efa-1980-4f02-e4be-040d13bcafc1"
      },
      "cell_type": "code",
      "source": [
        "mframe.swaplevel('colors','status')"
      ],
      "execution_count": 154,
      "outputs": [
        {
          "output_type": "execute_result",
          "data": {
            "text/html": [
              "<div>\n",
              "<style scoped>\n",
              "    .dataframe tbody tr th:only-of-type {\n",
              "        vertical-align: middle;\n",
              "    }\n",
              "\n",
              "    .dataframe tbody tr th {\n",
              "        vertical-align: top;\n",
              "    }\n",
              "\n",
              "    .dataframe thead tr th {\n",
              "        text-align: left;\n",
              "    }\n",
              "\n",
              "    .dataframe thead tr:last-of-type th {\n",
              "        text-align: right;\n",
              "    }\n",
              "</style>\n",
              "<table border=\"1\" class=\"dataframe\">\n",
              "  <thead>\n",
              "    <tr>\n",
              "      <th></th>\n",
              "      <th>object</th>\n",
              "      <th colspan=\"2\" halign=\"left\">pen</th>\n",
              "      <th colspan=\"2\" halign=\"left\">paper</th>\n",
              "    </tr>\n",
              "    <tr>\n",
              "      <th></th>\n",
              "      <th>id</th>\n",
              "      <th>1</th>\n",
              "      <th>2</th>\n",
              "      <th>1</th>\n",
              "      <th>2</th>\n",
              "    </tr>\n",
              "    <tr>\n",
              "      <th>status</th>\n",
              "      <th>colors</th>\n",
              "      <th></th>\n",
              "      <th></th>\n",
              "      <th></th>\n",
              "      <th></th>\n",
              "    </tr>\n",
              "  </thead>\n",
              "  <tbody>\n",
              "    <tr>\n",
              "      <th>up</th>\n",
              "      <th>white</th>\n",
              "      <td>1.249320</td>\n",
              "      <td>0.433371</td>\n",
              "      <td>1.014253</td>\n",
              "      <td>-1.419111</td>\n",
              "    </tr>\n",
              "    <tr>\n",
              "      <th>down</th>\n",
              "      <th>white</th>\n",
              "      <td>-1.102312</td>\n",
              "      <td>-0.210819</td>\n",
              "      <td>-0.040815</td>\n",
              "      <td>-1.830725</td>\n",
              "    </tr>\n",
              "    <tr>\n",
              "      <th>up</th>\n",
              "      <th>red</th>\n",
              "      <td>0.390486</td>\n",
              "      <td>1.032475</td>\n",
              "      <td>-1.199623</td>\n",
              "      <td>0.396890</td>\n",
              "    </tr>\n",
              "    <tr>\n",
              "      <th>down</th>\n",
              "      <th>red</th>\n",
              "      <td>-1.536510</td>\n",
              "      <td>1.592459</td>\n",
              "      <td>1.379996</td>\n",
              "      <td>0.063854</td>\n",
              "    </tr>\n",
              "  </tbody>\n",
              "</table>\n",
              "</div>"
            ],
            "text/plain": [
              "object              pen               paper          \n",
              "id                    1         2         1         2\n",
              "status colors                                        \n",
              "up     white   1.249320  0.433371  1.014253 -1.419111\n",
              "down   white  -1.102312 -0.210819 -0.040815 -1.830725\n",
              "up     red     0.390486  1.032475 -1.199623  0.396890\n",
              "down   red    -1.536510  1.592459  1.379996  0.063854"
            ]
          },
          "metadata": {
            "tags": []
          },
          "execution_count": 154
        }
      ]
    },
    {
      "metadata": {
        "id": "Jb4zkDvT7VbA",
        "colab_type": "text"
      },
      "cell_type": "markdown",
      "source": [
        "**sort_index()** orders the data considering only those of a certain level by *specifying it as parameter*"
      ]
    },
    {
      "metadata": {
        "id": "4pbXkObN7cHK",
        "colab_type": "code",
        "colab": {
          "base_uri": "https://localhost:8080/",
          "height": 225
        },
        "outputId": "14ff7826-fa0b-4baf-8dff-70c8aae4c337"
      },
      "cell_type": "code",
      "source": [
        "mframe.sort_index(level= 'colors') # sort the color index only"
      ],
      "execution_count": 155,
      "outputs": [
        {
          "output_type": "execute_result",
          "data": {
            "text/html": [
              "<div>\n",
              "<style scoped>\n",
              "    .dataframe tbody tr th:only-of-type {\n",
              "        vertical-align: middle;\n",
              "    }\n",
              "\n",
              "    .dataframe tbody tr th {\n",
              "        vertical-align: top;\n",
              "    }\n",
              "\n",
              "    .dataframe thead tr th {\n",
              "        text-align: left;\n",
              "    }\n",
              "\n",
              "    .dataframe thead tr:last-of-type th {\n",
              "        text-align: right;\n",
              "    }\n",
              "</style>\n",
              "<table border=\"1\" class=\"dataframe\">\n",
              "  <thead>\n",
              "    <tr>\n",
              "      <th></th>\n",
              "      <th>object</th>\n",
              "      <th colspan=\"2\" halign=\"left\">pen</th>\n",
              "      <th colspan=\"2\" halign=\"left\">paper</th>\n",
              "    </tr>\n",
              "    <tr>\n",
              "      <th></th>\n",
              "      <th>id</th>\n",
              "      <th>1</th>\n",
              "      <th>2</th>\n",
              "      <th>1</th>\n",
              "      <th>2</th>\n",
              "    </tr>\n",
              "    <tr>\n",
              "      <th>colors</th>\n",
              "      <th>status</th>\n",
              "      <th></th>\n",
              "      <th></th>\n",
              "      <th></th>\n",
              "      <th></th>\n",
              "    </tr>\n",
              "  </thead>\n",
              "  <tbody>\n",
              "    <tr>\n",
              "      <th rowspan=\"2\" valign=\"top\">red</th>\n",
              "      <th>down</th>\n",
              "      <td>-1.536510</td>\n",
              "      <td>1.592459</td>\n",
              "      <td>1.379996</td>\n",
              "      <td>0.063854</td>\n",
              "    </tr>\n",
              "    <tr>\n",
              "      <th>up</th>\n",
              "      <td>0.390486</td>\n",
              "      <td>1.032475</td>\n",
              "      <td>-1.199623</td>\n",
              "      <td>0.396890</td>\n",
              "    </tr>\n",
              "    <tr>\n",
              "      <th rowspan=\"2\" valign=\"top\">white</th>\n",
              "      <th>down</th>\n",
              "      <td>-1.102312</td>\n",
              "      <td>-0.210819</td>\n",
              "      <td>-0.040815</td>\n",
              "      <td>-1.830725</td>\n",
              "    </tr>\n",
              "    <tr>\n",
              "      <th>up</th>\n",
              "      <td>1.249320</td>\n",
              "      <td>0.433371</td>\n",
              "      <td>1.014253</td>\n",
              "      <td>-1.419111</td>\n",
              "    </tr>\n",
              "  </tbody>\n",
              "</table>\n",
              "</div>"
            ],
            "text/plain": [
              "object              pen               paper          \n",
              "id                    1         2         1         2\n",
              "colors status                                        \n",
              "red    down   -1.536510  1.592459  1.379996  0.063854\n",
              "       up      0.390486  1.032475 -1.199623  0.396890\n",
              "white  down   -1.102312 -0.210819 -0.040815 -1.830725\n",
              "       up      1.249320  0.433371  1.014253 -1.419111"
            ]
          },
          "metadata": {
            "tags": []
          },
          "execution_count": 155
        }
      ]
    },
    {
      "metadata": {
        "id": "UsEdGko07pI_",
        "colab_type": "text"
      },
      "cell_type": "markdown",
      "source": [
        "###Summary Statistic by Level###\n",
        "\n",
        "Many descriptive statistics and summary statistics have a **level** option"
      ]
    },
    {
      "metadata": {
        "id": "iutUv9pl76gc",
        "colab_type": "text"
      },
      "cell_type": "markdown",
      "source": [
        "If you want to create a statistic at a *row* level, you have to specify the **level** option with the level name"
      ]
    },
    {
      "metadata": {
        "id": "6IQf7b7s8Fhw",
        "colab_type": "code",
        "colab": {
          "base_uri": "https://localhost:8080/",
          "height": 166
        },
        "outputId": "8ad02303-88ac-4baf-e9bf-9920013c60cb"
      },
      "cell_type": "code",
      "source": [
        "mframe.sum(level='colors')"
      ],
      "execution_count": 156,
      "outputs": [
        {
          "output_type": "execute_result",
          "data": {
            "text/html": [
              "<div>\n",
              "<style scoped>\n",
              "    .dataframe tbody tr th:only-of-type {\n",
              "        vertical-align: middle;\n",
              "    }\n",
              "\n",
              "    .dataframe tbody tr th {\n",
              "        vertical-align: top;\n",
              "    }\n",
              "\n",
              "    .dataframe thead tr th {\n",
              "        text-align: left;\n",
              "    }\n",
              "\n",
              "    .dataframe thead tr:last-of-type th {\n",
              "        text-align: right;\n",
              "    }\n",
              "</style>\n",
              "<table border=\"1\" class=\"dataframe\">\n",
              "  <thead>\n",
              "    <tr>\n",
              "      <th>object</th>\n",
              "      <th colspan=\"2\" halign=\"left\">pen</th>\n",
              "      <th colspan=\"2\" halign=\"left\">paper</th>\n",
              "    </tr>\n",
              "    <tr>\n",
              "      <th>id</th>\n",
              "      <th>1</th>\n",
              "      <th>2</th>\n",
              "      <th>1</th>\n",
              "      <th>2</th>\n",
              "    </tr>\n",
              "    <tr>\n",
              "      <th>colors</th>\n",
              "      <th></th>\n",
              "      <th></th>\n",
              "      <th></th>\n",
              "      <th></th>\n",
              "    </tr>\n",
              "  </thead>\n",
              "  <tbody>\n",
              "    <tr>\n",
              "      <th>white</th>\n",
              "      <td>0.147009</td>\n",
              "      <td>0.222552</td>\n",
              "      <td>0.973438</td>\n",
              "      <td>-3.249836</td>\n",
              "    </tr>\n",
              "    <tr>\n",
              "      <th>red</th>\n",
              "      <td>-1.146024</td>\n",
              "      <td>2.624934</td>\n",
              "      <td>0.180373</td>\n",
              "      <td>0.460744</td>\n",
              "    </tr>\n",
              "  </tbody>\n",
              "</table>\n",
              "</div>"
            ],
            "text/plain": [
              "object       pen               paper          \n",
              "id             1         2         1         2\n",
              "colors                                        \n",
              "white   0.147009  0.222552  0.973438 -3.249836\n",
              "red    -1.146024  2.624934  0.180373  0.460744"
            ]
          },
          "metadata": {
            "tags": []
          },
          "execution_count": 156
        }
      ]
    },
    {
      "metadata": {
        "id": "qyRb_4IN8I95",
        "colab_type": "text"
      },
      "cell_type": "markdown",
      "source": [
        "To create a statistic at a *column* level, must specify the **axis**=1 as well"
      ]
    },
    {
      "metadata": {
        "id": "mi1xX-YO8Sz5",
        "colab_type": "code",
        "colab": {
          "base_uri": "https://localhost:8080/",
          "height": 195
        },
        "outputId": "34b47051-3822-42d5-af2e-b922db161f08"
      },
      "cell_type": "code",
      "source": [
        "mframe.sum(level='id', axis= 1)"
      ],
      "execution_count": 157,
      "outputs": [
        {
          "output_type": "execute_result",
          "data": {
            "text/html": [
              "<div>\n",
              "<style scoped>\n",
              "    .dataframe tbody tr th:only-of-type {\n",
              "        vertical-align: middle;\n",
              "    }\n",
              "\n",
              "    .dataframe tbody tr th {\n",
              "        vertical-align: top;\n",
              "    }\n",
              "\n",
              "    .dataframe thead th {\n",
              "        text-align: right;\n",
              "    }\n",
              "</style>\n",
              "<table border=\"1\" class=\"dataframe\">\n",
              "  <thead>\n",
              "    <tr style=\"text-align: right;\">\n",
              "      <th></th>\n",
              "      <th>id</th>\n",
              "      <th>1</th>\n",
              "      <th>2</th>\n",
              "    </tr>\n",
              "    <tr>\n",
              "      <th>colors</th>\n",
              "      <th>status</th>\n",
              "      <th></th>\n",
              "      <th></th>\n",
              "    </tr>\n",
              "  </thead>\n",
              "  <tbody>\n",
              "    <tr>\n",
              "      <th rowspan=\"2\" valign=\"top\">white</th>\n",
              "      <th>up</th>\n",
              "      <td>2.263573</td>\n",
              "      <td>-0.985739</td>\n",
              "    </tr>\n",
              "    <tr>\n",
              "      <th>down</th>\n",
              "      <td>-1.143127</td>\n",
              "      <td>-2.041544</td>\n",
              "    </tr>\n",
              "    <tr>\n",
              "      <th rowspan=\"2\" valign=\"top\">red</th>\n",
              "      <th>up</th>\n",
              "      <td>-0.809138</td>\n",
              "      <td>1.429364</td>\n",
              "    </tr>\n",
              "    <tr>\n",
              "      <th>down</th>\n",
              "      <td>-0.156514</td>\n",
              "      <td>1.656313</td>\n",
              "    </tr>\n",
              "  </tbody>\n",
              "</table>\n",
              "</div>"
            ],
            "text/plain": [
              "id                    1         2\n",
              "colors status                    \n",
              "white  up      2.263573 -0.985739\n",
              "       down   -1.143127 -2.041544\n",
              "red    up     -0.809138  1.429364\n",
              "       down   -0.156514  1.656313"
            ]
          },
          "metadata": {
            "tags": []
          },
          "execution_count": 157
        }
      ]
    }
  ]
}