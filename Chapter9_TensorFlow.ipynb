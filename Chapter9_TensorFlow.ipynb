{
  "nbformat": 4,
  "nbformat_minor": 0,
  "metadata": {
    "colab": {
      "name": "Chapter9_TensorFlow.ipynb",
      "version": "0.3.2",
      "provenance": [],
      "include_colab_link": true
    },
    "kernelspec": {
      "name": "python3",
      "display_name": "Python 3"
    }
  },
  "cells": [
    {
      "cell_type": "markdown",
      "metadata": {
        "id": "view-in-github",
        "colab_type": "text"
      },
      "source": [
        "<a href=\"https://colab.research.google.com/github/lblogan14/python_data_analysis/blob/master/Chapter9_TensorFlow.ipynb\" target=\"_parent\"><img src=\"https://colab.research.google.com/assets/colab-badge.svg\" alt=\"Open In Colab\"/></a>"
      ]
    },
    {
      "metadata": {
        "id": "qAg5ptOSgO_C",
        "colab_type": "text"
      },
      "cell_type": "markdown",
      "source": [
        "#TensorFlow\n",
        "TensorFlow (https://www.tensorflow.org) is a library developed by the Google Brain Team.\n",
        "Other libraries:\n",
        "* *TensorBoard* - A kit that allows the visualization of internal graphs to TensorFlow\n",
        "* *TensorFlow Fold* - Produces beautiful dynamic calculation charts\n",
        "* *TensorFlow Transform* - Created and managed input data pipelines"
      ]
    },
    {
      "metadata": {
        "id": "8J8tdsan9Qw2",
        "colab_type": "code",
        "colab": {}
      },
      "cell_type": "code",
      "source": [
        "import numpy as np\n",
        "import matplotlib.pyplot as plt"
      ],
      "execution_count": 0,
      "outputs": []
    },
    {
      "metadata": {
        "id": "Vob1FckDhmmN",
        "colab_type": "text"
      },
      "cell_type": "markdown",
      "source": [
        "#Start Programming with TensorFlow\n",
        "\n",
        "##Installing TensorFlow\n",
        "For Ubuntu Linux systems,\n",
        "\n",
        "    pip3 install tensorflow"
      ]
    },
    {
      "metadata": {
        "id": "gQ_yhsqUj7xO",
        "colab_type": "code",
        "colab": {}
      },
      "cell_type": "code",
      "source": [
        "import tensorflow as tf"
      ],
      "execution_count": 0,
      "outputs": []
    },
    {
      "metadata": {
        "id": "IJkPjDvTh6Da",
        "colab_type": "text"
      },
      "cell_type": "markdown",
      "source": [
        "##The Model and Sessions in TensorFlow\n",
        "TensorFlow works through the concept of *model* and *sessions*, which define the structure of a program with a certain sequence of commands.\n",
        "\n",
        "Variables can be defined directly or parameterized through mathematical expressions on constants."
      ]
    },
    {
      "metadata": {
        "id": "oYFaQf3Hj5-m",
        "colab_type": "code",
        "colab": {}
      },
      "cell_type": "code",
      "source": [
        "c = tf.constant(2, name='c')\n",
        "x = tf.Variable(3, name='x')\n",
        "y = tf.Variable(c*x, name='y')"
      ],
      "execution_count": 0,
      "outputs": []
    },
    {
      "metadata": {
        "id": "eBRVzko4kRpT",
        "colab_type": "code",
        "colab": {
          "base_uri": "https://localhost:8080/",
          "height": 34
        },
        "outputId": "bb185f26-9456-4b6e-acf5-438bfb131335"
      },
      "cell_type": "code",
      "source": [
        "print(x)"
      ],
      "execution_count": 3,
      "outputs": [
        {
          "output_type": "stream",
          "text": [
            "<tf.Variable 'x:0' shape=() dtype=int32_ref>\n"
          ],
          "name": "stdout"
        }
      ]
    },
    {
      "metadata": {
        "id": "4S89Llc0kMTp",
        "colab_type": "text"
      },
      "cell_type": "markdown",
      "source": [
        "You  can't see the defined value of TensorFlow variables using the **print()** function because they belong to the TensorFlow Data Flow Graph, which is a graph with nodes and connections that represent your mathematical model.\n",
        "\n",
        "Variables involve in the calculation of the deep learning method.\n",
        "\n",
        "Placeholders involve in the flow of data and in the processing of each single neuron.\n",
        "\n",
        "Placeholders allow you to build the graph corresponding to the neural network, and to create operations inside without absolutely knowing the data to be calculated.\n",
        "\n",
        "Given a training set consisting of the value to be analyzed, **X** (a tensor) and an expected value **Y** (a tensor), you will define two placeholders:"
      ]
    },
    {
      "metadata": {
        "id": "N-TBBffDmcKN",
        "colab_type": "code",
        "colab": {}
      },
      "cell_type": "code",
      "source": [
        "X = tf.placeholder('int32')\n",
        "Y = tf.placeholder('int32')"
      ],
      "execution_count": 0,
      "outputs": []
    },
    {
      "metadata": {
        "id": "SpTirVrlmwSI",
        "colab_type": "text"
      },
      "cell_type": "markdown",
      "source": [
        "Once all placeholders and variables are defined, you need to use the **tf.global_variables_initializer()** function to perform the appropriate processing and initialize the whole model."
      ]
    },
    {
      "metadata": {
        "id": "alKXBgBvm_D7",
        "colab_type": "code",
        "colab": {}
      },
      "cell_type": "code",
      "source": [
        "model = tf.global_variables_initializer()"
      ],
      "execution_count": 0,
      "outputs": []
    },
    {
      "metadata": {
        "id": "pH5zXBRDnMcF",
        "colab_type": "text"
      },
      "cell_type": "markdown",
      "source": [
        "You need to communicate with the TensorFlow runtime system to start doing the calculations. Thus, a TensorFlow session is created, using **tf.Session()** constructor.\n",
        "\n",
        "When you start a session, you do nothing but instantiate the model graph.\n",
        "\n",
        "* **session.extend()** allows you to make changes to the graph during the calculation, such as adding new nodes or connections\n",
        "\n",
        "* **session.run()** launches the execution of the graph and allows you to obtain the results in output\n",
        "\n",
        "It is preferred to use the construct **with:** with all calls to methods inherent to it."
      ]
    },
    {
      "metadata": {
        "id": "v-UwurphoEQi",
        "colab_type": "code",
        "colab": {
          "base_uri": "https://localhost:8080/",
          "height": 34
        },
        "outputId": "032517ee-3397-4479-c8db-f7708362a33d"
      },
      "cell_type": "code",
      "source": [
        "with tf.Session() as session:\n",
        "  session.run(model)\n",
        "  print(session.run(y))"
      ],
      "execution_count": 6,
      "outputs": [
        {
          "output_type": "stream",
          "text": [
            "6\n"
          ],
          "name": "stdout"
        }
      ]
    },
    {
      "metadata": {
        "id": "i43o-jYr8SLd",
        "colab_type": "text"
      },
      "cell_type": "markdown",
      "source": [
        "##Tensors\n",
        "A tensor is identified by three parameters:\n",
        "* **rank** - Diemsnion of the tensor (a matrix has rank 2, a vector has rank 1)\n",
        "* **shape** - Number of rows and columns\n",
        "* **type** - Types of tensor elements\n",
        "\n",
        "To convert a multidimensional NumPy array to a TensorFlow tensor, use **tf.convert_to_tensor()** function,"
      ]
    },
    {
      "metadata": {
        "id": "AJymooM-9NX2",
        "colab_type": "code",
        "colab": {}
      },
      "cell_type": "code",
      "source": [
        "t =  np.arange(9).reshape(3,3)\n",
        "tensor = tf.convert_to_tensor(t, dtype=tf.int32)"
      ],
      "execution_count": 0,
      "outputs": []
    },
    {
      "metadata": {
        "id": "lAsdgKFG9e8r",
        "colab_type": "text"
      },
      "cell_type": "markdown",
      "source": [
        "To see the content of the tensor, you need to create a TensorFlow session and run it."
      ]
    },
    {
      "metadata": {
        "id": "SAenDEWF9mp1",
        "colab_type": "code",
        "colab": {
          "base_uri": "https://localhost:8080/",
          "height": 68
        },
        "outputId": "7504c49e-923b-4ba8-f165-6ca4376e23cc"
      },
      "cell_type": "code",
      "source": [
        "with tf.Session() as sess:\n",
        "  print(sess.run(tensor))"
      ],
      "execution_count": 9,
      "outputs": [
        {
          "output_type": "stream",
          "text": [
            "[[0 1 2]\n",
            " [3 4 5]\n",
            " [6 7 8]]\n"
          ],
          "name": "stdout"
        }
      ]
    },
    {
      "metadata": {
        "id": "xnhurYNQ9yY_",
        "colab_type": "text"
      },
      "cell_type": "markdown",
      "source": [
        "There are also other functions in TensorFlow to use"
      ]
    },
    {
      "metadata": {
        "id": "h364wWji92mt",
        "colab_type": "code",
        "colab": {
          "base_uri": "https://localhost:8080/",
          "height": 68
        },
        "outputId": "00716105-3a3c-48b8-d7f6-192021916fb1"
      },
      "cell_type": "code",
      "source": [
        "t0 = tf.zeros((3,3), 'float64')\n",
        "with tf.Session() as sess:\n",
        "  print(sess.run(t0))"
      ],
      "execution_count": 10,
      "outputs": [
        {
          "output_type": "stream",
          "text": [
            "[[0. 0. 0.]\n",
            " [0. 0. 0.]\n",
            " [0. 0. 0.]]\n"
          ],
          "name": "stdout"
        }
      ]
    },
    {
      "metadata": {
        "id": "EgsTn7Iz-AZE",
        "colab_type": "code",
        "colab": {
          "base_uri": "https://localhost:8080/",
          "height": 68
        },
        "outputId": "35e77c0a-37c4-47e4-a172-99252d17c75b"
      },
      "cell_type": "code",
      "source": [
        "t1 = tf.ones((3,3), 'float64')\n",
        "with tf.Session() as sess:\n",
        "  print(sess.run(t1))"
      ],
      "execution_count": 11,
      "outputs": [
        {
          "output_type": "stream",
          "text": [
            "[[1. 1. 1.]\n",
            " [1. 1. 1.]\n",
            " [1. 1. 1.]]\n"
          ],
          "name": "stdout"
        }
      ]
    },
    {
      "metadata": {
        "id": "yERv6tWn-OIv",
        "colab_type": "text"
      },
      "cell_type": "markdown",
      "source": [
        "create random values following uniform distribution using **tf.random_uniform()** function"
      ]
    },
    {
      "metadata": {
        "id": "2Srhnvk1-UO8",
        "colab_type": "code",
        "colab": {
          "base_uri": "https://localhost:8080/",
          "height": 68
        },
        "outputId": "017aced2-f10b-46c5-a249-be79e74b1ccf"
      },
      "cell_type": "code",
      "source": [
        "tensorrand = tf.random_uniform((3,3), minval=0, maxval=1, dtype=tf.float32)\n",
        "with tf.Session() as sess:\n",
        "  print(sess.run(tensorrand))"
      ],
      "execution_count": 12,
      "outputs": [
        {
          "output_type": "stream",
          "text": [
            "[[0.67398083 0.94064057 0.03044999]\n",
            " [0.01415217 0.05712187 0.06749117]\n",
            " [0.12191582 0.09027445 0.07290292]]\n"
          ],
          "name": "stdout"
        }
      ]
    },
    {
      "metadata": {
        "id": "ASzGLonm-sUH",
        "colab_type": "text"
      },
      "cell_type": "markdown",
      "source": [
        "create random values following normal distribution using **tf.random_normal()** function"
      ]
    },
    {
      "metadata": {
        "id": "GamCkB7l-x68",
        "colab_type": "code",
        "colab": {
          "base_uri": "https://localhost:8080/",
          "height": 68
        },
        "outputId": "d069f8d4-cbe6-4898-a27b-50b1081f904d"
      },
      "cell_type": "code",
      "source": [
        "norm = tf.random_normal((3,3), mean=0, stddev=3)\n",
        "with tf.Session() as sess:\n",
        "  print(sess.run(norm))"
      ],
      "execution_count": 13,
      "outputs": [
        {
          "output_type": "stream",
          "text": [
            "[[ 3.5436182 -1.6043367  3.0617301]\n",
            " [ 0.5733196 -0.0220973 -1.675467 ]\n",
            " [-1.4600718  1.815146  -0.6224831]]\n"
          ],
          "name": "stdout"
        }
      ]
    },
    {
      "metadata": {
        "id": "A0wX4sXS_NUR",
        "colab_type": "text"
      },
      "cell_type": "markdown",
      "source": [
        "##Operation on Tensors"
      ]
    },
    {
      "metadata": {
        "id": "bXzY8EBa_Rxs",
        "colab_type": "code",
        "colab": {
          "base_uri": "https://localhost:8080/",
          "height": 119
        },
        "outputId": "60bcb164-b311-473a-dfb2-b145a66562b8"
      },
      "cell_type": "code",
      "source": [
        "t1 = tf.random_uniform((3,3), minval=0, maxval=1, dtype=tf.float32)\n",
        "t2 = tf.random_uniform((3,3), minval=0, maxval=1, dtype=tf.float32)\n",
        "with tf.Session() as sess:\n",
        "  print('t1 = ', sess.run(t1))\n",
        "  print('t2 = ', sess.run(t2))"
      ],
      "execution_count": 22,
      "outputs": [
        {
          "output_type": "stream",
          "text": [
            "t1 =  [[0.6325009  0.94219637 0.54254377]\n",
            " [0.7835872  0.6965312  0.21743405]\n",
            " [0.57713854 0.753374   0.91728127]]\n",
            "t2 =  [[0.09930766 0.11341953 0.5945724 ]\n",
            " [0.16129196 0.1861546  0.5472883 ]\n",
            " [0.08877444 0.32661366 0.46988463]]\n"
          ],
          "name": "stdout"
        }
      ]
    },
    {
      "metadata": {
        "id": "hbiAyW84_1-f",
        "colab_type": "text"
      },
      "cell_type": "markdown",
      "source": [
        "Examples of operations:"
      ]
    },
    {
      "metadata": {
        "id": "bDdarFa2_7RK",
        "colab_type": "code",
        "colab": {
          "base_uri": "https://localhost:8080/",
          "height": 119
        },
        "outputId": "595e5433-c227-4577-c82d-1e215e741d7c"
      },
      "cell_type": "code",
      "source": [
        "tsum = tf.add(t1, t2)\n",
        "tmul = tf.matmul(t1, t2)\n",
        "with tf.Session() as sess:\n",
        "  print('sum = ', sess.run(tsum))\n",
        "  print('mul = ', sess.run(mul))"
      ],
      "execution_count": 23,
      "outputs": [
        {
          "output_type": "stream",
          "text": [
            "sum =  [[1.4726031 1.3999584 0.9870105]\n",
            " [1.6646738 1.1432006 0.9508059]\n",
            " [1.6747787 1.0126652 0.9210423]]\n",
            "mul =  [[1.0203418  0.8716587  0.77667105]\n",
            " [1.2021044  0.8015778  0.53409946]\n",
            " [1.3069555  0.91202575 0.78512555]]\n"
          ],
          "name": "stdout"
        }
      ]
    },
    {
      "metadata": {
        "id": "qsfJ9b8nAclS",
        "colab_type": "code",
        "colab": {
          "base_uri": "https://localhost:8080/",
          "height": 34
        },
        "outputId": "22b4e59f-3eb2-4cf0-b24b-c750e73bf4ce"
      },
      "cell_type": "code",
      "source": [
        "det = tf.matrix_determinant(t1)\n",
        "with tf.Session() as sess:\n",
        "  print('det = ', sess.run(det))"
      ],
      "execution_count": 24,
      "outputs": [
        {
          "output_type": "stream",
          "text": [
            "det =  -0.07111181\n"
          ],
          "name": "stdout"
        }
      ]
    },
    {
      "metadata": {
        "id": "xe_S0ohzA2nX",
        "colab_type": "text"
      },
      "cell_type": "markdown",
      "source": [
        "#Single Layer Perceptron with TensorFlow"
      ]
    },
    {
      "metadata": {
        "id": "XiPvwcbWBPJG",
        "colab_type": "text"
      },
      "cell_type": "markdown",
      "source": [
        "##Data to be Analyzed"
      ]
    },
    {
      "metadata": {
        "id": "VcZp967oBYT6",
        "colab_type": "code",
        "colab": {
          "base_uri": "https://localhost:8080/",
          "height": 241
        },
        "outputId": "de2c6482-d26e-4daa-df3e-2102d253a667"
      },
      "cell_type": "code",
      "source": [
        "#Training set\n",
        "inputX = np.array([[1.,3.],[1.,2.],[1.,1.5],[1.5,2.],[2.,3.],[2.5,1.5],\n",
        "                   [2.,1.],[3.,1.],[3.,2.],[3.5,1.],[3.5,3.]])\n",
        "inputY = [[1.,0.]]*6+ [[0.,1.]]*5\n",
        "print(inputX)\n",
        "print(inputY)"
      ],
      "execution_count": 26,
      "outputs": [
        {
          "output_type": "stream",
          "text": [
            "[[1.  3. ]\n",
            " [1.  2. ]\n",
            " [1.  1.5]\n",
            " [1.5 2. ]\n",
            " [2.  3. ]\n",
            " [2.5 1.5]\n",
            " [2.  1. ]\n",
            " [3.  1. ]\n",
            " [3.  2. ]\n",
            " [3.5 1. ]\n",
            " [3.5 3. ]]\n",
            "[[1.0, 0.0], [1.0, 0.0], [1.0, 0.0], [1.0, 0.0], [1.0, 0.0], [1.0, 0.0], [0.0, 1.0], [0.0, 1.0], [0.0, 1.0], [0.0, 1.0], [0.0, 1.0]]\n"
          ],
          "name": "stdout"
        }
      ]
    },
    {
      "metadata": {
        "id": "UuoGcN1IBti1",
        "colab_type": "text"
      },
      "cell_type": "markdown",
      "source": [
        "If the label, **inputY**, is [1, 0], it belongs to the first class; if it has [0, 1], then it belongs to the second class.\n",
        "\n",
        "If the neural network gives you the rsult of a label as\n",
        "\n",
        "    [0.910, 0.090]\n",
        "    \n",
        "This means the result belongs to 91% to the first class, and to 9% to the second class"
      ]
    },
    {
      "metadata": {
        "id": "rWXwqSbsCXVW",
        "colab_type": "code",
        "colab": {
          "base_uri": "https://localhost:8080/",
          "height": 381
        },
        "outputId": "c6b1625d-aad9-4619-929c-206128c449b4"
      },
      "cell_type": "code",
      "source": [
        "yc = [0]*6 + [1]*5\n",
        "color = {0:'r', 1:'b'}\n",
        "c = [color[i] for i in yc]\n",
        "print(yc)\n",
        "plt.scatter(inputX[:,0], inputX[:,1], c=c, s=50, alpha=0.9)"
      ],
      "execution_count": 27,
      "outputs": [
        {
          "output_type": "stream",
          "text": [
            "[0, 0, 0, 0, 0, 0, 1, 1, 1, 1, 1]\n"
          ],
          "name": "stdout"
        },
        {
          "output_type": "execute_result",
          "data": {
            "text/plain": [
              "<matplotlib.collections.PathCollection at 0x7fb8c6e2fb00>"
            ]
          },
          "metadata": {
            "tags": []
          },
          "execution_count": 27
        },
        {
          "output_type": "display_data",
          "data": {
            "image/png": "[encoded data removed]",
            "text/plain": [
              "<matplotlib.figure.Figure at 0x7fb8c6eae390>"
            ]
          },
          "metadata": {
            "tags": []
          }
        }
      ]
    },
    {
      "metadata": {
        "id": "m5uoNrd2C-wJ",
        "colab_type": "text"
      },
      "cell_type": "markdown",
      "source": [
        "##The SLP Model Definition\n",
        "Define the parameters first,"
      ]
    },
    {
      "metadata": {
        "id": "vzQiEB7dDMno",
        "colab_type": "code",
        "colab": {}
      },
      "cell_type": "code",
      "source": [
        "learning_rate = 0.01\n",
        "training_epochs = 2000\n",
        "display_step = 50\n",
        "n_samples = 11\n",
        "batch_size = 11\n",
        "total_batch = int(n_samples/batch_size)\n",
        "n_input = 2 #size data input (# feasures of each X)\n",
        "n_classes = 2 #n of classes"
      ],
      "execution_count": 0,
      "outputs": []
    },
    {
      "metadata": {
        "id": "C8POAXyXEA3a",
        "colab_type": "text"
      },
      "cell_type": "markdown",
      "source": [
        "Then, build a neural network.\n",
        "\n",
        "First, define inputs and outputs using the **placeholder**"
      ]
    },
    {
      "metadata": {
        "id": "CFN9w7wGEOf4",
        "colab_type": "code",
        "colab": {}
      },
      "cell_type": "code",
      "source": [
        "# tf Graph\n",
        "#define two neurons in input layer\n",
        "x = tf.placeholder('float', [None, n_input])\n",
        "#define two neurons in output layer\n",
        "y = tf.placeholder('float', [None, n_classes])"
      ],
      "execution_count": 0,
      "outputs": []
    },
    {
      "metadata": {
        "id": "mNgtnTAVEtZZ",
        "colab_type": "text"
      },
      "cell_type": "markdown",
      "source": [
        "Then, define weights and bias using **Variables**"
      ]
    },
    {
      "metadata": {
        "id": "Ig-V1p3aE5ue",
        "colab_type": "code",
        "colab": {}
      },
      "cell_type": "code",
      "source": [
        "#set model weights\n",
        "W = tf.Variable(tf.zeros([n_input, n_classes]))\n",
        "b = tf.Variable(tf.zeros([n_classes]))"
      ],
      "execution_count": 0,
      "outputs": []
    },
    {
      "metadata": {
        "id": "1AYKPUHIFSeL",
        "colab_type": "text"
      },
      "cell_type": "markdown",
      "source": [
        "Add connections"
      ]
    },
    {
      "metadata": {
        "id": "cuDJM57QFWAm",
        "colab_type": "code",
        "colab": {}
      },
      "cell_type": "code",
      "source": [
        "evidence = tf.add(tf.matmul(x, W), b)\n",
        "y_ = tf.nn.softmax(evidence)"
      ],
      "execution_count": 0,
      "outputs": []
    },
    {
      "metadata": {
        "id": "TZI5AErNFflR",
        "colab_type": "text"
      },
      "cell_type": "markdown",
      "source": [
        "Finish up model contruction by defining the cost function and optimization method,"
      ]
    },
    {
      "metadata": {
        "id": "SyFUht0DFmtm",
        "colab_type": "code",
        "colab": {}
      },
      "cell_type": "code",
      "source": [
        "#define the mean squared error loss\n",
        "cost = tf.reduce_sum(tf.pow(y-y_, 2))/ (2*n_samples)\n",
        "#define gradient descent optimization\n",
        "optimizer = tf.train.GradientDescentOptimizer(learning_rate=learning_rate).minimize(cost)"
      ],
      "execution_count": 0,
      "outputs": []
    },
    {
      "metadata": {
        "id": "9iUx4EbdGMi0",
        "colab_type": "text"
      },
      "cell_type": "markdown",
      "source": [
        "##Learning Phase\n",
        "Define two lists that will serve as a container for the results obtained during the learning phase:\n",
        "* **avg_set** = cost values for each epoch\n",
        "* **epoch_set** = relative epoch number"
      ]
    },
    {
      "metadata": {
        "id": "FkNx0ImyGrHu",
        "colab_type": "code",
        "colab": {}
      },
      "cell_type": "code",
      "source": [
        "avg_set = []\n",
        "epoch_set = []"
      ],
      "execution_count": 0,
      "outputs": []
    },
    {
      "metadata": {
        "id": "iOaoxM66Gvig",
        "colab_type": "text"
      },
      "cell_type": "markdown",
      "source": [
        "Before starting the session, you need to initialize all the variables,"
      ]
    },
    {
      "metadata": {
        "id": "GF10b4WXG02t",
        "colab_type": "code",
        "colab": {}
      },
      "cell_type": "code",
      "source": [
        "init = tf.global_variables_initializer()"
      ],
      "execution_count": 0,
      "outputs": []
    },
    {
      "metadata": {
        "id": "aEQNBS3KHPxA",
        "colab_type": "text"
      },
      "cell_type": "markdown",
      "source": [
        "It is possible to intervene within each epoch, thanks to a for loop that scans all the values of **training_epochs**. Within this cycle for each epoch, you will optimize using the **sess.run (optimizer)** command. Furthermore, every 50 epochs, the condition **if% display_step == 0** will be satisfied. Then you will extract the cost value via **sess.run(cost)** and insert it in the\n",
        "**c** variable that you will use for printing on the terminal as the **print()** argument that stores the **avg_set** list, using the **append()** function. In the end, when the **for** loop has\n",
        "been completed, you will print a message on the terminal informing you of the end of\n",
        "the learning phase."
      ]
    },
    {
      "metadata": {
        "id": "CV4nxTe5IJmX",
        "colab_type": "code",
        "colab": {}
      },
      "cell_type": "code",
      "source": [
        "with tf.Session() as sess:\n",
        "  sess.run(init)\n",
        "  \n",
        "  for i in range(training_epochs):\n",
        "    sess.run(optimizer, feed_dict={x:inputX, y:inputY})\n",
        "    if i % display_step == 0:\n",
        "      c = sess.run(cost, feed_dict={x:inputX, y:inputY})\n",
        "      print('Epoch:', '%04d' % (i), 'cost=', '{:.9f}'.format(c))\n",
        "      avg_set.append(c)\n",
        "      epoch_set.append(i+1)\n",
        "  \n",
        "  print('Training phase finished')"
      ],
      "execution_count": 0,
      "outputs": []
    },
    {
      "metadata": {
        "id": "lJ-VEizQI2sB",
        "colab_type": "text"
      },
      "cell_type": "markdown",
      "source": [
        "After the learning phase, print a summary table"
      ]
    },
    {
      "metadata": {
        "id": "gnxF4CepJB2L",
        "colab_type": "code",
        "colab": {
          "base_uri": "https://localhost:8080/",
          "height": 969
        },
        "outputId": "6f3f6f34-fb50-4622-9ef0-71c29199532d"
      },
      "cell_type": "code",
      "source": [
        "with tf.Session() as sess:\n",
        "  sess.run(init)\n",
        "  \n",
        "  for i in range(training_epochs):\n",
        "    sess.run(optimizer, feed_dict={x:inputX, y:inputY})\n",
        "    if i % display_step == 0:\n",
        "      c = sess.run(cost, feed_dict={x:inputX, y:inputY})\n",
        "      print('Epoch:', '%04d' % (i), 'cost=', '{:.9f}'.format(c))\n",
        "      avg_set.append(c)\n",
        "      epoch_set.append(i+1)\n",
        "  \n",
        "  print('Training phase finished')\n",
        "  \n",
        "  #Summary\n",
        "  training_cost = sess.run(cost, feed_dict={x:inputX, y:inputY})\n",
        "  print('Training cost =', training_cost, '\\nW=', sess.run(W), '\\nb=', sess.run(b))\n",
        "  last_result = sess.run(y_, feed_dict={x:inputX})\n",
        "  print('Last result =', last_result)"
      ],
      "execution_count": 35,
      "outputs": [
        {
          "output_type": "stream",
          "text": [
            "Epoch: 0000 cost= 0.249360293\n",
            "Epoch: 0050 cost= 0.221041098\n",
            "Epoch: 0100 cost= 0.198898271\n",
            "Epoch: 0150 cost= 0.181669712\n",
            "Epoch: 0200 cost= 0.168204844\n",
            "Epoch: 0250 cost= 0.157555178\n",
            "Epoch: 0300 cost= 0.149002746\n",
            "Epoch: 0350 cost= 0.142023847\n",
            "Epoch: 0400 cost= 0.136240512\n",
            "Epoch: 0450 cost= 0.131379008\n",
            "Epoch: 0500 cost= 0.127239138\n",
            "Epoch: 0550 cost= 0.123672642\n",
            "Epoch: 0600 cost= 0.120568052\n",
            "Epoch: 0650 cost= 0.117840447\n",
            "Epoch: 0700 cost= 0.115424201\n",
            "Epoch: 0750 cost= 0.113267884\n",
            "Epoch: 0800 cost= 0.111330733\n",
            "Epoch: 0850 cost= 0.109580085\n",
            "Epoch: 0900 cost= 0.107989423\n",
            "Epoch: 0950 cost= 0.106537104\n",
            "Epoch: 1000 cost= 0.105205171\n",
            "Epoch: 1050 cost= 0.103978693\n",
            "Epoch: 1100 cost= 0.102845162\n",
            "Epoch: 1150 cost= 0.101793967\n",
            "Epoch: 1200 cost= 0.100816056\n",
            "Epoch: 1250 cost= 0.099903703\n",
            "Epoch: 1300 cost= 0.099050261\n",
            "Epoch: 1350 cost= 0.098249912\n",
            "Epoch: 1400 cost= 0.097497642\n",
            "Epoch: 1450 cost= 0.096789040\n",
            "Epoch: 1500 cost= 0.096120216\n",
            "Epoch: 1550 cost= 0.095487759\n",
            "Epoch: 1600 cost= 0.094888613\n",
            "Epoch: 1650 cost= 0.094320126\n",
            "Epoch: 1700 cost= 0.093779817\n",
            "Epoch: 1750 cost= 0.093265578\n",
            "Epoch: 1800 cost= 0.092775457\n",
            "Epoch: 1850 cost= 0.092307687\n",
            "Epoch: 1900 cost= 0.091860712\n",
            "Epoch: 1950 cost= 0.091433086\n",
            "Training phase finished\n",
            "Training cost = 0.09103153 \n",
            "W= [[-0.70927787  0.7092778 ]\n",
            " [ 0.6299924  -0.62999237]] \n",
            "b= [ 0.34513065 -0.34513068]\n",
            "Last result = [[0.9548542  0.04514586]\n",
            " [0.85713255 0.14286745]\n",
            " [0.76163834 0.23836163]\n",
            " [0.7469474  0.2530526 ]\n",
            " [0.83659446 0.16340555]\n",
            " [0.2756484  0.7243516 ]\n",
            " [0.29175714 0.70824283]\n",
            " [0.090675   0.909325  ]\n",
            " [0.26010245 0.7398975 ]\n",
            " [0.04676624 0.9532338 ]\n",
            " [0.37878013 0.6212199 ]]\n"
          ],
          "name": "stdout"
        }
      ]
    },
    {
      "metadata": {
        "id": "vNqtQj_yJ84d",
        "colab_type": "text"
      },
      "cell_type": "markdown",
      "source": [
        "Visualization"
      ]
    },
    {
      "metadata": {
        "id": "75M1q10pJ-_j",
        "colab_type": "code",
        "colab": {
          "base_uri": "https://localhost:8080/",
          "height": 378
        },
        "outputId": "340881f9-990e-4d65-f550-f5c67b877be1"
      },
      "cell_type": "code",
      "source": [
        "plt.plot(epoch_set, avg_set, 'o', label='SLP Training phase')\n",
        "plt.xlabel('epochs')\n",
        "plt.ylabel('cost')\n",
        "plt.legend()"
      ],
      "execution_count": 36,
      "outputs": [
        {
          "output_type": "execute_result",
          "data": {
            "text/plain": [
              "<matplotlib.legend.Legend at 0x7fb8c448e710>"
            ]
          },
          "metadata": {
            "tags": []
          },
          "execution_count": 36
        },
        {
          "output_type": "display_data",
          "data": {
            "image/png": "[encoded data removed]",
            "text/plain": [
              "<matplotlib.figure.Figure at 0x7fb8c4cd5780>"
            ]
          },
          "metadata": {
            "tags": []
          }
        }
      ]
    },
    {
      "metadata": {
        "id": "lzehGL_PKfZn",
        "colab_type": "text"
      },
      "cell_type": "markdown",
      "source": [
        "To see the prediction result visually,"
      ]
    },
    {
      "metadata": {
        "id": "qzO929bqKhzy",
        "colab_type": "code",
        "colab": {
          "base_uri": "https://localhost:8080/",
          "height": 68
        },
        "outputId": "956a053a-bbc4-47d1-9697-d5184d7dba66"
      },
      "cell_type": "code",
      "source": [
        "yc = last_result[:,1]\n",
        "yc"
      ],
      "execution_count": 38,
      "outputs": [
        {
          "output_type": "execute_result",
          "data": {
            "text/plain": [
              "array([0.04514586, 0.14286745, 0.23836163, 0.2530526 , 0.16340555,\n",
              "       0.7243516 , 0.70824283, 0.909325  , 0.7398975 , 0.9532338 ,\n",
              "       0.6212199 ], dtype=float32)"
            ]
          },
          "metadata": {
            "tags": []
          },
          "execution_count": 38
        }
      ]
    },
    {
      "metadata": {
        "id": "KSKHcsQ1KlyS",
        "colab_type": "code",
        "colab": {
          "base_uri": "https://localhost:8080/",
          "height": 364
        },
        "outputId": "c1db8721-8d99-4892-d08c-2159ea1fe1f6"
      },
      "cell_type": "code",
      "source": [
        "plt.scatter(inputX[:,0], inputX[:,1], c=yc, s=50, alpha=1)"
      ],
      "execution_count": 39,
      "outputs": [
        {
          "output_type": "execute_result",
          "data": {
            "text/plain": [
              "<matplotlib.collections.PathCollection at 0x7fb8c441a320>"
            ]
          },
          "metadata": {
            "tags": []
          },
          "execution_count": 39
        },
        {
          "output_type": "display_data",
          "data": {
            "image/png": "[encoded data removed]",
            "text/plain": [
              "<matplotlib.figure.Figure at 0x7fb8c4cd56a0>"
            ]
          },
          "metadata": {
            "tags": []
          }
        }
      ]
    },
    {
      "metadata": {
        "id": "q5bJztFXK5vT",
        "colab_type": "text"
      },
      "cell_type": "markdown",
      "source": [
        "##Test Phase and Accuracy Calculation\n",
        "define a testing set"
      ]
    },
    {
      "metadata": {
        "id": "e9-3lMreLKdh",
        "colab_type": "code",
        "colab": {
          "base_uri": "https://localhost:8080/",
          "height": 241
        },
        "outputId": "35111199-7903-4ce1-afef-d826c90e5923"
      },
      "cell_type": "code",
      "source": [
        "#Testing set\n",
        "testX = np.array([[1.,2.25],[1.25,3.],[2,2.5],[2.25,2.75],[2.5,3.],[2.,0.9],\n",
        "                  [2.5,1.2],[3.,1.25],[3.,1.5],[3.5,2.],[3.5,2.5]])\n",
        "testY = [[1.,0.]]*5 + [[0.,1.]]*6\n",
        "print(testX)\n",
        "print(testY)"
      ],
      "execution_count": 40,
      "outputs": [
        {
          "output_type": "stream",
          "text": [
            "[[1.   2.25]\n",
            " [1.25 3.  ]\n",
            " [2.   2.5 ]\n",
            " [2.25 2.75]\n",
            " [2.5  3.  ]\n",
            " [2.   0.9 ]\n",
            " [2.5  1.2 ]\n",
            " [3.   1.25]\n",
            " [3.   1.5 ]\n",
            " [3.5  2.  ]\n",
            " [3.5  2.5 ]]\n",
            "[[1.0, 0.0], [1.0, 0.0], [1.0, 0.0], [1.0, 0.0], [1.0, 0.0], [0.0, 1.0], [0.0, 1.0], [0.0, 1.0], [0.0, 1.0], [0.0, 1.0], [0.0, 1.0]]\n"
          ],
          "name": "stdout"
        }
      ]
    },
    {
      "metadata": {
        "id": "FNrl93w1LU6R",
        "colab_type": "code",
        "colab": {
          "base_uri": "https://localhost:8080/",
          "height": 381
        },
        "outputId": "dba05658-f49b-4e4f-c215-81506649bb06"
      },
      "cell_type": "code",
      "source": [
        "yc = [0]*5 + [1]*6\n",
        "print(yc)\n",
        "plt.scatter(testX[:,0],testX[:,1],c=yc, s=50, alpha=0.9)"
      ],
      "execution_count": 41,
      "outputs": [
        {
          "output_type": "stream",
          "text": [
            "[0, 0, 0, 0, 0, 1, 1, 1, 1, 1, 1]\n"
          ],
          "name": "stdout"
        },
        {
          "output_type": "execute_result",
          "data": {
            "text/plain": [
              "<matplotlib.collections.PathCollection at 0x7fb8c43850f0>"
            ]
          },
          "metadata": {
            "tags": []
          },
          "execution_count": 41
        },
        {
          "output_type": "display_data",
          "data": {
            "image/png": "[encoded data removed]",
            "text/plain": [
              "<matplotlib.figure.Figure at 0x7fb8c4cd50f0>"
            ]
          },
          "metadata": {
            "tags": []
          }
        }
      ]
    },
    {
      "metadata": {
        "id": "UToa21i-LbY2",
        "colab_type": "text"
      },
      "cell_type": "markdown",
      "source": [
        "Now use the testign set to evaluate SLP"
      ]
    },
    {
      "metadata": {
        "id": "SpA8ACx2LfqZ",
        "colab_type": "code",
        "colab": {
          "base_uri": "https://localhost:8080/",
          "height": 34
        },
        "outputId": "fe7a826d-c73c-4495-c52c-2f2a52fcefc1"
      },
      "cell_type": "code",
      "source": [
        "init = tf.global_variables_initializer()\n",
        "with tf.Session() as sess:\n",
        "  sess.run(init)\n",
        "  \n",
        "  for i in range(training_epochs):\n",
        "    sess.run(optimizer, feed_dict={x:inputX, y:inputY})\n",
        "    \n",
        "  pred = tf.nn.softmax(evidence)\n",
        "  result = sess.run(pred, feed_dict={x:testX})\n",
        "  correct_prediction = tf.equal(tf.argmax(pred, 1), tf.argmax(testY, 1))\n",
        "  \n",
        "  #calculate accuracy\n",
        "  accuracy = tf.reduce_mean(tf.cast(correct_prediction, 'float'))\n",
        "  print('Accuracy:', accuracy.eval({x:testX, y:testY}))"
      ],
      "execution_count": 43,
      "outputs": [
        {
          "output_type": "stream",
          "text": [
            "Accuracy: 1.0\n"
          ],
          "name": "stdout"
        }
      ]
    },
    {
      "metadata": {
        "id": "kUSU_w-ZMU_C",
        "colab_type": "code",
        "colab": {
          "base_uri": "https://localhost:8080/",
          "height": 364
        },
        "outputId": "a93d8773-7a63-4367-fdd9-f8448371097d"
      },
      "cell_type": "code",
      "source": [
        "yc = result[:,1]\n",
        "plt.scatter(testX[:,0],testX[:,1],c=yc, s=50, alpha=1)"
      ],
      "execution_count": 44,
      "outputs": [
        {
          "output_type": "execute_result",
          "data": {
            "text/plain": [
              "<matplotlib.collections.PathCollection at 0x7fb8c4280080>"
            ]
          },
          "metadata": {
            "tags": []
          },
          "execution_count": 44
        },
        {
          "output_type": "display_data",
          "data": {
            "image/png": "[encoded data removed]",
            "text/plain": [
              "<matplotlib.figure.Figure at 0x7fb8c431a898>"
            ]
          },
          "metadata": {
            "tags": []
          }
        }
      ]
    },
    {
      "metadata": {
        "id": "R0zx4Bc_Mdub",
        "colab_type": "text"
      },
      "cell_type": "markdown",
      "source": [
        "#Multi Layer Perceptron (with One Hidden Layer) with TensorFlow\n",
        "Initiailze the training set and necessary parameters"
      ]
    },
    {
      "metadata": {
        "id": "N6F-eMT8MlF4",
        "colab_type": "code",
        "colab": {}
      },
      "cell_type": "code",
      "source": [
        "#Training set\n",
        "inputX = np.array([[1.,3.],[1.,2.],[1.,1.5],[1.5,2.],[2.,3.],[2.5,1.5],\n",
        "                   [2.,1.],[3.,1.],[3.,2.],[3.5,1.],[3.5,3.]])\n",
        "inputY = [[1.,0.]]*6+ [[0.,1.]]*5\n",
        "\n",
        "learning_rate = 0.001\n",
        "training_epochs = 2000\n",
        "display_step = 50\n",
        "n_samples = 11\n",
        "batch_size = 11\n",
        "total_batch = int(n_samples/batch_size)"
      ],
      "execution_count": 0,
      "outputs": []
    },
    {
      "metadata": {
        "id": "nSq1lDulPdEf",
        "colab_type": "text"
      },
      "cell_type": "markdown",
      "source": [
        "##The MLP Model Definition\n",
        "Define two new parameters that define the number of neurons present for each hidden layer.\n",
        "\n",
        "**n_hidden_1** = # of neurons presented in the first hidden layer\n",
        "\n",
        "**n_hidden_2** = # of neurons presented in the second hidden layer"
      ]
    },
    {
      "metadata": {
        "id": "Wn9tqKWbQEkY",
        "colab_type": "code",
        "colab": {}
      },
      "cell_type": "code",
      "source": [
        "#Network Parameters\n",
        "n_hidden_1 = 2 # 1st layer\n",
        "n_hidden_2 = 0 # 2nd layer\n",
        "n_input = 2    # input layer\n",
        "n_classes = 2  # output layer\n",
        "\n",
        "# tf Graph input, used for feed_dict{}\n",
        "X = tf.placeholder('float', [None, n_input])\n",
        "Y = tf.placeholder('float', [None, n_classes])\n",
        "\n",
        "# Weights and biases\n",
        "weights = {\n",
        "    'h1': tf.Variable(tf.random_normal([n_input, n_hidden_1])),\n",
        "   #'h2': tf.Variable(tf.random_normal([n_hidden_1, n_hidden_2])),\n",
        "    'out': tf.Variable(tf.random_normal([n_hidden_1, n_classes]))\n",
        "}\n",
        "biases = {\n",
        "    'b1': tf.Variable(tf.random_normal([n_hidden_1])),\n",
        "   #'b2': tf.Variable(tf.random_normal([n_hidden_2])),\n",
        "    'out': tf.Variable(tf.random_normal([n_classes]))\n",
        "}"
      ],
      "execution_count": 0,
      "outputs": []
    },
    {
      "metadata": {
        "id": "kbrHeG8ERWy3",
        "colab_type": "text"
      },
      "cell_type": "markdown",
      "source": [
        "Define the MLP function to create the model"
      ]
    },
    {
      "metadata": {
        "id": "q8e4fiqGRerE",
        "colab_type": "code",
        "colab": {}
      },
      "cell_type": "code",
      "source": [
        "# Create model\n",
        "def multilayer_perceptron(x):\n",
        "  layer_1 = tf.add(tf.matmul(x, weights['h1']), biases['b1'])\n",
        " #layer_2 = tf.add(tf.matmul(layer_1, weight['h2']), biases['b2'])\n",
        "  \n",
        "  #Output fully connected layer with a neuron for each clas\n",
        "  out_layer = tf.matmul(layer_1, weights['out']) + biases['out']\n",
        "  return out_layer"
      ],
      "execution_count": 0,
      "outputs": []
    },
    {
      "metadata": {
        "id": "2wgZ5DQJSGCZ",
        "colab_type": "code",
        "colab": {}
      },
      "cell_type": "code",
      "source": [
        "# Construct mdoel\n",
        "evidence = multilayer_perceptron(X)\n",
        "y_ = tf.nn.softmax(evidence)"
      ],
      "execution_count": 0,
      "outputs": []
    },
    {
      "metadata": {
        "id": "7dJXgi9TSPcI",
        "colab_type": "text"
      },
      "cell_type": "markdown",
      "source": [
        "The next step is to define the cost function and the optimization method. For MLP, a good choice is the Adam optimizer"
      ]
    },
    {
      "metadata": {
        "id": "rcpXyN9ESX_k",
        "colab_type": "code",
        "colab": {}
      },
      "cell_type": "code",
      "source": [
        "cost = tf.reduce_sum(tf.pow(Y-y_, 2))/ (2* n_samples)\n",
        "optimizer = tf.train.AdamOptimizer(learning_rate=learning_rate).minimize(cost)"
      ],
      "execution_count": 0,
      "outputs": []
    },
    {
      "metadata": {
        "id": "jDQty9HiSms5",
        "colab_type": "text"
      },
      "cell_type": "markdown",
      "source": [
        "##Learning Phase"
      ]
    },
    {
      "metadata": {
        "id": "O0B6KHqaSvaa",
        "colab_type": "code",
        "colab": {}
      },
      "cell_type": "code",
      "source": [
        "avg_set = []\n",
        "epoch_set = []\n",
        "init = tf.global_variables_initializer()"
      ],
      "execution_count": 0,
      "outputs": []
    },
    {
      "metadata": {
        "id": "tmBnUC4zTUTc",
        "colab_type": "text"
      },
      "cell_type": "markdown",
      "source": [
        "In this case you have a training set consisting of a single batch, so you will have only one iteration in which you will directly assign **inputX** and **inputY** to **batch_x** and **batch_y**. In other cases you will need to implement a function, such as **next_batch(batch_size)**, which subdivides the entire training set (for example, **inputdata**) into different batches, progressively returning them as a return value."
      ]
    },
    {
      "metadata": {
        "id": "TU3MeqrITOF_",
        "colab_type": "code",
        "colab": {}
      },
      "cell_type": "code",
      "source": [
        "with tf.Session() as sess:\n",
        "  sess.run(init)\n",
        "  \n",
        "  for epoch in range(training_epochs):\n",
        "    avg_cost = 0.\n",
        "    # Loop over all batches\n",
        "    for i in range(total_batch):\n",
        "      #batch_x, batch_y = inputdata.next_batch(batch_size)\n",
        "      TO BE IMPLEMENTED\n",
        "      batch_x = inputX\n",
        "      batch_y = inputY\n",
        "      _, c = sess.run([optimizer, cost], feed_dict={X:batch_x, Y:batch_y})\n",
        "      #                                             ^use placeholders\n",
        "      #Comput average loss\n",
        "      avg_cost += c / total_batch"
      ],
      "execution_count": 0,
      "outputs": []
    },
    {
      "metadata": {
        "id": "bBiHFQTTUVg6",
        "colab_type": "text"
      },
      "cell_type": "markdown",
      "source": [
        "Remember to display the training process"
      ]
    },
    {
      "metadata": {
        "id": "14UadkuSUYAM",
        "colab_type": "code",
        "colab": {
          "base_uri": "https://localhost:8080/",
          "height": 918
        },
        "outputId": "b18a85c2-3903-44a4-9fab-98f07fbe8677"
      },
      "cell_type": "code",
      "source": [
        "with tf.Session() as sess:\n",
        "  sess.run(init)\n",
        "  \n",
        "  for epoch in range(training_epochs):\n",
        "    avg_cost = 0.\n",
        "    # Loop over all batches\n",
        "    for i in range(total_batch):\n",
        "      #batch_x, batch_y = inputdata.next_batch(batch_size)\n",
        "      #TO BE IMPLEMENTED\n",
        "      batch_x = inputX\n",
        "      batch_y = inputY\n",
        "      _, c = sess.run([optimizer, cost], feed_dict={X:batch_x, Y:batch_y})\n",
        "      #Comput average loss\n",
        "      avg_cost += c / total_batch\n",
        "    if epoch % display_step == 0:\n",
        "      print(\"Epoch:\", '%04d' % (epoch+1), \"cost={:.9f}\".format(avg_cost))\n",
        "      avg_set.append(avg_cost)\n",
        "      epoch_set.append(epoch + 1)\n",
        "\n",
        "  print(\"Training phase finished\")\n",
        "  last_result = sess.run(y_, feed_dict = {X: inputX})\n",
        "  training_cost = sess.run(cost, feed_dict = {X:inputX, Y: inputY})\n",
        "  print(\"Training cost =\", training_cost)\n",
        "  print(\"Last result =\", last_result)"
      ],
      "execution_count": 53,
      "outputs": [
        {
          "output_type": "stream",
          "text": [
            "Epoch: 0001 cost=0.224298894\n",
            "Epoch: 0051 cost=0.178304747\n",
            "Epoch: 0101 cost=0.154502869\n",
            "Epoch: 0151 cost=0.134808496\n",
            "Epoch: 0201 cost=0.119144961\n",
            "Epoch: 0251 cost=0.107198231\n",
            "Epoch: 0301 cost=0.098299116\n",
            "Epoch: 0351 cost=0.091728128\n",
            "Epoch: 0401 cost=0.086873874\n",
            "Epoch: 0451 cost=0.083267771\n",
            "Epoch: 0501 cost=0.080566593\n",
            "Epoch: 0551 cost=0.078523614\n",
            "Epoch: 0601 cost=0.076962113\n",
            "Epoch: 0651 cost=0.075755537\n",
            "Epoch: 0701 cost=0.074812740\n",
            "Epoch: 0751 cost=0.074067667\n",
            "Epoch: 0801 cost=0.073472172\n",
            "Epoch: 0851 cost=0.072990909\n",
            "Epoch: 0901 cost=0.072597750\n",
            "Epoch: 0951 cost=0.072273165\n",
            "Epoch: 1001 cost=0.072002627\n",
            "Epoch: 1051 cost=0.071775094\n",
            "Epoch: 1101 cost=0.071582198\n",
            "Epoch: 1151 cost=0.071417443\n",
            "Epoch: 1201 cost=0.071275890\n",
            "Epoch: 1251 cost=0.071153641\n",
            "Epoch: 1301 cost=0.071047686\n",
            "Epoch: 1351 cost=0.070955582\n",
            "Epoch: 1401 cost=0.070875362\n",
            "Epoch: 1451 cost=0.070805386\n",
            "Epoch: 1501 cost=0.070744380\n",
            "Epoch: 1551 cost=0.070691206\n",
            "Epoch: 1601 cost=0.070644923\n",
            "Epoch: 1651 cost=0.070604697\n",
            "Epoch: 1701 cost=0.070569828\n",
            "Epoch: 1751 cost=0.070539691\n",
            "Epoch: 1801 cost=0.070513725\n",
            "Epoch: 1851 cost=0.070491433\n",
            "Epoch: 1901 cost=0.070472360\n",
            "Epoch: 1951 cost=0.070456140\n",
            "Training phase finished\n",
            "Training cost = 0.070442386\n",
            "Last result = [[0.9960573  0.00394274]\n",
            " [0.9807664  0.01923363]\n",
            " [0.9581755  0.04182456]\n",
            " [0.9274591  0.07254091]\n",
            " [0.9407647  0.0592353 ]\n",
            " [0.26530376 0.7346962 ]\n",
            " [0.39285386 0.60714614]\n",
            " [0.03908738 0.96091264]\n",
            " [0.16772594 0.8322741 ]\n",
            " [0.01009608 0.9899039 ]\n",
            " [0.20021479 0.7997852 ]]\n"
          ],
          "name": "stdout"
        }
      ]
    },
    {
      "metadata": {
        "id": "_G2UO9wXVe0H",
        "colab_type": "text"
      },
      "cell_type": "markdown",
      "source": [
        "Visualization"
      ]
    },
    {
      "metadata": {
        "id": "eADd4lUkVhPZ",
        "colab_type": "code",
        "colab": {
          "base_uri": "https://localhost:8080/",
          "height": 378
        },
        "outputId": "f393fab2-1f1f-4a62-daca-9a914c731e89"
      },
      "cell_type": "code",
      "source": [
        "plt.plot(epoch_set, avg_set, 'o', label='MLP Training Phase')\n",
        "plt.xlabel('Epochs')\n",
        "plt.ylabel('Cost')\n",
        "plt.legend()"
      ],
      "execution_count": 54,
      "outputs": [
        {
          "output_type": "execute_result",
          "data": {
            "text/plain": [
              "<matplotlib.legend.Legend at 0x7fb8d5b5fbe0>"
            ]
          },
          "metadata": {
            "tags": []
          },
          "execution_count": 54
        },
        {
          "output_type": "display_data",
          "data": {
            "image/png": "[encoded data removed]",
            "text/plain": [
              "<matplotlib.figure.Figure at 0x7fb8c414e9e8>"
            ]
          },
          "metadata": {
            "tags": []
          }
        }
      ]
    },
    {
      "metadata": {
        "id": "4ZtRaKn0VyYl",
        "colab_type": "text"
      },
      "cell_type": "markdown",
      "source": [
        "##Test Phase and Accuracy Calculation"
      ]
    },
    {
      "metadata": {
        "id": "ZpSp3nLgWC_r",
        "colab_type": "code",
        "colab": {}
      },
      "cell_type": "code",
      "source": [
        "#Testing set\n",
        "testX = np.array([[1.,2.25],[1.25,3.],[2,2.5],[2.25,2.75],[2.5,3.],\n",
        "                  [2.,0.9],[2.5,1.2],[3.,1.25],[3.,1.5],[3.5,2.],[3.5,2.5]])\n",
        "testY = [[1.,0.]]*5 + [[0.,1.]]*6"
      ],
      "execution_count": 0,
      "outputs": []
    },
    {
      "metadata": {
        "id": "jTYSdcGQWNwL",
        "colab_type": "code",
        "colab": {
          "base_uri": "https://localhost:8080/",
          "height": 221
        },
        "outputId": "486e75f5-8658-4771-f3c6-dd31ac398995"
      },
      "cell_type": "code",
      "source": [
        "with tf.Session() as sess:\n",
        "  sess.run(init)\n",
        "\n",
        "  for epoch in range(training_epochs):\n",
        "    for i in range(total_batch):\n",
        "      batch_x = inputX\n",
        "      batch_y = inputY\n",
        "      _, c = sess.run([optimizer, cost],feed_dict={X: batch_x, Y: batch_y})\n",
        "      \n",
        "  # Test model\n",
        "  pred = tf.nn.softmax(evidence)\n",
        "  result = sess.run(pred, feed_dict = {X: testX})\n",
        "  correct_prediction = tf.equal(tf.argmax(pred, 1),tf.argmax(Y, 1))\n",
        "\n",
        " # Calculate accuracy\n",
        "  accuracy = tf.reduce_mean(tf.cast(correct_prediction, \"float\"))\n",
        "  print(\"Accuracy:\", accuracy.eval({X: testX, Y: testY}))\n",
        "  print(result)"
      ],
      "execution_count": 55,
      "outputs": [
        {
          "output_type": "stream",
          "text": [
            "Accuracy: 1.0\n",
            "[[0.9804332  0.01956675]\n",
            " [0.9898807  0.01011931]\n",
            " [0.8599885  0.14001155]\n",
            " [0.83424425 0.1657558 ]\n",
            " [0.80484074 0.19515923]\n",
            " [0.27629542 0.7237046 ]\n",
            " [0.15335305 0.8466469 ]\n",
            " [0.0527375  0.94726247]\n",
            " [0.07913405 0.92086595]\n",
            " [0.05455037 0.94544965]\n",
            " [0.12085294 0.8791471 ]]\n"
          ],
          "name": "stdout"
        }
      ]
    },
    {
      "metadata": {
        "id": "qW8-unTVWxI0",
        "colab_type": "text"
      },
      "cell_type": "markdown",
      "source": [
        "See the classfication result"
      ]
    },
    {
      "metadata": {
        "id": "hrnMt948WzbH",
        "colab_type": "code",
        "colab": {
          "base_uri": "https://localhost:8080/",
          "height": 398
        },
        "outputId": "73b01ca6-a3da-4577-a914-3189da9f61e3"
      },
      "cell_type": "code",
      "source": [
        "yc = result[:,1]\n",
        "print(yc)\n",
        "plt.scatter(testX[:,0],testX[:,1],c=yc, s=50, alpha=1)"
      ],
      "execution_count": 56,
      "outputs": [
        {
          "output_type": "stream",
          "text": [
            "[0.01956675 0.01011931 0.14001155 0.1657558  0.19515923 0.7237046\n",
            " 0.8466469  0.94726247 0.92086595 0.94544965 0.8791471 ]\n"
          ],
          "name": "stdout"
        },
        {
          "output_type": "execute_result",
          "data": {
            "text/plain": [
              "<matplotlib.collections.PathCollection at 0x7fb8c40acb00>"
            ]
          },
          "metadata": {
            "tags": []
          },
          "execution_count": 56
        },
        {
          "output_type": "display_data",
          "data": {
            "image/png": "[encoded data removed]",
            "text/plain": [
              "<matplotlib.figure.Figure at 0x7fb8c40e4e10>"
            ]
          },
          "metadata": {
            "tags": []
          }
        }
      ]
    },
    {
      "metadata": {
        "id": "O-j97E3wW7VM",
        "colab_type": "text"
      },
      "cell_type": "markdown",
      "source": [
        "#Multi Layer Perceptron (with Two Hidden Layers) with TensorFlow"
      ]
    },
    {
      "metadata": {
        "id": "ZTOv6CMyXLE7",
        "colab_type": "code",
        "colab": {}
      },
      "cell_type": "code",
      "source": [
        "#Training set\n",
        "inputX = np.array([[1.,3.],[1.,2.],[1.,1.5],[1.5,2.],[2.,3.],[2.5,1.5],\n",
        "                   [2.,1.],[3.,1.],[3.,2.],[3.5,1.],[3.5,3.]])\n",
        "inputY = [[1.,0.]]*6+ [[0.,1.]]*5\n",
        "\n",
        "learning_rate = 0.001\n",
        "training_epochs = 2000\n",
        "display_step = 50\n",
        "n_samples = 11\n",
        "batch_size = 11\n",
        "total_batch = int(n_samples/batch_size)"
      ],
      "execution_count": 0,
      "outputs": []
    },
    {
      "metadata": {
        "id": "tM7VgeOCXO6Y",
        "colab_type": "code",
        "colab": {}
      },
      "cell_type": "code",
      "source": [
        "#Network Parameters\n",
        "n_hidden_1 = 4 # 1st layer\n",
        "n_hidden_2 = 2 # 2nd layer\n",
        "n_input = 2    # input layer\n",
        "n_classes = 2  # output layer\n",
        "\n",
        "# tf Graph input, used for feed_dict{}\n",
        "X = tf.placeholder('float', [None, n_input])\n",
        "Y = tf.placeholder('float', [None, n_classes])\n",
        "\n",
        "# Weights and biases\n",
        "weights = {\n",
        "    'h1': tf.Variable(tf.random_normal([n_input, n_hidden_1])),\n",
        "    'h2': tf.Variable(tf.random_normal([n_hidden_1, n_hidden_2])),\n",
        "    'out': tf.Variable(tf.random_normal([n_hidden_2, n_classes]))\n",
        "}\n",
        "biases = {\n",
        "    'b1': tf.Variable(tf.random_normal([n_hidden_1])),\n",
        "    'b2': tf.Variable(tf.random_normal([n_hidden_2])),\n",
        "    'out': tf.Variable(tf.random_normal([n_classes]))\n",
        "}"
      ],
      "execution_count": 0,
      "outputs": []
    },
    {
      "metadata": {
        "id": "ATeeT5iLXYjY",
        "colab_type": "code",
        "colab": {}
      },
      "cell_type": "code",
      "source": [
        "# Create model\n",
        "def multilayer_perceptron(x):\n",
        "  layer_1 = tf.add(tf.matmul(x, weights['h1']), biases['b1'])\n",
        "  layer_2 = tf.add(tf.matmul(layer_1, weights['h2']), biases['b2'])\n",
        "  \n",
        "  #Output fully connected layer with a neuron for each clas\n",
        "  out_layer = tf.matmul(layer_2, weights['out']) + biases['out']\n",
        "  return out_layer"
      ],
      "execution_count": 0,
      "outputs": []
    },
    {
      "metadata": {
        "id": "lTtG6R2YXg4H",
        "colab_type": "code",
        "colab": {}
      },
      "cell_type": "code",
      "source": [
        "# Construct mdoel\n",
        "evidence = multilayer_perceptron(X)\n",
        "y_ = tf.nn.softmax(evidence)\n",
        "\n",
        "# Define cost and optimizer\n",
        "cost = tf.reduce_sum(tf.pow(Y-y_,2))/ (2 * n_samples)\n",
        "optimizer = tf.train.AdamOptimizer(learning_rate=learning_rate).minimize(cost)"
      ],
      "execution_count": 0,
      "outputs": []
    },
    {
      "metadata": {
        "id": "JtI1vu5rXxSw",
        "colab_type": "code",
        "colab": {
          "base_uri": "https://localhost:8080/",
          "height": 918
        },
        "outputId": "7bf1e728-92fa-4a8c-b003-8cb515a6b686"
      },
      "cell_type": "code",
      "source": [
        "avg_set = []\n",
        "epoch_set = []\n",
        "init = tf.global_variables_initializer()\n",
        "\n",
        "with tf.Session() as sess:\n",
        "  sess.run(init)\n",
        "  \n",
        "  for epoch in range(training_epochs):\n",
        "    avg_cost = 0.\n",
        "    # Loop over all batches\n",
        "    for i in range(total_batch):\n",
        "      #batch_x, batch_y = inputdata.next_batch(batch_size)\n",
        "      #TO BE IMPLEMENTED\n",
        "      batch_x = inputX\n",
        "      batch_y = inputY\n",
        "      _, c = sess.run([optimizer, cost], feed_dict={X:batch_x, Y:batch_y})\n",
        "      #Comput average loss\n",
        "      avg_cost += c / total_batch\n",
        "    if epoch % display_step == 0:\n",
        "      print(\"Epoch:\", '%04d' % (epoch+1), \"cost={:.9f}\".format(avg_cost))\n",
        "      avg_set.append(avg_cost)\n",
        "      epoch_set.append(epoch + 1)\n",
        "\n",
        "  print(\"Training phase finished\")\n",
        "  last_result = sess.run(y_, feed_dict = {X: inputX})\n",
        "  training_cost = sess.run(cost, feed_dict = {X:inputX, Y: inputY})\n",
        "  print(\"Training cost =\", training_cost)\n",
        "  print(\"Last result =\", last_result)"
      ],
      "execution_count": 63,
      "outputs": [
        {
          "output_type": "stream",
          "text": [
            "Epoch: 0001 cost=0.724721849\n",
            "Epoch: 0051 cost=0.706739485\n",
            "Epoch: 0101 cost=0.652321041\n",
            "Epoch: 0151 cost=0.547482133\n",
            "Epoch: 0201 cost=0.464600414\n",
            "Epoch: 0251 cost=0.375666201\n",
            "Epoch: 0301 cost=0.212439477\n",
            "Epoch: 0351 cost=0.111055791\n",
            "Epoch: 0401 cost=0.100351110\n",
            "Epoch: 0451 cost=0.097798668\n",
            "Epoch: 0501 cost=0.096397296\n",
            "Epoch: 0551 cost=0.095323242\n",
            "Epoch: 0601 cost=0.094314694\n",
            "Epoch: 0651 cost=0.093210883\n",
            "Epoch: 0701 cost=0.091844246\n",
            "Epoch: 0751 cost=0.089976750\n",
            "Epoch: 0801 cost=0.087256752\n",
            "Epoch: 0851 cost=0.083373345\n",
            "Epoch: 0901 cost=0.078871548\n",
            "Epoch: 0951 cost=0.075403616\n",
            "Epoch: 1001 cost=0.073655047\n",
            "Epoch: 1051 cost=0.072931923\n",
            "Epoch: 1101 cost=0.072560251\n",
            "Epoch: 1151 cost=0.072280489\n",
            "Epoch: 1201 cost=0.072027460\n",
            "Epoch: 1251 cost=0.071789399\n",
            "Epoch: 1301 cost=0.071566075\n",
            "Epoch: 1351 cost=0.071359582\n",
            "Epoch: 1401 cost=0.071172096\n",
            "Epoch: 1451 cost=0.071005538\n",
            "Epoch: 1501 cost=0.070861354\n",
            "Epoch: 1551 cost=0.070740119\n",
            "Epoch: 1601 cost=0.070641428\n",
            "Epoch: 1651 cost=0.070563890\n",
            "Epoch: 1701 cost=0.070505090\n",
            "Epoch: 1751 cost=0.070462175\n",
            "Epoch: 1801 cost=0.070432000\n",
            "Epoch: 1851 cost=0.070411578\n",
            "Epoch: 1901 cost=0.070398279\n",
            "Epoch: 1951 cost=0.070389822\n",
            "Training phase finished\n",
            "Training cost = 0.070384644\n",
            "Last result = [[0.99718446 0.00281551]\n",
            " [0.9853892  0.01461088]\n",
            " [0.9671376  0.03286244]\n",
            " [0.9397823  0.06021767]\n",
            " [0.94991326 0.05008673]\n",
            " [0.26722425 0.7327757 ]\n",
            " [0.40747234 0.5925276 ]\n",
            " [0.0355163  0.96448374]\n",
            " [0.1620463  0.8379537 ]\n",
            " [0.00844929 0.9915507 ]\n",
            " [0.19028686 0.8097131 ]]\n"
          ],
          "name": "stdout"
        }
      ]
    },
    {
      "metadata": {
        "id": "eixULnnkYAQW",
        "colab_type": "code",
        "colab": {
          "base_uri": "https://localhost:8080/",
          "height": 378
        },
        "outputId": "c2f4e9b7-feb1-4a58-cf1c-5270fff465b3"
      },
      "cell_type": "code",
      "source": [
        "#Visualization of Cost\n",
        "plt.plot(epoch_set,avg_set,'o',label = 'MLP Training phase')\n",
        "plt.ylabel('cost')\n",
        "plt.xlabel('epochs')\n",
        "plt.legend()"
      ],
      "execution_count": 64,
      "outputs": [
        {
          "output_type": "execute_result",
          "data": {
            "text/plain": [
              "<matplotlib.legend.Legend at 0x7fb8c3ea0390>"
            ]
          },
          "metadata": {
            "tags": []
          },
          "execution_count": 64
        },
        {
          "output_type": "display_data",
          "data": {
            "image/png": "[encoded data removed]",
            "text/plain": [
              "<matplotlib.figure.Figure at 0x7fb8c3ea0320>"
            ]
          },
          "metadata": {
            "tags": []
          }
        }
      ]
    },
    {
      "metadata": {
        "id": "ZRMRjuCJYLdn",
        "colab_type": "text"
      },
      "cell_type": "markdown",
      "source": [
        "As you can see, learning in this case is much faster than the previous case at 1000 epochs"
      ]
    },
    {
      "metadata": {
        "id": "3Lfw4kqPYS03",
        "colab_type": "text"
      },
      "cell_type": "markdown",
      "source": [
        "##Test Phase and Accuracy Calculation"
      ]
    },
    {
      "metadata": {
        "id": "y_1Q4yMlYWtb",
        "colab_type": "code",
        "colab": {}
      },
      "cell_type": "code",
      "source": [
        "#Testing set\n",
        "testX = np.array([[1.,2.25],[1.25,3.],[2,2.5],[2.25,2.75],[2.5,3.],\n",
        "                  [2.,0.9],[2.5,1.2],[3.,1.25],[3.,1.5],[3.5,2.],[3.5,2.5]])\n",
        "testY = [[1.,0.]]*5 + [[0.,1.]]*6"
      ],
      "execution_count": 0,
      "outputs": []
    },
    {
      "metadata": {
        "id": "yWyFMfSsYf6Y",
        "colab_type": "code",
        "colab": {
          "base_uri": "https://localhost:8080/",
          "height": 221
        },
        "outputId": "1d544019-63bb-404d-b83f-7aac73c8132d"
      },
      "cell_type": "code",
      "source": [
        "with tf.Session() as sess:\n",
        "  sess.run(init)\n",
        "\n",
        "  for epoch in range(training_epochs):\n",
        "    for i in range(total_batch):\n",
        "      batch_x = inputX\n",
        "      batch_y = inputY\n",
        "      _, c = sess.run([optimizer, cost],feed_dict={X: batch_x, Y: batch_y})\n",
        "      \n",
        "  # Test model\n",
        "  pred = tf.nn.softmax(evidence)\n",
        "  result = sess.run(pred, feed_dict = {X: testX})\n",
        "  correct_prediction = tf.equal(tf.argmax(pred, 1),tf.argmax(Y, 1))\n",
        "\n",
        " # Calculate accuracy\n",
        "  accuracy = tf.reduce_mean(tf.cast(correct_prediction, \"float\"))\n",
        "  print(\"Accuracy:\", accuracy.eval({X: testX, Y: testY}))\n",
        "  print(result)"
      ],
      "execution_count": 66,
      "outputs": [
        {
          "output_type": "stream",
          "text": [
            "Accuracy: 1.0\n",
            "[[0.98935    0.01064996]\n",
            " [0.9935237  0.00647626]\n",
            " [0.8871383  0.11286165]\n",
            " [0.8519046  0.14809543]\n",
            " [0.80805093 0.19194901]\n",
            " [0.36761364 0.6323863 ]\n",
            " [0.18355441 0.8164456 ]\n",
            " [0.05471478 0.94528526]\n",
            " [0.07999396 0.9200061 ]\n",
            " [0.04449464 0.9555054 ]\n",
            " [0.09508885 0.90491116]]\n"
          ],
          "name": "stdout"
        }
      ]
    },
    {
      "metadata": {
        "id": "hFWjLQxQYkA8",
        "colab_type": "code",
        "colab": {
          "base_uri": "https://localhost:8080/",
          "height": 398
        },
        "outputId": "02754d3d-df77-4fb0-85e3-8ae3d27f25c3"
      },
      "cell_type": "code",
      "source": [
        "yc = result[:,1]\n",
        "print(yc)\n",
        "plt.scatter(testX[:,0],testX[:,1],c=yc, s=50, alpha=1)"
      ],
      "execution_count": 67,
      "outputs": [
        {
          "output_type": "stream",
          "text": [
            "[0.01064996 0.00647626 0.11286165 0.14809543 0.19194901 0.6323863\n",
            " 0.8164456  0.94528526 0.9200061  0.9555054  0.90491116]\n"
          ],
          "name": "stdout"
        },
        {
          "output_type": "execute_result",
          "data": {
            "text/plain": [
              "<matplotlib.collections.PathCollection at 0x7fb8c3dca2b0>"
            ]
          },
          "metadata": {
            "tags": []
          },
          "execution_count": 67
        },
        {
          "output_type": "display_data",
          "data": {
            "image/png": "[encoded data removed]",
            "text/plain": [
              "<matplotlib.figure.Figure at 0x7fb8c3e56470>"
            ]
          },
          "metadata": {
            "tags": []
          }
        }
      ]
    },
    {
      "metadata": {
        "id": "YW-Ht7DyYvh-",
        "colab_type": "text"
      },
      "cell_type": "markdown",
      "source": [
        "##Evaluation of Experimental Data\n",
        "Move on to the proper classification, passing to the neural network a very large amount of data without knowing what class they belong to.\n",
        "\n",
        "For example, generate an array of 1000 random points"
      ]
    },
    {
      "metadata": {
        "id": "eL6P9zLgZIC2",
        "colab_type": "code",
        "colab": {}
      },
      "cell_type": "code",
      "source": [
        "test = 3* np.random.random((1000,2))"
      ],
      "execution_count": 0,
      "outputs": []
    },
    {
      "metadata": {
        "id": "53EzQl1CZNpW",
        "colab_type": "text"
      },
      "cell_type": "markdown",
      "source": [
        "Submit these points to the neural network to determine the class of membership:"
      ]
    },
    {
      "metadata": {
        "id": "VqYv-wt_ZTcn",
        "colab_type": "code",
        "colab": {}
      },
      "cell_type": "code",
      "source": [
        "with tf.Session() as sess:\n",
        "  sess.run(init)\n",
        "  \n",
        "  for epoch in range(training_epochs):\n",
        "    for i in range(total_batch):\n",
        "      batch_x = inputX\n",
        "      batch_y = inputY\n",
        "      _, c = sess.run([optimizer, cost], feed_dict={X:batch_x, Y:batch_y})\n",
        "      \n",
        "  #Test Model\n",
        "  pred = tf.nn.softmax(evidence)\n",
        "  result = sess.run(pred, feed_dict={X:test})"
      ],
      "execution_count": 0,
      "outputs": []
    },
    {
      "metadata": {
        "id": "xxrGUl0XaDsd",
        "colab_type": "code",
        "colab": {
          "base_uri": "https://localhost:8080/",
          "height": 364
        },
        "outputId": "6548c787-92f7-4e75-b7b7-f167e9d13878"
      },
      "cell_type": "code",
      "source": [
        "#Visualization of membership\n",
        "yc = result[:,1]\n",
        "plt.scatter(test[:,0], test[:,1], c=yc, s=50, alpha=1)"
      ],
      "execution_count": 70,
      "outputs": [
        {
          "output_type": "execute_result",
          "data": {
            "text/plain": [
              "<matplotlib.collections.PathCollection at 0x7fb8c3da63c8>"
            ]
          },
          "metadata": {
            "tags": []
          },
          "execution_count": 70
        },
        {
          "output_type": "display_data",
          "data": {
            "image/png": "[encoded data removed]",
            "text/plain": [
              "<matplotlib.figure.Figure at 0x7fb8c3e2dba8>"
            ]
          },
          "metadata": {
            "tags": []
          }
        }
      ]
    },
    {
      "metadata": {
        "id": "-Ki0wCfMab1K",
        "colab_type": "text"
      },
      "cell_type": "markdown",
      "source": [
        "The classification results can be made more comprehensible and clearer by deciding to establish based on the probability if the point belongs to one or the other class. If the probability of a point belonging to a class is greater than 0.5 then it will belong to it."
      ]
    },
    {
      "metadata": {
        "id": "4kckXYVWaedd",
        "colab_type": "code",
        "colab": {
          "base_uri": "https://localhost:8080/",
          "height": 364
        },
        "outputId": "1035782a-2023-4e81-f0d7-260f555b86fc"
      },
      "cell_type": "code",
      "source": [
        "yc = np.round(result[:,1]) #either 0 or 1\n",
        "plt.scatter(test[:,0],test[:,1],c=yc, s=50, alpha=1)"
      ],
      "execution_count": 71,
      "outputs": [
        {
          "output_type": "execute_result",
          "data": {
            "text/plain": [
              "<matplotlib.collections.PathCollection at 0x7fb8c2d0a4e0>"
            ]
          },
          "metadata": {
            "tags": []
          },
          "execution_count": 71
        },
        {
          "output_type": "display_data",
          "data": {
            "image/png": "[encoded data removed]",
            "text/plain": [
              "<matplotlib.figure.Figure at 0x7fb8c3e2d9b0>"
            ]
          },
          "metadata": {
            "tags": []
          }
        }
      ]
    }
  ]
}