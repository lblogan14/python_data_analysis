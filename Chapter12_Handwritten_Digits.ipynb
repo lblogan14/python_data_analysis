{
  "nbformat": 4,
  "nbformat_minor": 0,
  "metadata": {
    "colab": {
      "name": "Chapter12_Handwritten_Digits.ipynb",
      "version": "0.3.2",
      "provenance": [],
      "include_colab_link": true
    },
    "kernelspec": {
      "name": "python3",
      "display_name": "Python 3"
    }
  },
  "cells": [
    {
      "cell_type": "markdown",
      "metadata": {
        "id": "view-in-github",
        "colab_type": "text"
      },
      "source": [
        "<a href=\"https://colab.research.google.com/github/lblogan14/python_data_analysis/blob/master/Chapter12_Handwritten_Digits.ipynb\" target=\"_parent\"><img src=\"https://colab.research.google.com/assets/colab-badge.svg\" alt=\"Open In Colab\"/></a>"
      ]
    },
    {
      "metadata": {
        "id": "1-XGb_4WD6qG",
        "colab_type": "code",
        "colab": {}
      },
      "cell_type": "code",
      "source": [
        "import matplotlib.pyplot as plt"
      ],
      "execution_count": 0,
      "outputs": []
    },
    {
      "metadata": {
        "id": "fXWiqux6DXXh",
        "colab_type": "text"
      },
      "cell_type": "markdown",
      "source": [
        "#The Digits Dataset\n",
        "consists of 1797 images that are 8x8 pixels in size in grayscale"
      ]
    },
    {
      "metadata": {
        "id": "d79W7ggEDmHI",
        "colab_type": "code",
        "colab": {}
      },
      "cell_type": "code",
      "source": [
        "from sklearn import datasets\n",
        "digits = datasets.load_digits()"
      ],
      "execution_count": 0,
      "outputs": []
    },
    {
      "metadata": {
        "id": "Tw0RQuYHDq-C",
        "colab_type": "code",
        "colab": {
          "base_uri": "https://localhost:8080/",
          "height": 799
        },
        "outputId": "e7bab125-9856-4eaf-eecc-3ce558a73ec6"
      },
      "cell_type": "code",
      "source": [
        "print(digits.DESCR)"
      ],
      "execution_count": 3,
      "outputs": [
        {
          "output_type": "stream",
          "text": [
            "Optical Recognition of Handwritten Digits Data Set\n",
            "===================================================\n",
            "\n",
            "Notes\n",
            "-----\n",
            "Data Set Characteristics:\n",
            "    :Number of Instances: 5620\n",
            "    :Number of Attributes: 64\n",
            "    :Attribute Information: 8x8 image of integer pixels in the range 0..16.\n",
            "    :Missing Attribute Values: None\n",
            "    :Creator: E. Alpaydin (alpaydin '@' boun.edu.tr)\n",
            "    :Date: July; 1998\n",
            "\n",
            "This is a copy of the test set of the UCI ML hand-written digits datasets\n",
            "http://archive.ics.uci.edu/ml/datasets/Optical+Recognition+of+Handwritten+Digits\n",
            "\n",
            "The data set contains images of hand-written digits: 10 classes where\n",
            "each class refers to a digit.\n",
            "\n",
            "Preprocessing programs made available by NIST were used to extract\n",
            "normalized bitmaps of handwritten digits from a preprinted form. From a\n",
            "total of 43 people, 30 contributed to the training set and different 13\n",
            "to the test set. 32x32 bitmaps are divided into nonoverlapping blocks of\n",
            "4x4 and the number of on pixels are counted in each block. This generates\n",
            "an input matrix of 8x8 where each element is an integer in the range\n",
            "0..16. This reduces dimensionality and gives invariance to small\n",
            "distortions.\n",
            "\n",
            "For info on NIST preprocessing routines, see M. D. Garris, J. L. Blue, G.\n",
            "T. Candela, D. L. Dimmick, J. Geist, P. J. Grother, S. A. Janet, and C.\n",
            "L. Wilson, NIST Form-Based Handprint Recognition System, NISTIR 5469,\n",
            "1994.\n",
            "\n",
            "References\n",
            "----------\n",
            "  - C. Kaynak (1995) Methods of Combining Multiple Classifiers and Their\n",
            "    Applications to Handwritten Digit Recognition, MSc Thesis, Institute of\n",
            "    Graduate Studies in Science and Engineering, Bogazici University.\n",
            "  - E. Alpaydin, C. Kaynak (1998) Cascading Classifiers, Kybernetika.\n",
            "  - Ken Tang and Ponnuthurai N. Suganthan and Xi Yao and A. Kai Qin.\n",
            "    Linear dimensionalityreduction using relevance weighted LDA. School of\n",
            "    Electrical and Electronic Engineering Nanyang Technological University.\n",
            "    2005.\n",
            "  - Claudio Gentile. A New Approximate Maximal Margin Classification\n",
            "    Algorithm. NIPS. 2000.\n",
            "\n"
          ],
          "name": "stdout"
        }
      ]
    },
    {
      "metadata": {
        "id": "RpvFArcED2DF",
        "colab_type": "code",
        "colab": {
          "base_uri": "https://localhost:8080/",
          "height": 153
        },
        "outputId": "00b0b06f-55bc-47bf-c796-329a2a3597ef"
      },
      "cell_type": "code",
      "source": [
        "digits.images[0]"
      ],
      "execution_count": 4,
      "outputs": [
        {
          "output_type": "execute_result",
          "data": {
            "text/plain": [
              "array([[ 0.,  0.,  5., 13.,  9.,  1.,  0.,  0.],\n",
              "       [ 0.,  0., 13., 15., 10., 15.,  5.,  0.],\n",
              "       [ 0.,  3., 15.,  2.,  0., 11.,  8.,  0.],\n",
              "       [ 0.,  4., 12.,  0.,  0.,  8.,  8.,  0.],\n",
              "       [ 0.,  5.,  8.,  0.,  0.,  9.,  8.,  0.],\n",
              "       [ 0.,  4., 11.,  0.,  1., 12.,  7.,  0.],\n",
              "       [ 0.,  2., 14.,  5., 10., 12.,  0.,  0.],\n",
              "       [ 0.,  0.,  6., 13., 10.,  0.,  0.,  0.]])"
            ]
          },
          "metadata": {
            "tags": []
          },
          "execution_count": 4
        }
      ]
    },
    {
      "metadata": {
        "id": "XNPvvSeTD4fm",
        "colab_type": "code",
        "colab": {
          "base_uri": "https://localhost:8080/",
          "height": 364
        },
        "outputId": "fdaec225-92b6-4c8f-b5f8-713b3e1073e0"
      },
      "cell_type": "code",
      "source": [
        "plt.imshow(digits.images[0], cmap=plt.cm.gray_r, interpolation='nearest')"
      ],
      "execution_count": 7,
      "outputs": [
        {
          "output_type": "execute_result",
          "data": {
            "text/plain": [
              "<matplotlib.image.AxesImage at 0x7f36da505cc0>"
            ]
          },
          "metadata": {
            "tags": []
          },
          "execution_count": 7
        },
        {
          "output_type": "display_data",
          "data": {
            "image/png": "[encoded data removed]",
            "text/plain": [
              "<matplotlib.figure.Figure at 0x7f36da272c50>"
            ]
          },
          "metadata": {
            "tags": []
          }
        }
      ]
    },
    {
      "metadata": {
        "id": "nH3fGWZVEJ1U",
        "colab_type": "code",
        "colab": {
          "base_uri": "https://localhost:8080/",
          "height": 34
        },
        "outputId": "37793893-eb67-405a-d153-aac2a0bd2c6e"
      },
      "cell_type": "code",
      "source": [
        "digits.target"
      ],
      "execution_count": 10,
      "outputs": [
        {
          "output_type": "execute_result",
          "data": {
            "text/plain": [
              "array([0, 1, 2, ..., 8, 9, 8])"
            ]
          },
          "metadata": {
            "tags": []
          },
          "execution_count": 10
        }
      ]
    },
    {
      "metadata": {
        "id": "AiTtrhNTEzgg",
        "colab_type": "text"
      },
      "cell_type": "markdown",
      "source": [
        "See in details,"
      ]
    },
    {
      "metadata": {
        "id": "OpiGN3FOE3AJ",
        "colab_type": "code",
        "colab": {
          "base_uri": "https://localhost:8080/",
          "height": 364
        },
        "outputId": "4b69185f-2129-4506-cf5d-1d45fb226c17"
      },
      "cell_type": "code",
      "source": [
        "plt.subplot(321)\n",
        "plt.imshow(digits.images[1791], cmap=plt.cm.gray_r, interpolation='nearest')\n",
        "plt.subplot(322)\n",
        "plt.imshow(digits.images[1792], cmap=plt.cm.gray_r, interpolation='nearest')\n",
        "plt.subplot(323)\n",
        "plt.imshow(digits.images[1793], cmap=plt.cm.gray_r, interpolation='nearest')\n",
        "plt.subplot(324)\n",
        "plt.imshow(digits.images[1794], cmap=plt.cm.gray_r, interpolation='nearest')\n",
        "plt.subplot(325)\n",
        "plt.imshow(digits.images[1795], cmap=plt.cm.gray_r, interpolation='nearest')\n",
        "plt.subplot(326)\n",
        "plt.imshow(digits.images[1796], cmap=plt.cm.gray_r, interpolation='nearest')"
      ],
      "execution_count": 13,
      "outputs": [
        {
          "output_type": "execute_result",
          "data": {
            "text/plain": [
              "<matplotlib.image.AxesImage at 0x7f36d798e128>"
            ]
          },
          "metadata": {
            "tags": []
          },
          "execution_count": 13
        },
        {
          "output_type": "display_data",
          "data": {
            "image/png": "[encoded data removed]",
            "text/plain": [
              "<matplotlib.figure.Figure at 0x7f36da2f6e48>"
            ]
          },
          "metadata": {
            "tags": []
          }
        }
      ]
    },
    {
      "metadata": {
        "id": "ypqO0mzbEOQJ",
        "colab_type": "text"
      },
      "cell_type": "markdown",
      "source": [
        "#Learning and Predicting\n",
        "Use the SVC from sklearn.svm"
      ]
    },
    {
      "metadata": {
        "id": "4v3CCPJaEeaJ",
        "colab_type": "code",
        "colab": {
          "base_uri": "https://localhost:8080/",
          "height": 85
        },
        "outputId": "346c95f5-6582-41a5-e38e-2119f7084d46"
      },
      "cell_type": "code",
      "source": [
        "from sklearn import svm\n",
        "svc = svm.SVC(gamma=0.001, C=100.)\n",
        "svc.fit(digits.data[1:1790], digits.target[1:1790])"
      ],
      "execution_count": 14,
      "outputs": [
        {
          "output_type": "execute_result",
          "data": {
            "text/plain": [
              "SVC(C=100.0, cache_size=200, class_weight=None, coef0=0.0,\n",
              "  decision_function_shape='ovr', degree=3, gamma=0.001, kernel='rbf',\n",
              "  max_iter=-1, probability=False, random_state=None, shrinking=True,\n",
              "  tol=0.001, verbose=False)"
            ]
          },
          "metadata": {
            "tags": []
          },
          "execution_count": 14
        }
      ]
    },
    {
      "metadata": {
        "id": "KaralVSeGRoI",
        "colab_type": "code",
        "colab": {
          "base_uri": "https://localhost:8080/",
          "height": 34
        },
        "outputId": "b01b04f9-10b9-46c2-e652-a4b4f5da7d2b"
      },
      "cell_type": "code",
      "source": [
        "svc.predict(digits.data[1790:])"
      ],
      "execution_count": 15,
      "outputs": [
        {
          "output_type": "execute_result",
          "data": {
            "text/plain": [
              "array([8, 4, 9, 0, 8, 9, 8])"
            ]
          },
          "metadata": {
            "tags": []
          },
          "execution_count": 15
        }
      ]
    },
    {
      "metadata": {
        "id": "2AL9ahDRGYkL",
        "colab_type": "code",
        "colab": {
          "base_uri": "https://localhost:8080/",
          "height": 34
        },
        "outputId": "f809d532-f536-4748-98fb-0610cd27e179"
      },
      "cell_type": "code",
      "source": [
        "digits.target[1790:]"
      ],
      "execution_count": 16,
      "outputs": [
        {
          "output_type": "execute_result",
          "data": {
            "text/plain": [
              "array([8, 4, 9, 0, 8, 9, 8])"
            ]
          },
          "metadata": {
            "tags": []
          },
          "execution_count": 16
        }
      ]
    },
    {
      "metadata": {
        "id": "wndr6SPLGffW",
        "colab_type": "text"
      },
      "cell_type": "markdown",
      "source": [
        "#Recongnizing Handwritten Digits with TensorFlow\n",
        "Import the MNIST dataset from **tensorflow.contrib.learn.python.learn.datasets.mnist** \n",
        "\n",
        "To load the dataset in a variable, use the **read_data_sets()** function."
      ]
    },
    {
      "metadata": {
        "id": "H1olRHKuIhRt",
        "colab_type": "code",
        "colab": {
          "base_uri": "https://localhost:8080/",
          "height": 85
        },
        "outputId": "929e9d2b-536c-467e-ad35-b268a4097d26"
      },
      "cell_type": "code",
      "source": [
        "from tensorflow.contrib.learn.python.learn.datasets.mnist import read_data_sets\n",
        "mnist = read_data_sets('MNIST_data/', one_hot=False)"
      ],
      "execution_count": 18,
      "outputs": [
        {
          "output_type": "stream",
          "text": [
            "Extracting MNIST_data/train-images-idx3-ubyte.gz\n",
            "Extracting MNIST_data/train-labels-idx1-ubyte.gz\n",
            "Extracting MNIST_data/t10k-images-idx3-ubyte.gz\n",
            "Extracting MNIST_data/t10k-labels-idx1-ubyte.gz\n"
          ],
          "name": "stdout"
        }
      ]
    },
    {
      "metadata": {
        "id": "N26KCNssJJPS",
        "colab_type": "text"
      },
      "cell_type": "markdown",
      "source": [
        "##Learning and Predicting"
      ]
    },
    {
      "metadata": {
        "id": "jkAoB99gJLwy",
        "colab_type": "code",
        "colab": {
          "base_uri": "https://localhost:8080/",
          "height": 959
        },
        "outputId": "3bfd8793-1499-40cf-933e-270590f51064"
      },
      "cell_type": "code",
      "source": [
        "from tensorflow.examples.tutorials.mnist import input_data\n",
        "mnist = input_data.read_data_sets('MNIST_data', one_hot=True)\n",
        "\n",
        "import tensorflow as tf\n",
        "import matplotlib.pyplot as plt\n",
        "\n",
        "# Parameters\n",
        "learning_rate = 0.01\n",
        "training_epochs = 25\n",
        "batch_size = 100\n",
        "display_step = 1\n",
        "\n",
        "#tf Graph Input\n",
        "x = tf.placeholder('float', [None, 28*28]) #mnist data image of shape 28*28\n",
        "y = tf.placeholder('float', [None, 10]) # 0-9 digits recognition = 10 classes\n",
        "\n",
        "''' Create model '''\n",
        "# set model weights and bias\n",
        "W = tf.Variable(tf.zeros([28*28, 10]))\n",
        "b = tf.Variable(tf.zeros([10]))\n",
        "\n",
        "evidence = tf.matmul(x, W) + b\n",
        "#construct model\n",
        "activation = tf.nn.softmax(evidence) #softmax\n",
        "#minimize error using cross-entropy\n",
        "cross_entropy = y*tf.log(activation)\n",
        "cost = tf.reduce_mean(-tf.reduce_sum(cross_entropy, reduction_indices=1))\n",
        "optimizer = tf.train.GradientDescentOptimizer(learning_rate=learning_rate).minimize(cost)\n",
        "\n",
        "#Plot settings\n",
        "avg_set = []\n",
        "epoch_set = []\n",
        "\n",
        "# Initializing the variables\n",
        "init = tf.global_variables_initializer()\n",
        "\n",
        "# Launch the graph\n",
        "with tf.Session() as sess:\n",
        "  sess.run(init)\n",
        "  \n",
        "  # Training cycle\n",
        "  for epoch in range(training_epochs):\n",
        "    avg_cost = 0.\n",
        "    total_batch = int(mnist.train.num_examples/batch_size)\n",
        "    \n",
        "    # Loop over all batches\n",
        "    for i in range(total_batch):\n",
        "      batch_xs, batch_ys = mnist.train.next_batch(batch_size)\n",
        "      sess.run(optimizer, feed_dict={x:batch_xs, y:batch_ys})\n",
        "      avg_cost += sess.run(cost, feed_dict={x:batch_xs, y:batch_ys}) /total_batch\n",
        "    \n",
        "    if epoch % display_step == 0:\n",
        "      print('Epoch:', '%04d' % (epoch+1), 'cost=', '{:.9f}'.format(avg_cost))\n",
        "    \n",
        "    avg_set.append(avg_cost)\n",
        "    epoch_set.append(epoch+1)\n",
        "    \n",
        "  print('Training phase finished')\n",
        "  \n",
        "  plt.plot(epoch_set, avg_set, 'o', label='Logistic Regression Training phase')\n",
        "  plt.xlabel('epoch')\n",
        "  plt.ylabel('cost')\n",
        "  plt.legend()\n",
        "  \n",
        "  # Test model\n",
        "  correct_prediction = tf.equal(tf.argmax(activation, 1), tf.argmax(y, 1))\n",
        "  # Calculate Accuracy\n",
        "  accuracy = tf.reduce_mean(tf.cast(correct_prediction, 'float'))\n",
        "  print('Model accuracy:', accuracy.eval({x:mnist.test.images, y:mnist.test.labels}))"
      ],
      "execution_count": 19,
      "outputs": [
        {
          "output_type": "stream",
          "text": [
            "Extracting MNIST_data/train-images-idx3-ubyte.gz\n",
            "Extracting MNIST_data/train-labels-idx1-ubyte.gz\n",
            "WARNING:tensorflow:From /usr/local/lib/python3.6/dist-packages/tensorflow/contrib/learn/python/learn/datasets/mnist.py:110: dense_to_one_hot (from tensorflow.contrib.learn.python.learn.datasets.mnist) is deprecated and will be removed in a future version.\n",
            "Instructions for updating:\n",
            "Please use tf.one_hot on tensors.\n",
            "Extracting MNIST_data/t10k-images-idx3-ubyte.gz\n",
            "Extracting MNIST_data/t10k-labels-idx1-ubyte.gz\n",
            "Epoch: 0001 cost= 1.176176388\n",
            "Epoch: 0002 cost= 0.662609774\n",
            "Epoch: 0003 cost= 0.550691562\n",
            "Epoch: 0004 cost= 0.496835408\n",
            "Epoch: 0005 cost= 0.463743265\n",
            "Epoch: 0006 cost= 0.440955397\n",
            "Epoch: 0007 cost= 0.423955021\n",
            "Epoch: 0008 cost= 0.410661019\n",
            "Epoch: 0009 cost= 0.399921168\n",
            "Epoch: 0010 cost= 0.390976734\n",
            "Epoch: 0011 cost= 0.383363760\n",
            "Epoch: 0012 cost= 0.376775539\n",
            "Epoch: 0013 cost= 0.371022065\n",
            "Epoch: 0014 cost= 0.365934958\n",
            "Epoch: 0015 cost= 0.361400861\n",
            "Epoch: 0016 cost= 0.357308182\n",
            "Epoch: 0017 cost= 0.353529498\n",
            "Epoch: 0018 cost= 0.350148208\n",
            "Epoch: 0019 cost= 0.346990490\n",
            "Epoch: 0020 cost= 0.344154223\n",
            "Epoch: 0021 cost= 0.341487641\n",
            "Epoch: 0022 cost= 0.339020885\n",
            "Epoch: 0023 cost= 0.336678400\n",
            "Epoch: 0024 cost= 0.334474189\n",
            "Epoch: 0025 cost= 0.332477527\n",
            "Training phase finished\n",
            "Model accuracy: 0.9143\n"
          ],
          "name": "stdout"
        },
        {
          "output_type": "display_data",
          "data": {
            "image/png": "[encoded data removed]",
            "text/plain": [
              "<matplotlib.figure.Figure at 0x7f36c63bab00>"
            ]
          },
          "metadata": {
            "tags": []
          }
        }
      ]
    }
  ]
}